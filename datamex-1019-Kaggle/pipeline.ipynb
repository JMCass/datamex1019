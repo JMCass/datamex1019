{
 "cells": [
  {
   "cell_type": "code",
   "execution_count": 1,
   "metadata": {},
   "outputs": [],
   "source": [
    "import pandas as pd\n",
    "import numpy as np\n",
    "import sys\n",
    "import matplotlib.pyplot as plt\n",
    "import nltk, string\n",
    "from re import sub\n",
    "from decimal import Decimal\n",
    "from collections import defaultdict\n",
    "from statistics import median\n",
    "from sklearn import preprocessing\n",
    "from sklearn.linear_model import Ridge\n",
    "from sklearn.linear_model import LinearRegression\n",
    "from sklearn.linear_model import Lasso\n",
    "from sklearn.ensemble import RandomForestRegressor\n",
    "from sklearn.metrics import mean_squared_error\n",
    "from sklearn.metrics import r2_score\n",
    "import seaborn as sns\n",
    "import warnings\n",
    "warnings.simplefilter('ignore')"
   ]
  },
  {
   "cell_type": "code",
   "execution_count": 2,
   "metadata": {},
   "outputs": [],
   "source": [
    "airbnb = pd.read_csv('./airbnb_data.csv')\n",
    "airbnb_sub = pd.read_csv('./airbnb_submission.csv')"
   ]
  },
  {
   "cell_type": "code",
   "execution_count": 3,
   "metadata": {},
   "outputs": [],
   "source": [
    "airbnb = airbnb.drop(columns=['description', 'name', 'thumbnail_url','neighbourhood', 'zipcode'])\n",
    "airbnb_sub = airbnb_sub.drop(columns=['description', 'name', 'thumbnail_url','neighbourhood', 'zipcode'])"
   ]
  },
  {
   "cell_type": "code",
   "execution_count": 4,
   "metadata": {},
   "outputs": [],
   "source": [
    "from datetime import datetime\n",
    "def conver_time(df):\n",
    "    df=datetime.strptime(df, '%Y-%m-%d').date()\n",
    "    return df.toordinal()"
   ]
  },
  {
   "cell_type": "code",
   "execution_count": 5,
   "metadata": {},
   "outputs": [],
   "source": [
    "airbnb.first_review = airbnb.first_review.apply(conver_time)\n",
    "airbnb_sub.first_review = airbnb_sub.first_review.apply(conver_time)\n",
    "airbnb.last_review = airbnb.last_review.apply(conver_time)\n",
    "airbnb_sub.last_review = airbnb_sub.last_review.apply(conver_time)\n",
    "airbnb.host_since = airbnb.host_since.apply(conver_time)\n",
    "airbnb_sub.host_since = airbnb_sub.host_since.apply(conver_time)"
   ]
  },
  {
   "cell_type": "code",
   "execution_count": 6,
   "metadata": {},
   "outputs": [],
   "source": [
    "airbnb.cleaning_fee = airbnb.cleaning_fee.astype(int)\n",
    "airbnb.host_has_profile_pic = airbnb.host_has_profile_pic.astype(bool)\n",
    "airbnb.host_identity_verified = airbnb.host_identity_verified.astype(bool)\n",
    "airbnb.instant_bookable = airbnb.instant_bookable.astype(bool)\n",
    "airbnb.cancellation_policy = airbnb.cancellation_policy.astype(bool)\n",
    "airbnb.host_has_profile_pic = airbnb.host_has_profile_pic.astype(int)\n",
    "airbnb.host_identity_verified = airbnb.host_identity_verified.astype(int)\n",
    "airbnb.instant_bookable = airbnb.instant_bookable.astype(int)\n",
    "airbnb.cancellation_policy = airbnb.cancellation_policy.astype(int)\n",
    "airbnb.host_response_rate = airbnb.host_response_rate.astype(bool)\n",
    "airbnb.host_response_rate = airbnb.host_response_rate.astype(int)"
   ]
  },
  {
   "cell_type": "code",
   "execution_count": 7,
   "metadata": {},
   "outputs": [],
   "source": [
    "airbnb_sub.cleaning_fee = airbnb_sub.cleaning_fee.astype(int)\n",
    "airbnb_sub.host_has_profile_pic = airbnb_sub.host_has_profile_pic.astype(bool)\n",
    "airbnb_sub.host_identity_verified = airbnb_sub.host_identity_verified.astype(bool)\n",
    "airbnb_sub.instant_bookable = airbnb_sub.instant_bookable.astype(bool)\n",
    "airbnb_sub.cancellation_policy = airbnb_sub.cancellation_policy.astype(bool)\n",
    "airbnb_sub.host_has_profile_pic = airbnb_sub.host_has_profile_pic.astype(int)\n",
    "airbnb_sub.host_identity_verified = airbnb_sub.host_identity_verified.astype(int)\n",
    "airbnb_sub.instant_bookable = airbnb_sub.instant_bookable.astype(int)\n",
    "airbnb_sub.cancellation_policy = airbnb_sub.cancellation_policy.astype(int)\n",
    "airbnb_sub.host_response_rate = airbnb_sub.host_response_rate.astype(bool)\n",
    "airbnb_sub.host_response_rate = airbnb_sub.host_response_rate.astype(int)"
   ]
  },
  {
   "cell_type": "code",
   "execution_count": 8,
   "metadata": {},
   "outputs": [],
   "source": [
    "airbnb['amenities'] = airbnb['amenities'].str.replace('{','')\n",
    "airbnb['amenities'] = airbnb['amenities'].str.replace('}','')\n",
    "airbnb['amenities'] = airbnb['amenities'].str.replace('\"','') "
   ]
  },
  {
   "cell_type": "code",
   "execution_count": 9,
   "metadata": {},
   "outputs": [],
   "source": [
    "airbnb_sub['amenities'] = airbnb_sub['amenities'].str.replace('{','')\n",
    "airbnb_sub['amenities'] = airbnb_sub['amenities'].str.replace('}','')\n",
    "airbnb_sub['amenities'] = airbnb_sub['amenities'].str.replace('\"','') "
   ]
  },
  {
   "cell_type": "code",
   "execution_count": 10,
   "metadata": {},
   "outputs": [],
   "source": [
    "from sklearn.feature_extraction.text import CountVectorizer\n",
    "count_vectorizer =  CountVectorizer(tokenizer=lambda x: x.split(','))\n",
    "amenities = count_vectorizer.fit_transform(airbnb['amenities'])\n",
    "df_amenities = pd.DataFrame(amenities.toarray(), columns=count_vectorizer.get_feature_names())\n",
    "df_amenities = df_amenities.drop('',1,inplace=False)"
   ]
  },
  {
   "cell_type": "code",
   "execution_count": 11,
   "metadata": {},
   "outputs": [],
   "source": [
    "from sklearn.feature_extraction.text import CountVectorizer\n",
    "count_vectorizer_sub = CountVectorizer(tokenizer=lambda x: x.split(','))\n",
    "amenities_sub = count_vectorizer_sub.fit_transform(airbnb_sub['amenities'])\n",
    "df_amenities_sub = pd.DataFrame(amenities_sub.toarray(), columns=count_vectorizer_sub.get_feature_names())\n",
    "df_amenities_sub = df_amenities_sub.drop('',1,inplace=False)"
   ]
  },
  {
   "cell_type": "code",
   "execution_count": 12,
   "metadata": {},
   "outputs": [
    {
     "name": "stdout",
     "output_type": "stream",
     "text": [
      "<class 'pandas.core.frame.DataFrame'>\n",
      "RangeIndex: 28877 entries, 0 to 28876\n",
      "Data columns (total 23 columns):\n",
      "property_type             28877 non-null object\n",
      "room_type                 28877 non-null object\n",
      "amenities                 28877 non-null object\n",
      "accommodates              28877 non-null int64\n",
      "bathrooms                 28877 non-null float64\n",
      "bed_type                  28877 non-null object\n",
      "cancellation_policy       28877 non-null int64\n",
      "cleaning_fee              28877 non-null int64\n",
      "city                      28877 non-null object\n",
      "first_review              28877 non-null int64\n",
      "host_has_profile_pic      28877 non-null int64\n",
      "host_identity_verified    28877 non-null int64\n",
      "host_response_rate        28877 non-null int64\n",
      "host_since                28877 non-null int64\n",
      "instant_bookable          28877 non-null int64\n",
      "last_review               28877 non-null int64\n",
      "latitude                  28877 non-null float64\n",
      "longitude                 28877 non-null float64\n",
      "number_of_reviews         28877 non-null int64\n",
      "review_scores_rating      28877 non-null float64\n",
      "bedrooms                  28877 non-null float64\n",
      "beds                      28877 non-null float64\n",
      "price                     28877 non-null float64\n",
      "dtypes: float64(7), int64(11), object(5)\n",
      "memory usage: 5.1+ MB\n"
     ]
    }
   ],
   "source": [
    "airbnb.info()"
   ]
  },
  {
   "cell_type": "code",
   "execution_count": 13,
   "metadata": {},
   "outputs": [
    {
     "name": "stdout",
     "output_type": "stream",
     "text": [
      "<class 'pandas.core.frame.DataFrame'>\n",
      "RangeIndex: 9625 entries, 0 to 9624\n",
      "Data columns (total 23 columns):\n",
      "id                        9625 non-null int64\n",
      "property_type             9625 non-null object\n",
      "room_type                 9625 non-null object\n",
      "amenities                 9625 non-null object\n",
      "accommodates              9625 non-null int64\n",
      "bathrooms                 9625 non-null float64\n",
      "bed_type                  9625 non-null object\n",
      "cancellation_policy       9625 non-null int64\n",
      "cleaning_fee              9625 non-null int64\n",
      "city                      9625 non-null object\n",
      "first_review              9625 non-null int64\n",
      "host_has_profile_pic      9625 non-null int64\n",
      "host_identity_verified    9625 non-null int64\n",
      "host_response_rate        9625 non-null int64\n",
      "host_since                9625 non-null int64\n",
      "instant_bookable          9625 non-null int64\n",
      "last_review               9625 non-null int64\n",
      "latitude                  9625 non-null float64\n",
      "longitude                 9625 non-null float64\n",
      "number_of_reviews         9625 non-null int64\n",
      "review_scores_rating      9625 non-null float64\n",
      "bedrooms                  9625 non-null float64\n",
      "beds                      9625 non-null float64\n",
      "dtypes: float64(6), int64(12), object(5)\n",
      "memory usage: 1.7+ MB\n"
     ]
    }
   ],
   "source": [
    "airbnb_sub.info()"
   ]
  },
  {
   "cell_type": "code",
   "execution_count": 14,
   "metadata": {},
   "outputs": [],
   "source": [
    "airbnb2 = pd.concat([airbnb, df_amenities], axis=1, join='inner')"
   ]
  },
  {
   "cell_type": "code",
   "execution_count": 15,
   "metadata": {},
   "outputs": [],
   "source": [
    "airbnb2_sub = pd.concat([airbnb_sub, df_amenities_sub], axis=1, join='inner')"
   ]
  },
  {
   "cell_type": "code",
   "execution_count": 16,
   "metadata": {},
   "outputs": [
    {
     "data": {
      "text/plain": [
       "(28877, 152)"
      ]
     },
     "execution_count": 16,
     "metadata": {},
     "output_type": "execute_result"
    }
   ],
   "source": [
    "airbnb2.shape"
   ]
  },
  {
   "cell_type": "code",
   "execution_count": 17,
   "metadata": {},
   "outputs": [
    {
     "data": {
      "text/plain": [
       "(9625, 147)"
      ]
     },
     "execution_count": 17,
     "metadata": {},
     "output_type": "execute_result"
    }
   ],
   "source": [
    "airbnb2_sub.shape"
   ]
  },
  {
   "cell_type": "code",
   "execution_count": 18,
   "metadata": {},
   "outputs": [],
   "source": [
    "airbnb_numeric = airbnb._get_numeric_data().copy()\n",
    "airbnb_sub_numeric = airbnb_sub._get_numeric_data().copy()"
   ]
  },
  {
   "cell_type": "code",
   "execution_count": 19,
   "metadata": {},
   "outputs": [],
   "source": [
    "#def createOneHotVector(categories):\n",
    " #   categoryOneHotVector = dict()\n",
    "  #  index = 0\n",
    "   # for category in categories:\n",
    "    #    oneHotVector = []\n",
    "     #   for i in range(len(categories)):\n",
    "      #      oneHotVector.append(1 if i == index else 0)\n",
    "       # index += 1\n",
    "        #categoryOneHotVector[category] = oneHotVector\n",
    "    \n",
    "  #  return categoryOneHotVector"
   ]
  },
  {
   "cell_type": "code",
   "execution_count": 20,
   "metadata": {},
   "outputs": [],
   "source": [
    "#airbnb.roomTypeOneHotVector = createOneHotVector(airbnb.room_type.unique())\n",
    "#airbnb.bedTypeOneHotVector = createOneHotVector(airbnb.bed_type.unique())\n",
    "#airbnb_sub.roomTypeOneHotVector = createOneHotVector(airbnb_sub.room_type.unique())\n",
    "#airbnb_sub.bedTypeOneHotVector = createOneHotVector(airbnb_sub.bed_type.unique())"
   ]
  },
  {
   "cell_type": "code",
   "execution_count": 21,
   "metadata": {},
   "outputs": [],
   "source": [
    "from sklearn.model_selection import train_test_split\n",
    "from sklearn.ensemble import RandomForestRegressor as RFR\n",
    "X=airbnb_numeric.drop('price', axis=1)\n",
    "y=airbnb_numeric.price"
   ]
  },
  {
   "cell_type": "code",
   "execution_count": 22,
   "metadata": {},
   "outputs": [],
   "source": [
    "X_train, X_test, y_train, y_test=train_test_split(X, y, test_size=0.2)"
   ]
  },
  {
   "cell_type": "code",
   "execution_count": 23,
   "metadata": {},
   "outputs": [
    {
     "data": {
      "text/plain": [
       "RandomForestRegressor(bootstrap=True, criterion='mse', max_depth=None,\n",
       "                      max_features='auto', max_leaf_nodes=None,\n",
       "                      min_impurity_decrease=0.0, min_impurity_split=None,\n",
       "                      min_samples_leaf=3, min_samples_split=2,\n",
       "                      min_weight_fraction_leaf=0.0, n_estimators=15,\n",
       "                      n_jobs=None, oob_score=False, random_state=None,\n",
       "                      verbose=0, warm_start=False)"
      ]
     },
     "execution_count": 23,
     "metadata": {},
     "output_type": "execute_result"
    }
   ],
   "source": [
    "rf=RFR(n_estimators=15, min_samples_leaf=3)\n",
    "rf.fit(X_train, y_train)"
   ]
  },
  {
   "cell_type": "code",
   "execution_count": 24,
   "metadata": {},
   "outputs": [
    {
     "name": "stdout",
     "output_type": "stream",
     "text": [
      "0.8716911291008422 0.6271801964791388\n"
     ]
    }
   ],
   "source": [
    "train_score=rf.score(X_train, y_train)\n",
    "test_score=rf.score(X_test, y_test)\n",
    "print (train_score, test_score)"
   ]
  },
  {
   "cell_type": "code",
   "execution_count": 25,
   "metadata": {},
   "outputs": [],
   "source": [
    "y_pred = rf.predict(airbnb_sub_numeric.drop('id', axis=1))"
   ]
  },
  {
   "cell_type": "code",
   "execution_count": 26,
   "metadata": {},
   "outputs": [],
   "source": [
    "new_df = pd.DataFrame(columns=['id', 'price'])"
   ]
  },
  {
   "cell_type": "code",
   "execution_count": 27,
   "metadata": {},
   "outputs": [],
   "source": [
    "new_df.id = airbnb_sub_numeric.id"
   ]
  },
  {
   "cell_type": "code",
   "execution_count": 28,
   "metadata": {},
   "outputs": [],
   "source": [
    "new_df.price = y_pred"
   ]
  },
  {
   "cell_type": "code",
   "execution_count": 29,
   "metadata": {},
   "outputs": [],
   "source": [
    "new_df.to_csv('firsttry.csv', index=False)"
   ]
  },
  {
   "cell_type": "code",
   "execution_count": 30,
   "metadata": {},
   "outputs": [],
   "source": [
    "#lasso=Lasso()\n",
    "#lasso.fit(X_train, y_train)"
   ]
  },
  {
   "cell_type": "code",
   "execution_count": 31,
   "metadata": {},
   "outputs": [],
   "source": [
    "#X_train.shape"
   ]
  },
  {
   "cell_type": "code",
   "execution_count": 32,
   "metadata": {},
   "outputs": [],
   "source": [
    "#y_pred=lasso.predict(airbnb_sub_numeric.drop('id', axis=1))"
   ]
  },
  {
   "cell_type": "code",
   "execution_count": 33,
   "metadata": {},
   "outputs": [],
   "source": [
    "#lasso.score(X_test, y_test)"
   ]
  },
  {
   "cell_type": "code",
   "execution_count": 34,
   "metadata": {},
   "outputs": [],
   "source": [
    "#from sklearn.svm import SVR\n",
    "#svr=SVR()\n",
    "#svr.fit(X_train, y_train)"
   ]
  },
  {
   "cell_type": "code",
   "execution_count": 35,
   "metadata": {},
   "outputs": [],
   "source": [
    "#train_score=svr.score(X_train, y_train)\n",
    "#test_score=svr.score(X_test, y_test)\n",
    "#print (train_score, test_score)"
   ]
  },
  {
   "cell_type": "code",
   "execution_count": 36,
   "metadata": {},
   "outputs": [],
   "source": [
    "#from sklearn.tree import ExtraTreeRegressor as ETR\n",
    "#etr=ETR()\n",
    "#etr.fit(X_train, y_train)"
   ]
  },
  {
   "cell_type": "code",
   "execution_count": 37,
   "metadata": {},
   "outputs": [],
   "source": [
    "#train_score=etr.score(X_train, y_train)\n",
    "#test_score=etr.score(X_test, y_test)\n",
    "#print (train_score, test_score)"
   ]
  },
  {
   "cell_type": "code",
   "execution_count": null,
   "metadata": {},
   "outputs": [],
   "source": []
  }
 ],
 "metadata": {
  "kernelspec": {
   "display_name": "Python 3",
   "language": "python",
   "name": "python3"
  },
  "language_info": {
   "codemirror_mode": {
    "name": "ipython",
    "version": 3
   },
   "file_extension": ".py",
   "mimetype": "text/x-python",
   "name": "python",
   "nbconvert_exporter": "python",
   "pygments_lexer": "ipython3",
   "version": "3.7.4"
  }
 },
 "nbformat": 4,
 "nbformat_minor": 2
}
