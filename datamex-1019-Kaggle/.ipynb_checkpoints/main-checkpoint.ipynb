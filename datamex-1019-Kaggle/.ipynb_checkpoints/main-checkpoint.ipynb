{
 "cells": [
  {
   "cell_type": "code",
   "execution_count": 1,
   "metadata": {},
   "outputs": [],
   "source": [
    "import pandas as pd\n",
    "import numpy as np\n",
    "import sys\n",
    "import matplotlib.pyplot as plt\n",
    "import nltk, string\n",
    "from re import sub\n",
    "from decimal import Decimal\n",
    "from collections import defaultdict\n",
    "from statistics import median\n",
    "from sklearn import preprocessing\n",
    "from sklearn.linear_model import Ridge\n",
    "from sklearn.linear_model import LinearRegression\n",
    "from sklearn.linear_model import Lasso\n",
    "from sklearn.ensemble import RandomForestRegressor\n",
    "from sklearn.metrics import mean_squared_error\n",
    "from sklearn.metrics import r2_score\n",
    "import seaborn as sns\n",
    "import warnings\n",
    "warnings.simplefilter('ignore')"
   ]
  },
  {
   "cell_type": "markdown",
   "metadata": {},
   "source": [
    "Cargamos todas las librerías que utilizaremos para analizar la información de la base de datos\n",
    "y que permitirán ayudarnos en la predicción de nuestro modelo."
   ]
  },
  {
   "cell_type": "code",
   "execution_count": 2,
   "metadata": {},
   "outputs": [
    {
     "data": {
      "text/html": [
       "<div>\n",
       "<style scoped>\n",
       "    .dataframe tbody tr th:only-of-type {\n",
       "        vertical-align: middle;\n",
       "    }\n",
       "\n",
       "    .dataframe tbody tr th {\n",
       "        vertical-align: top;\n",
       "    }\n",
       "\n",
       "    .dataframe thead th {\n",
       "        text-align: right;\n",
       "    }\n",
       "</style>\n",
       "<table border=\"1\" class=\"dataframe\">\n",
       "  <thead>\n",
       "    <tr style=\"text-align: right;\">\n",
       "      <th></th>\n",
       "      <th>property_type</th>\n",
       "      <th>room_type</th>\n",
       "      <th>amenities</th>\n",
       "      <th>accommodates</th>\n",
       "      <th>bathrooms</th>\n",
       "      <th>bed_type</th>\n",
       "      <th>cancellation_policy</th>\n",
       "      <th>cleaning_fee</th>\n",
       "      <th>city</th>\n",
       "      <th>description</th>\n",
       "      <th>...</th>\n",
       "      <th>longitude</th>\n",
       "      <th>name</th>\n",
       "      <th>neighbourhood</th>\n",
       "      <th>number_of_reviews</th>\n",
       "      <th>review_scores_rating</th>\n",
       "      <th>thumbnail_url</th>\n",
       "      <th>zipcode</th>\n",
       "      <th>bedrooms</th>\n",
       "      <th>beds</th>\n",
       "      <th>price</th>\n",
       "    </tr>\n",
       "  </thead>\n",
       "  <tbody>\n",
       "    <tr>\n",
       "      <th>0</th>\n",
       "      <td>Apartment</td>\n",
       "      <td>Entire home/apt</td>\n",
       "      <td>{\"Wireless Internet\",\"Air conditioning\",Kitche...</td>\n",
       "      <td>7</td>\n",
       "      <td>1.0</td>\n",
       "      <td>Real Bed</td>\n",
       "      <td>strict</td>\n",
       "      <td>True</td>\n",
       "      <td>NYC</td>\n",
       "      <td>Enjoy travelling during your stay in Manhattan...</td>\n",
       "      <td>...</td>\n",
       "      <td>-73.989040</td>\n",
       "      <td>Superb 3BR Apt Located Near Times Square</td>\n",
       "      <td>Hell's Kitchen</td>\n",
       "      <td>6</td>\n",
       "      <td>93.0</td>\n",
       "      <td>https://a0.muscache.com/im/pictures/348a55fe-4...</td>\n",
       "      <td>10019</td>\n",
       "      <td>3.0</td>\n",
       "      <td>3.0</td>\n",
       "      <td>169.0</td>\n",
       "    </tr>\n",
       "    <tr>\n",
       "      <th>1</th>\n",
       "      <td>Apartment</td>\n",
       "      <td>Private room</td>\n",
       "      <td>{TV,\"Wireless Internet\",Heating,\"Smoke detecto...</td>\n",
       "      <td>2</td>\n",
       "      <td>1.0</td>\n",
       "      <td>Real Bed</td>\n",
       "      <td>strict</td>\n",
       "      <td>True</td>\n",
       "      <td>SF</td>\n",
       "      <td>Beautiful private room overlooking scenic view...</td>\n",
       "      <td>...</td>\n",
       "      <td>-122.429526</td>\n",
       "      <td>Comfort Suite San Francisco</td>\n",
       "      <td>Noe Valley</td>\n",
       "      <td>3</td>\n",
       "      <td>100.0</td>\n",
       "      <td>https://a0.muscache.com/im/pictures/82509143-4...</td>\n",
       "      <td>94131</td>\n",
       "      <td>1.0</td>\n",
       "      <td>1.0</td>\n",
       "      <td>85.0</td>\n",
       "    </tr>\n",
       "    <tr>\n",
       "      <th>2</th>\n",
       "      <td>Condominium</td>\n",
       "      <td>Entire home/apt</td>\n",
       "      <td>{TV,\"Cable TV\",\"Wireless Internet\",\"Wheelchair...</td>\n",
       "      <td>2</td>\n",
       "      <td>1.0</td>\n",
       "      <td>Real Bed</td>\n",
       "      <td>moderate</td>\n",
       "      <td>True</td>\n",
       "      <td>LA</td>\n",
       "      <td>Arguably the best location (and safest) in dow...</td>\n",
       "      <td>...</td>\n",
       "      <td>-118.260439</td>\n",
       "      <td>Near LA Live, Staple's. Starbucks inside. OWN ...</td>\n",
       "      <td>Downtown</td>\n",
       "      <td>9</td>\n",
       "      <td>93.0</td>\n",
       "      <td>https://a0.muscache.com/im/pictures/61bd05d5-c...</td>\n",
       "      <td>90015</td>\n",
       "      <td>1.0</td>\n",
       "      <td>1.0</td>\n",
       "      <td>120.0</td>\n",
       "    </tr>\n",
       "    <tr>\n",
       "      <th>3</th>\n",
       "      <td>House</td>\n",
       "      <td>Private room</td>\n",
       "      <td>{TV,\"Cable TV\",\"Wireless Internet\",\"Pets live ...</td>\n",
       "      <td>2</td>\n",
       "      <td>1.0</td>\n",
       "      <td>Real Bed</td>\n",
       "      <td>moderate</td>\n",
       "      <td>True</td>\n",
       "      <td>SF</td>\n",
       "      <td>Garden Studio with private entrance from the s...</td>\n",
       "      <td>...</td>\n",
       "      <td>-122.501095</td>\n",
       "      <td>Cozy Garden Studio - Private Entry</td>\n",
       "      <td>Richmond District</td>\n",
       "      <td>159</td>\n",
       "      <td>99.0</td>\n",
       "      <td>https://a0.muscache.com/im/pictures/0ed6c128-7...</td>\n",
       "      <td>94121</td>\n",
       "      <td>1.0</td>\n",
       "      <td>1.0</td>\n",
       "      <td>120.0</td>\n",
       "    </tr>\n",
       "    <tr>\n",
       "      <th>4</th>\n",
       "      <td>Apartment</td>\n",
       "      <td>Private room</td>\n",
       "      <td>{Internet,\"Wireless Internet\",\"Air conditionin...</td>\n",
       "      <td>2</td>\n",
       "      <td>1.0</td>\n",
       "      <td>Real Bed</td>\n",
       "      <td>strict</td>\n",
       "      <td>True</td>\n",
       "      <td>NYC</td>\n",
       "      <td>This is a bright bedroom in an historic buildi...</td>\n",
       "      <td>...</td>\n",
       "      <td>-73.983880</td>\n",
       "      <td>Large East Village Bedroom To Let!</td>\n",
       "      <td>Alphabet City</td>\n",
       "      <td>82</td>\n",
       "      <td>93.0</td>\n",
       "      <td>https://a0.muscache.com/im/pictures/21726900/1...</td>\n",
       "      <td>10009.0</td>\n",
       "      <td>1.0</td>\n",
       "      <td>1.0</td>\n",
       "      <td>100.0</td>\n",
       "    </tr>\n",
       "  </tbody>\n",
       "</table>\n",
       "<p>5 rows × 28 columns</p>\n",
       "</div>"
      ],
      "text/plain": [
       "  property_type        room_type  \\\n",
       "0     Apartment  Entire home/apt   \n",
       "1     Apartment     Private room   \n",
       "2   Condominium  Entire home/apt   \n",
       "3         House     Private room   \n",
       "4     Apartment     Private room   \n",
       "\n",
       "                                           amenities  accommodates  bathrooms  \\\n",
       "0  {\"Wireless Internet\",\"Air conditioning\",Kitche...             7        1.0   \n",
       "1  {TV,\"Wireless Internet\",Heating,\"Smoke detecto...             2        1.0   \n",
       "2  {TV,\"Cable TV\",\"Wireless Internet\",\"Wheelchair...             2        1.0   \n",
       "3  {TV,\"Cable TV\",\"Wireless Internet\",\"Pets live ...             2        1.0   \n",
       "4  {Internet,\"Wireless Internet\",\"Air conditionin...             2        1.0   \n",
       "\n",
       "   bed_type cancellation_policy  cleaning_fee city  \\\n",
       "0  Real Bed              strict          True  NYC   \n",
       "1  Real Bed              strict          True   SF   \n",
       "2  Real Bed            moderate          True   LA   \n",
       "3  Real Bed            moderate          True   SF   \n",
       "4  Real Bed              strict          True  NYC   \n",
       "\n",
       "                                         description  ...   longitude  \\\n",
       "0  Enjoy travelling during your stay in Manhattan...  ...  -73.989040   \n",
       "1  Beautiful private room overlooking scenic view...  ... -122.429526   \n",
       "2  Arguably the best location (and safest) in dow...  ... -118.260439   \n",
       "3  Garden Studio with private entrance from the s...  ... -122.501095   \n",
       "4  This is a bright bedroom in an historic buildi...  ...  -73.983880   \n",
       "\n",
       "                                                name      neighbourhood  \\\n",
       "0           Superb 3BR Apt Located Near Times Square     Hell's Kitchen   \n",
       "1                        Comfort Suite San Francisco         Noe Valley   \n",
       "2  Near LA Live, Staple's. Starbucks inside. OWN ...           Downtown   \n",
       "3                 Cozy Garden Studio - Private Entry  Richmond District   \n",
       "4                 Large East Village Bedroom To Let!      Alphabet City   \n",
       "\n",
       "  number_of_reviews review_scores_rating  \\\n",
       "0                 6                 93.0   \n",
       "1                 3                100.0   \n",
       "2                 9                 93.0   \n",
       "3               159                 99.0   \n",
       "4                82                 93.0   \n",
       "\n",
       "                                       thumbnail_url  zipcode  bedrooms  beds  \\\n",
       "0  https://a0.muscache.com/im/pictures/348a55fe-4...    10019       3.0   3.0   \n",
       "1  https://a0.muscache.com/im/pictures/82509143-4...    94131       1.0   1.0   \n",
       "2  https://a0.muscache.com/im/pictures/61bd05d5-c...    90015       1.0   1.0   \n",
       "3  https://a0.muscache.com/im/pictures/0ed6c128-7...    94121       1.0   1.0   \n",
       "4  https://a0.muscache.com/im/pictures/21726900/1...  10009.0       1.0   1.0   \n",
       "\n",
       "   price  \n",
       "0  169.0  \n",
       "1   85.0  \n",
       "2  120.0  \n",
       "3  120.0  \n",
       "4  100.0  \n",
       "\n",
       "[5 rows x 28 columns]"
      ]
     },
     "execution_count": 2,
     "metadata": {},
     "output_type": "execute_result"
    }
   ],
   "source": [
    "airbnb = pd.read_csv('./airbnb_data.csv')\n",
    "airbnb.head()"
   ]
  },
  {
   "cell_type": "markdown",
   "metadata": {},
   "source": [
    "Analizamos el tipo de información que tenemos en la base de datos. Encontramos que no existen valores nulos y que tenemos 3 tipos de datos como son **object** **float** y **bool**"
   ]
  },
  {
   "cell_type": "code",
   "execution_count": 3,
   "metadata": {},
   "outputs": [
    {
     "name": "stdout",
     "output_type": "stream",
     "text": [
      "<class 'pandas.core.frame.DataFrame'>\n",
      "RangeIndex: 28877 entries, 0 to 28876\n",
      "Data columns (total 28 columns):\n",
      "property_type             28877 non-null object\n",
      "room_type                 28877 non-null object\n",
      "amenities                 28877 non-null object\n",
      "accommodates              28877 non-null int64\n",
      "bathrooms                 28877 non-null float64\n",
      "bed_type                  28877 non-null object\n",
      "cancellation_policy       28877 non-null object\n",
      "cleaning_fee              28877 non-null bool\n",
      "city                      28877 non-null object\n",
      "description               28877 non-null object\n",
      "first_review              28877 non-null object\n",
      "host_has_profile_pic      28877 non-null object\n",
      "host_identity_verified    28877 non-null object\n",
      "host_response_rate        28877 non-null object\n",
      "host_since                28877 non-null object\n",
      "instant_bookable          28877 non-null object\n",
      "last_review               28877 non-null object\n",
      "latitude                  28877 non-null float64\n",
      "longitude                 28877 non-null float64\n",
      "name                      28877 non-null object\n",
      "neighbourhood             28877 non-null object\n",
      "number_of_reviews         28877 non-null int64\n",
      "review_scores_rating      28877 non-null float64\n",
      "thumbnail_url             28877 non-null object\n",
      "zipcode                   28877 non-null object\n",
      "bedrooms                  28877 non-null float64\n",
      "beds                      28877 non-null float64\n",
      "price                     28877 non-null float64\n",
      "dtypes: bool(1), float64(7), int64(2), object(18)\n",
      "memory usage: 6.0+ MB\n"
     ]
    }
   ],
   "source": [
    "airbnb.info()"
   ]
  },
  {
   "cell_type": "code",
   "execution_count": 4,
   "metadata": {},
   "outputs": [
    {
     "data": {
      "text/plain": [
       "property_type             0\n",
       "room_type                 0\n",
       "amenities                 0\n",
       "accommodates              0\n",
       "bathrooms                 0\n",
       "bed_type                  0\n",
       "cancellation_policy       0\n",
       "cleaning_fee              0\n",
       "city                      0\n",
       "description               0\n",
       "first_review              0\n",
       "host_has_profile_pic      0\n",
       "host_identity_verified    0\n",
       "host_response_rate        0\n",
       "host_since                0\n",
       "instant_bookable          0\n",
       "last_review               0\n",
       "latitude                  0\n",
       "longitude                 0\n",
       "name                      0\n",
       "neighbourhood             0\n",
       "number_of_reviews         0\n",
       "review_scores_rating      0\n",
       "thumbnail_url             0\n",
       "zipcode                   0\n",
       "bedrooms                  0\n",
       "beds                      0\n",
       "price                     0\n",
       "dtype: int64"
      ]
     },
     "execution_count": 4,
     "metadata": {},
     "output_type": "execute_result"
    }
   ],
   "source": [
    "airbnb.isnull().sum()"
   ]
  },
  {
   "cell_type": "markdown",
   "metadata": {},
   "source": [
    "Analizando la base de datos, nos damos cuenta que **description', 'name', 'thumbnail_url','neighbourhood', 'zipcode'** son las variables que tiene un bajo nivel explicativo para determinar el precio de un AirBnb. Finalmente, nos quedamos con 23 columnas\n",
    "y 28,877 registros por fila."
   ]
  },
  {
   "cell_type": "code",
   "execution_count": 5,
   "metadata": {},
   "outputs": [],
   "source": [
    "airbnb = airbnb.drop(columns=['description', 'name', 'thumbnail_url','neighbourhood', 'zipcode'])"
   ]
  },
  {
   "cell_type": "code",
   "execution_count": 6,
   "metadata": {},
   "outputs": [
    {
     "data": {
      "text/plain": [
       "(28877, 23)"
      ]
     },
     "execution_count": 6,
     "metadata": {},
     "output_type": "execute_result"
    }
   ],
   "source": [
    "airbnb.shape"
   ]
  },
  {
   "cell_type": "code",
   "execution_count": 7,
   "metadata": {},
   "outputs": [
    {
     "data": {
      "image/png": "[encoded data removed]",
      "text/plain": [
       "<Figure size 864x720 with 2 Axes>"
      ]
     },
     "metadata": {
      "needs_background": "light"
     },
     "output_type": "display_data"
    }
   ],
   "source": [
    "plt.figure(figsize=(12,10))\n",
    "sns.heatmap(airbnb.corr(), cmap='viridis');"
   ]
  },
  {
   "cell_type": "markdown",
   "metadata": {},
   "source": [
    "Algunos **insights** de la base de datos con base en los datos numéricos del DF."
   ]
  },
  {
   "cell_type": "code",
   "execution_count": 8,
   "metadata": {},
   "outputs": [
    {
     "name": "stdout",
     "output_type": "stream",
     "text": [
      "Min: 1.0\n",
      "Max: 1995.0000000000007\n",
      "Mean: 146.2619039373896\n",
      "Median: 110.00000000000004\n",
      "STD: 131.592001403111\n"
     ]
    }
   ],
   "source": [
    "dataPriceList = []\n",
    "for index, row in airbnb.iterrows():\n",
    "    dataPriceList.append(float(row['price']))\n",
    "print(\"Min:\", min(dataPriceList))\n",
    "print(\"Max:\", max(dataPriceList))\n",
    "print(\"Mean:\", np.mean(dataPriceList))\n",
    "print(\"Median:\", median(dataPriceList))\n",
    "print(\"STD:\", np.std(dataPriceList))"
   ]
  },
  {
   "cell_type": "code",
   "execution_count": 9,
   "metadata": {},
   "outputs": [
    {
     "data": {
      "text/plain": [
       "NYC        13379\n",
       "LA          7571\n",
       "SF          2713\n",
       "DC          1815\n",
       "Boston      1776\n",
       "Chicago     1623\n",
       "Name: city, dtype: int64"
      ]
     },
     "execution_count": 9,
     "metadata": {},
     "output_type": "execute_result"
    }
   ],
   "source": [
    "airbnb['city'].value_counts()"
   ]
  },
  {
   "cell_type": "code",
   "execution_count": 10,
   "metadata": {},
   "outputs": [
    {
     "data": {
      "text/plain": [
       "Entire home/apt    16158\n",
       "Private room       11993\n",
       "Shared room          726\n",
       "Name: room_type, dtype: int64"
      ]
     },
     "execution_count": 10,
     "metadata": {},
     "output_type": "execute_result"
    }
   ],
   "source": [
    "airbnb['room_type'].value_counts()"
   ]
  },
  {
   "cell_type": "code",
   "execution_count": 11,
   "metadata": {},
   "outputs": [
    {
     "data": {
      "text/plain": [
       "Apartment      18543\n",
       "House           6655\n",
       "Condominium     1081\n",
       "Townhouse        720\n",
       "Loft             552\n",
       "Name: property_type, dtype: int64"
      ]
     },
     "execution_count": 11,
     "metadata": {},
     "output_type": "execute_result"
    }
   ],
   "source": [
    "airbnb['property_type'].value_counts().head()"
   ]
  },
  {
   "cell_type": "code",
   "execution_count": 12,
   "metadata": {},
   "outputs": [
    {
     "data": {
      "text/plain": [
       "100.0    7007\n",
       "98.0     2512\n",
       "97.0     2314\n",
       "96.0     2286\n",
       "95.0     2036\n",
       "Name: review_scores_rating, dtype: int64"
      ]
     },
     "execution_count": 12,
     "metadata": {},
     "output_type": "execute_result"
    }
   ],
   "source": [
    "airbnb['review_scores_rating'].value_counts(ascending=False).head()"
   ]
  },
  {
   "cell_type": "markdown",
   "metadata": {},
   "source": [
    "Transformaremos algunos tipos de datos de categóricas a numéricas mediante un dummy como son: **'cancellation_policy', 'cleaning_fee', 'host_has_profile_pic', 'host_identity_verified',\n",
    "'instant_bookable'**"
   ]
  },
  {
   "cell_type": "markdown",
   "metadata": {},
   "source": [
    "Transformaremos algunas variables a un tipo numérico como son: **'first_review', 'last_review', 'host_since'**."
   ]
  },
  {
   "cell_type": "code",
   "execution_count": 13,
   "metadata": {},
   "outputs": [
    {
     "name": "stdout",
     "output_type": "stream",
     "text": [
      "<class 'pandas.core.frame.DataFrame'>\n",
      "RangeIndex: 28877 entries, 0 to 28876\n",
      "Data columns (total 23 columns):\n",
      "property_type             28877 non-null object\n",
      "room_type                 28877 non-null object\n",
      "amenities                 28877 non-null object\n",
      "accommodates              28877 non-null int64\n",
      "bathrooms                 28877 non-null float64\n",
      "bed_type                  28877 non-null object\n",
      "cancellation_policy       28877 non-null object\n",
      "cleaning_fee              28877 non-null bool\n",
      "city                      28877 non-null object\n",
      "first_review              28877 non-null object\n",
      "host_has_profile_pic      28877 non-null object\n",
      "host_identity_verified    28877 non-null object\n",
      "host_response_rate        28877 non-null object\n",
      "host_since                28877 non-null object\n",
      "instant_bookable          28877 non-null object\n",
      "last_review               28877 non-null object\n",
      "latitude                  28877 non-null float64\n",
      "longitude                 28877 non-null float64\n",
      "number_of_reviews         28877 non-null int64\n",
      "review_scores_rating      28877 non-null float64\n",
      "bedrooms                  28877 non-null float64\n",
      "beds                      28877 non-null float64\n",
      "price                     28877 non-null float64\n",
      "dtypes: bool(1), float64(7), int64(2), object(13)\n",
      "memory usage: 4.9+ MB\n"
     ]
    }
   ],
   "source": [
    "airbnb.info()"
   ]
  },
  {
   "cell_type": "code",
   "execution_count": 14,
   "metadata": {},
   "outputs": [],
   "source": [
    "from datetime import datetime\n",
    "def conver_time(df):\n",
    "    df=datetime.strptime(df, '%Y-%m-%d').date()\n",
    "    return df.toordinal()"
   ]
  },
  {
   "cell_type": "code",
   "execution_count": 15,
   "metadata": {},
   "outputs": [],
   "source": [
    "airbnb.first_review = airbnb.first_review.apply(conver_time)"
   ]
  },
  {
   "cell_type": "code",
   "execution_count": 16,
   "metadata": {},
   "outputs": [],
   "source": [
    "airbnb.last_review = airbnb.last_review.apply(conver_time)"
   ]
  },
  {
   "cell_type": "code",
   "execution_count": 17,
   "metadata": {},
   "outputs": [],
   "source": [
    "airbnb.host_since = airbnb.host_since.apply(conver_time)"
   ]
  },
  {
   "cell_type": "code",
   "execution_count": 18,
   "metadata": {},
   "outputs": [
    {
     "name": "stdout",
     "output_type": "stream",
     "text": [
      "<class 'pandas.core.frame.DataFrame'>\n",
      "RangeIndex: 28877 entries, 0 to 28876\n",
      "Data columns (total 23 columns):\n",
      "property_type             28877 non-null object\n",
      "room_type                 28877 non-null object\n",
      "amenities                 28877 non-null object\n",
      "accommodates              28877 non-null int64\n",
      "bathrooms                 28877 non-null float64\n",
      "bed_type                  28877 non-null object\n",
      "cancellation_policy       28877 non-null object\n",
      "cleaning_fee              28877 non-null bool\n",
      "city                      28877 non-null object\n",
      "first_review              28877 non-null int64\n",
      "host_has_profile_pic      28877 non-null object\n",
      "host_identity_verified    28877 non-null object\n",
      "host_response_rate        28877 non-null object\n",
      "host_since                28877 non-null int64\n",
      "instant_bookable          28877 non-null object\n",
      "last_review               28877 non-null int64\n",
      "latitude                  28877 non-null float64\n",
      "longitude                 28877 non-null float64\n",
      "number_of_reviews         28877 non-null int64\n",
      "review_scores_rating      28877 non-null float64\n",
      "bedrooms                  28877 non-null float64\n",
      "beds                      28877 non-null float64\n",
      "price                     28877 non-null float64\n",
      "dtypes: bool(1), float64(7), int64(5), object(10)\n",
      "memory usage: 4.9+ MB\n"
     ]
    }
   ],
   "source": [
    "airbnb.info()"
   ]
  },
  {
   "cell_type": "code",
   "execution_count": 19,
   "metadata": {},
   "outputs": [],
   "source": [
    "airbnb.cleaning_fee = airbnb.cleaning_fee.astype(int)"
   ]
  },
  {
   "cell_type": "code",
   "execution_count": 20,
   "metadata": {},
   "outputs": [],
   "source": [
    "airbnb.host_has_profile_pic = airbnb.host_has_profile_pic.astype(bool)"
   ]
  },
  {
   "cell_type": "code",
   "execution_count": 21,
   "metadata": {},
   "outputs": [],
   "source": [
    "airbnb.host_identity_verified = airbnb.host_identity_verified.astype(bool)"
   ]
  },
  {
   "cell_type": "code",
   "execution_count": 22,
   "metadata": {},
   "outputs": [],
   "source": [
    "airbnb.instant_bookable = airbnb.instant_bookable.astype(bool)"
   ]
  },
  {
   "cell_type": "code",
   "execution_count": 23,
   "metadata": {},
   "outputs": [],
   "source": [
    "airbnb.cancellation_policy = airbnb.cancellation_policy.astype(bool)"
   ]
  },
  {
   "cell_type": "code",
   "execution_count": 24,
   "metadata": {},
   "outputs": [],
   "source": [
    "airbnb.host_has_profile_pic = airbnb.host_has_profile_pic.astype(int)"
   ]
  },
  {
   "cell_type": "code",
   "execution_count": 25,
   "metadata": {},
   "outputs": [],
   "source": [
    "airbnb.host_identity_verified = airbnb.host_identity_verified.astype(int)"
   ]
  },
  {
   "cell_type": "code",
   "execution_count": 26,
   "metadata": {},
   "outputs": [],
   "source": [
    "airbnb.instant_bookable = airbnb.instant_bookable.astype(int)"
   ]
  },
  {
   "cell_type": "code",
   "execution_count": 27,
   "metadata": {},
   "outputs": [],
   "source": [
    "airbnb.cancellation_policy = airbnb.cancellation_policy.astype(int)"
   ]
  },
  {
   "cell_type": "code",
   "execution_count": 28,
   "metadata": {},
   "outputs": [],
   "source": [
    "airbnb.host_response_rate = airbnb.host_response_rate.astype(bool)"
   ]
  },
  {
   "cell_type": "code",
   "execution_count": 29,
   "metadata": {},
   "outputs": [],
   "source": [
    "airbnb.host_response_rate = airbnb.host_response_rate.astype(int)"
   ]
  },
  {
   "cell_type": "markdown",
   "metadata": {},
   "source": [
    "Ahora buscaremos recuperar las amenidades que se ofrecen en cada uno de los lugares para hospedarse y asignarlos como una columna nueva al DataFrame"
   ]
  },
  {
   "cell_type": "code",
   "execution_count": 30,
   "metadata": {},
   "outputs": [
    {
     "data": {
      "text/plain": [
       "0    Wireless Internet,Air conditioning,Kitchen,Hea...\n",
       "1    TV,Wireless Internet,Heating,Smoke detector,Ca...\n",
       "2    TV,Cable TV,Wireless Internet,Wheelchair acces...\n",
       "3    TV,Cable TV,Wireless Internet,Pets live on thi...\n",
       "4    Internet,Wireless Internet,Air conditioning,Ki...\n",
       "Name: amenities, dtype: object"
      ]
     },
     "execution_count": 30,
     "metadata": {},
     "output_type": "execute_result"
    }
   ],
   "source": [
    "airbnb['amenities'] = airbnb['amenities'].str.replace( '{','')\n",
    "airbnb['amenities'] = airbnb['amenities'].str.replace( '}','')\n",
    "airbnb['amenities'] = airbnb['amenities'].str.replace( '\"','') \n",
    "airbnb['amenities'].head()"
   ]
  },
  {
   "cell_type": "code",
   "execution_count": 31,
   "metadata": {},
   "outputs": [],
   "source": [
    "from sklearn.feature_extraction.text import CountVectorizer\n",
    "count_vectorizer =  CountVectorizer(tokenizer=lambda x: x.split(','))\n",
    "amenities = count_vectorizer.fit_transform(airbnb['amenities'])\n",
    "df_amenities = pd.DataFrame(amenities.toarray(), columns=count_vectorizer.get_feature_names())\n",
    "df_amenities = df_amenities.drop('',1,inplace=False)"
   ]
  },
  {
   "cell_type": "code",
   "execution_count": 33,
   "metadata": {},
   "outputs": [
    {
     "data": {
      "text/plain": [
       "(28877, 152)"
      ]
     },
     "execution_count": 33,
     "metadata": {},
     "output_type": "execute_result"
    }
   ],
   "source": [
    "airbnb2 = pd.concat([airbnb, df_amenities], axis=1, join='inner')\n",
    "airbnb2.shape"
   ]
  },
  {
   "cell_type": "code",
   "execution_count": 34,
   "metadata": {},
   "outputs": [],
   "source": [
    "#def get_amenities(airbnb):\n",
    " #   amenityList = []\n",
    "  #  for index, row in airbnb.iterrows():\n",
    "   #     amenities = set(row['amenities'].replace('\"', \"\").replace('{', \"\").replace('}', \"\").split(','))\n",
    "    #    for amenity in amenities:\n",
    "     #       if \"translation missing\" not in amenity and amenity != '':\n",
    "      #          amenityList.append(amenity)\n",
    " #   return amenityList"
   ]
  },
  {
   "cell_type": "code",
   "execution_count": 35,
   "metadata": {},
   "outputs": [],
   "source": [
    "#x = get_amenities(airbnb)"
   ]
  },
  {
   "cell_type": "code",
   "execution_count": 36,
   "metadata": {},
   "outputs": [],
   "source": [
    "#airbnb['Amenities_List'] = pd.Series(x)"
   ]
  },
  {
   "cell_type": "code",
   "execution_count": 37,
   "metadata": {},
   "outputs": [],
   "source": [
    "#def createOneHotVector(categories):\n",
    " #   categoryOneHotVector = dict()\n",
    "  #  index = 0\n",
    "  #  for category in categories:\n",
    "   #     oneHotVector = []\n",
    "   #     for i in range(len(categories)):\n",
    "    #        oneHotVector.append(1 if i == index else 0)\n",
    "   #     index += 1\n",
    "    #    categoryOneHotVector[category] = oneHotVector\n",
    "    \n",
    "   # return categoryOneHotVector"
   ]
  },
  {
   "cell_type": "code",
   "execution_count": 38,
   "metadata": {},
   "outputs": [],
   "source": [
    "#roomTypeOneHotVector = createOneHotVector(airbnb.room_type.unique())\n",
    "#bedTypeOneHotVector = createOneHotVector(airbnb.bed_type.unique())"
   ]
  },
  {
   "cell_type": "code",
   "execution_count": 39,
   "metadata": {},
   "outputs": [],
   "source": [
    "#airbnb['roomtype_vector'] = pd.Series(roomTypeOneHotVector)\n",
    "#airbnb['bedtype_vector'] = pd.Series(bedTypeOneHotVector)"
   ]
  },
  {
   "cell_type": "code",
   "execution_count": 40,
   "metadata": {},
   "outputs": [
    {
     "name": "stdout",
     "output_type": "stream",
     "text": [
      "<class 'pandas.core.frame.DataFrame'>\n",
      "RangeIndex: 28877 entries, 0 to 28876\n",
      "Columns: 152 entries, property_type to wireless internet\n",
      "dtypes: float64(7), int64(140), object(5)\n",
      "memory usage: 33.5+ MB\n"
     ]
    }
   ],
   "source": [
    "airbnb2.info()"
   ]
  },
  {
   "cell_type": "code",
   "execution_count": 41,
   "metadata": {},
   "outputs": [
    {
     "data": {
      "text/html": [
       "<div>\n",
       "<style scoped>\n",
       "    .dataframe tbody tr th:only-of-type {\n",
       "        vertical-align: middle;\n",
       "    }\n",
       "\n",
       "    .dataframe tbody tr th {\n",
       "        vertical-align: top;\n",
       "    }\n",
       "\n",
       "    .dataframe thead th {\n",
       "        text-align: right;\n",
       "    }\n",
       "</style>\n",
       "<table border=\"1\" class=\"dataframe\">\n",
       "  <thead>\n",
       "    <tr style=\"text-align: right;\">\n",
       "      <th></th>\n",
       "      <th>property_type</th>\n",
       "      <th>room_type</th>\n",
       "      <th>amenities</th>\n",
       "      <th>accommodates</th>\n",
       "      <th>bathrooms</th>\n",
       "      <th>bed_type</th>\n",
       "      <th>cancellation_policy</th>\n",
       "      <th>cleaning_fee</th>\n",
       "      <th>city</th>\n",
       "      <th>first_review</th>\n",
       "      <th>...</th>\n",
       "      <th>host_since</th>\n",
       "      <th>instant_bookable</th>\n",
       "      <th>last_review</th>\n",
       "      <th>latitude</th>\n",
       "      <th>longitude</th>\n",
       "      <th>number_of_reviews</th>\n",
       "      <th>review_scores_rating</th>\n",
       "      <th>bedrooms</th>\n",
       "      <th>beds</th>\n",
       "      <th>price</th>\n",
       "    </tr>\n",
       "  </thead>\n",
       "  <tbody>\n",
       "    <tr>\n",
       "      <th>0</th>\n",
       "      <td>Apartment</td>\n",
       "      <td>Entire home/apt</td>\n",
       "      <td>Wireless Internet,Air conditioning,Kitchen,Hea...</td>\n",
       "      <td>7</td>\n",
       "      <td>1.0</td>\n",
       "      <td>Real Bed</td>\n",
       "      <td>1</td>\n",
       "      <td>1</td>\n",
       "      <td>NYC</td>\n",
       "      <td>736546</td>\n",
       "      <td>...</td>\n",
       "      <td>736499</td>\n",
       "      <td>1</td>\n",
       "      <td>736595</td>\n",
       "      <td>40.766115</td>\n",
       "      <td>-73.989040</td>\n",
       "      <td>6</td>\n",
       "      <td>93.0</td>\n",
       "      <td>3.0</td>\n",
       "      <td>3.0</td>\n",
       "      <td>169.0</td>\n",
       "    </tr>\n",
       "    <tr>\n",
       "      <th>1</th>\n",
       "      <td>Apartment</td>\n",
       "      <td>Private room</td>\n",
       "      <td>TV,Wireless Internet,Heating,Smoke detector,Ca...</td>\n",
       "      <td>2</td>\n",
       "      <td>1.0</td>\n",
       "      <td>Real Bed</td>\n",
       "      <td>1</td>\n",
       "      <td>1</td>\n",
       "      <td>SF</td>\n",
       "      <td>736568</td>\n",
       "      <td>...</td>\n",
       "      <td>736487</td>\n",
       "      <td>1</td>\n",
       "      <td>736577</td>\n",
       "      <td>37.753164</td>\n",
       "      <td>-122.429526</td>\n",
       "      <td>3</td>\n",
       "      <td>100.0</td>\n",
       "      <td>1.0</td>\n",
       "      <td>1.0</td>\n",
       "      <td>85.0</td>\n",
       "    </tr>\n",
       "    <tr>\n",
       "      <th>2</th>\n",
       "      <td>Condominium</td>\n",
       "      <td>Entire home/apt</td>\n",
       "      <td>TV,Cable TV,Wireless Internet,Wheelchair acces...</td>\n",
       "      <td>2</td>\n",
       "      <td>1.0</td>\n",
       "      <td>Real Bed</td>\n",
       "      <td>1</td>\n",
       "      <td>1</td>\n",
       "      <td>LA</td>\n",
       "      <td>736314</td>\n",
       "      <td>...</td>\n",
       "      <td>735006</td>\n",
       "      <td>1</td>\n",
       "      <td>736431</td>\n",
       "      <td>34.046737</td>\n",
       "      <td>-118.260439</td>\n",
       "      <td>9</td>\n",
       "      <td>93.0</td>\n",
       "      <td>1.0</td>\n",
       "      <td>1.0</td>\n",
       "      <td>120.0</td>\n",
       "    </tr>\n",
       "    <tr>\n",
       "      <th>3</th>\n",
       "      <td>House</td>\n",
       "      <td>Private room</td>\n",
       "      <td>TV,Cable TV,Wireless Internet,Pets live on thi...</td>\n",
       "      <td>2</td>\n",
       "      <td>1.0</td>\n",
       "      <td>Real Bed</td>\n",
       "      <td>1</td>\n",
       "      <td>1</td>\n",
       "      <td>SF</td>\n",
       "      <td>736007</td>\n",
       "      <td>...</td>\n",
       "      <td>735753</td>\n",
       "      <td>1</td>\n",
       "      <td>736596</td>\n",
       "      <td>37.781128</td>\n",
       "      <td>-122.501095</td>\n",
       "      <td>159</td>\n",
       "      <td>99.0</td>\n",
       "      <td>1.0</td>\n",
       "      <td>1.0</td>\n",
       "      <td>120.0</td>\n",
       "    </tr>\n",
       "    <tr>\n",
       "      <th>4</th>\n",
       "      <td>Apartment</td>\n",
       "      <td>Private room</td>\n",
       "      <td>Internet,Wireless Internet,Air conditioning,Ki...</td>\n",
       "      <td>2</td>\n",
       "      <td>1.0</td>\n",
       "      <td>Real Bed</td>\n",
       "      <td>1</td>\n",
       "      <td>1</td>\n",
       "      <td>NYC</td>\n",
       "      <td>734986</td>\n",
       "      <td>...</td>\n",
       "      <td>734954</td>\n",
       "      <td>1</td>\n",
       "      <td>736283</td>\n",
       "      <td>40.723883</td>\n",
       "      <td>-73.983880</td>\n",
       "      <td>82</td>\n",
       "      <td>93.0</td>\n",
       "      <td>1.0</td>\n",
       "      <td>1.0</td>\n",
       "      <td>100.0</td>\n",
       "    </tr>\n",
       "  </tbody>\n",
       "</table>\n",
       "<p>5 rows × 23 columns</p>\n",
       "</div>"
      ],
      "text/plain": [
       "  property_type        room_type  \\\n",
       "0     Apartment  Entire home/apt   \n",
       "1     Apartment     Private room   \n",
       "2   Condominium  Entire home/apt   \n",
       "3         House     Private room   \n",
       "4     Apartment     Private room   \n",
       "\n",
       "                                           amenities  accommodates  bathrooms  \\\n",
       "0  Wireless Internet,Air conditioning,Kitchen,Hea...             7        1.0   \n",
       "1  TV,Wireless Internet,Heating,Smoke detector,Ca...             2        1.0   \n",
       "2  TV,Cable TV,Wireless Internet,Wheelchair acces...             2        1.0   \n",
       "3  TV,Cable TV,Wireless Internet,Pets live on thi...             2        1.0   \n",
       "4  Internet,Wireless Internet,Air conditioning,Ki...             2        1.0   \n",
       "\n",
       "   bed_type  cancellation_policy  cleaning_fee city  first_review  ...  \\\n",
       "0  Real Bed                    1             1  NYC        736546  ...   \n",
       "1  Real Bed                    1             1   SF        736568  ...   \n",
       "2  Real Bed                    1             1   LA        736314  ...   \n",
       "3  Real Bed                    1             1   SF        736007  ...   \n",
       "4  Real Bed                    1             1  NYC        734986  ...   \n",
       "\n",
       "   host_since  instant_bookable  last_review   latitude   longitude  \\\n",
       "0      736499                 1       736595  40.766115  -73.989040   \n",
       "1      736487                 1       736577  37.753164 -122.429526   \n",
       "2      735006                 1       736431  34.046737 -118.260439   \n",
       "3      735753                 1       736596  37.781128 -122.501095   \n",
       "4      734954                 1       736283  40.723883  -73.983880   \n",
       "\n",
       "   number_of_reviews  review_scores_rating  bedrooms  beds  price  \n",
       "0                  6                  93.0       3.0   3.0  169.0  \n",
       "1                  3                 100.0       1.0   1.0   85.0  \n",
       "2                  9                  93.0       1.0   1.0  120.0  \n",
       "3                159                  99.0       1.0   1.0  120.0  \n",
       "4                 82                  93.0       1.0   1.0  100.0  \n",
       "\n",
       "[5 rows x 23 columns]"
      ]
     },
     "execution_count": 41,
     "metadata": {},
     "output_type": "execute_result"
    }
   ],
   "source": [
    "airbnb.head()"
   ]
  },
  {
   "cell_type": "markdown",
   "metadata": {},
   "source": [
    "Hacemos una copia del DataFrame únicamente con las **columnas numéricas** para entrenar nuestro modelo"
   ]
  },
  {
   "cell_type": "code",
   "execution_count": 42,
   "metadata": {},
   "outputs": [],
   "source": [
    "airbnb_numeric = airbnb2._get_numeric_data().copy()"
   ]
  },
  {
   "cell_type": "code",
   "execution_count": 43,
   "metadata": {},
   "outputs": [],
   "source": [
    "from sklearn.model_selection import train_test_split\n",
    "from sklearn.linear_model import LinearRegression\n",
    "X=airbnb_numeric.drop('price', axis=1)\n",
    "y=airbnb_numeric.price"
   ]
  },
  {
   "cell_type": "code",
   "execution_count": 44,
   "metadata": {},
   "outputs": [],
   "source": [
    "modelo=LinearRegression()"
   ]
  },
  {
   "cell_type": "code",
   "execution_count": 45,
   "metadata": {},
   "outputs": [],
   "source": [
    "X_train, X_test, y_train, y_test=train_test_split(X, y, test_size=0.2)"
   ]
  },
  {
   "cell_type": "code",
   "execution_count": 46,
   "metadata": {},
   "outputs": [
    {
     "data": {
      "text/plain": [
       "LinearRegression(copy_X=True, fit_intercept=True, n_jobs=None, normalize=False)"
      ]
     },
     "execution_count": 46,
     "metadata": {},
     "output_type": "execute_result"
    }
   ],
   "source": [
    "modelo.fit(X_train,y_train)"
   ]
  },
  {
   "cell_type": "code",
   "execution_count": 47,
   "metadata": {},
   "outputs": [
    {
     "name": "stdout",
     "output_type": "stream",
     "text": [
      "0.4731292490016904 0.5051246365685065\n"
     ]
    }
   ],
   "source": [
    "train_score=modelo.score(X_train, y_train)\n",
    "test_score=modelo.score(X_test, y_test)\n",
    "print (train_score, test_score)"
   ]
  },
  {
   "cell_type": "code",
   "execution_count": 48,
   "metadata": {},
   "outputs": [
    {
     "data": {
      "text/plain": [
       "RandomForestRegressor(bootstrap=True, criterion='mse', max_depth=None,\n",
       "                      max_features='auto', max_leaf_nodes=None,\n",
       "                      min_impurity_decrease=0.0, min_impurity_split=None,\n",
       "                      min_samples_leaf=3, min_samples_split=2,\n",
       "                      min_weight_fraction_leaf=0.0, n_estimators=16,\n",
       "                      n_jobs=None, oob_score=False, random_state=None,\n",
       "                      verbose=0, warm_start=False)"
      ]
     },
     "execution_count": 48,
     "metadata": {},
     "output_type": "execute_result"
    }
   ],
   "source": [
    "from sklearn.ensemble import RandomForestRegressor as RFR\n",
    "\n",
    "rf=RFR(n_estimators=16, min_samples_leaf=3)\n",
    "rf.fit(X_train, y_train)"
   ]
  },
  {
   "cell_type": "code",
   "execution_count": 49,
   "metadata": {},
   "outputs": [
    {
     "name": "stdout",
     "output_type": "stream",
     "text": [
      "0.8739371871190964 0.6917151380988674\n"
     ]
    }
   ],
   "source": [
    "train_score=rf.score(X_train, y_train)\n",
    "test_score=rf.score(X_test, y_test)\n",
    "print (train_score, test_score)"
   ]
  },
  {
   "cell_type": "code",
   "execution_count": null,
   "metadata": {},
   "outputs": [],
   "source": []
  }
 ],
 "metadata": {
  "kernelspec": {
   "display_name": "Python 3",
   "language": "python",
   "name": "python3"
  },
  "language_info": {
   "codemirror_mode": {
    "name": "ipython",
    "version": 3
   },
   "file_extension": ".py",
   "mimetype": "text/x-python",
   "name": "python",
   "nbconvert_exporter": "python",
   "pygments_lexer": "ipython3",
   "version": "3.7.4"
  }
 },
 "nbformat": 4,
 "nbformat_minor": 2
}
