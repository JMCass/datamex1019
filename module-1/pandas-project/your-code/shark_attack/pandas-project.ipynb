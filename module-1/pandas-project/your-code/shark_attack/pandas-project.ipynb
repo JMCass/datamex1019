{
 "cells": [
  {
   "cell_type": "code",
   "execution_count": 1,
   "metadata": {},
   "outputs": [
    {
     "name": "stdout",
     "output_type": "stream",
     "text": [
      "Requirement already satisfied: seaborn in /usr/local/lib/python3.7/site-packages (0.9.0)\n",
      "Requirement already satisfied: numpy>=1.9.3 in /Users/macos/Library/Python/3.7/lib/python/site-packages (from seaborn) (1.17.2)\n",
      "Requirement already satisfied: pandas>=0.15.2 in /usr/local/lib/python3.7/site-packages (from seaborn) (0.25.2)\n",
      "Requirement already satisfied: matplotlib>=1.4.3 in /Users/macos/Library/Python/3.7/lib/python/site-packages (from seaborn) (3.1.1)\n",
      "Requirement already satisfied: scipy>=0.14.0 in /usr/local/lib/python3.7/site-packages (from seaborn) (1.3.1)\n",
      "Requirement already satisfied: pytz>=2017.2 in /usr/local/lib/python3.7/site-packages (from pandas>=0.15.2->seaborn) (2019.3)\n",
      "Requirement already satisfied: python-dateutil>=2.6.1 in /usr/local/lib/python3.7/site-packages (from pandas>=0.15.2->seaborn) (2.8.0)\n",
      "Requirement already satisfied: pyparsing!=2.0.4,!=2.1.2,!=2.1.6,>=2.0.1 in /Users/macos/Library/Python/3.7/lib/python/site-packages (from matplotlib>=1.4.3->seaborn) (2.4.2)\n",
      "Requirement already satisfied: cycler>=0.10 in /Users/macos/Library/Python/3.7/lib/python/site-packages (from matplotlib>=1.4.3->seaborn) (0.10.0)\n",
      "Requirement already satisfied: kiwisolver>=1.0.1 in /Users/macos/Library/Python/3.7/lib/python/site-packages (from matplotlib>=1.4.3->seaborn) (1.1.0)\n",
      "Requirement already satisfied: six>=1.5 in /Users/macos/Library/Python/3.7/lib/python/site-packages (from python-dateutil>=2.6.1->pandas>=0.15.2->seaborn) (1.12.0)\n",
      "Requirement already satisfied: setuptools in /usr/local/lib/python3.7/site-packages (from kiwisolver>=1.0.1->matplotlib>=1.4.3->seaborn) (41.4.0)\n"
     ]
    }
   ],
   "source": [
    "!pip3 install seaborn"
   ]
  },
  {
   "cell_type": "code",
   "execution_count": 2,
   "metadata": {},
   "outputs": [
    {
     "name": "stdout",
     "output_type": "stream",
     "text": [
      "Requirement already satisfied: dateparser in /usr/local/lib/python3.7/site-packages (0.7.2)\r\n",
      "Requirement already satisfied: python-dateutil in /usr/local/lib/python3.7/site-packages (from dateparser) (2.8.0)\r\n",
      "Requirement already satisfied: pytz in /usr/local/lib/python3.7/site-packages (from dateparser) (2019.3)\r\n",
      "Requirement already satisfied: tzlocal in /usr/local/lib/python3.7/site-packages (from dateparser) (2.0.0)\r\n",
      "Requirement already satisfied: regex in /usr/local/lib/python3.7/site-packages (from dateparser) (2019.11.1)\r\n",
      "Requirement already satisfied: six>=1.5 in /Users/macos/Library/Python/3.7/lib/python/site-packages (from python-dateutil->dateparser) (1.12.0)\r\n"
     ]
    }
   ],
   "source": [
    "!pip3 install dateparser"
   ]
  },
  {
   "cell_type": "code",
   "execution_count": 3,
   "metadata": {},
   "outputs": [
    {
     "name": "stdout",
     "output_type": "stream",
     "text": [
      "Requirement already satisfied: gensim in /usr/local/lib/python3.7/site-packages (3.8.1)\n",
      "Requirement already satisfied: scipy>=0.18.1 in /usr/local/lib/python3.7/site-packages (from gensim) (1.3.1)\n",
      "Requirement already satisfied: numpy>=1.11.3 in /Users/macos/Library/Python/3.7/lib/python/site-packages (from gensim) (1.17.2)\n",
      "Requirement already satisfied: six>=1.5.0 in /Users/macos/Library/Python/3.7/lib/python/site-packages (from gensim) (1.12.0)\n",
      "Requirement already satisfied: smart-open>=1.8.1 in /usr/local/lib/python3.7/site-packages (from gensim) (1.8.4)\n",
      "Requirement already satisfied: boto>=2.32 in /usr/local/lib/python3.7/site-packages (from smart-open>=1.8.1->gensim) (2.49.0)\n",
      "Requirement already satisfied: boto3 in /usr/local/lib/python3.7/site-packages (from smart-open>=1.8.1->gensim) (1.10.8)\n",
      "Requirement already satisfied: requests in /Users/macos/Library/Python/3.7/lib/python/site-packages (from smart-open>=1.8.1->gensim) (2.22.0)\n",
      "Requirement already satisfied: botocore<1.14.0,>=1.13.8 in /usr/local/lib/python3.7/site-packages (from boto3->smart-open>=1.8.1->gensim) (1.13.8)\n",
      "Requirement already satisfied: jmespath<1.0.0,>=0.7.1 in /usr/local/lib/python3.7/site-packages (from boto3->smart-open>=1.8.1->gensim) (0.9.4)\n",
      "Requirement already satisfied: s3transfer<0.3.0,>=0.2.0 in /usr/local/lib/python3.7/site-packages (from boto3->smart-open>=1.8.1->gensim) (0.2.1)\n",
      "Requirement already satisfied: chardet<3.1.0,>=3.0.2 in /Users/macos/Library/Python/3.7/lib/python/site-packages (from requests->smart-open>=1.8.1->gensim) (3.0.4)\n",
      "Requirement already satisfied: urllib3!=1.25.0,!=1.25.1,<1.26,>=1.21.1 in /Users/macos/Library/Python/3.7/lib/python/site-packages (from requests->smart-open>=1.8.1->gensim) (1.25.6)\n",
      "Requirement already satisfied: certifi>=2017.4.17 in /Users/macos/Library/Python/3.7/lib/python/site-packages (from requests->smart-open>=1.8.1->gensim) (2019.9.11)\n",
      "Requirement already satisfied: idna<2.9,>=2.5 in /Users/macos/Library/Python/3.7/lib/python/site-packages (from requests->smart-open>=1.8.1->gensim) (2.8)\n",
      "Requirement already satisfied: python-dateutil<3.0.0,>=2.1; python_version >= \"2.7\" in /usr/local/lib/python3.7/site-packages (from botocore<1.14.0,>=1.13.8->boto3->smart-open>=1.8.1->gensim) (2.8.0)\n",
      "Requirement already satisfied: docutils<0.16,>=0.10 in /usr/local/lib/python3.7/site-packages (from botocore<1.14.0,>=1.13.8->boto3->smart-open>=1.8.1->gensim) (0.15.2)\n"
     ]
    }
   ],
   "source": [
    "!pip3 install gensim"
   ]
  },
  {
   "cell_type": "code",
   "execution_count": 4,
   "metadata": {},
   "outputs": [],
   "source": [
    "import pandas as pd\n",
    "import numpy as np\n",
    "import os\n",
    "import matplotlib.pyplot as plt\n",
    "import re\n",
    "import seaborn as sns\n",
    "sns.set(style=\"whitegrid\")\n",
    "sns.set_color_codes(\"pastel\")\n",
    "from collections import Counter\n",
    "from gensim import corpora, models\n",
    "import pylab as plt"
   ]
  },
  {
   "cell_type": "code",
   "execution_count": 5,
   "metadata": {},
   "outputs": [
    {
     "data": {
      "text/plain": [
       "['.DS_Store',\n",
       " 'funciones.py',\n",
       " 'attacks.csv',\n",
       " 'pandas-project.py',\n",
       " '__pycache__',\n",
       " 'pandas-project.ipynb',\n",
       " '.ipynb_checkpoints',\n",
       " 'data_attack_cleaned.csv']"
      ]
     },
     "execution_count": 5,
     "metadata": {},
     "output_type": "execute_result"
    }
   ],
   "source": [
    "os.listdir(os.getcwd())"
   ]
  },
  {
   "cell_type": "code",
   "execution_count": 6,
   "metadata": {},
   "outputs": [],
   "source": [
    "data=pd.read_csv('attacks.csv')"
   ]
  },
  {
   "cell_type": "code",
   "execution_count": 7,
   "metadata": {},
   "outputs": [
    {
     "data": {
      "text/html": [
       "<div>\n",
       "<style scoped>\n",
       "    .dataframe tbody tr th:only-of-type {\n",
       "        vertical-align: middle;\n",
       "    }\n",
       "\n",
       "    .dataframe tbody tr th {\n",
       "        vertical-align: top;\n",
       "    }\n",
       "\n",
       "    .dataframe thead th {\n",
       "        text-align: right;\n",
       "    }\n",
       "</style>\n",
       "<table border=\"1\" class=\"dataframe\">\n",
       "  <thead>\n",
       "    <tr style=\"text-align: right;\">\n",
       "      <th></th>\n",
       "      <th>Case Number</th>\n",
       "      <th>Date</th>\n",
       "      <th>Year</th>\n",
       "      <th>Type</th>\n",
       "      <th>Country</th>\n",
       "      <th>Area</th>\n",
       "      <th>Location</th>\n",
       "      <th>Activity</th>\n",
       "      <th>Name</th>\n",
       "      <th>Sex</th>\n",
       "      <th>...</th>\n",
       "      <th>Species</th>\n",
       "      <th>Investigator or Source</th>\n",
       "      <th>pdf</th>\n",
       "      <th>href formula</th>\n",
       "      <th>href</th>\n",
       "      <th>Case Number.1</th>\n",
       "      <th>Case Number.2</th>\n",
       "      <th>original order</th>\n",
       "      <th>Unnamed: 22</th>\n",
       "      <th>Unnamed: 23</th>\n",
       "    </tr>\n",
       "  </thead>\n",
       "  <tbody>\n",
       "    <tr>\n",
       "      <th>0</th>\n",
       "      <td>2016.09.18.c</td>\n",
       "      <td>18-sep-16</td>\n",
       "      <td>2016</td>\n",
       "      <td>Unprovoked</td>\n",
       "      <td>USA</td>\n",
       "      <td>Florida</td>\n",
       "      <td>New Smyrna Beach, Volusia County</td>\n",
       "      <td>Surfing</td>\n",
       "      <td>male</td>\n",
       "      <td>M</td>\n",
       "      <td>...</td>\n",
       "      <td>NaN</td>\n",
       "      <td>Orlando Sentinel, 9/19/2016</td>\n",
       "      <td>2016.09.18.c-NSB.pdf</td>\n",
       "      <td>http://sharkattackfile.net/spreadsheets/pdf_di...</td>\n",
       "      <td>http://sharkattackfile.net/spreadsheets/pdf_di...</td>\n",
       "      <td>2016.09.18.c</td>\n",
       "      <td>2016.09.18.c</td>\n",
       "      <td>5993</td>\n",
       "      <td>NaN</td>\n",
       "      <td>NaN</td>\n",
       "    </tr>\n",
       "    <tr>\n",
       "      <th>1</th>\n",
       "      <td>2016.09.18.b</td>\n",
       "      <td>18-sep-16</td>\n",
       "      <td>2016</td>\n",
       "      <td>Unprovoked</td>\n",
       "      <td>USA</td>\n",
       "      <td>Florida</td>\n",
       "      <td>New Smyrna Beach, Volusia County</td>\n",
       "      <td>Surfing</td>\n",
       "      <td>Chucky Luciano</td>\n",
       "      <td>M</td>\n",
       "      <td>...</td>\n",
       "      <td>NaN</td>\n",
       "      <td>Orlando Sentinel, 9/19/2016</td>\n",
       "      <td>2016.09.18.b-Luciano.pdf</td>\n",
       "      <td>http://sharkattackfile.net/spreadsheets/pdf_di...</td>\n",
       "      <td>http://sharkattackfile.net/spreadsheets/pdf_di...</td>\n",
       "      <td>2016.09.18.b</td>\n",
       "      <td>2016.09.18.b</td>\n",
       "      <td>5992</td>\n",
       "      <td>NaN</td>\n",
       "      <td>NaN</td>\n",
       "    </tr>\n",
       "    <tr>\n",
       "      <th>2</th>\n",
       "      <td>2016.09.18.a</td>\n",
       "      <td>18-sep-16</td>\n",
       "      <td>2016</td>\n",
       "      <td>Unprovoked</td>\n",
       "      <td>USA</td>\n",
       "      <td>Florida</td>\n",
       "      <td>New Smyrna Beach, Volusia County</td>\n",
       "      <td>Surfing</td>\n",
       "      <td>male</td>\n",
       "      <td>M</td>\n",
       "      <td>...</td>\n",
       "      <td>NaN</td>\n",
       "      <td>Orlando Sentinel, 9/19/2016</td>\n",
       "      <td>2016.09.18.a-NSB.pdf</td>\n",
       "      <td>http://sharkattackfile.net/spreadsheets/pdf_di...</td>\n",
       "      <td>http://sharkattackfile.net/spreadsheets/pdf_di...</td>\n",
       "      <td>2016.09.18.a</td>\n",
       "      <td>2016.09.18.a</td>\n",
       "      <td>5991</td>\n",
       "      <td>NaN</td>\n",
       "      <td>NaN</td>\n",
       "    </tr>\n",
       "    <tr>\n",
       "      <th>3</th>\n",
       "      <td>2016.09.17</td>\n",
       "      <td>17-sep-16</td>\n",
       "      <td>2016</td>\n",
       "      <td>Unprovoked</td>\n",
       "      <td>AUSTRALIA</td>\n",
       "      <td>Victoria</td>\n",
       "      <td>Thirteenth Beach</td>\n",
       "      <td>Surfing</td>\n",
       "      <td>Rory Angiolella</td>\n",
       "      <td>M</td>\n",
       "      <td>...</td>\n",
       "      <td>NaN</td>\n",
       "      <td>The Age, 9/18/2016</td>\n",
       "      <td>2016.09.17-Angiolella.pdf</td>\n",
       "      <td>http://sharkattackfile.net/spreadsheets/pdf_di...</td>\n",
       "      <td>http://sharkattackfile.net/spreadsheets/pdf_di...</td>\n",
       "      <td>2016.09.17</td>\n",
       "      <td>2016.09.17</td>\n",
       "      <td>5990</td>\n",
       "      <td>NaN</td>\n",
       "      <td>NaN</td>\n",
       "    </tr>\n",
       "    <tr>\n",
       "      <th>4</th>\n",
       "      <td>2016.09.15</td>\n",
       "      <td>16-sep-16</td>\n",
       "      <td>2016</td>\n",
       "      <td>Unprovoked</td>\n",
       "      <td>AUSTRALIA</td>\n",
       "      <td>Victoria</td>\n",
       "      <td>Bells Beach</td>\n",
       "      <td>Surfing</td>\n",
       "      <td>male</td>\n",
       "      <td>M</td>\n",
       "      <td>...</td>\n",
       "      <td>2 m shark</td>\n",
       "      <td>The Age, 9/16/2016</td>\n",
       "      <td>2016.09.16-BellsBeach.pdf</td>\n",
       "      <td>http://sharkattackfile.net/spreadsheets/pdf_di...</td>\n",
       "      <td>http://sharkattackfile.net/spreadsheets/pdf_di...</td>\n",
       "      <td>2016.09.16</td>\n",
       "      <td>2016.09.15</td>\n",
       "      <td>5989</td>\n",
       "      <td>NaN</td>\n",
       "      <td>NaN</td>\n",
       "    </tr>\n",
       "  </tbody>\n",
       "</table>\n",
       "<p>5 rows × 24 columns</p>\n",
       "</div>"
      ],
      "text/plain": [
       "    Case Number       Date  Year        Type    Country      Area  \\\n",
       "0  2016.09.18.c  18-sep-16  2016  Unprovoked        USA   Florida   \n",
       "1  2016.09.18.b  18-sep-16  2016  Unprovoked        USA   Florida   \n",
       "2  2016.09.18.a  18-sep-16  2016  Unprovoked        USA   Florida   \n",
       "3    2016.09.17  17-sep-16  2016  Unprovoked  AUSTRALIA  Victoria   \n",
       "4    2016.09.15  16-sep-16  2016  Unprovoked  AUSTRALIA  Victoria   \n",
       "\n",
       "                           Location Activity             Name Sex   ...  \\\n",
       "0  New Smyrna Beach, Volusia County  Surfing             male    M  ...   \n",
       "1  New Smyrna Beach, Volusia County  Surfing   Chucky Luciano    M  ...   \n",
       "2  New Smyrna Beach, Volusia County  Surfing             male    M  ...   \n",
       "3                  Thirteenth Beach  Surfing  Rory Angiolella    M  ...   \n",
       "4                       Bells Beach  Surfing             male    M  ...   \n",
       "\n",
       "    Species        Investigator or Source                        pdf  \\\n",
       "0        NaN  Orlando Sentinel, 9/19/2016       2016.09.18.c-NSB.pdf   \n",
       "1        NaN  Orlando Sentinel, 9/19/2016   2016.09.18.b-Luciano.pdf   \n",
       "2        NaN  Orlando Sentinel, 9/19/2016       2016.09.18.a-NSB.pdf   \n",
       "3        NaN           The Age, 9/18/2016  2016.09.17-Angiolella.pdf   \n",
       "4  2 m shark           The Age, 9/16/2016  2016.09.16-BellsBeach.pdf   \n",
       "\n",
       "                                        href formula  \\\n",
       "0  http://sharkattackfile.net/spreadsheets/pdf_di...   \n",
       "1  http://sharkattackfile.net/spreadsheets/pdf_di...   \n",
       "2  http://sharkattackfile.net/spreadsheets/pdf_di...   \n",
       "3  http://sharkattackfile.net/spreadsheets/pdf_di...   \n",
       "4  http://sharkattackfile.net/spreadsheets/pdf_di...   \n",
       "\n",
       "                                                href Case Number.1  \\\n",
       "0  http://sharkattackfile.net/spreadsheets/pdf_di...  2016.09.18.c   \n",
       "1  http://sharkattackfile.net/spreadsheets/pdf_di...  2016.09.18.b   \n",
       "2  http://sharkattackfile.net/spreadsheets/pdf_di...  2016.09.18.a   \n",
       "3  http://sharkattackfile.net/spreadsheets/pdf_di...    2016.09.17   \n",
       "4  http://sharkattackfile.net/spreadsheets/pdf_di...    2016.09.16   \n",
       "\n",
       "  Case Number.2 original order Unnamed: 22 Unnamed: 23  \n",
       "0  2016.09.18.c           5993         NaN         NaN  \n",
       "1  2016.09.18.b           5992         NaN         NaN  \n",
       "2  2016.09.18.a           5991         NaN         NaN  \n",
       "3    2016.09.17           5990         NaN         NaN  \n",
       "4    2016.09.15           5989         NaN         NaN  \n",
       "\n",
       "[5 rows x 24 columns]"
      ]
     },
     "execution_count": 7,
     "metadata": {},
     "output_type": "execute_result"
    }
   ],
   "source": [
    "data.head()"
   ]
  },
  {
   "cell_type": "code",
   "execution_count": 8,
   "metadata": {},
   "outputs": [
    {
     "data": {
      "text/plain": [
       "Country                     43\n",
       "Area                       402\n",
       "Location                   496\n",
       "Activity                   527\n",
       "Name                       200\n",
       "Sex                        567\n",
       "Age                       2681\n",
       "Injury                      27\n",
       "Fatal (Y/N)                 19\n",
       "Time                      3213\n",
       "Species                   2934\n",
       "Investigator or Source      15\n",
       "href formula                 1\n",
       "href                         3\n",
       "Unnamed: 22               5991\n",
       "Unnamed: 23               5990\n",
       "dtype: int64"
      ]
     },
     "execution_count": 8,
     "metadata": {},
     "output_type": "execute_result"
    }
   ],
   "source": [
    "null_cols = data.isnull().sum()\n",
    "null_cols[null_cols > 0]"
   ]
  },
  {
   "cell_type": "code",
   "execution_count": 9,
   "metadata": {},
   "outputs": [
    {
     "data": {
      "text/plain": [
       "Case Number               object\n",
       "Date                      object\n",
       "Year                       int64\n",
       "Type                      object\n",
       "Country                   object\n",
       "Area                      object\n",
       "Location                  object\n",
       "Activity                  object\n",
       "Name                      object\n",
       "Sex                       object\n",
       "Age                       object\n",
       "Injury                    object\n",
       "Fatal (Y/N)               object\n",
       "Time                      object\n",
       "Species                   object\n",
       "Investigator or Source    object\n",
       "pdf                       object\n",
       "href formula              object\n",
       "href                      object\n",
       "Case Number.1             object\n",
       "Case Number.2             object\n",
       "original order             int64\n",
       "Unnamed: 22               object\n",
       "Unnamed: 23               object\n",
       "dtype: object"
      ]
     },
     "execution_count": 9,
     "metadata": {},
     "output_type": "execute_result"
    }
   ],
   "source": [
    "data.dtypes"
   ]
  },
  {
   "cell_type": "code",
   "execution_count": 10,
   "metadata": {},
   "outputs": [],
   "source": [
    "data = data.drop('Unnamed: 22', axis=1)"
   ]
  },
  {
   "cell_type": "code",
   "execution_count": 11,
   "metadata": {},
   "outputs": [],
   "source": [
    "data = data.drop('Unnamed: 23', axis=1)"
   ]
  },
  {
   "cell_type": "code",
   "execution_count": 12,
   "metadata": {},
   "outputs": [],
   "source": [
    "data = data.rename(columns={'Fatal (Y/N)': 'Fatal'})"
   ]
  },
  {
   "cell_type": "code",
   "execution_count": 13,
   "metadata": {},
   "outputs": [],
   "source": [
    "data = data.rename(columns={'Sex ': 'Sex'})"
   ]
  },
  {
   "cell_type": "code",
   "execution_count": 14,
   "metadata": {},
   "outputs": [],
   "source": [
    "data = data.rename(columns={'Species ': 'Species'})"
   ]
  },
  {
   "cell_type": "code",
   "execution_count": 15,
   "metadata": {},
   "outputs": [],
   "source": [
    "data = data.rename(columns={'original order': 'Order'})"
   ]
  },
  {
   "cell_type": "code",
   "execution_count": 16,
   "metadata": {},
   "outputs": [],
   "source": [
    "data = data.rename(columns={'Investigator or Source': 'Investigator'})"
   ]
  },
  {
   "cell_type": "code",
   "execution_count": 17,
   "metadata": {},
   "outputs": [
    {
     "data": {
      "text/plain": [
       "Case Number      object\n",
       "Date             object\n",
       "Year              int64\n",
       "Type             object\n",
       "Country          object\n",
       "Area             object\n",
       "Location         object\n",
       "Activity         object\n",
       "Name             object\n",
       "Sex              object\n",
       "Age              object\n",
       "Injury           object\n",
       "Fatal            object\n",
       "Time             object\n",
       "Species          object\n",
       "Investigator     object\n",
       "pdf              object\n",
       "href formula     object\n",
       "href             object\n",
       "Case Number.1    object\n",
       "Case Number.2    object\n",
       "Order             int64\n",
       "dtype: object"
      ]
     },
     "execution_count": 17,
     "metadata": {},
     "output_type": "execute_result"
    }
   ],
   "source": [
    "data.dtypes"
   ]
  },
  {
   "cell_type": "code",
   "execution_count": 18,
   "metadata": {},
   "outputs": [
    {
     "data": {
      "text/plain": [
       "Country           43\n",
       "Area             402\n",
       "Location         496\n",
       "Activity         527\n",
       "Name             200\n",
       "Sex              567\n",
       "Age             2681\n",
       "Injury            27\n",
       "Fatal             19\n",
       "Time            3213\n",
       "Species         2934\n",
       "Investigator      15\n",
       "href formula       1\n",
       "href               3\n",
       "dtype: int64"
      ]
     },
     "execution_count": 18,
     "metadata": {},
     "output_type": "execute_result"
    }
   ],
   "source": [
    "null_cols = data.isnull().sum()\n",
    "null_cols[null_cols > 0]"
   ]
  },
  {
   "cell_type": "code",
   "execution_count": 19,
   "metadata": {},
   "outputs": [
    {
     "data": {
      "text/plain": [
       "http://sharkattackfile.net/spreadsheets/pdf_directory/w014.01.25-Grant.pdf                   4\n",
       "href formula                                                                                 3\n",
       "http://sharkattackfile.net/spreadsheets/pdf_directory/2014.10.02.b-Vandenberg.pdf            3\n",
       "http://sharkattackfile.net/spreadsheets/pdf_directory/1907.10.16.R-HongKong.pdf              2\n",
       "http://sharkattackfile.net/spreadsheets/pdf_directory/1923.00.00.a-NJ fisherman.pdf          2\n",
       "                                                                                            ..\n",
       "http://sharkattackfile.net/spreadsheets/pdf_directory/1974.04.14-Parkin.pdf                  1\n",
       "http://sharkattackfile.net/spreadsheets/pdf_directory/1965.00.00.e-Frank-RivieraBeach.pdf    1\n",
       "http://sharkattackfile.net/spreadsheets/pdf_directory/1976.01.13-catamaran.pdf               1\n",
       "http://sharkattackfile.net/spreadsheets/pdf_directory/1880.00.00.a-CampbellsPoint.pdf        1\n",
       "http://sharkattackfile.net/spreadsheets/pdf_directory/1969.11.05-Robson.pdf                  1\n",
       "Name: href, Length: 5973, dtype: int64"
      ]
     },
     "execution_count": 19,
     "metadata": {},
     "output_type": "execute_result"
    }
   ],
   "source": [
    "data[['href']] = data[['href']].fillna('href formula')\n",
    "data[\"href\"].value_counts()"
   ]
  },
  {
   "cell_type": "code",
   "execution_count": 20,
   "metadata": {},
   "outputs": [
    {
     "data": {
      "text/plain": [
       "Country           43\n",
       "Area             402\n",
       "Location         496\n",
       "Activity         527\n",
       "Name             200\n",
       "Sex              567\n",
       "Age             2681\n",
       "Injury            27\n",
       "Fatal             19\n",
       "Time            3213\n",
       "Species         2934\n",
       "Investigator      15\n",
       "href formula       1\n",
       "dtype: int64"
      ]
     },
     "execution_count": 20,
     "metadata": {},
     "output_type": "execute_result"
    }
   ],
   "source": [
    "null_cols = data.isnull().sum()\n",
    "null_cols[null_cols > 0]"
   ]
  },
  {
   "cell_type": "code",
   "execution_count": 21,
   "metadata": {},
   "outputs": [],
   "source": [
    "data[['href formula']] = data[['href formula']].fillna('http://sharkattackfile.net/spreadsheets/pdf_directory/1975.01.19-Barrowman.pdf')"
   ]
  },
  {
   "cell_type": "code",
   "execution_count": 22,
   "metadata": {},
   "outputs": [
    {
     "data": {
      "text/html": [
       "<div>\n",
       "<style scoped>\n",
       "    .dataframe tbody tr th:only-of-type {\n",
       "        vertical-align: middle;\n",
       "    }\n",
       "\n",
       "    .dataframe tbody tr th {\n",
       "        vertical-align: top;\n",
       "    }\n",
       "\n",
       "    .dataframe thead th {\n",
       "        text-align: right;\n",
       "    }\n",
       "</style>\n",
       "<table border=\"1\" class=\"dataframe\">\n",
       "  <thead>\n",
       "    <tr style=\"text-align: right;\">\n",
       "      <th></th>\n",
       "      <th>href</th>\n",
       "      <th>href formula</th>\n",
       "    </tr>\n",
       "  </thead>\n",
       "  <tbody>\n",
       "    <tr>\n",
       "      <th>0</th>\n",
       "      <td>http://sharkattackfile.net/spreadsheets/pdf_di...</td>\n",
       "      <td>http://sharkattackfile.net/spreadsheets/pdf_di...</td>\n",
       "    </tr>\n",
       "    <tr>\n",
       "      <th>1</th>\n",
       "      <td>http://sharkattackfile.net/spreadsheets/pdf_di...</td>\n",
       "      <td>http://sharkattackfile.net/spreadsheets/pdf_di...</td>\n",
       "    </tr>\n",
       "    <tr>\n",
       "      <th>2</th>\n",
       "      <td>http://sharkattackfile.net/spreadsheets/pdf_di...</td>\n",
       "      <td>http://sharkattackfile.net/spreadsheets/pdf_di...</td>\n",
       "    </tr>\n",
       "    <tr>\n",
       "      <th>3</th>\n",
       "      <td>http://sharkattackfile.net/spreadsheets/pdf_di...</td>\n",
       "      <td>http://sharkattackfile.net/spreadsheets/pdf_di...</td>\n",
       "    </tr>\n",
       "    <tr>\n",
       "      <th>4</th>\n",
       "      <td>http://sharkattackfile.net/spreadsheets/pdf_di...</td>\n",
       "      <td>http://sharkattackfile.net/spreadsheets/pdf_di...</td>\n",
       "    </tr>\n",
       "    <tr>\n",
       "      <th>...</th>\n",
       "      <td>...</td>\n",
       "      <td>...</td>\n",
       "    </tr>\n",
       "    <tr>\n",
       "      <th>5987</th>\n",
       "      <td>http://sharkattackfile.net/spreadsheets/pdf_di...</td>\n",
       "      <td>http://sharkattackfile.net/spreadsheets/pdf_di...</td>\n",
       "    </tr>\n",
       "    <tr>\n",
       "      <th>5988</th>\n",
       "      <td>http://sharkattackfile.net/spreadsheets/pdf_di...</td>\n",
       "      <td>http://sharkattackfile.net/spreadsheets/pdf_di...</td>\n",
       "    </tr>\n",
       "    <tr>\n",
       "      <th>5989</th>\n",
       "      <td>http://sharkattackfile.net/spreadsheets/pdf_di...</td>\n",
       "      <td>http://sharkattackfile.net/spreadsheets/pdf_di...</td>\n",
       "    </tr>\n",
       "    <tr>\n",
       "      <th>5990</th>\n",
       "      <td>http://sharkattackfile.net/spreadsheets/pdf_di...</td>\n",
       "      <td>http://sharkattackfile.net/spreadsheets/pdf_di...</td>\n",
       "    </tr>\n",
       "    <tr>\n",
       "      <th>5991</th>\n",
       "      <td>http://sharkattackfile.net/spreadsheets/pdf_di...</td>\n",
       "      <td>http://sharkattackfile.net/spreadsheets/pdf_di...</td>\n",
       "    </tr>\n",
       "  </tbody>\n",
       "</table>\n",
       "<p>5992 rows × 2 columns</p>\n",
       "</div>"
      ],
      "text/plain": [
       "                                                   href  \\\n",
       "0     http://sharkattackfile.net/spreadsheets/pdf_di...   \n",
       "1     http://sharkattackfile.net/spreadsheets/pdf_di...   \n",
       "2     http://sharkattackfile.net/spreadsheets/pdf_di...   \n",
       "3     http://sharkattackfile.net/spreadsheets/pdf_di...   \n",
       "4     http://sharkattackfile.net/spreadsheets/pdf_di...   \n",
       "...                                                 ...   \n",
       "5987  http://sharkattackfile.net/spreadsheets/pdf_di...   \n",
       "5988  http://sharkattackfile.net/spreadsheets/pdf_di...   \n",
       "5989  http://sharkattackfile.net/spreadsheets/pdf_di...   \n",
       "5990  http://sharkattackfile.net/spreadsheets/pdf_di...   \n",
       "5991  http://sharkattackfile.net/spreadsheets/pdf_di...   \n",
       "\n",
       "                                           href formula  \n",
       "0     http://sharkattackfile.net/spreadsheets/pdf_di...  \n",
       "1     http://sharkattackfile.net/spreadsheets/pdf_di...  \n",
       "2     http://sharkattackfile.net/spreadsheets/pdf_di...  \n",
       "3     http://sharkattackfile.net/spreadsheets/pdf_di...  \n",
       "4     http://sharkattackfile.net/spreadsheets/pdf_di...  \n",
       "...                                                 ...  \n",
       "5987  http://sharkattackfile.net/spreadsheets/pdf_di...  \n",
       "5988  http://sharkattackfile.net/spreadsheets/pdf_di...  \n",
       "5989  http://sharkattackfile.net/spreadsheets/pdf_di...  \n",
       "5990  http://sharkattackfile.net/spreadsheets/pdf_di...  \n",
       "5991  http://sharkattackfile.net/spreadsheets/pdf_di...  \n",
       "\n",
       "[5992 rows x 2 columns]"
      ]
     },
     "execution_count": 22,
     "metadata": {},
     "output_type": "execute_result"
    }
   ],
   "source": [
    "data[['href', 'href formula']]"
   ]
  },
  {
   "cell_type": "code",
   "execution_count": 23,
   "metadata": {},
   "outputs": [
    {
     "data": {
      "text/plain": [
       "USA                 2116\n",
       "AUSTRALIA           1279\n",
       "SOUTH AFRICA         565\n",
       "PAPUA NEW GUINEA     133\n",
       "NEW ZEALAND          125\n",
       "                    ... \n",
       "IRAN / IRAQ            1\n",
       "COOK ISLANDS           1\n",
       "INDIAN OCEAN?          1\n",
       "WESTERN SAMOA          1\n",
       "RED SEA                1\n",
       "Name: Country, Length: 203, dtype: int64"
      ]
     },
     "execution_count": 23,
     "metadata": {},
     "output_type": "execute_result"
    }
   ],
   "source": [
    "data[\"Country\"].value_counts()"
   ]
  },
  {
   "cell_type": "code",
   "execution_count": 24,
   "metadata": {},
   "outputs": [
    {
     "data": {
      "text/plain": [
       "Florida                                  990\n",
       "New South Wales                          468\n",
       "Queensland                               300\n",
       "Hawaii                                   282\n",
       "California                               276\n",
       "                                        ... \n",
       "Rivers State                               1\n",
       "Congreve Channel                           1\n",
       "Cargados Carajos Shoals (St. Brandon)      1\n",
       "Primorje-Gorski Kotar County               1\n",
       "Mindoro Occidental                         1\n",
       "Name: Area, Length: 785, dtype: int64"
      ]
     },
     "execution_count": 24,
     "metadata": {},
     "output_type": "execute_result"
    }
   ],
   "source": [
    "data[\"Area\"].value_counts()"
   ]
  },
  {
   "cell_type": "code",
   "execution_count": 25,
   "metadata": {},
   "outputs": [
    {
     "data": {
      "text/plain": [
       "New Smyrna Beach, Volusia County               157\n",
       "Daytona Beach, Volusia County                   28\n",
       "Ponce Inlet, Volusia County                     17\n",
       "Myrtle Beach, Horry County                      17\n",
       "Melbourne Beach, Brevard County                 15\n",
       "                                              ... \n",
       "Off Capo San Croce, near Augusta (Catania)       1\n",
       "Lauderdale-By-The-Sea, Broward County            1\n",
       "T.O. Strand                                      1\n",
       "Mahabalipuram beach, 37 km south of Chennai      1\n",
       "Palm Cove                                        1\n",
       "Name: Location, Length: 3929, dtype: int64"
      ]
     },
     "execution_count": 25,
     "metadata": {},
     "output_type": "execute_result"
    }
   ],
   "source": [
    "data[\"Location\"].value_counts()"
   ]
  },
  {
   "cell_type": "code",
   "execution_count": 26,
   "metadata": {},
   "outputs": [
    {
     "data": {
      "text/plain": [
       "male                  495\n",
       "female                 85\n",
       "boy                    23\n",
       "2 males                14\n",
       "boat                   14\n",
       "                     ... \n",
       "Steve Rosebloome        1\n",
       "a fisherman             1\n",
       "Leon Ritson Hermes      1\n",
       "small girl              1\n",
       "Jana Lutteropp          1\n",
       "Name: Name, Length: 5009, dtype: int64"
      ]
     },
     "execution_count": 26,
     "metadata": {},
     "output_type": "execute_result"
    }
   ],
   "source": [
    "data[\"Name\"].value_counts()"
   ]
  },
  {
   "cell_type": "code",
   "execution_count": 27,
   "metadata": {},
   "outputs": [
    {
     "data": {
      "text/plain": [
       "17                148\n",
       "18                145\n",
       "19                138\n",
       "20                136\n",
       "15                135\n",
       "                 ... \n",
       "9 & 12              1\n",
       "7      &    31      1\n",
       "17 & 35             1\n",
       "2Ω                  1\n",
       "25 or 28            1\n",
       "Name: Age, Length: 151, dtype: int64"
      ]
     },
     "execution_count": 27,
     "metadata": {},
     "output_type": "execute_result"
    }
   ],
   "source": [
    "data[\"Age\"].value_counts()"
   ]
  },
  {
   "cell_type": "code",
   "execution_count": 28,
   "metadata": {},
   "outputs": [
    {
     "data": {
      "text/plain": [
       "FATAL                                                                                             729\n",
       "Survived                                                                                           97\n",
       "Foot bitten                                                                                        82\n",
       "No injury                                                                                          77\n",
       "Leg bitten                                                                                         71\n",
       "                                                                                                 ... \n",
       "No injury, diver shot shark & it bit his speargun PROVOKED INCIDENT                                 1\n",
       "No injury but shark punctured his wetsuit after he prodded it with his spear PROVOKED INCIDENT      1\n",
       "FATAL, hand & leg severely injured by shark that leapt into boat                                    1\n",
       "6-inch gash on right foot                                                                           1\n",
       "No injury to occupant Shark struck boat                                                             1\n",
       "Name: Injury, Length: 3595, dtype: int64"
      ]
     },
     "execution_count": 28,
     "metadata": {},
     "output_type": "execute_result"
    }
   ],
   "source": [
    "data[\"Injury\"].value_counts()"
   ]
  },
  {
   "cell_type": "code",
   "execution_count": 29,
   "metadata": {},
   "outputs": [
    {
     "data": {
      "text/plain": [
       "White shark                        161\n",
       "Shark involvement not confirmed     80\n",
       "Tiger shark                         68\n",
       "Bull shark                          52\n",
       "6' shark                            40\n",
       "                                  ... \n",
       "500-lb shark                         1\n",
       "White shark, 5' to 6' juvenile       1\n",
       "8' white shark or 7-gill shark       1\n",
       "White shark, 7m                      1\n",
       "Tiger shark, >3 m [10']              1\n",
       "Name: Species, Length: 1538, dtype: int64"
      ]
     },
     "execution_count": 29,
     "metadata": {},
     "output_type": "execute_result"
    }
   ],
   "source": [
    "data[\"Species\"].value_counts()"
   ]
  },
  {
   "cell_type": "code",
   "execution_count": 30,
   "metadata": {},
   "outputs": [],
   "source": [
    "data[['Country', 'Area', 'Location']]= data[['Country', 'Area', 'Location']].fillna('UNKNOWN')"
   ]
  },
  {
   "cell_type": "code",
   "execution_count": 31,
   "metadata": {},
   "outputs": [],
   "source": [
    "#Limpiando los valores de Country\n",
    "data['Country'] = data['Country'].astype('str')\n",
    "data[\"Country\"] = data[\"Country\"].str.rstrip()\n",
    "data[\"Country\"] = data[\"Country\"].str.lstrip()"
   ]
  },
  {
   "cell_type": "code",
   "execution_count": 32,
   "metadata": {},
   "outputs": [],
   "source": [
    "#Limpiando los valores de Country\n",
    "data['Country'] = data['Country'].str.replace('Fiji','FIJI')\n",
    "data['Country'] = data['Country'].str.replace('St Helena','ST HELENA')\n",
    "data['Country'] = data['Country'].str.replace('Sierra Leone','SIERRA LEONE')\n",
    "data['Country'] = data['Country'].str.replace('Seychelles','SEYCHELLES')\n",
    "data['Country'] = data['Country'].str.replace('?', '')\n",
    "data['Country'] = data['Country'].str.replace('-', '')\n",
    "data['Country'] = data['Country'].str.replace('Coast of AFRICA','COAST OF AFRICA')\n",
    "data['Country'] = data['Country'].str.replace('EGYPT / ISRAEL','EGYPT')\n",
    "data['Country'] = data['Country'].str.replace('RED SEA / INDIAN OCEAN','YEMEN')\n",
    "data['Country'] = data['Country'].str.replace('ANDAMAN / NICOBAR ISLANDAS','INDIA')\n",
    "data['Country'] = data['Country'].str.replace('EQUATORIAL GUINEA / CAMEROON','EQUATORIAL GUINEA')\n",
    "data['Country'] = data['Country'].str.replace('IRAN / IRAQ','IRAN')\n",
    "data['Country'] = data['Country'].str.replace('ITALY / CROATIA','CROATIA')\n",
    "data['Country'] = data['Country'].str.replace('SOLOMON ISLANDS / VANUATU','SOLOMON ISLANDS')\n",
    "data['Country'] = data['Country'].str.replace('UNITED ARAB EMIRATES (UAE)','UNITED ARAB EMIRATES')\n",
    "data['Country'] = data['Country'].str.replace(' (UAE)','')\n",
    "data['Country'] = data['Country'].str.replace(' (SRI LANKA)','')\n",
    "data['Country'] = data['Country'].str.replace('CEYLON \\(SRI LANKA\\)','SRI LANKA')\n",
    "data['Country'] = data['Country'].str.replace('Between PORTUGAL & INDIA','PORTUGAL')\n",
    "data[\"Country\"] = data[\"Country\"].str.replace(\"ST. MAARTIN\",\"SAINT MARTIN\")\n",
    "data[\"Country\"] = data[\"Country\"].str.replace(\"ST. MARTIN\",\"SAINT MARTIN\")\n",
    "data[\"Country\"] = data[\"Country\"].str.replace(\"COLUMBIA\",\"COLOMBIA\")\n",
    "data[\"Country\"] = data[\"Country\"].str.replace(\"UNITED ARAB EMIRATES \\(UAE\\)\",\"UNITED ARAB EMIRATES\")\n",
    "data[\"Country\"] = data[\"Country\"].str.replace(\"ENGLAND\",\"UNITED KINGDOM\")\n",
    "data[\"Country\"] = data[\"Country\"].str.replace(\"SCOTLAND\",\"UNITED KINGDOM\")\n",
    "data[\"Country\"] = data[\"Country\"].str.replace(\"(.*)\\?\",\"UNKNOWN\")\n",
    "data[\"Country\"] = data[\"Country\"].str.replace(\"Trinidad & Tobago\",\"TRINIDAD AND TOBAGO\")\n",
    "data[\"Country\"] = data[\"Country\"].str.replace(\"^(New Guinea)\",\"PAPUA NEW GUINEA\")\n",
    "data[\"Country\"] = data[\"Country\"].str.replace(\"New Britain\",\"APUA NEW GUINEA\")"
   ]
  },
  {
   "cell_type": "code",
   "execution_count": 33,
   "metadata": {},
   "outputs": [
    {
     "data": {
      "text/plain": [
       "array(['USA', 'AUSTRALIA', 'NEW CALEDONIA', 'REUNION', 'BAHAMAS', 'SPAIN',\n",
       "       'CHINA', 'JAPAN', 'COLOMBIA', 'SOUTH AFRICA', 'EGYPT',\n",
       "       'NEW ZEALAND', 'INDONESIA', 'FRENCH POLYNESIA', 'CAPE VERDE',\n",
       "       'FIJI', 'BRAZIL', 'DOMINICAN REPUBLIC', 'CAYMAN ISLANDS',\n",
       "       'UNITED ARAB EMIRATES', 'ARUBA', 'MOZAMBIQUE', 'THAILAND',\n",
       "       'PUERTO RICO', 'ITALY', 'MEXICO', 'ATLANTIC OCEAN', 'GREECE',\n",
       "       'MAURITIUS', 'UNKNOWN', 'SAINT MARTIN', 'FRANCE', 'ECUADOR',\n",
       "       'PAPUA NEW GUINEA', 'TRINIDAD & TOBAGO', 'KIRIBATI', 'ISRAEL',\n",
       "       'DIEGO GARCIA', 'TAIWAN', 'JAMAICA', 'PALESTINIAN TERRITORIES',\n",
       "       'GUAM', 'SEYCHELLES', 'BELIZE', 'PHILIPPINES', 'NIGERIA', 'TONGA',\n",
       "       'UNITED KINGDOM', 'CANADA', 'CROATIA', 'SAUDI ARABIA', 'CHILE',\n",
       "       'ANTIGUA', 'KENYA', 'RUSSIA', 'TURKS & CAICOS', 'COSTA RICA',\n",
       "       'MALAYSIA', 'SAMOA', 'AZORES', 'SOLOMON ISLANDS', 'SOUTH KOREA',\n",
       "       'MALTA', 'VIETNAM', 'MADAGASCAR', 'PANAMA', 'SOMALIA', 'NEVIS',\n",
       "       'CUBA', 'BRITISH VIRGIN ISLANDS', 'NORWAY', 'SENEGAL', 'YEMEN',\n",
       "       'GULF OF ADEN', 'SIERRA LEONE', 'GRAND CAYMAN', 'LIBERIA',\n",
       "       'VANUATU', 'HONDURAS', 'VENEZUELA', 'SRI LANKA', 'URUGUAY',\n",
       "       'INDIA', 'MICRONESIA', 'CARIBBEAN SEA', 'OKINAWA', 'TANZANIA',\n",
       "       'MARSHALL ISLANDS', 'NORTHERN ARABIAN SEA', 'HONG KONG',\n",
       "       'EL SALVADOR', 'ANGOLA', 'BERMUDA', 'MONTENEGRO', 'IRAN',\n",
       "       'TUNISIA', 'NAMIBIA', 'NORTH ATLANTIC OCEAN', 'PORTUGAL',\n",
       "       'SOUTH CHINA SEA', 'BANGLADESH', 'PALAU', 'WESTERN SAMOA',\n",
       "       'PACIFIC OCEAN', 'BRITISH ISLES', 'GRENADA', 'IRAQ', 'TURKEY',\n",
       "       'SINGAPORE', 'NEW BRITAIN', 'SUDAN', 'JOHNSTON ISLAND',\n",
       "       'SOUTH PACIFIC OCEAN', 'NEW GUINEA', 'RED SEA',\n",
       "       'NORTH PACIFIC OCEAN', 'FEDERATED STATES OF MICRONESIA',\n",
       "       'MID ATLANTIC OCEAN', 'ADMIRALTY ISLANDS', 'BRITISH WEST INDIES',\n",
       "       'SOUTH ATLANTIC OCEAN', 'PERSIAN GULF', 'NORTH SEA', 'NICARAGUA',\n",
       "       'MALDIVE ISLANDS', 'AMERICAN SAMOA', 'GABON', 'MAYOTTE',\n",
       "       'THE BALKANS', 'ARGENTINA', 'MARTINIQUE', 'INDIAN OCEAN',\n",
       "       'GUATEMALA', 'NETHERLANDS ANTILLES', 'NORTHERN MARIANA ISLANDS',\n",
       "       'JAVA', 'CENTRAL PACIFIC', 'SOUTHWEST PACIFIC OCEAN',\n",
       "       'BAY OF BENGAL', 'MIDPACIFC OCEAN', 'SLOVENIA', 'CURACAO',\n",
       "       'BARBADOS', 'MONACO', 'GUYANA', 'HAITI', 'SAN DOMINGO', 'IRELAND',\n",
       "       'KUWAIT', 'LIBYA', 'MEDITERRANEAN SEA', 'FALKLAND ISLANDS',\n",
       "       'CRETE', 'CYPRUS', 'BURMA', 'LEBANON', 'PARAGUAY',\n",
       "       'BRITISH NEW GUINEA', 'OCEAN', 'GEORGIA', 'SYRIA', 'TUVALU',\n",
       "       'GUINEA', 'EQUATORIAL GUINEA', 'COOK ISLANDS', 'ALGERIA',\n",
       "       'COAST OF AFRICA', 'TASMAN SEA', 'GHANA', 'ST HELENA', 'GREENLAND',\n",
       "       'SWEDEN', 'ICELAND', 'DJIBOUTI', 'BAHREIN', 'KOREA', 'ASIA'],\n",
       "      dtype=object)"
      ]
     },
     "execution_count": 33,
     "metadata": {},
     "output_type": "execute_result"
    }
   ],
   "source": [
    "data.Country.unique()"
   ]
  },
  {
   "cell_type": "code",
   "execution_count": 34,
   "metadata": {},
   "outputs": [
    {
     "data": {
      "text/plain": [
       "USA                 2116\n",
       "AUSTRALIA           1279\n",
       "SOUTH AFRICA         565\n",
       "PAPUA NEW GUINEA     133\n",
       "NEW ZEALAND          125\n",
       "                    ... \n",
       "KOREA                  1\n",
       "GULF OF ADEN           1\n",
       "ST HELENA              1\n",
       "MONACO                 1\n",
       "MALDIVE ISLANDS        1\n",
       "Name: Country, Length: 177, dtype: int64"
      ]
     },
     "execution_count": 34,
     "metadata": {},
     "output_type": "execute_result"
    }
   ],
   "source": [
    "data['Country'].value_counts()"
   ]
  },
  {
   "cell_type": "code",
   "execution_count": 35,
   "metadata": {},
   "outputs": [],
   "source": [
    "#Limpiando la columna de los ataques\n",
    "data[['Fatal']]= data[['Fatal']].fillna('UNKNOWN')\n",
    "data.loc[data[\"Fatal\"] == \" N\", \"Fatal\"] = \"N\"\n",
    "data.loc[data[\"Fatal\"] == \"N \", \"Fatal\"] = \"N\"\n",
    "data.loc[data[\"Fatal\"] == \"n\", \"Fatal\"] = \"N\"\n",
    "data.loc[data[\"Fatal\"] == \"F\", \"Fatal\"] = \"Y\"\n",
    "data.loc[data[\"Fatal\"] == \"#VALUE!\", \"Fatal\"] = \"UNKNOWN\"\n",
    "data.loc[data[\"Fatal\"] == \"--M524--M3133Y\", \"Fatal\"] = \"UNKNOWN\""
   ]
  },
  {
   "cell_type": "code",
   "execution_count": 36,
   "metadata": {},
   "outputs": [],
   "source": [
    "def clean_fatal(fatal):\n",
    "    if fatal == 'N' or fatal == 'Y':\n",
    "        return fatal\n",
    "    else:\n",
    "        return 'UNKNOWN'"
   ]
  },
  {
   "cell_type": "code",
   "execution_count": 37,
   "metadata": {},
   "outputs": [],
   "source": [
    "data['Fatal'] = data['Fatal'].apply(clean_fatal)"
   ]
  },
  {
   "cell_type": "code",
   "execution_count": 38,
   "metadata": {},
   "outputs": [
    {
     "data": {
      "text/plain": [
       "N          4325\n",
       "Y          1553\n",
       "UNKNOWN     114\n",
       "Name: Fatal, dtype: int64"
      ]
     },
     "execution_count": 38,
     "metadata": {},
     "output_type": "execute_result"
    }
   ],
   "source": [
    "data['Fatal'].value_counts()"
   ]
  },
  {
   "cell_type": "code",
   "execution_count": 39,
   "metadata": {},
   "outputs": [],
   "source": [
    "fatal_vals = data['Fatal'].value_counts().tolist()"
   ]
  },
  {
   "cell_type": "code",
   "execution_count": 40,
   "metadata": {},
   "outputs": [
    {
     "data": {
      "image/png": "[encoded data removed]",
      "text/plain": [
       "<Figure size 360x360 with 1 Axes>"
      ]
     },
     "metadata": {},
     "output_type": "display_data"
    }
   ],
   "source": [
    "f, ax = plt.subplots(figsize=(5, 5))\n",
    "\n",
    "labels = ['N', 'Y', 'U']\n",
    "colors = ['#E7E7E7', '#B4E1F6', '#EBF4F7']\n",
    "\n",
    "plt.pie(fatal_vals, labels=labels, colors=colors,\n",
    "        autopct='%1.1f%%', startangle=90)\n",
    " \n",
    "axis = plt.axis('equal')"
   ]
  },
  {
   "cell_type": "code",
   "execution_count": 41,
   "metadata": {},
   "outputs": [],
   "source": [
    "#Limpiando la columna del sexo\n",
    "data[['Sex']]= data[['Sex']].fillna('UNKNOWN')\n",
    "data['Sex']= data['Sex'].str.replace('lli', 'UNKNOWN')\n",
    "data['Sex']= data['Sex'].str.replace('.', 'UNKNOWN')\n",
    "data['Sex']= data['Sex'].str.replace('M ', 'M')"
   ]
  },
  {
   "cell_type": "code",
   "execution_count": 42,
   "metadata": {},
   "outputs": [],
   "source": [
    "def clean_sex(sex):\n",
    "    if sex == 'M' or sex == 'F':\n",
    "        return sex\n",
    "    else:\n",
    "        return 'UNKNOWN'"
   ]
  },
  {
   "cell_type": "code",
   "execution_count": 43,
   "metadata": {},
   "outputs": [],
   "source": [
    "data['Sex'] = data['Sex'].apply(clean_sex)"
   ]
  },
  {
   "cell_type": "code",
   "execution_count": 44,
   "metadata": {},
   "outputs": [
    {
     "data": {
      "text/plain": [
       "M          4837\n",
       "F           585\n",
       "UNKNOWN     570\n",
       "Name: Sex, dtype: int64"
      ]
     },
     "execution_count": 44,
     "metadata": {},
     "output_type": "execute_result"
    }
   ],
   "source": [
    "data['Sex'].value_counts()"
   ]
  },
  {
   "cell_type": "code",
   "execution_count": 45,
   "metadata": {},
   "outputs": [],
   "source": [
    "sex_vals = data['Sex'].value_counts().tolist()"
   ]
  },
  {
   "cell_type": "code",
   "execution_count": 46,
   "metadata": {},
   "outputs": [
    {
     "data": {
      "image/png": "[encoded data removed]",
      "text/plain": [
       "<Figure size 360x360 with 1 Axes>"
      ]
     },
     "metadata": {},
     "output_type": "display_data"
    }
   ],
   "source": [
    "f, ax = plt.subplots(figsize=(5, 5))\n",
    "\n",
    "labels = ['M', 'F', 'U']\n",
    "colors = ['#E7E7E7', '#B4E1F6', '#EBF4F7']\n",
    "\n",
    "plt.pie(sex_vals, labels=labels, colors=colors,\n",
    "        autopct='%1.1f%%', startangle=90)\n",
    "\n",
    "axis = plt.axis('equal')"
   ]
  },
  {
   "cell_type": "code",
   "execution_count": 47,
   "metadata": {},
   "outputs": [],
   "source": [
    "#Limpiando la columna de la edad\n",
    "data['Age']= data['Age'].str.replace('N/A', 'UNKNOWN')\n",
    "data['Age']= data['Age'].str.replace('X', 'UNKNOWN')\n",
    "data['Age']= data['Age'].str.replace('†', 'UNKNOWN')\n",
    "data['Age']= data['Age'].str.replace('† ', 'UNKNOWN')\n",
    "data['Age']= data['Age'].str.replace('MAKE LINE GREEN', 'UNKNOWN')\n",
    "data['Age']= data['Age'].str.replace('A.M.', 'UNKNOWN')\n",
    "data['Age']= data['Age'].str.replace('--', 'UNKNOWN')\n",
    "data.loc[data.Age=='60s', 'Age'] = '60'\n",
    "data.loc[data.Age==\"60's\", 'Age'] = '60'\n",
    "data.loc[data.Age=='50s', 'Age'] = '50' \n",
    "data.loc[data.Age=='40s', 'Age'] = '40'\n",
    "data.loc[data.Age=='30s', 'Age'] = '30' \n",
    "data.loc[data.Age=='20s', 'Age'] = '20' \n",
    "data.loc[data.Age=='Teen', 'Age'] = '15'\n",
    "data.loc[data.Age== 'teen', 'Age'] = '15'\n",
    "data.loc[data.Age=='Teens', 'Age'] = '15'\n",
    "data.loc[data.Age=='18 months', 'Age'] = '1'\n",
    "data.loc[data.Age=='M', 'Age'] = 'UNKNOWN'\n",
    "data.loc[data.Age=='F', 'Age'] = 'UNKNOWN'\n",
    "data.loc[data.Age== 'mid-30s', 'Age'] = '35'\n",
    "data.loc[data.Age=='28 & 26', 'Age'] = '27'\n",
    "data.loc[data.Age=='18 or 20', 'Age'] = '19'\n",
    "data.loc[data.Age=='12 or 13', 'Age'] = '13'\n",
    "data.loc[data.Age=='46 & 34', 'Age'] = '40'\n",
    "data.loc[data.Age=='28, 23 & 30', 'Age'] = '27'\n",
    "data.loc[data.Age=='30 or 36', 'Age'] = '33'\n",
    "data.loc[data.Age=='6½', 'Age'] = '6'\n",
    "data.loc[data.Age=='23 & 20', 'Age'] = '21'\n",
    "data.loc[data.Age=='8 or 10', 'Age'] = '9'\n",
    "data.loc[data.Age=='7      &    31', 'Age'] = '31'\n",
    "data.loc[data.Age=='20?', 'Age'] = '20'\n",
    "data.loc[data.Age=='21 & ?', 'Age'] = '21'\n",
    "data.loc[data.Age=='36 & 26', 'Age'] = '31'\n",
    "data.loc[data.Age=='32 & 30', 'Age'] = '31'\n",
    "data.loc[data.Age=='33 or 37', 'Age'] = '35'\n",
    "data.loc[data.Age=='16 to 18', 'Age'] = '17'\n",
    "data.loc[data.Age=='13 or 18', 'Age'] = '15'\n",
    "data.loc[data.Age==' ', 'Age'] = 'UNKNOWN'\n",
    "data.loc[data.Age==' 30', 'Age'] = '30'\n",
    "data.loc[data.Age=='mid-20s', 'Age'] = '25'\n",
    "data.loc[data.Age=='18 to 22', 'Age'] = '20'\n",
    "data.loc[data.Age=='Ca. 33', 'Age'] = '33'\n",
    "data.loc[data.Age=='74 ', 'Age'] = '74'\n",
    "data.loc[data.Age=='45 ', 'Age'] = '45'\n",
    "data.loc[data.Age=='21 or 26', 'Age'] = '24'\n",
    "data.loc[data.Age=='20 ', 'Age'] = '20'\n",
    "data.loc[data.Age=='>50', 'Age'] = '51'\n",
    "data.loc[data.Age=='>50', 'Age'] = '51'\n",
    "data.loc[data.Age=='9 & 12', 'Age'] = '11'\n",
    "data.loc[data.Age=='? & 19', 'Age'] = '19'\n",
    "data.loc[data.Age=='9 months', 'Age'] = '1'\n",
    "data.loc[data.Age=='25 to 35', 'Age'] = '30'\n",
    "data.loc[data.Age=='23 & 26', 'Age'] = '24'\n",
    "data.loc[data.Age=='33 & 37', 'Age'] = '35'\n",
    "data.loc[data.Age=='25 or 28', 'Age'] = '27'\n",
    "data.loc[data.Age=='37, 67, 35, 27,  ? & 27', 'Age'] = '39'\n",
    "data.loc[data.Age=='21, 34,24 & 35', 'Age'] = '30'\n",
    "data.loc[data.Age=='30 & 32', 'Age'] = '31'\n",
    "data.loc[data.Age=='50 & 30', 'Age'] = '40'\n",
    "data.loc[data.Age=='17 & 35', 'Age'] = '26'\n",
    "data.loc[data.Age=='34 & 19', 'Age'] = '26'\n",
    "data.loc[data.Age=='2 to 3 months', 'Age'] = '0'\n",
    "data.loc[data.Age=='7 or 8', 'Age'] = '7'\n",
    "data.loc[data.Age=='17 & 16', 'Age'] = '16'\n",
    "data.loc[data.Age=='Both 11', 'Age'] = '11'\n",
    "data.loc[data.Age=='13 or 14', 'Age'] = '13'\n",
    "data.loc[data.Age=='2½', 'Age'] = '2'\n",
    "data.loc[data.Age==' 43', 'Age'] = '43'\n",
    "data.loc[data.Age=='9 or 10', 'Age'] = '10'\n",
    "data.loc[data.Age=='36 & 23', 'Age'] = '30'\n",
    "data.loc[data.Age=='  ', 'Age'] = 'UNKNOWN'\n",
    "data.loc[data.Age=='10 or 12', 'Age'] = '10'\n",
    "data.loc[data.Age=='?    &   14', 'Age'] = '14'\n",
    "data.loc[data.Age=='31 or 33', 'Age'] = '32'\n",
    "data.loc[data.Age=='Elderly', 'Age'] = '70'\n",
    "data.loc[data.Age=='(adult)', 'Age'] = '40'\n",
    "data.loc[data.Age=='adult', 'Age'] = '40'\n",
    "data.loc[data.Age=='\"middle-age\"', 'Age'] = '50'\n",
    "data.loc[data.Age=='\"young\"', 'Age'] = '20'\n",
    "data.loc[data.Age=='young', 'Age'] = '20'\n",
    "data['Age'].fillna(0, inplace=True)"
   ]
  },
  {
   "cell_type": "code",
   "execution_count": 48,
   "metadata": {},
   "outputs": [],
   "source": [
    "def clean_age(age):\n",
    "    try:\n",
    "        age = int(age)\n",
    "    except ValueError:\n",
    "        age = 0\n",
    "    if (age > 0 and age <= 100):\n",
    "        return age\n",
    "    else:\n",
    "        return np.nan"
   ]
  },
  {
   "cell_type": "code",
   "execution_count": 49,
   "metadata": {},
   "outputs": [],
   "source": [
    "data['Age'] = data['Age'].apply(clean_age)"
   ]
  },
  {
   "cell_type": "code",
   "execution_count": 50,
   "metadata": {},
   "outputs": [
    {
     "data": {
      "text/plain": [
       "array([16., 36., 43., nan, 60., 51., 50., 12.,  9., 22., 25., 37., 20.,\n",
       "       49., 15., 21., 40., 72., 18., 29., 31., 11., 10., 59., 42., 34.,\n",
       "       35., 19.,  6., 27., 64., 23., 52., 13., 57., 48., 39., 24., 26.,\n",
       "       69., 46., 41., 45., 65., 38., 71., 32., 58., 28., 54., 44., 14.,\n",
       "        7., 62., 68., 47., 17., 30., 63., 70.,  1., 53., 33.,  8., 61.,\n",
       "       55., 66., 77., 74.,  3., 56.,  5., 86., 84., 75., 73., 87., 67.,\n",
       "       81., 78.])"
      ]
     },
     "execution_count": 50,
     "metadata": {},
     "output_type": "execute_result"
    }
   ],
   "source": [
    "data.Age.unique()"
   ]
  },
  {
   "cell_type": "code",
   "execution_count": 51,
   "metadata": {},
   "outputs": [
    {
     "data": {
      "text/plain": [
       "15.0    150\n",
       "17.0    149\n",
       "20.0    147\n",
       "18.0    145\n",
       "19.0    140\n",
       "       ... \n",
       "84.0      1\n",
       "87.0      1\n",
       "67.0      1\n",
       "86.0      1\n",
       "81.0      1\n",
       "Name: Age, Length: 79, dtype: int64"
      ]
     },
     "execution_count": 51,
     "metadata": {},
     "output_type": "execute_result"
    }
   ],
   "source": [
    "data['Age'].value_counts()"
   ]
  },
  {
   "cell_type": "code",
   "execution_count": 52,
   "metadata": {},
   "outputs": [
    {
     "data": {
      "image/png": "[encoded data removed]",
      "text/plain": [
       "<Figure size 576x432 with 1 Axes>"
      ]
     },
     "metadata": {
      "needs_background": "light"
     },
     "output_type": "display_data"
    }
   ],
   "source": [
    "fig, ax = plt.subplots(figsize=(8, 6))\n",
    "\n",
    "sns.distplot(data['Age'].dropna(), hist_kws={\"alpha\": 1, \"color\": \"#295A83\"}, kde=False, bins=15)\n",
    "\n",
    "ax = ax.set(ylabel=\"Count\", xlabel=\"Age\")"
   ]
  },
  {
   "cell_type": "code",
   "execution_count": 53,
   "metadata": {},
   "outputs": [],
   "source": [
    "data['Age'].fillna('UNKNOWN', inplace=True)"
   ]
  },
  {
   "cell_type": "code",
   "execution_count": 54,
   "metadata": {},
   "outputs": [],
   "source": [
    "#Limpiando la columna de las actividades\n",
    "data[['Activity']]= data[['Activity']].fillna('UNKNOWN')\n",
    "data['Activity']= data['Activity'].str.replace('.', 'UNKNOWN')"
   ]
  },
  {
   "cell_type": "code",
   "execution_count": 55,
   "metadata": {},
   "outputs": [],
   "source": [
    "def clean_act(x):\n",
    "    if isinstance(x, str):\n",
    "        x = x.lower()\n",
    "        if 'surfing' in x:\n",
    "            return \"Surfing\"\n",
    "        elif 'swimming' in x:\n",
    "            return \"Swimming\"\n",
    "        elif 'fishing' in x:\n",
    "            return \"Fishing\"\n",
    "        elif 'bathing' in x:\n",
    "            return \"Bathing\"\n",
    "        elif 'wading' in x:\n",
    "            return \"Wading\"\n",
    "        elif 'diving'or 'free' in x:\n",
    "            return \"Diving\"\n",
    "        elif 'yacht' in x:\n",
    "            return \"Yacht\"\n",
    "        else:\n",
    "            return \"UNKNOWN\"\n",
    "    else:\n",
    "        return \"UNKNOWN\"\n",
    "       \n",
    "data[\"Activity\"] = data[\"Activity\"].apply(lambda x: clean_act(x))"
   ]
  },
  {
   "cell_type": "code",
   "execution_count": 56,
   "metadata": {},
   "outputs": [
    {
     "data": {
      "text/plain": [
       "Diving      2420\n",
       "Fishing     1122\n",
       "Swimming    1056\n",
       "Surfing     1054\n",
       "Bathing      180\n",
       "Wading       160\n",
       "Name: Activity, dtype: int64"
      ]
     },
     "execution_count": 56,
     "metadata": {},
     "output_type": "execute_result"
    }
   ],
   "source": [
    "data['Activity'].value_counts()"
   ]
  },
  {
   "cell_type": "code",
   "execution_count": 57,
   "metadata": {},
   "outputs": [],
   "source": [
    "popular_activities = Counter(data['Activity'].tolist()).most_common(20)\n",
    "activities = [actv_list[0] for actv_list in popular_activities]\n",
    "counts = [actv_list[1] for actv_list in popular_activities]"
   ]
  },
  {
   "cell_type": "code",
   "execution_count": 58,
   "metadata": {},
   "outputs": [
    {
     "data": {
      "image/png": "[encoded data removed]",
      "text/plain": [
       "<Figure size 864x360 with 1 Axes>"
      ]
     },
     "metadata": {
      "needs_background": "light"
     },
     "output_type": "display_data"
    }
   ],
   "source": [
    "fig, ax = plt.subplots(figsize=(12, 5))\n",
    "\n",
    "sns.barplot(x=activities, y=counts, color='#295A83', ax=ax)\n",
    "ax.set(ylabel=\"Attacks Count\", xlabel=\"Activities\")\n",
    "\n",
    "ticks = plt.setp(ax.get_xticklabels(), rotation=60, fontsize=9)"
   ]
  },
  {
   "cell_type": "code",
   "execution_count": 59,
   "metadata": {},
   "outputs": [],
   "source": [
    "#Corrigiendo errores de la columna date   \n",
    "def clean_date(date):\n",
    "    months = ['Jan', 'Feb', 'Mar', 'Apr', 'May', 'Jun', 'Jul', 'Aug', 'Sep', 'Oct', 'Nov', 'Dec']\n",
    "    num_months = ['01', '02', '03', '04', '05', '06', '07', '08', '09', '10', '11', '12']\n",
    "    \n",
    "    date = str(date)\n",
    "    if (len(date) == 11 and date[2] == '-'):\n",
    "        for i in range(len(months)):\n",
    "            date = date.replace(months[i], num_months[i])\n",
    "        return date\n",
    "    else:\n",
    "        return np.nan"
   ]
  },
  {
   "cell_type": "code",
   "execution_count": 60,
   "metadata": {},
   "outputs": [],
   "source": [
    "data['Date'] = data['Date'].apply(clean_date)"
   ]
  },
  {
   "cell_type": "code",
   "execution_count": 61,
   "metadata": {},
   "outputs": [],
   "source": [
    "dates = pd.to_datetime(data['Date'], dayfirst=True, errors='coerce')"
   ]
  },
  {
   "cell_type": "code",
   "execution_count": 62,
   "metadata": {},
   "outputs": [],
   "source": [
    "days = dates.map(lambda x: x.day)\n",
    "days_counter = Counter(days)\n",
    "days_keys = list(days_counter.keys())\n",
    "days_values = list(days_counter.values())"
   ]
  },
  {
   "cell_type": "code",
   "execution_count": 63,
   "metadata": {},
   "outputs": [],
   "source": [
    "months = dates.map(lambda x: x.month)\n",
    "\n",
    "def season(month):\n",
    "    if month >= 3 and month <= 5:\n",
    "        return 'primavera'\n",
    "    elif month >= 6 and month <= 8:\n",
    "        return 'verano'\n",
    "    elif month >= 9 and month <= 11:\n",
    "        return 'otoño'\n",
    "    else:\n",
    "        return 'invierno'\n",
    "\n",
    "months_labels = months.apply(season)\n",
    "\n",
    "months_counter = Counter(months_labels)\n",
    "months_keys = list(months_counter.keys())\n",
    "months_values = list(months_counter.values())"
   ]
  },
  {
   "cell_type": "code",
   "execution_count": 64,
   "metadata": {},
   "outputs": [
    {
     "data": {
      "image/png": "[encoded data removed]",
      "text/plain": [
       "<Figure size 720x144 with 1 Axes>"
      ]
     },
     "metadata": {
      "needs_background": "light"
     },
     "output_type": "display_data"
    }
   ],
   "source": [
    "fig, ax = plt.subplots(figsize=(10, 2))\n",
    "sns.barplot(x=days_keys, y=days_values, color='#B4E1F6', ax=ax)\n",
    "ax = ax.set(ylabel=\"Attacks Count\", xlabel=\"Day\")"
   ]
  },
  {
   "cell_type": "code",
   "execution_count": 65,
   "metadata": {},
   "outputs": [
    {
     "data": {
      "image/png": "[encoded data removed]",
      "text/plain": [
       "<Figure size 432x216 with 1 Axes>"
      ]
     },
     "metadata": {
      "needs_background": "light"
     },
     "output_type": "display_data"
    }
   ],
   "source": [
    "fig, ax = plt.subplots(figsize=(6, 3))\n",
    "sns.barplot(x=months_keys, y=months_values, color='#B4E1F6', ax=ax)\n",
    "ax = ax.set(ylabel=\"Attacks Count\", xlabel=\"Month\")"
   ]
  },
  {
   "cell_type": "code",
   "execution_count": 66,
   "metadata": {},
   "outputs": [
    {
     "data": {
      "text/plain": [
       "08-08-1899    3\n",
       "26-07-1885    3\n",
       "12-11-1882    2\n",
       "02-09-1878    2\n",
       "08-06-1849    2\n",
       "             ..\n",
       "11-09-1887    1\n",
       "15-08-1899    1\n",
       "04-12-1887    1\n",
       "28-10-1898    1\n",
       "13-07-1862    1\n",
       "Name: Date, Length: 225, dtype: int64"
      ]
     },
     "execution_count": 66,
     "metadata": {},
     "output_type": "execute_result"
    }
   ],
   "source": [
    "data['Date'].value_counts()"
   ]
  },
  {
   "cell_type": "code",
   "execution_count": 67,
   "metadata": {},
   "outputs": [
    {
     "data": {
      "text/plain": [
       "array([nan, ' 2-07-1997', '18-12-1899', '20-11-1899', '15-08-1899',\n",
       "       '08-08-1899', '07-06-1899', '28-05-1899', '28-01-1899',\n",
       "       '28-10-1898', '22-08-1898', '15-07-1898', '14-07-1898',\n",
       "       '22-06-1898', '13-04-1898', '15-10-1897', '17-09-1897',\n",
       "       '06-09-1897', '21-07-1897', '09-06-1897', '23-12p1896',\n",
       "       '20-12-1896', '29-11-1896', '01-11-1896', '25-07-1896',\n",
       "       '09-12-1895', '16-11-1895', '18-09-1895', '11-08-1895',\n",
       "       '21-05-1895', '03-05-1895', '29-04-1895', '23-04-1895',\n",
       "       '15-03-1895', '27-02-1895', '11-12-1894', '28-11-1894',\n",
       "       '21-08-1894', '01-08-1894', '29-06-1894', '25-06-1894',\n",
       "       '16-10-1893', '03-07-1893', '22-06-1893', '17-05-1893',\n",
       "       '14-04-1893', '04-04-1893', '15-12-1892', '06-11-1892',\n",
       "       '24-06-1892', '02-03-1892', '29-08-1891', '11-06-1891',\n",
       "       '10-03-1891', '30-12-1890', '14-05-1890', '25-02-1890',\n",
       "       '22-11-1889', '16-11-1889', '21-07-1889', '08-07-1889',\n",
       "       '09-12-1888', '14-08-1888', '04-07-1888', '24-06-1888',\n",
       "       '17-02-1888', '22-01-1888', '04-12-1887', '18-10-1887',\n",
       "       '22-09-1887', '11-09-1887', '12-03-1887', '08-02-1887',\n",
       "       '20-01-1887', '12-01-1887', '17-06-1886', '02-06-1886',\n",
       "       '06-05-1886', '26-04-1886', '11-04-1886', '13-02-1886',\n",
       "       '28-01-1886', '26-01-1886', '01-01-1886', '26-11-1885',\n",
       "       '17-08-1885', '26-07-1885', '09-04-1885', '28-03-1885',\n",
       "       '13-12-1884', '18-08-1884', '16-01-1884', '14-01-1884',\n",
       "       '19-12-1883', '05-07-1883', '21-01-1883', '03-12-1882',\n",
       "       '12-11-1882', '14-05-1882', '15-04-1882', '13-11-1881',\n",
       "       '16-10-1881', '05-09-1881', '12-08-1881', '25-Jut-1881',\n",
       "       '13-06-1881', '25-11-1880', '10-10-1880', '08-08-1880',\n",
       "       '25-07-1880', '15-05-1880', '14-05-1880', '02-05-1880',\n",
       "       '22-01-1880', '03-01-1880', '24-12-1879', '10-11-1879',\n",
       "       '19-03-1879', '10-03-1879', '17-11-1878', '13-10-1878',\n",
       "       '02-09-1878', '09-08-1878', '08-08-1878', '13-02-1878',\n",
       "       '15-12-1877', '12-12-1877', '15-09-1877', '04-04-1877',\n",
       "       '16-03-1877', '04-01-1877', '14-05-1876', '06-02-1876',\n",
       "       '10-08-1875', '03-03-1875', '21-11-1874', '14-11-1874',\n",
       "       '23-07-1874', '15-07-1874', '28-07-1873', '24-11-1872',\n",
       "       '26-02-1872', '28-01-1872', '24-03-1871', '27-07-1870',\n",
       "       '19-06-1870', '01-06-1870', '18-05-1870', '11-05-1870',\n",
       "       '09-01-1870', '10-04-1869', '01-09-1868', '13-05-1868',\n",
       "       '17-01-1868', '26-06-1867', '02-09-1865', '12-08-1864',\n",
       "       '25-07-1864', '02-01-1864', '14-12-1863', '05-03-1863',\n",
       "       '05-02-1863', '10-01-1863', '22-12-1862', '04-12-1862',\n",
       "       '25-07-1862', '14-07-1862', '13-07-1862', '03-06-1862',\n",
       "       '05-05-1862', '10-11-1861', '26-12-1860', '01-08-1860',\n",
       "       '27-03-1860', '11-03-1860', '16-03-1859', '31-08-1858',\n",
       "       '29-08-1858', '14-03-1858', '30-11-1856', '06-02-1856',\n",
       "       '11-11-1855', '30-09-1855', '28-07-1855', '28-03-1855',\n",
       "       '08-11-1853', '19-12-1852', '07-08-1852', '24-05-1852',\n",
       "       '26-02-1852', '09-12-1849', '01-12-1849', '19-09-1849',\n",
       "       '08-06-1849', '27-01-1849', '31-08-1848', '30-11-1847',\n",
       "       '19-07-1847', '11-03-1847', '08-12-1846', '26-12-1845',\n",
       "       '20-07-1844', '24-05-1844', '06-07-1842', '27-03-1841',\n",
       "       '17-11-1839', '14-04-1839', '09-09-1837', '17-01-1837',\n",
       "       '06-01-1835', '04-06-1832', '26-07-1830', '30-04-1830',\n",
       "       '28-09-1828', '28-08-1826', '15-04-1822', '24-06-1817',\n",
       "       '15-06-1817', '11-05-1817', '22-02-1817', '01-03-1811',\n",
       "       '12-01-1807', '10-05-1788', '05-07-1787', '17-12-1742',\n",
       "       '26-03-1703'], dtype=object)"
      ]
     },
     "execution_count": 67,
     "metadata": {},
     "output_type": "execute_result"
    }
   ],
   "source": [
    "data['Date'].unique()"
   ]
  },
  {
   "cell_type": "code",
   "execution_count": 68,
   "metadata": {},
   "outputs": [],
   "source": [
    "data['Year']= data['Year'].fillna('UNKNOWN')"
   ]
  },
  {
   "cell_type": "code",
   "execution_count": 69,
   "metadata": {},
   "outputs": [],
   "source": [
    "def clean_year(year):\n",
    "    if year > int(1000): \n",
    "        return year\n",
    "    else:\n",
    "        return 'UNKNOWN'"
   ]
  },
  {
   "cell_type": "code",
   "execution_count": 70,
   "metadata": {},
   "outputs": [],
   "source": [
    "data['Year'] = data['Year'].apply(clean_year)"
   ]
  },
  {
   "cell_type": "code",
   "execution_count": 71,
   "metadata": {},
   "outputs": [
    {
     "data": {
      "text/plain": [
       "2015       139\n",
       "2011       128\n",
       "UNKNOWN    127\n",
       "2014       125\n",
       "2013       122\n",
       "          ... \n",
       "1800         1\n",
       "1791         1\n",
       "1788         1\n",
       "1787         1\n",
       "1834         1\n",
       "Name: Year, Length: 229, dtype: int64"
      ]
     },
     "execution_count": 71,
     "metadata": {},
     "output_type": "execute_result"
    }
   ],
   "source": [
    "data['Year'].value_counts()"
   ]
  },
  {
   "cell_type": "code",
   "execution_count": 72,
   "metadata": {},
   "outputs": [],
   "source": [
    "data[['Injury']]= data[['Injury']].fillna('UNKNOWN')"
   ]
  },
  {
   "cell_type": "code",
   "execution_count": 73,
   "metadata": {},
   "outputs": [],
   "source": [
    "activity_injury = data['Injury'].tolist()"
   ]
  },
  {
   "cell_type": "code",
   "execution_count": 74,
   "metadata": {},
   "outputs": [
    {
     "data": {
      "text/plain": [
       "['Minor injury to thigh',\n",
       " 'Lacerations to hands',\n",
       " 'Lacerations to lower leg',\n",
       " 'Struck by fin on chest & leg',\n",
       " 'No injury: Knocked off board by shark',\n",
       " 'Shark rammed boat. No injury to occupant',\n",
       " 'Minor injury to arm',\n",
       " 'Severe lacerations to shoulder & forearm',\n",
       " 'FATAL',\n",
       " 'Lacerations & punctures to lower right leg']"
      ]
     },
     "execution_count": 74,
     "metadata": {},
     "output_type": "execute_result"
    }
   ],
   "source": [
    "activity_injury[:10]"
   ]
  },
  {
   "cell_type": "code",
   "execution_count": 75,
   "metadata": {},
   "outputs": [
    {
     "data": {
      "text/plain": [
       "FATAL                                                                                             729\n",
       "Survived                                                                                           97\n",
       "Foot bitten                                                                                        82\n",
       "No injury                                                                                          77\n",
       "Leg bitten                                                                                         71\n",
       "                                                                                                 ... \n",
       "Minor cuts to right buttock & thigh                                                                 1\n",
       "No injury, diver shot shark & it bit his speargun PROVOKED INCIDENT                                 1\n",
       "No injury but shark punctured his wetsuit after he prodded it with his spear PROVOKED INCIDENT      1\n",
       "FATAL, hand & leg severely injured by shark that leapt into boat                                    1\n",
       "No injury to occupant Shark struck boat                                                             1\n",
       "Name: Injury, Length: 3596, dtype: int64"
      ]
     },
     "execution_count": 75,
     "metadata": {},
     "output_type": "execute_result"
    }
   ],
   "source": [
    "data['Injury'].value_counts()"
   ]
  },
  {
   "cell_type": "code",
   "execution_count": 76,
   "metadata": {},
   "outputs": [],
   "source": [
    "data[['Investigator']]= data[['Investigator']].fillna('UNKNOWN')"
   ]
  },
  {
   "cell_type": "code",
   "execution_count": 77,
   "metadata": {},
   "outputs": [
    {
     "data": {
      "text/plain": [
       "C. Moore, GSAF                                             94\n",
       "S. Petersohn, GSAF                                         82\n",
       "C. Creswell, GSAF                                          81\n",
       "R. Collier                                                 54\n",
       "T. Peake, GSAF                                             48\n",
       "                                                           ..\n",
       "D. Miller & R. Collier; R. Collier, pp.32-33                1\n",
       "J. Waters, U.S. Coast Guard; San Mateo Times, 10/5/1951     1\n",
       "Big Piney Examiner, 12/9/1915                               1\n",
       "Beeld, 12/29/2009                                           1\n",
       "News Tribune, 6/28/1964                                     1\n",
       "Name: Investigator, Length: 4753, dtype: int64"
      ]
     },
     "execution_count": 77,
     "metadata": {},
     "output_type": "execute_result"
    }
   ],
   "source": [
    "data['Investigator'].value_counts()"
   ]
  },
  {
   "cell_type": "code",
   "execution_count": 78,
   "metadata": {},
   "outputs": [],
   "source": [
    "def clean_invest(x):\n",
    "    if isinstance(x, str):\n",
    "        x = x.lower()\n",
    "        if 'moore' in x:\n",
    "            return \"C. Moore\"\n",
    "        elif 'sohn' in x:\n",
    "            return \"S. Petersohn\"\n",
    "        elif 'well' in x:\n",
    "            return \"C. Creswell\"\n",
    "        elif 'collier' in x:\n",
    "            return \"R. Collier\"\n",
    "        elif 'peak' in x:\n",
    "            return \"T. Peake\"\n",
    "        elif 'leaklye' in x:\n",
    "            return \"A. Bleaklye\"\n",
    "        elif 'renneka' in x:\n",
    "            return \"A. Brenneka\"\n",
    "        elif 'ddalena' in x:\n",
    "            return \"A. de Maddalena\"\n",
    "        elif 'apson' in x:\n",
    "            return \"A. M. Rapson\"\n",
    "        elif 'isbane' in x:\n",
    "            return \"Brisbane Courier\"\n",
    "        elif 'arpe' in x:\n",
    "            return \"A. Sharpe\"\n",
    "        elif 'lack' in x:\n",
    "            return \"C. Black\"\n",
    "        elif 'oday' in x:\n",
    "            return \"Florida Today\"\n",
    "        elif 'arter' in x:\n",
    "            return \"G. Carter\"\n",
    "        elif 'ouvelles' in x:\n",
    "            return \"Les Nouvelles Caledoniennes\"\n",
    "        else:\n",
    "            return \"UNKNOWN\"\n",
    "    else:\n",
    "        return \"UNKNOWN\"\n",
    "       \n",
    "data[\"Investigator\"] = data[\"Investigator\"].apply(lambda x: clean_invest(x))"
   ]
  },
  {
   "cell_type": "code",
   "execution_count": 79,
   "metadata": {},
   "outputs": [
    {
     "data": {
      "text/plain": [
       "array(['UNKNOWN', 'Les Nouvelles Caledoniennes', 'C. Creswell',\n",
       "       'R. Collier', 'C. Black', 'Florida Today', 'A. de Maddalena',\n",
       "       'A. Brenneka', 'Brisbane Courier', 'T. Peake', 'S. Petersohn',\n",
       "       'A. Sharpe', 'G. Carter', 'C. Moore', 'A. M. Rapson'], dtype=object)"
      ]
     },
     "execution_count": 79,
     "metadata": {},
     "output_type": "execute_result"
    }
   ],
   "source": [
    "data.Investigator.unique()"
   ]
  },
  {
   "cell_type": "code",
   "execution_count": 80,
   "metadata": {},
   "outputs": [
    {
     "data": {
      "text/plain": [
       "UNKNOWN                        4765\n",
       "R. Collier                      247\n",
       "S. Petersohn                    178\n",
       "C. Creswell                     167\n",
       "C. Moore                        152\n",
       "A. Sharpe                        97\n",
       "A. M. Rapson                     69\n",
       "T. Peake                         67\n",
       "Brisbane Courier                 55\n",
       "C. Black                         39\n",
       "A. de Maddalena                  37\n",
       "Florida Today                    35\n",
       "G. Carter                        32\n",
       "A. Brenneka                      29\n",
       "Les Nouvelles Caledoniennes      23\n",
       "Name: Investigator, dtype: int64"
      ]
     },
     "execution_count": 80,
     "metadata": {},
     "output_type": "execute_result"
    }
   ],
   "source": [
    "data['Investigator'].value_counts()"
   ]
  },
  {
   "cell_type": "code",
   "execution_count": 81,
   "metadata": {},
   "outputs": [
    {
     "data": {
      "image/png": "[encoded data removed]",
      "text/plain": [
       "<Figure size 432x288 with 1 Axes>"
      ]
     },
     "metadata": {
      "needs_background": "light"
     },
     "output_type": "display_data"
    }
   ],
   "source": [
    "Investigators = [1,2,3,4,5]\n",
    "Mentions = [247, 178, 167, 152, 97]\n",
    "\n",
    "LABELS = [\"Collier\", \"Petersohn\", \"Creswell\", \"Moore\", \"Sharpe\",]\n",
    "\n",
    "plt.bar(Investigators, Mentions, align='center')\n",
    "plt.xticks(Investigators, LABELS)\n",
    "plt.show()"
   ]
  },
  {
   "cell_type": "code",
   "execution_count": 82,
   "metadata": {},
   "outputs": [],
   "source": [
    "data['Time']= data['Time'].fillna('UNKNOWN')\n",
    "data['Time']= data['Time'].str.replace('X', 'UNKNOWN')\n",
    "data['Time']= data['Time'].str.replace('†', 'UNKNOWN')\n",
    "data['Time']= data['Time'].str.replace('† ', 'UNKNOWN')"
   ]
  },
  {
   "cell_type": "code",
   "execution_count": 83,
   "metadata": {},
   "outputs": [
    {
     "data": {
      "text/plain": [
       "UNKNOWN        3214\n",
       "Afternoon       174\n",
       "11h00           123\n",
       "12h00           107\n",
       "Morning         107\n",
       "               ... \n",
       "15h05             1\n",
       "10h16             1\n",
       "\"Night\"           1\n",
       "19h00-20h00       1\n",
       "830               1\n",
       "Name: Time, Length: 357, dtype: int64"
      ]
     },
     "execution_count": 83,
     "metadata": {},
     "output_type": "execute_result"
    }
   ],
   "source": [
    "data['Time'].value_counts()"
   ]
  },
  {
   "cell_type": "code",
   "execution_count": 84,
   "metadata": {},
   "outputs": [],
   "source": [
    "data[['Name']]= data[['Name']].fillna('UNKNOWN')"
   ]
  },
  {
   "cell_type": "code",
   "execution_count": 85,
   "metadata": {},
   "outputs": [
    {
     "data": {
      "text/plain": [
       "male                  495\n",
       "UNKNOWN               200\n",
       "female                 85\n",
       "boy                    23\n",
       "boat                   14\n",
       "                     ... \n",
       "Brian Cramer            1\n",
       "Steve Rosebloome        1\n",
       "a fisherman             1\n",
       "Leon Ritson Hermes      1\n",
       "Jana Lutteropp          1\n",
       "Name: Name, Length: 5010, dtype: int64"
      ]
     },
     "execution_count": 85,
     "metadata": {},
     "output_type": "execute_result"
    }
   ],
   "source": [
    "data['Name'].value_counts()"
   ]
  },
  {
   "cell_type": "code",
   "execution_count": 86,
   "metadata": {},
   "outputs": [],
   "source": [
    "#limpiando la columna de especies\n",
    "def clean_species(x):\n",
    "    if isinstance(x, str):\n",
    "        x = x.lower()\n",
    "        if 'white' in x:\n",
    "            return \"White Shark\"\n",
    "        elif 'tiger' in x:\n",
    "            return \"Tiger Shark\"\n",
    "        elif 'lemon' in x:\n",
    "            return \"Lemon Shark\"\n",
    "        elif 'mako' in x:\n",
    "            return \"Mako Shark\"\n",
    "        elif 'nurse' in x:\n",
    "            return \"Nurse Shark\"\n",
    "        elif 'grey' in x:\n",
    "            return \"Grey Reef Shark\"\n",
    "        elif 'copper' in x:\n",
    "            return \"Copper Shark\"\n",
    "        elif 'hammerhead' in x:\n",
    "            return \"Hammerhead Shark\"\n",
    "        elif 'wobbegong' in x:\n",
    "            return \"Wobbegong Shark\"\n",
    "        elif 'blacktip' in x:\n",
    "            return \"Blacktip Shark\"\n",
    "        elif 'caribbean' in x:\n",
    "            return \"Caribbean Reef Shark\"\n",
    "        elif 'blue'or 'porbeagle' in x:\n",
    "            return \"Blue Shark\"\n",
    "        elif 'dusky' in x:\n",
    "            return \"Dusky Shark\"\n",
    "        elif 'bull' in x:\n",
    "            return \"Bull Shark\"\n",
    "        elif 'zambesi' in x:\n",
    "            return \"Zambesi Shark\"\n",
    "        elif 'cocktail' in x:\n",
    "            return \"Cocktail Shark\"\n",
    "        elif 'vertiser' in x:\n",
    "            return \"The Advertiser\"\n",
    "        else:\n",
    "            return \"UNKNOWN\"\n",
    "    else:\n",
    "        return \"UNKNOWN\"\n",
    "       \n",
    "data[\"Species\"] = data[\"Species\"].apply(lambda x: clean_species(x))"
   ]
  },
  {
   "cell_type": "code",
   "execution_count": 87,
   "metadata": {},
   "outputs": [
    {
     "data": {
      "text/plain": [
       "UNKNOWN                 2934\n",
       "Blue Shark              1704\n",
       "White Shark              646\n",
       "Tiger Shark              282\n",
       "Blacktip Shark           102\n",
       "Nurse Shark               93\n",
       "Mako Shark                56\n",
       "Hammerhead Shark          48\n",
       "Wobbegong Shark           45\n",
       "Lemon Shark               34\n",
       "Grey Reef Shark           25\n",
       "Caribbean Reef Shark      17\n",
       "Copper Shark               6\n",
       "Name: Species, dtype: int64"
      ]
     },
     "execution_count": 87,
     "metadata": {},
     "output_type": "execute_result"
    }
   ],
   "source": [
    "data['Species'].value_counts()"
   ]
  },
  {
   "cell_type": "code",
   "execution_count": 88,
   "metadata": {},
   "outputs": [
    {
     "data": {
      "text/plain": [
       "array(['UNKNOWN', 'Blue Shark', 'Tiger Shark', 'White Shark',\n",
       "       'Blacktip Shark', 'Nurse Shark', 'Lemon Shark',\n",
       "       'Caribbean Reef Shark', 'Mako Shark', 'Wobbegong Shark',\n",
       "       'Grey Reef Shark', 'Hammerhead Shark', 'Copper Shark'],\n",
       "      dtype=object)"
      ]
     },
     "execution_count": 88,
     "metadata": {},
     "output_type": "execute_result"
    }
   ],
   "source": [
    "data.Species.unique()"
   ]
  },
  {
   "cell_type": "code",
   "execution_count": 89,
   "metadata": {},
   "outputs": [
    {
     "data": {
      "image/png": "[encoded data removed]",
      "text/plain": [
       "<Figure size 432x288 with 1 Axes>"
      ]
     },
     "metadata": {
      "needs_background": "light"
     },
     "output_type": "display_data"
    }
   ],
   "source": [
    "Sharks = [1,2,3,4,5]\n",
    "Attacks = [1704, 646, 282, 102, 93]\n",
    "\n",
    "LABELS = [\"Blue\", \"White\", \"Tiger\", \"Blacktip\", \"Nurse\",]\n",
    "\n",
    "plt.bar(Sharks, Attacks, align='center')\n",
    "plt.xticks(Sharks, LABELS)\n",
    "plt.show()"
   ]
  },
  {
   "cell_type": "code",
   "execution_count": 90,
   "metadata": {},
   "outputs": [
    {
     "data": {
      "text/plain": [
       "Date    5759\n",
       "dtype: int64"
      ]
     },
     "execution_count": 90,
     "metadata": {},
     "output_type": "execute_result"
    }
   ],
   "source": [
    "null_cols = data.isnull().sum()\n",
    "null_cols[null_cols > 0]"
   ]
  },
  {
   "cell_type": "code",
   "execution_count": 91,
   "metadata": {},
   "outputs": [
    {
     "data": {
      "text/plain": [
       "Florida               990\n",
       "New South Wales       468\n",
       "UNKNOWN               402\n",
       "Queensland            300\n",
       "Hawaii                282\n",
       "                     ... \n",
       "Sanma Province          1\n",
       "Madang (WO)             1\n",
       "Yucatan Channel         1\n",
       "Imperia Province        1\n",
       "Mindoro Occidental      1\n",
       "Name: Area, Length: 786, dtype: int64"
      ]
     },
     "execution_count": 91,
     "metadata": {},
     "output_type": "execute_result"
    }
   ],
   "source": [
    "data['Area'].value_counts()"
   ]
  },
  {
   "cell_type": "code",
   "execution_count": 92,
   "metadata": {},
   "outputs": [
    {
     "data": {
      "image/png": "[encoded data removed]",
      "text/plain": [
       "<Figure size 432x288 with 1 Axes>"
      ]
     },
     "metadata": {
      "needs_background": "light"
     },
     "output_type": "display_data"
    }
   ],
   "source": [
    "Area = [1,2,3,4,5]\n",
    "Attacks = [990, 468, 402, 300, 282]\n",
    "\n",
    "LABELS = [\"Florida\", \"New South Wales\", \"UNKNOWN\", \"Queensland\", \"Hawaii\",]\n",
    "\n",
    "plt.bar(Sharks, Attacks, align='center')\n",
    "plt.xticks(Sharks, LABELS)\n",
    "plt.show()"
   ]
  },
  {
   "cell_type": "code",
   "execution_count": 93,
   "metadata": {},
   "outputs": [],
   "source": [
    "data['Area'] = data['Area'].str.replace('?', '')\n",
    "data['Area'] = data['Area'].str.replace('-', '')\n",
    "data[\"Area\"] = data[\"Area\"].str.replace(\"(.*)\\?\",\" \")\n",
    "data[\"Area\"] = data[\"Area\"].str.replace(\"\\d\\d\",\" \")\n",
    "data[\"Area\"] = data[\"Area\"].str.replace(\"\\d\",\" \")"
   ]
  },
  {
   "cell_type": "code",
   "execution_count": 94,
   "metadata": {},
   "outputs": [
    {
     "data": {
      "text/plain": [
       "array(['Florida', 'Victoria', 'Western Australia', 'Hawaii',\n",
       "       'North Province', 'South Carolina', 'California', 'UNKNOWN',\n",
       "       'New Providence Island', 'Alicante Province', 'Hong Kong',\n",
       "       'New South Wales', 'Kochi Prefecture', 'Tasmania', 'Abaco Islands',\n",
       "       'Queensland', 'Alabama', 'Canary Islands', 'Massachusetts',\n",
       "       'North Carolina', 'Isla Provedencia', 'Western Cape Province',\n",
       "       'Texas', 'Suez', 'North Island', 'Bali', 'Tuamotos', 'Grand Terre',\n",
       "       'Boa Vista Island', 'Vanua Levu', 'South Australia',\n",
       "       'Santa Catarina State', 'South Province', 'Altagracia Province',\n",
       "       'Grand Cayman', 'KwaZuluNatal', 'Fujairah Emirate',\n",
       "       'Grand Canary Island', 'Pernambuco', 'Eastern Cape Province',\n",
       "       'Inhambane Province', 'Phuket', 'Alicante', 'Bora Bora',\n",
       "       'Grand Bahama Island', 'Le Port', 'Rangiroa',\n",
       "       'SaintGilleslesBains', 'Sardinia', 'Sinaloa', 'Central Tuamotu',\n",
       "       'dí…tangSalÈ', 'Granada', 'Cargados Carajos Shoals (St. Brandon)',\n",
       "       'Moorea', 'Catalonia', 'Maryland', 'Louisiana', 'SaintLeu',\n",
       "       'West End', 'Delaware', 'Atsumi peninsula', 'Palmyra Atoll',\n",
       "       'Wallis and Futuna', 'Galapagos Islands', 'Georgia',\n",
       "       'Baie de SainteMarie', 'Society Islands', 'Trinidad',\n",
       "       'South Island', 'Okinawa Prefecture',\n",
       "       '   miles SE of Tarawa Atoll', 'Oregon', 'New Jersey',\n",
       "       'Southern District', 'Bay of Biscay', 'Quintana Roo',\n",
       "       'Exuma Islands', 'SaintPaul', 'Taitung ', 'Kingston Parish',\n",
       "       'Santa Cruz Island', 'SaintGilles', 'Tuamotus', 'Eleuthera',\n",
       "       'St. Catherine', 'Palawan', 'Mercury Islands', 'Delta', \"Vava'u\",\n",
       "       'Inner Hebrides', 'Saint Leu', 'TroisBassins', 'British Colombia',\n",
       "       'Guerrero', 'SaintBenoit', 'Tabuk Province',\n",
       "       'Antofagasta Province', \"St John's\", 'Santa Elena',\n",
       "       'East New Britain', 'BoisBlanc ', 'Moray', 'Puerto Rico',\n",
       "       'Saman· Province', 'Coast Province', 'Central Province',\n",
       "       'Primorsky Krai',\n",
       "       'Peter the Great Bay, Khasan, Primorsky Krai (Far East)',\n",
       "       'Telyakovsky Bay, Khasan,  Primorsky Krai (Far East)', 'Praslin',\n",
       "       'Sucre', 'Middle Caicos', 'Caicos Bank', 'Guanacaste', 'Cornwall',\n",
       "       'San AndrÈs archipelago', 'Kedah', 'Umm al Qaywayan Province',\n",
       "       'Vitu Levu', 'South Sinai Peninsula', ' Loyalty Islands',\n",
       "       'Saint Gilles ', 'Colima', 'Maine', 'Virginia', \"Ha'api \",\n",
       "       'Western Province', 'Jeju Province', 'New York',\n",
       "       'Binh Dinh Province', 'Antsiranana Province', 'Sinai Peninsula',\n",
       "       'Off Vanua Levu', 'Merizo', 'Rio Grande Do Sul', 'Dubai',\n",
       "       'Torres Strait', 'Eastern Province', 'Eastern Cape  Province',\n",
       "       'Maputo Province', 'Bocas', 'Fife', 'Devon',\n",
       "       'MakiraUlawa Province', 'Mombasa', 'Catalunya', 'St. Johns Reef',\n",
       "       'Off Green Island', 'North Region', 'Batangas province',\n",
       "       'Strait of Malacca', 'Guantanamo Province', 'Maranh„o', 'Red Sea',\n",
       "       'Batanes Provine', 'Luzon', 'Northern Territory',\n",
       "       ' SplitDalmatia Count,', 'North Devon', 'US Virgin Islands',\n",
       "       'San Carlos', 'Cabo San Lucas', 'Sussex', 'Bahia', 'Easter Ross',\n",
       "       'Guerro', 'Yasawa Islands', 'Northern Bahamas', 'Baja California',\n",
       "       'Green Bay', 'Loyalty Islands', 'Marovo Lagoon',\n",
       "       'Territory of Cocos (Keeling) Islands', 'Oslo Fjord', 'Kent',\n",
       "       'Bird Island', 'Providenciales', 'Bimini Islands',\n",
       "       'Muhafazat Hadramawt', 'Cook islans', 'Surigao del Norte',\n",
       "       'Between Somalia & Yemen', 'Ambergris Caye', 'SaintPierre',\n",
       "       'Kentucky', 'Andros Islands', 'Guam', 'Western Area',\n",
       "       '   miles from Antigua', '   miles from land',\n",
       "       '   nm west of the Canary Islands', 'Simpson Bay', 'East Wall',\n",
       "       'Inner Islands', 'Shanghai', 'Malampa Province',\n",
       "       \"South Ch'ungch'ong Province\", 'Bay Islands', 'New Mexico',\n",
       "       'Santa Isabel Province', 'Santiago de Cuba Province',\n",
       "       'Camaguey Province', 'ConservatÛria District', 'South Carolina ',\n",
       "       'Kuril Islands in the Pacific', 'Wakayama Prefecture',\n",
       "       \"Nuku'alofa\", 'SaintBenoÓt',\n",
       "       'South Island, near Karitane north of Dunedin', 'Rocha',\n",
       "       'Northlands', 'Anzoategui', 'Cook Islands', 'Tamilnadu',\n",
       "       'Pearl Islands', 'Taveuni', 'Johnston Atoll', 'Baatan',\n",
       "       'Rio de Janeiro', 'Nueva Esparta', 'Southland',\n",
       "       'North Pacific coast', 'Caroline Islands', 'Cheshire',\n",
       "       'Louisiade Archipelago',\n",
       "       'KwaZuluNatal between Port Edward and Port St Johns',\n",
       "       'Milne Bay Province', 'Cikobia Island (north of Vanua Levu)',\n",
       "       'Rayong Province', 'Zamboanga del Sur Province',\n",
       "       'Rio Grande de Norte',\n",
       "       'Off the western coast of peninsular Malaysia', 'Holquin Province',\n",
       "       'New Brunswick', 'Miyako Island', 'Alaska', 'Minerva Reef',\n",
       "       'Madang Province', 'Worcestershire', 'Phang nga Province',\n",
       "       'Alinglaplap Atoll', 'Adriatic Sea', 'Ralik Chain', 'Grand Baie',\n",
       "       \"L' Etang SalÈlesBains\", 'Southern Japan', 'Cap Vert Peninsula',\n",
       "       'Marches region', 'Berry Islands', 'Transvaal', 'Gaza',\n",
       "       \"Grand'Anse\", 'Beaufonds', 'Miyako', \"L'EtangSale\",\n",
       "       'Chatham Islands ', 'South Sinai, Gulf of Aqaba', 'Cat Cay',\n",
       "       'Missouri', '  miles off the north coast', 'SaintPaul ',\n",
       "       'Chatham Islands, east of New  Zealand', 'SaintDenis', 'Vavaíu',\n",
       "       'Mississippi', 'Clearwater Bay', 'New Territories',\n",
       "       'Aichi Prefecture', 'Tafea Province', 'Kagoshima Prefecture',\n",
       "       'SaintJoseph', 'Banaadir Region', 'La Libertad', 'Costa Blanca',\n",
       "       'Walkers Cay', 'On the Kowloon penisula, south of Sai Kung',\n",
       "       'Ehime Prefecture', 'Tongapatu Group', 'West Africa',\n",
       "       'Wakaya Island', 'North Carolina ', 'Mexico / Caribbean Sea',\n",
       "       'Antarctic Ocean', 'La SalinelesBains', 'Sea of Japan', 'Tavenui',\n",
       "       'Ligurian Sea', \"L'EtangSalÈ\", 'Kowloon Peninsula', 'Port Shelter',\n",
       "       'Laucala Island', 'SainteMarie', 'Great Exuma Island',\n",
       "       'SainteSuzanne', 'Tuscany', 'Washington', 'Tyrrhenian Sea',\n",
       "       'New Ireland', 'Valpariso Province', 'Viscayan Sea',\n",
       "       'Manfredonia ', 'Tokyo Prefecture', 'SaintLouis', 'Mindoro',\n",
       "       'Between DR and Puerto Rico', 'Between Honiara & Isabel Island',\n",
       "       'Florida Straits', 'Gulf of Lyons', 'C·diz', 'Sicily',\n",
       "       'Andikira Fokithes', 'Central Philippines', 'Rhode Island',\n",
       "       'Northwest Italy', 'English Channel', 'North & South Carolina',\n",
       "       'Kumamoto Prefecture', 'Biserta', 'SaintPhilippe', 'Chungnam',\n",
       "       'Eronogo Region', 'Coquimbo', 'Pagasitikos Gulf',\n",
       "       \"St. Mary's Parish\", 'Romblon Province', 'Lamu Archipelago',\n",
       "       'Los Vilos', 'Island of Kos', \"Ha'api\", 'Madeira Islands',\n",
       "       'Ho Ha Wan Marine Park', 'Southern Thailand', 'Golfo de Venezia',\n",
       "       'Ralik Archipelago', 'South China Sea    miles from Hong Kong',\n",
       "       'Reggio Calabria Province', 'Mirs Bay ', 'Genoa Province',\n",
       "       'GangesBrahmaputra delta', ' SplitDalmatia County', 'Florida ',\n",
       "       'PrimorjeGorski Kotar County ', 'Aulong Island',\n",
       "       'Western Caroline Islands', 'Upolu Island', 'Antibes',\n",
       "       'Illeginni Atoll', 'Istria County', 'South Devon',\n",
       "       'Between Beira & Maputo', 'Khuzestan Province', 'Inhambe Province',\n",
       "       'Namonuito Atoll', 'Eastern Caroline Islands',\n",
       "       'Western Caroline Islands (North Pacific Ocean)', 'Caribbean Sea',\n",
       "       'St. Andrew Parish', '   nm southeast of Manila', 'Limpopo River',\n",
       "       'New Ireland Province', 'Zadar County', 'Basrah', 'Clarendon',\n",
       "       'Moro Gulf', 'Johor', 'Magdalena Department', 'Mafia Island',\n",
       "       'Gulf Province', 'Morobe Province', 'LimÛn Province',\n",
       "       'Rombion Province', 'Veracruz', 'Brindisi Province',\n",
       "       'Kagawa Prefecture', 'Liguria', 'Hamilton', 'Out Islands',\n",
       "       'Mugla Province', 'Gibraltar', 'New Britain', 'Bay of Maputo',\n",
       "       'Duke of York Islands', 'Taranto province', 'Northern Taiwan',\n",
       "       'Admiralty Islands, Manus Province', 'North Sumatra',\n",
       "       \"   miles southwest of O'ahu, Hawaii\", 'West coast', 'East Sepik',\n",
       "       'Near Bougainville (North Solomons)', 'East of the Gulf of Aqaba',\n",
       "       'Bougainville (North Solomons)', 'Victoria ', 'Okayama Prefecture',\n",
       "       'San Blas', 'Connecticut', 'Lau Group', 'Caribbean Coast',\n",
       "       'Vita Levu', 'San Blas Islands', 'Puntarenas Province',\n",
       "       'Lomaloma, Lau', 'Between Southampton & Canary Islands',\n",
       "       'South Coast, East New Britain', ' Lau Province', 'Ysabel Island',\n",
       "       'Santo Domingo', 'San Blas coast', 'Thessaly', 'Luzon Island',\n",
       "       'Lomaiviti  Island Group', 'Rodrigues', 'Manus Island',\n",
       "       'Pinas Bay', 'Grand Turk Island', 'Off coast of West Africa',\n",
       "       'Sharon', 'Antalya Province', 'Northern District',\n",
       "       'New Ireland Province, Bismarck Archipelago', 'Cyclades',\n",
       "       'Viti Levu', 'Off the Coromandel Peninsula, North Island',\n",
       "       'Madang', 'Guadalcanal Province', ' ∫S,   ∫E', 'Kwajalein Atoll',\n",
       "       'East Flores', 'Guerrrero', 'Western Luzon Island',\n",
       "       'Shefa Province', '    miles from Bermuda',\n",
       "       '  km off the coast of Iran &   km from mouth of Persian Gulf',\n",
       "       'Venice Province', 'Sandaun Province', 'Anatolia',\n",
       "       'East New Britain Province', 'United Arab Emirates',\n",
       "       'Wake Island (EnenKio)', ' S,   E', 'Pennsylvania', ' . N  . W',\n",
       "       'Roncador Bank', 'Western District',\n",
       "       'Enroute from Suez to Aden (Yemen)',\n",
       "       '   miles southeast of Okinawa', 'Eniwetok Atoll',\n",
       "       'CapVert Peninsula', 'Delagoa Bay', 'In the English Channel ',\n",
       "       'Cook Strait', 'Unknown, treated at Wick, SCOTLAND',\n",
       "       'Corregidor Island', 'Paget', ' N,  W', 'Casamance', 'Madang (WO)',\n",
       "       'Between Timor & Darwin, Australia', 'Pacific coast',\n",
       "       'St. Georges ', 'Eastern  Province', 'Northwest of Viti Levu',\n",
       "       'West New Britain Province', 'Rigo subdistrict', 'Masbate',\n",
       "       '   miles southeast of Sri Lanka', 'Lomaiviti Province', 'Kadavu',\n",
       "       'Leyte Island', 'Orissa', 'Hokkaido Prefecture', 'North Palawan',\n",
       "       'Queaon', 'Istria', 'PANAMA', 'In the Gulf Stream ',\n",
       "       'Mersin Province', 'Guyamas', 'Between England & South Africa',\n",
       "       'Mindanao', ' Kikori River mouth', 'South Chungcheong Province',\n",
       "       'Ahirkapi coast', 'Tutuila Island', 'PrimorjeGorski Kotar County',\n",
       "       'Between Hawaii & Wake Island', 'Taipei Hsien',\n",
       "       'Ibaraki Prefecture', 'South Pacific Ocean', 'Canal Zone',\n",
       "       ' ,   miles east of Hawaii', 'Honiara', 'Yucatan Channel',\n",
       "       'Havana Province', 'Karun River',\n",
       "       'Abau Subdistrict,Central Province',\n",
       "       'New Britain, Bismarck Archipelago', 'Estuaire Province',\n",
       "       'Near Dakar, Cap Vert Peninsula',\n",
       "       'Near the Andaman & Nicobar Islands', 'Mozambique Channel',\n",
       "       'Tyrrenian Sea', 'Congreve Channel', 'St. Thomas Bay', 'Madeira',\n",
       "       'Between Comores & Madagascar', 'Corfu Island',\n",
       "       '   miles west of Hawaii', 'Izo Islands',\n",
       "       ' PrimorjeGorski Kotar County', 'Open sea', 'Aden',\n",
       "       'New Ireland, Bismarck Archipelago', 'Tamil Nadu', ' S /  E',\n",
       "       'Illinois', 'Isles del Rosario', 'Wake Island', 'Isle of Man',\n",
       "       'Nagasaki Prefecture', 'Liguaria', 'Slovenia', 'South shore ',\n",
       "       'Buenos Aires Province', '   to    miles east of Wake Island',\n",
       "       'Nova Scotia', 'Gulf of Panama', 'Genoa  Province',\n",
       "       'Abau Sub District, Central Province', 'Teramo', 'Red Sea State',\n",
       "       'Curacao', 'Port Louis Province', 'Montserrado', 'Bay of Maputu',\n",
       "       'Salerno', 'Salerno Province', 'Taranto', 'Naples Province',\n",
       "       ' La Libertad', 'Sago Prefecture', 'Savona', 'Southern Province',\n",
       "       'Jakarta Harbour', 'Singapore Harbor', 'Calabria',\n",
       "       'ShattelArab River', 'ShattalArab River', 'Tamaulipas',\n",
       "       'Calvados Archipelago', 'ShatAlArab River',\n",
       "       'Between Kwajalein Atoll & Johnston Island', 'Attica',\n",
       "       'Adana Province', 'Bandar Maíshur sea inlet', 'Saipan',\n",
       "       'Carpathian Sea', 'Kwajalein', 'DaresSalaam ',\n",
       "       '\"Head of the Gulf\"', 'Ryukyu', ' North Carolina',\n",
       "       'In transit between Tinian and Leyte', 'Northern Java', 'Tel Aviv',\n",
       "       'Colon Province', '   miles east of Luzon',\n",
       "       'Bernardino Strait near Gulf of Leyte',\n",
       "       'Off Samar Island in the Gulf of Leyte',\n",
       "       'Lake Nicaragua (fresh water)', 'Pacific Ocean',\n",
       "       'Near the Fiji Islands', '  miles south of Naples ',\n",
       "       'Northwest of Papua New Guinea', 'Between Hawaii and U.S.A.',\n",
       "       'Off South American coast', 'MakoraUlawa Province', ' . N . W',\n",
       "       'Midway Atoll', '   miles east of St. Thomas (Virgin Islands)',\n",
       "       'West of Ceylon (Sri  Lanka)', 'East Java', 'Camiguin Island',\n",
       "       'Cay Sal Bank', '(Southwestern Pacific)', 'Panama City',\n",
       "       'Off Libya', 'North of Pernambuco, Brazil', 'Off coast of Ecuador',\n",
       "       'Trelawney Province', 'In Convoy OB   ', 'New Georgia',\n",
       "       'Panama Bay (Pacific Ocean)', 'Bwagaoia', 'Western Papuan Gulf',\n",
       "       'Torres Strait ', 'Carabobo', 'Ascension Bay', 'North China',\n",
       "       'Lower San Juan River', 'Nicoya Peninsula', 'Basrah City',\n",
       "       'West Bengal', 'Queensland ', 'Argyllshire', 'Arran', 'Argyll',\n",
       "       'Newfoundland', 'Isle of Wight', 'MakiraUluwa Province',\n",
       "       'Northern (Oro) Province', 'Herzliyah', 'Elqui Province',\n",
       "       'Istanbul', 'St Michael Parish', 'Barlavento Islands',\n",
       "       'Viti Levu Island', 'Bay of Fundy', 'Manila',\n",
       "       'French Southern Territories', 'Niua ', 'Black River',\n",
       "       'Phoenix Islands', 'Cienfuegos Province', 'Valencia',\n",
       "       'Santiago Island', 'Near Puntarenas', 'Porto Seguro',\n",
       "       'Salinas Bay', 'Golfo di Genova in the Ligurian Sea',\n",
       "       'SantsMontjic', 'South of the Equator ', 'Bay of Monaco',\n",
       "       'Valencia ', 'Vancouver',\n",
       "       '  to   miles off Taboguilla Island, Pacific Ocean', 'Dorset',\n",
       "       '   miles offshore', 'Galica', 'Demerara County', 'Vera Cruz',\n",
       "       ' Manila Bay', 'Lucy', 'East Yorkshire', 'Westmoreland Parish',\n",
       "       'Cavite Province, Luzon', 'Cape Haitien', 'Leyte', 'Halifax',\n",
       "       'Turtle Bogue', '  miles north of San Domingo in the West Indies',\n",
       "       'Colon', 'Off Ireland', 'Mediterranean Sea', 'Gran Canaria',\n",
       "       'Apolima Strait', 'Lagos ', 'Trieste', ' aintDenis',\n",
       "       'Viti Levu group', 'Balearics', 'M·laga ', 'Chatham Islands',\n",
       "       'Georges Bank', 'Zambesi River', 'ColÛn Province',\n",
       "       '  nm from Singapore', 'Andalucia', 'Sfax', 'South Atlantic Ocean',\n",
       "       'Galicia', 'Gulf of Suez', 'Java', 'Tiburon Peninsula', 'Oaxaca',\n",
       "       'Harare Province', 'Kh·nh HÚa Province', 'Maluku Province',\n",
       "       'Between Noumea & Sydney', 'Villa Clara Province',\n",
       "       'Ancona Province', 'Quezon', 'Rio San Juan', 'Southern Cyprus',\n",
       "       'Syracuse', 'Western Viscayas', 'Mindoro Occidental', 'Negros ',\n",
       "       'Imperia Province', 'Muala', 'East coast', 'Ratak ',\n",
       "       'Socotra Islands', 'Off Cape Haitien', 'Moluccas',\n",
       "       'Bocas del Toro', 'Provence', 'Bay of Campeche', 'Rangoon',\n",
       "       'Bay of Bengal', 'Bayelsa State', 'Norfolk Island', 'Brittany',\n",
       "       'Line Islands', 'Woodlark Islands', 'Munxar Reef',\n",
       "       'Northern Peloponnese', 'Between Perth & Colombo', 'Gujarat',\n",
       "       'Lukovo', 'CortÈs', 'Alagoas',\n",
       "       'Somewhere between Philadelphia and Hiogo, Japan', ' New Jersey',\n",
       "       \"CÙte d'Azur  \", 'Western Banks', 'Andaman Islands',\n",
       "       'Off the coast of West Africa', 'Misamis Oriental',\n",
       "       'Strait of Messina', 'Hoogly River', 'Cyclades archipelago',\n",
       "       'Mount Lebanon', 'Between Hastings & Fairlight, Sussex',\n",
       "       'Gilbert Islands', 'Lomaiviti Provine',\n",
       "       'Off the coast of South America', ' ∫N,  ∫E', 'Veracruz ',\n",
       "       'Matanzas Province (north coast)', 'Alpes Maritime', 'Edinburgh',\n",
       "       'Eastern Catalona', 'Foveaux Strait', 'Conakry Region', 'Corfu',\n",
       "       'Malaga', 'Bonin Islands', 'Fernando Po Island', 'Mangaia Island',\n",
       "       'New York ', 'Corfu ', 'Between Australia & USA', 'Tongatapu',\n",
       "       'Norfolk', 'Island of St. Thomas', 'Sanma Province', \" ∫  :   ∫ '\",\n",
       "       'Western Area ', 'Paraiba', 'Cape Coast', 'Rivers State',\n",
       "       'Maharashtra', 'St. Anne', \"CÙte d'Azur \",\n",
       "       'Skagerrak arm of the North Sea', 'Las Perlas archipelago',\n",
       "       'Bardestrand', 'Southwest coast', 'Kerala', 'Nice & Marseilles',\n",
       "       'Magarita or Cubagua Islands', 'Ionian Sea', 'Piraeus',\n",
       "       'Off Thessaly', 'Bocas del Toro Province', 'Rocha ',\n",
       "       'Gulf of Tadjoura', 'Cyrenaica', 'Northern Province',\n",
       "       'Los Roques  Islands', 'Dodecanese Islands', 'Malaita Province',\n",
       "       'South Korea', 'Milne Bay  Province', 'Island of Volos',\n",
       "       'Amirante Islands', 'Kadavu Island Group', 'Toamasina Province',\n",
       "       'Riau Province', 'Bikini Atoll',\n",
       "       'Between New Ireland & New Britain', 'Ba RiaVung Tau  Province',\n",
       "       'Moala Island'], dtype=object)"
      ]
     },
     "execution_count": 94,
     "metadata": {},
     "output_type": "execute_result"
    }
   ],
   "source": [
    "data.Area.unique()"
   ]
  },
  {
   "cell_type": "code",
   "execution_count": 95,
   "metadata": {},
   "outputs": [],
   "source": [
    "data.to_csv('data_attack_cleaned.csv', index=False)"
   ]
  }
 ],
 "metadata": {
  "kernelspec": {
   "display_name": "Python 3",
   "language": "python",
   "name": "python3"
  },
  "language_info": {
   "codemirror_mode": {
    "name": "ipython",
    "version": 3
   },
   "file_extension": ".py",
   "mimetype": "text/x-python",
   "name": "python",
   "nbconvert_exporter": "python",
   "pygments_lexer": "ipython3",
   "version": "3.7.4"
  }
 },
 "nbformat": 4,
 "nbformat_minor": 2
}
