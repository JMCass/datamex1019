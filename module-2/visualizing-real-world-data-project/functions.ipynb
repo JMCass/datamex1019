{
 "cells": [
  {
   "cell_type": "code",
   "execution_count": 1,
   "metadata": {},
   "outputs": [],
   "source": [
    "from folium import plugins\n",
    "import pymongo\n",
    "import pandas as pd\n",
    "import numpy as np\n",
    "from pandas.io.json import json_normalize\n",
    "from pymongo import MongoClient"
   ]
  },
  {
   "cell_type": "code",
   "execution_count": 2,
   "metadata": {},
   "outputs": [],
   "source": [
    "client=MongoClient()\n",
    "db=client.companies"
   ]
  },
  {
   "cell_type": "code",
   "execution_count": null,
   "metadata": {},
   "outputs": [],
   "source": [
    "coordenadas=[]\n",
    "for i in range(len(data_cat1.offices)):\n",
    "    coordenadas.append((data_cat1.offices[i][0]['latitude'],data_cat1.offices[i][0]['longitude']))\n",
    "\n",
    "coordenadas_t=[]\n",
    "for i in range(len(data_cat2.offices)):\n",
    "    coordenadas_t.append((data_cat2.offices[i][0]['latitude'],data_cat2.offices[i][0]['longitude']))\n",
    "    \n",
    "coordenadas_t_t=[]\n",
    "for i in range(len(data_cat3.offices)):\n",
    "    coordenadas_t_t.append((data_cat3.offices[i][0]['latitude'],data_cat3.offices[i][0]['longitude']))\n",
    "\n",
    "coordenadastt=[]\n",
    "for i in range(len(data_cat4.offices)):\n",
    "    coordenadastt.append((data_cat4.offices[i][0]['latitude'],data_cat4.offices[i][0]['longitude']))\n",
    "    \n",
    "coordenadasttt=[]\n",
    "for i in range(len(data_cat5.offices)):\n",
    "    coordenadastt.append((data_cat5.offices[i][0]['latitude'],data_cat5.offices[i][0]['longitude']))         "
   ]
  },
  {
   "cell_type": "code",
   "execution_count": null,
   "metadata": {},
   "outputs": [],
   "source": [
    "for e in coordenadas:\n",
    "    folium.CircleMarker([e[0], e[1]], radius=2, icon=folium.Icon(),color = 'green').add_to(mapa)\n",
    "    \n",
    "for e in coordenadas_t:\n",
    "    folium.CircleMarker([e[0], e[1]], radius=2, icon=folium.Icon(),color = 'red').add_to(mapa)\n",
    "    \n",
    "for e in coordenadas_t_t:\n",
    "    folium.CircleMarker([e[0], e[1]], radius=2, icon=folium.Icon(),color = 'orange').add_to(mapa)\n",
    "\n",
    "for e in coordenadastt:\n",
    "    folium.CircleMarker([e[0], e[1]], radius=2, icon=folium.Icon(),color = 'blue').add_to(mapa)\n",
    "    \n",
    "for e in coordenadasttt:\n",
    "    folium.CircleMarker([e[0], e[1]], radius=2, icon=folium.Icon(),color = 'yellow').add_to(mapa)            "
   ]
  },
  {
   "cell_type": "code",
   "execution_count": 3,
   "metadata": {},
   "outputs": [],
   "source": [
    "def get_first(data):\n",
    "    res=[]\n",
    "    ofi=[]\n",
    "    \n",
    "    data=data['offices']\n",
    "    for e in data:\n",
    "        principal=None   \n",
    "        if e[0]['latitude'] and e[0]['longitude']:\n",
    "            principal={'type':'Point',\n",
    "                       'coordinates':[\n",
    "                           e[0]['longitude'],\n",
    "                           e[0]['latitude']\n",
    "                       ]}\n",
    "            \n",
    "        ofi.append(principal)\n",
    "        \n",
    "        res.append({\n",
    "            'total_offices':len(e),\n",
    "            'lat':e[0]['latitude'],\n",
    "            'lng':e[0]['longitude'],\n",
    "            'oficina_principal':principal\n",
    "        })\n",
    "    \n",
    "    return res, ofi"
   ]
  },
  {
   "cell_type": "code",
   "execution_count": 4,
   "metadata": {},
   "outputs": [],
   "source": [
    "def find_near(geopoint, radio=1000):\n",
    "    return db.first_office.find({\n",
    "        'oficina_principal':{'$near':{'$geometry':geopoint,\n",
    "                                     '$maxDistance':radio}\n",
    "            \n",
    "        }\n",
    "    }\n",
    "    )"
   ]
  },
  {
   "cell_type": "code",
   "execution_count": null,
   "metadata": {},
   "outputs": [],
   "source": [
    "for i in range(len(lat_clt)):\n",
    "    folium.CircleMarker(\n",
    "        location=[float(lat_clt[i]), float(lon_clt[i])],\n",
    "        radius = 2,\n",
    "        color = '#3186cc',\n",
    "        fill=True,\n",
    "        fill_color= '#3186cc'\n",
    "    ).add_to(map2)"
   ]
  }
 ],
 "metadata": {
  "kernelspec": {
   "display_name": "Python 3",
   "language": "python",
   "name": "python3"
  },
  "language_info": {
   "codemirror_mode": {
    "name": "ipython",
    "version": 3
   },
   "file_extension": ".py",
   "mimetype": "text/x-python",
   "name": "python",
   "nbconvert_exporter": "python",
   "pygments_lexer": "ipython3",
   "version": "3.7.4"
  }
 },
 "nbformat": 4,
 "nbformat_minor": 2
}
