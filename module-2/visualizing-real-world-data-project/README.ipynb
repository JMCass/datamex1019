{
 "cells": [
  {
   "cell_type": "markdown",
   "metadata": {},
   "source": [
    "# EXPLICACIÓN PROYECTO 4"
   ]
  },
  {
   "cell_type": "markdown",
   "metadata": {},
   "source": [
    "1.- El presente ejercicio se basa en la búsqueda de un buen lugar para establecer una startup.\n",
    "\n",
    "2.- Mi hipotético cliente se dedica al ecommerce, por lo que requiere estar cerca de desarrolladores,\n",
    "consultores y de empresas enfocadas a las relaciones públicas.\n",
    "\n",
    "3.- Se definió una startup con las siguientes características:\n",
    "        -50 empleados o menos\n",
    "        -Antigüedad de la empresa de 7 años\n",
    "        -El radio de búsqueda limitado a 1,500 m\n",
    "        -Que la cantida de dinero levantado con inversionistas sea menor a $100M\n",
    "\n",
    "4.- Se determinó un centro a partir de una empresa dedicada al ecommerce\n",
    "\n",
    "5.- Se localizaron 244 oficinas en los alrededores, por lo que existe cantidad importante\n",
    "de empresas que podrían ayudar a mi cliente a generar sinergias para lograr sus objetivos\n",
    "\n",
    "6.- Claramente, las mejores ubicaciones para establecerse serían en Norteamérica y Europa.\n",
    "\n",
    "7.- Aunque la mejor ubicación se concentra en el estado de California, mi sugerencia sería\n",
    "que la ubicación se concentre en Canadá."
   ]
  },
  {
   "cell_type": "markdown",
   "metadata": {},
   "source": [
    "# CONCLUSIONES"
   ]
  },
  {
   "cell_type": "markdown",
   "metadata": {},
   "source": [
    "Mi sugerencia sería buscar a Vancouver como lugar principal de establecimiento para la startup,ya que cuenta con un aeropuerto, lugares para rentar, escuelas de calidad, restaurantes, etc."
   ]
  }
 ],
 "metadata": {
  "kernelspec": {
   "display_name": "Python 3",
   "language": "python",
   "name": "python3"
  },
  "language_info": {
   "codemirror_mode": {
    "name": "ipython",
    "version": 3
   },
   "file_extension": ".py",
   "mimetype": "text/x-python",
   "name": "python",
   "nbconvert_exporter": "python",
   "pygments_lexer": "ipython3",
   "version": "3.7.4"
  }
 },
 "nbformat": 4,
 "nbformat_minor": 2
}
