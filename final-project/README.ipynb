{
 "cells": [
  {
   "cell_type": "markdown",
   "metadata": {},
   "source": [
    "# IRONHACK FINAL PROJECT: Sport Analytics"
   ]
  },
  {
   "cell_type": "markdown",
   "metadata": {},
   "source": [
    "**FIFA-2019-Analysis**\n",
    "1. Este proyecto toma como refrencia la base de datos del juego FIFA 2019 para realizar un Análisis de datos, Visualización, Geolocalización, Análisis de Supervivencia, Sistema de recomendación y Machine Learning mediante un \"Exploratory Data Analysis [EDA]\"\n",
    "\n",
    "**Acerca de** \n",
    "2. La base de datos fue obtenida directamente de Kaggle en https://www.kaggle.com/karangadiya/fifa19. El proyecto final surge por la inquietud de conocer qué factores son los que explican la brecha salarial y valores de mercado tan grande que existe en el fútbol y cómo estas brechas se magnifican cuando se analiza con perspectiva de género. La base de datos contiene información sobre 18,207 jugadores y contempla al menos 89 atributos como son: velocidad, tiro corto, tiro largo, salto, altura, edad, peso, etc., además de contener algunas variables sobre 651 clubes.\n",
    "\n",
    "\n",
    "**Objetivo**\n",
    "3. Las preguntas que intento responder son:\n",
    "\n",
    "    P1: Cuál sería el valor de mercado y salario para una jugadora con características similares a las de una súper estrella？\n",
    "\n",
    "    P2: ¿Qué factores son los determinantes para establecer un valor de mercado?\n",
    "\n",
    "    P3: ¿Qué club debería seleccionar una jugadora para desarrollarse profesionalmente y a un nivel competitivo?\n",
    "    \n",
    "    P4: ¿Qué posición es más propensa a retirarse o ser sustituida por los clubes?\n",
    "    \n",
    "    P5: ¿Cuántas categorías de jugadores existen en el mundo?\n",
    "\n",
    "**Resultados**\n",
    "\n",
    "4. (Falta)"
   ]
  },
  {
   "cell_type": "markdown",
   "metadata": {},
   "source": [
    "\n",
    "\n"
   ]
  }
 ],
 "metadata": {
  "kernelspec": {
   "display_name": "Python 3",
   "language": "python",
   "name": "python3"
  },
  "language_info": {
   "codemirror_mode": {
    "name": "ipython",
    "version": 3
   },
   "file_extension": ".py",
   "mimetype": "text/x-python",
   "name": "python",
   "nbconvert_exporter": "python",
   "pygments_lexer": "ipython3",
   "version": "3.7.5"
  }
 },
 "nbformat": 4,
 "nbformat_minor": 2
}
