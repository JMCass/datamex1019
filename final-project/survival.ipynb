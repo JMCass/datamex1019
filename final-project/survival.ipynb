{
 "cells": [
  {
   "cell_type": "code",
   "execution_count": 1,
   "metadata": {},
   "outputs": [
    {
     "name": "stdout",
     "output_type": "stream",
     "text": [
      "Requirement already satisfied: chart-studio in /usr/local/Cellar/jupyterlab/1.2.3/libexec/lib/python3.7/site-packages (1.0.0)\n",
      "Requirement already satisfied: six in /usr/local/Cellar/jupyterlab/1.2.3/libexec/lib/python3.7/site-packages (from chart-studio) (1.12.0)\n",
      "Requirement already satisfied: plotly in /usr/local/Cellar/jupyterlab/1.2.3/libexec/lib/python3.7/site-packages (from chart-studio) (4.4.1)\n",
      "Requirement already satisfied: retrying>=1.3.3 in /usr/local/Cellar/jupyterlab/1.2.3/libexec/lib/python3.7/site-packages (from chart-studio) (1.3.3)\n",
      "Requirement already satisfied: requests in /usr/local/Cellar/jupyterlab/1.2.3/libexec/lib/python3.7/site-packages (from chart-studio) (2.22.0)\n",
      "Requirement already satisfied: certifi>=2017.4.17 in /usr/local/Cellar/jupyterlab/1.2.3/libexec/lib/python3.7/site-packages (from requests->chart-studio) (2019.11.28)\n",
      "Requirement already satisfied: idna<2.9,>=2.5 in /usr/local/Cellar/jupyterlab/1.2.3/libexec/lib/python3.7/site-packages (from requests->chart-studio) (2.8)\n",
      "Requirement already satisfied: urllib3!=1.25.0,!=1.25.1,<1.26,>=1.21.1 in /usr/local/Cellar/jupyterlab/1.2.3/libexec/lib/python3.7/site-packages (from requests->chart-studio) (1.25.7)\n",
      "Requirement already satisfied: chardet<3.1.0,>=3.0.2 in /usr/local/Cellar/jupyterlab/1.2.3/libexec/lib/python3.7/site-packages (from requests->chart-studio) (3.0.4)\n",
      "Note: you may need to restart the kernel to use updated packages.\n"
     ]
    }
   ],
   "source": [
    "pip install chart-studio"
   ]
  },
  {
   "cell_type": "code",
   "execution_count": 2,
   "metadata": {},
   "outputs": [
    {
     "name": "stdout",
     "output_type": "stream",
     "text": [
      "Requirement already satisfied: cufflinks in /usr/local/Cellar/jupyterlab/1.2.3/libexec/lib/python3.7/site-packages (0.17.0)\n",
      "Requirement already satisfied: numpy>=1.9.2 in /usr/local/Cellar/jupyterlab/1.2.3/libexec/lib/python3.7/site-packages (from cufflinks) (1.17.4)\n",
      "Requirement already satisfied: setuptools>=34.4.1 in /usr/local/Cellar/jupyterlab/1.2.3/libexec/lib/python3.7/site-packages (from cufflinks) (42.0.1)\n",
      "Requirement already satisfied: six>=1.9.0 in /usr/local/Cellar/jupyterlab/1.2.3/libexec/lib/python3.7/site-packages (from cufflinks) (1.12.0)\n",
      "Requirement already satisfied: plotly>=4.1.1 in /usr/local/Cellar/jupyterlab/1.2.3/libexec/lib/python3.7/site-packages (from cufflinks) (4.4.1)\n",
      "Requirement already satisfied: ipython>=5.3.0 in /usr/local/Cellar/jupyterlab/1.2.3/libexec/lib/python3.7/site-packages (from cufflinks) (7.9.0)\n",
      "Requirement already satisfied: pandas>=0.19.2 in /usr/local/Cellar/jupyterlab/1.2.3/libexec/lib/python3.7/site-packages (from cufflinks) (0.25.3)\n",
      "Requirement already satisfied: colorlover>=0.2.1 in /usr/local/Cellar/jupyterlab/1.2.3/libexec/lib/python3.7/site-packages (from cufflinks) (0.3.0)\n",
      "Requirement already satisfied: ipywidgets>=7.0.0 in /usr/local/Cellar/jupyterlab/1.2.3/libexec/lib/python3.7/site-packages (from cufflinks) (7.5.1)\n",
      "Requirement already satisfied: chart-studio>=1.0.0 in /usr/local/Cellar/jupyterlab/1.2.3/libexec/lib/python3.7/site-packages (from cufflinks) (1.0.0)\n",
      "Requirement already satisfied: retrying>=1.3.3 in /usr/local/Cellar/jupyterlab/1.2.3/libexec/lib/python3.7/site-packages (from plotly>=4.1.1->cufflinks) (1.3.3)\n",
      "Requirement already satisfied: jedi>=0.10 in /usr/local/Cellar/jupyterlab/1.2.3/libexec/lib/python3.7/site-packages (from ipython>=5.3.0->cufflinks) (0.15.1)\n",
      "Requirement already satisfied: decorator in /usr/local/Cellar/jupyterlab/1.2.3/libexec/lib/python3.7/site-packages (from ipython>=5.3.0->cufflinks) (4.4.1)\n",
      "Requirement already satisfied: pickleshare in /usr/local/Cellar/jupyterlab/1.2.3/libexec/lib/python3.7/site-packages (from ipython>=5.3.0->cufflinks) (0.7.5)\n",
      "Requirement already satisfied: traitlets>=4.2 in /usr/local/Cellar/jupyterlab/1.2.3/libexec/lib/python3.7/site-packages (from ipython>=5.3.0->cufflinks) (4.3.3)\n",
      "Requirement already satisfied: prompt_toolkit<2.1.0,>=2.0.0 in /usr/local/Cellar/jupyterlab/1.2.3/libexec/lib/python3.7/site-packages (from ipython>=5.3.0->cufflinks) (2.0.10)\n",
      "Requirement already satisfied: pygments in /usr/local/Cellar/jupyterlab/1.2.3/libexec/lib/python3.7/site-packages (from ipython>=5.3.0->cufflinks) (2.4.2)\n",
      "Requirement already satisfied: backcall in /usr/local/Cellar/jupyterlab/1.2.3/libexec/lib/python3.7/site-packages (from ipython>=5.3.0->cufflinks) (0.1.0)\n",
      "Requirement already satisfied: appnope in /usr/local/Cellar/jupyterlab/1.2.3/libexec/lib/python3.7/site-packages (from ipython>=5.3.0->cufflinks) (0.1.0)\n",
      "Requirement already satisfied: pexpect in /usr/local/Cellar/jupyterlab/1.2.3/libexec/lib/python3.7/site-packages (from ipython>=5.3.0->cufflinks) (4.7.0)\n",
      "Requirement already satisfied: pytz>=2017.2 in /usr/local/Cellar/jupyterlab/1.2.3/libexec/lib/python3.7/site-packages (from pandas>=0.19.2->cufflinks) (2019.3)\n",
      "Requirement already satisfied: python-dateutil>=2.6.1 in /usr/local/Cellar/jupyterlab/1.2.3/libexec/lib/python3.7/site-packages (from pandas>=0.19.2->cufflinks) (2.8.0)\n",
      "Requirement already satisfied: nbformat>=4.2.0 in /usr/local/Cellar/jupyterlab/1.2.3/libexec/lib/python3.7/site-packages (from ipywidgets>=7.0.0->cufflinks) (4.4.0)\n",
      "Requirement already satisfied: widgetsnbextension~=3.5.0 in /usr/local/Cellar/jupyterlab/1.2.3/libexec/lib/python3.7/site-packages (from ipywidgets>=7.0.0->cufflinks) (3.5.1)\n",
      "Requirement already satisfied: ipykernel>=4.5.1 in /usr/local/Cellar/jupyterlab/1.2.3/libexec/lib/python3.7/site-packages (from ipywidgets>=7.0.0->cufflinks) (5.1.3)\n",
      "Requirement already satisfied: requests in /usr/local/Cellar/jupyterlab/1.2.3/libexec/lib/python3.7/site-packages (from chart-studio>=1.0.0->cufflinks) (2.22.0)\n",
      "Requirement already satisfied: parso>=0.5.0 in /usr/local/Cellar/jupyterlab/1.2.3/libexec/lib/python3.7/site-packages (from jedi>=0.10->ipython>=5.3.0->cufflinks) (0.5.1)\n",
      "Requirement already satisfied: ipython_genutils in /usr/local/Cellar/jupyterlab/1.2.3/libexec/lib/python3.7/site-packages (from traitlets>=4.2->ipython>=5.3.0->cufflinks) (0.2.0)\n",
      "Requirement already satisfied: wcwidth in /usr/local/Cellar/jupyterlab/1.2.3/libexec/lib/python3.7/site-packages (from prompt_toolkit<2.1.0,>=2.0.0->ipython>=5.3.0->cufflinks) (0.1.7)\n",
      "Requirement already satisfied: ptyprocess>=0.5 in /usr/local/Cellar/jupyterlab/1.2.3/libexec/lib/python3.7/site-packages (from pexpect->ipython>=5.3.0->cufflinks) (0.6.0)\n",
      "Requirement already satisfied: jsonschema!=2.5.0,>=2.4 in /usr/local/Cellar/jupyterlab/1.2.3/libexec/lib/python3.7/site-packages (from nbformat>=4.2.0->ipywidgets>=7.0.0->cufflinks) (3.1.1)\n",
      "Requirement already satisfied: jupyter_core in /usr/local/Cellar/jupyterlab/1.2.3/libexec/lib/python3.7/site-packages (from nbformat>=4.2.0->ipywidgets>=7.0.0->cufflinks) (4.6.1)\n",
      "Requirement already satisfied: notebook>=4.4.1 in /usr/local/Cellar/jupyterlab/1.2.3/libexec/lib/python3.7/site-packages (from widgetsnbextension~=3.5.0->ipywidgets>=7.0.0->cufflinks) (6.0.2)\n",
      "Requirement already satisfied: tornado>=4.2 in /usr/local/Cellar/jupyterlab/1.2.3/libexec/lib/python3.7/site-packages (from ipykernel>=4.5.1->ipywidgets>=7.0.0->cufflinks) (6.0.3)\n",
      "Requirement already satisfied: jupyter-client in /usr/local/Cellar/jupyterlab/1.2.3/libexec/lib/python3.7/site-packages (from ipykernel>=4.5.1->ipywidgets>=7.0.0->cufflinks) (5.3.4)\n",
      "Requirement already satisfied: idna<2.9,>=2.5 in /usr/local/Cellar/jupyterlab/1.2.3/libexec/lib/python3.7/site-packages (from requests->chart-studio>=1.0.0->cufflinks) (2.8)\n",
      "Requirement already satisfied: certifi>=2017.4.17 in /usr/local/Cellar/jupyterlab/1.2.3/libexec/lib/python3.7/site-packages (from requests->chart-studio>=1.0.0->cufflinks) (2019.11.28)\n",
      "Requirement already satisfied: urllib3!=1.25.0,!=1.25.1,<1.26,>=1.21.1 in /usr/local/Cellar/jupyterlab/1.2.3/libexec/lib/python3.7/site-packages (from requests->chart-studio>=1.0.0->cufflinks) (1.25.7)\n",
      "Requirement already satisfied: chardet<3.1.0,>=3.0.2 in /usr/local/Cellar/jupyterlab/1.2.3/libexec/lib/python3.7/site-packages (from requests->chart-studio>=1.0.0->cufflinks) (3.0.4)\n",
      "Requirement already satisfied: importlib-metadata in /usr/local/Cellar/jupyterlab/1.2.3/libexec/lib/python3.7/site-packages (from jsonschema!=2.5.0,>=2.4->nbformat>=4.2.0->ipywidgets>=7.0.0->cufflinks) (0.23)\n",
      "Requirement already satisfied: pyrsistent>=0.14.0 in /usr/local/Cellar/jupyterlab/1.2.3/libexec/lib/python3.7/site-packages (from jsonschema!=2.5.0,>=2.4->nbformat>=4.2.0->ipywidgets>=7.0.0->cufflinks) (0.15.5)\n",
      "Requirement already satisfied: attrs>=17.4.0 in /usr/local/Cellar/jupyterlab/1.2.3/libexec/lib/python3.7/site-packages (from jsonschema!=2.5.0,>=2.4->nbformat>=4.2.0->ipywidgets>=7.0.0->cufflinks) (19.3.0)\n",
      "Requirement already satisfied: jinja2 in /usr/local/Cellar/jupyterlab/1.2.3/libexec/lib/python3.7/site-packages (from notebook>=4.4.1->widgetsnbextension~=3.5.0->ipywidgets>=7.0.0->cufflinks) (2.10.3)\n",
      "Requirement already satisfied: pyzmq>=17 in /usr/local/Cellar/jupyterlab/1.2.3/libexec/lib/python3.7/site-packages (from notebook>=4.4.1->widgetsnbextension~=3.5.0->ipywidgets>=7.0.0->cufflinks) (18.1.0)\n",
      "Requirement already satisfied: nbconvert in /usr/local/Cellar/jupyterlab/1.2.3/libexec/lib/python3.7/site-packages (from notebook>=4.4.1->widgetsnbextension~=3.5.0->ipywidgets>=7.0.0->cufflinks) (5.6.1)\n",
      "Requirement already satisfied: Send2Trash in /usr/local/Cellar/jupyterlab/1.2.3/libexec/lib/python3.7/site-packages (from notebook>=4.4.1->widgetsnbextension~=3.5.0->ipywidgets>=7.0.0->cufflinks) (1.5.0)\n",
      "Requirement already satisfied: terminado>=0.8.1 in /usr/local/Cellar/jupyterlab/1.2.3/libexec/lib/python3.7/site-packages (from notebook>=4.4.1->widgetsnbextension~=3.5.0->ipywidgets>=7.0.0->cufflinks) (0.8.2)\n",
      "Requirement already satisfied: prometheus_client in /usr/local/Cellar/jupyterlab/1.2.3/libexec/lib/python3.7/site-packages (from notebook>=4.4.1->widgetsnbextension~=3.5.0->ipywidgets>=7.0.0->cufflinks) (0.7.1)\n",
      "Requirement already satisfied: zipp>=0.5 in /usr/local/Cellar/jupyterlab/1.2.3/libexec/lib/python3.7/site-packages (from importlib-metadata->jsonschema!=2.5.0,>=2.4->nbformat>=4.2.0->ipywidgets>=7.0.0->cufflinks) (0.6.0)\n"
     ]
    },
    {
     "name": "stdout",
     "output_type": "stream",
     "text": [
      "Requirement already satisfied: MarkupSafe>=0.23 in /usr/local/Cellar/jupyterlab/1.2.3/libexec/lib/python3.7/site-packages (from jinja2->notebook>=4.4.1->widgetsnbextension~=3.5.0->ipywidgets>=7.0.0->cufflinks) (1.1.1)\n",
      "Requirement already satisfied: mistune<2,>=0.8.1 in /usr/local/Cellar/jupyterlab/1.2.3/libexec/lib/python3.7/site-packages (from nbconvert->notebook>=4.4.1->widgetsnbextension~=3.5.0->ipywidgets>=7.0.0->cufflinks) (0.8.4)\n",
      "Requirement already satisfied: entrypoints>=0.2.2 in /usr/local/Cellar/jupyterlab/1.2.3/libexec/lib/python3.7/site-packages (from nbconvert->notebook>=4.4.1->widgetsnbextension~=3.5.0->ipywidgets>=7.0.0->cufflinks) (0.3)\n",
      "Requirement already satisfied: bleach in /usr/local/Cellar/jupyterlab/1.2.3/libexec/lib/python3.7/site-packages (from nbconvert->notebook>=4.4.1->widgetsnbextension~=3.5.0->ipywidgets>=7.0.0->cufflinks) (3.1.0)\n",
      "Requirement already satisfied: pandocfilters>=1.4.1 in /usr/local/Cellar/jupyterlab/1.2.3/libexec/lib/python3.7/site-packages (from nbconvert->notebook>=4.4.1->widgetsnbextension~=3.5.0->ipywidgets>=7.0.0->cufflinks) (1.4.2)\n",
      "Requirement already satisfied: testpath in /usr/local/Cellar/jupyterlab/1.2.3/libexec/lib/python3.7/site-packages (from nbconvert->notebook>=4.4.1->widgetsnbextension~=3.5.0->ipywidgets>=7.0.0->cufflinks) (0.4.2)\n",
      "Requirement already satisfied: defusedxml in /usr/local/Cellar/jupyterlab/1.2.3/libexec/lib/python3.7/site-packages (from nbconvert->notebook>=4.4.1->widgetsnbextension~=3.5.0->ipywidgets>=7.0.0->cufflinks) (0.6.0)\n",
      "Requirement already satisfied: more-itertools in /usr/local/Cellar/jupyterlab/1.2.3/libexec/lib/python3.7/site-packages (from zipp>=0.5->importlib-metadata->jsonschema!=2.5.0,>=2.4->nbformat>=4.2.0->ipywidgets>=7.0.0->cufflinks) (7.2.0)\n",
      "Requirement already satisfied: webencodings in /usr/local/Cellar/jupyterlab/1.2.3/libexec/lib/python3.7/site-packages (from bleach->nbconvert->notebook>=4.4.1->widgetsnbextension~=3.5.0->ipywidgets>=7.0.0->cufflinks) (0.5.1)\n",
      "Note: you may need to restart the kernel to use updated packages.\n"
     ]
    }
   ],
   "source": [
    "pip install cufflinks"
   ]
  },
  {
   "cell_type": "code",
   "execution_count": 3,
   "metadata": {},
   "outputs": [
    {
     "name": "stdout",
     "output_type": "stream",
     "text": [
      "Requirement already satisfied: lifelines in /usr/local/Cellar/jupyterlab/1.2.3/libexec/lib/python3.7/site-packages (0.23.4)\n",
      "Requirement already satisfied: autograd>=1.3 in /usr/local/Cellar/jupyterlab/1.2.3/libexec/lib/python3.7/site-packages (from lifelines) (1.3)\n",
      "Requirement already satisfied: matplotlib>=3.0 in /usr/local/Cellar/jupyterlab/1.2.3/libexec/lib/python3.7/site-packages (from lifelines) (3.1.2)\n",
      "Requirement already satisfied: numpy>=1.14.0 in /usr/local/Cellar/jupyterlab/1.2.3/libexec/lib/python3.7/site-packages (from lifelines) (1.17.4)\n",
      "Requirement already satisfied: scipy>=1.0 in /usr/local/Cellar/jupyterlab/1.2.3/libexec/lib/python3.7/site-packages (from lifelines) (1.3.3)\n",
      "Requirement already satisfied: pandas>=0.23.0 in /usr/local/Cellar/jupyterlab/1.2.3/libexec/lib/python3.7/site-packages (from lifelines) (0.25.3)\n",
      "Requirement already satisfied: autograd-gamma>=0.3 in /usr/local/Cellar/jupyterlab/1.2.3/libexec/lib/python3.7/site-packages (from lifelines) (0.4.1)\n",
      "Requirement already satisfied: future>=0.15.2 in /usr/local/Cellar/jupyterlab/1.2.3/libexec/lib/python3.7/site-packages (from autograd>=1.3->lifelines) (0.18.2)\n",
      "Requirement already satisfied: pyparsing!=2.0.4,!=2.1.2,!=2.1.6,>=2.0.1 in /usr/local/Cellar/jupyterlab/1.2.3/libexec/lib/python3.7/site-packages (from matplotlib>=3.0->lifelines) (2.4.5)\n",
      "Requirement already satisfied: kiwisolver>=1.0.1 in /usr/local/Cellar/jupyterlab/1.2.3/libexec/lib/python3.7/site-packages (from matplotlib>=3.0->lifelines) (1.1.0)\n",
      "Requirement already satisfied: python-dateutil>=2.1 in /usr/local/Cellar/jupyterlab/1.2.3/libexec/lib/python3.7/site-packages (from matplotlib>=3.0->lifelines) (2.8.0)\n",
      "Requirement already satisfied: cycler>=0.10 in /usr/local/Cellar/jupyterlab/1.2.3/libexec/lib/python3.7/site-packages (from matplotlib>=3.0->lifelines) (0.10.0)\n",
      "Requirement already satisfied: pytz>=2017.2 in /usr/local/Cellar/jupyterlab/1.2.3/libexec/lib/python3.7/site-packages (from pandas>=0.23.0->lifelines) (2019.3)\n",
      "Requirement already satisfied: setuptools in /usr/local/Cellar/jupyterlab/1.2.3/libexec/lib/python3.7/site-packages (from kiwisolver>=1.0.1->matplotlib>=3.0->lifelines) (42.0.1)\n",
      "Requirement already satisfied: six>=1.5 in /usr/local/Cellar/jupyterlab/1.2.3/libexec/lib/python3.7/site-packages (from python-dateutil>=2.1->matplotlib>=3.0->lifelines) (1.12.0)\n",
      "Note: you may need to restart the kernel to use updated packages.\n"
     ]
    }
   ],
   "source": [
    "pip install lifelines"
   ]
  },
  {
   "cell_type": "code",
   "execution_count": 4,
   "metadata": {},
   "outputs": [
    {
     "data": {
      "text/html": [
       "        <script type=\"text/javascript\">\n",
       "        window.PlotlyConfig = {MathJaxConfig: 'local'};\n",
       "        if (window.MathJax) {MathJax.Hub.Config({SVG: {font: \"STIX-Web\"}});}\n",
       "        if (typeof require !== 'undefined') {\n",
       "        require.undef(\"plotly\");\n",
       "        requirejs.config({\n",
       "            paths: {\n",
       "                'plotly': ['https://cdn.plot.ly/plotly-latest.min']\n",
       "            }\n",
       "        });\n",
       "        require(['plotly'], function(Plotly) {\n",
       "            window._Plotly = Plotly;\n",
       "        });\n",
       "        }\n",
       "        </script>\n",
       "        "
      ]
     },
     "metadata": {},
     "output_type": "display_data"
    }
   ],
   "source": [
    "import warnings\n",
    "warnings.filterwarnings('ignore')\n",
    "import chart_studio\n",
    "import plotly.graph_objects as go\n",
    "import plotly.io as pio\n",
    "pio.templates.default = \"none\"\n",
    "from plotly.subplots import make_subplots\n",
    "import pandas as pd\n",
    "import cufflinks as cf\n",
    "from lifelines import KaplanMeierFitter\n",
    "cf.go_offline()"
   ]
  },
  {
   "cell_type": "code",
   "execution_count": 5,
   "metadata": {},
   "outputs": [
    {
     "data": {
      "text/html": [
       "<div>\n",
       "<style scoped>\n",
       "    .dataframe tbody tr th:only-of-type {\n",
       "        vertical-align: middle;\n",
       "    }\n",
       "\n",
       "    .dataframe tbody tr th {\n",
       "        vertical-align: top;\n",
       "    }\n",
       "\n",
       "    .dataframe thead th {\n",
       "        text-align: right;\n",
       "    }\n",
       "</style>\n",
       "<table border=\"1\" class=\"dataframe\">\n",
       "  <thead>\n",
       "    <tr style=\"text-align: right;\">\n",
       "      <th></th>\n",
       "      <th>ID</th>\n",
       "      <th>Name</th>\n",
       "      <th>Position</th>\n",
       "      <th>Age</th>\n",
       "      <th>Height(cm)</th>\n",
       "      <th>Weight(kgs)</th>\n",
       "      <th>Preferred Foot</th>\n",
       "      <th>Weak Foot</th>\n",
       "      <th>Nationality</th>\n",
       "      <th>Continent</th>\n",
       "      <th>...</th>\n",
       "      <th>LWB</th>\n",
       "      <th>LDM</th>\n",
       "      <th>CDM</th>\n",
       "      <th>RDM</th>\n",
       "      <th>RWB</th>\n",
       "      <th>LB</th>\n",
       "      <th>LCB</th>\n",
       "      <th>CB</th>\n",
       "      <th>RCB</th>\n",
       "      <th>RB</th>\n",
       "    </tr>\n",
       "  </thead>\n",
       "  <tbody>\n",
       "    <tr>\n",
       "      <th>0</th>\n",
       "      <td>158023</td>\n",
       "      <td>L. Messi</td>\n",
       "      <td>RF</td>\n",
       "      <td>31</td>\n",
       "      <td>173.727522</td>\n",
       "      <td>72.137028</td>\n",
       "      <td>Left</td>\n",
       "      <td>4.0</td>\n",
       "      <td>Argentina</td>\n",
       "      <td>America</td>\n",
       "      <td>...</td>\n",
       "      <td>64</td>\n",
       "      <td>61</td>\n",
       "      <td>61</td>\n",
       "      <td>61</td>\n",
       "      <td>64</td>\n",
       "      <td>59</td>\n",
       "      <td>47</td>\n",
       "      <td>47</td>\n",
       "      <td>47</td>\n",
       "      <td>59</td>\n",
       "    </tr>\n",
       "    <tr>\n",
       "      <th>1</th>\n",
       "      <td>20801</td>\n",
       "      <td>Cristiano Ronaldo</td>\n",
       "      <td>ST</td>\n",
       "      <td>33</td>\n",
       "      <td>188.966778</td>\n",
       "      <td>83.025636</td>\n",
       "      <td>Right</td>\n",
       "      <td>4.0</td>\n",
       "      <td>Portugal</td>\n",
       "      <td>Europe</td>\n",
       "      <td>...</td>\n",
       "      <td>65</td>\n",
       "      <td>61</td>\n",
       "      <td>61</td>\n",
       "      <td>61</td>\n",
       "      <td>65</td>\n",
       "      <td>61</td>\n",
       "      <td>53</td>\n",
       "      <td>53</td>\n",
       "      <td>53</td>\n",
       "      <td>61</td>\n",
       "    </tr>\n",
       "    <tr>\n",
       "      <th>2</th>\n",
       "      <td>190871</td>\n",
       "      <td>Neymar Jr</td>\n",
       "      <td>LW</td>\n",
       "      <td>26</td>\n",
       "      <td>179.823225</td>\n",
       "      <td>68.053800</td>\n",
       "      <td>Right</td>\n",
       "      <td>5.0</td>\n",
       "      <td>Brazil</td>\n",
       "      <td>America</td>\n",
       "      <td>...</td>\n",
       "      <td>65</td>\n",
       "      <td>60</td>\n",
       "      <td>60</td>\n",
       "      <td>60</td>\n",
       "      <td>65</td>\n",
       "      <td>60</td>\n",
       "      <td>47</td>\n",
       "      <td>47</td>\n",
       "      <td>47</td>\n",
       "      <td>60</td>\n",
       "    </tr>\n",
       "    <tr>\n",
       "      <th>3</th>\n",
       "      <td>193080</td>\n",
       "      <td>De Gea</td>\n",
       "      <td>GK</td>\n",
       "      <td>27</td>\n",
       "      <td>195.062481</td>\n",
       "      <td>76.220256</td>\n",
       "      <td>Right</td>\n",
       "      <td>3.0</td>\n",
       "      <td>Spain</td>\n",
       "      <td>Europe</td>\n",
       "      <td>...</td>\n",
       "      <td>50</td>\n",
       "      <td>50</td>\n",
       "      <td>50</td>\n",
       "      <td>50</td>\n",
       "      <td>50</td>\n",
       "      <td>50</td>\n",
       "      <td>50</td>\n",
       "      <td>50</td>\n",
       "      <td>50</td>\n",
       "      <td>50</td>\n",
       "    </tr>\n",
       "    <tr>\n",
       "      <th>4</th>\n",
       "      <td>192985</td>\n",
       "      <td>K. De Bruyne</td>\n",
       "      <td>RCM</td>\n",
       "      <td>27</td>\n",
       "      <td>155.745200</td>\n",
       "      <td>69.868568</td>\n",
       "      <td>Right</td>\n",
       "      <td>5.0</td>\n",
       "      <td>Belgium</td>\n",
       "      <td>Europe</td>\n",
       "      <td>...</td>\n",
       "      <td>77</td>\n",
       "      <td>77</td>\n",
       "      <td>77</td>\n",
       "      <td>77</td>\n",
       "      <td>77</td>\n",
       "      <td>73</td>\n",
       "      <td>66</td>\n",
       "      <td>66</td>\n",
       "      <td>66</td>\n",
       "      <td>73</td>\n",
       "    </tr>\n",
       "  </tbody>\n",
       "</table>\n",
       "<p>5 rows × 90 columns</p>\n",
       "</div>"
      ],
      "text/plain": [
       "       ID               Name Position  Age  Height(cm)  Weight(kgs)  \\\n",
       "0  158023           L. Messi       RF   31  173.727522    72.137028   \n",
       "1   20801  Cristiano Ronaldo       ST   33  188.966778    83.025636   \n",
       "2  190871          Neymar Jr       LW   26  179.823225    68.053800   \n",
       "3  193080             De Gea       GK   27  195.062481    76.220256   \n",
       "4  192985       K. De Bruyne      RCM   27  155.745200    69.868568   \n",
       "\n",
       "  Preferred Foot  Weak Foot Nationality Continent  ...  LWB LDM CDM  RDM  RWB  \\\n",
       "0           Left        4.0   Argentina   America  ...   64  61  61   61   64   \n",
       "1          Right        4.0    Portugal    Europe  ...   65  61  61   61   65   \n",
       "2          Right        5.0      Brazil   America  ...   65  60  60   60   65   \n",
       "3          Right        3.0       Spain    Europe  ...   50  50  50   50   50   \n",
       "4          Right        5.0     Belgium    Europe  ...   77  77  77   77   77   \n",
       "\n",
       "   LB  LCB  CB  RCB  RB  \n",
       "0  59   47  47   47  59  \n",
       "1  61   53  53   53  61  \n",
       "2  60   47  47   47  60  \n",
       "3  50   50  50   50  50  \n",
       "4  73   66  66   66  73  \n",
       "\n",
       "[5 rows x 90 columns]"
      ]
     },
     "execution_count": 5,
     "metadata": {},
     "output_type": "execute_result"
    }
   ],
   "source": [
    "data=pd.read_csv('survival.csv')\n",
    "data=data.dropna()\n",
    "data.head()"
   ]
  },
  {
   "cell_type": "code",
   "execution_count": 6,
   "metadata": {},
   "outputs": [],
   "source": [
    "data['date_column'] = pd.to_datetime(data['Joined'])"
   ]
  },
  {
   "cell_type": "code",
   "execution_count": 7,
   "metadata": {},
   "outputs": [],
   "source": [
    "data['year'] = pd.DatetimeIndex(data['Joined']).year\n",
    "data['month'] = pd.DatetimeIndex(data['Joined']).month\n",
    "data['day'] = pd.DatetimeIndex(data['Joined']).day"
   ]
  },
  {
   "cell_type": "code",
   "execution_count": 8,
   "metadata": {},
   "outputs": [],
   "source": [
    "retirement = []\n",
    "\n",
    "for i in data['Age']:\n",
    "    if i > 29:\n",
    "        retirement.append(1)\n",
    "    else:\n",
    "        retirement.append(0)\n",
    "        \n",
    "\n",
    "data['Retirement'] = retirement"
   ]
  },
  {
   "cell_type": "code",
   "execution_count": 9,
   "metadata": {},
   "outputs": [],
   "source": [
    "data['Year'] = pd.DatetimeIndex(data['Contract_Expiry']).year"
   ]
  },
  {
   "cell_type": "code",
   "execution_count": 10,
   "metadata": {},
   "outputs": [],
   "source": [
    "finish = []\n",
    "\n",
    "for i in data['Year']:\n",
    "        if i > 2022:\n",
    "            finish.append(2043 - i)\n",
    "        else:\n",
    "            finish.append(2043 - i)\n",
    "        \n",
    "\n",
    "data['Expire'] = finish"
   ]
  },
  {
   "cell_type": "code",
   "execution_count": 11,
   "metadata": {},
   "outputs": [
    {
     "data": {
      "text/plain": [
       "Series([], dtype: int64)"
      ]
     },
     "execution_count": 11,
     "metadata": {},
     "output_type": "execute_result"
    }
   ],
   "source": [
    "null_cols=data.isnull().sum()\n",
    "null_cols[null_cols>0]"
   ]
  },
  {
   "cell_type": "code",
   "execution_count": 12,
   "metadata": {},
   "outputs": [],
   "source": [
    "def survival(data, group_field, time_field, event_field):\n",
    "    model = KaplanMeierFitter()\n",
    "    results = []\n",
    "    \n",
    "    for i in data[group_field].unique():\n",
    "        group = data[data[group_field]==i]\n",
    "        T = group[time_field]\n",
    "        E = group[event_field]\n",
    "        model.fit(T, E, label=str(i))\n",
    "        results.append(model.survival_function_)\n",
    "    \n",
    "    survival = pd.concat(results, axis=1)\n",
    "    return survival"
   ]
  },
  {
   "cell_type": "code",
   "execution_count": 13,
   "metadata": {},
   "outputs": [],
   "source": [
    "#data_pos = data.copy()"
   ]
  },
  {
   "cell_type": "code",
   "execution_count": 14,
   "metadata": {},
   "outputs": [],
   "source": [
    "#positions = {\n",
    "#    'Forward' : ['CF', 'LF', 'LS', 'LW', 'RF', 'RS', 'RW', 'ST'],\n",
    "#    'Midfield' : ['CAM', 'CDM', 'CM', 'LAM', 'LCM', 'LDM', 'LM', 'RAM', 'RCB', 'RCM', 'RDM', 'RM'],\n",
    "#    'Defense' : ['CB', 'LB', 'LCB', 'LWB', 'RB', 'RCB', 'RWB'],\n",
    "#    'Goalkeeper' : ['GK']}"
   ]
  },
  {
   "cell_type": "code",
   "execution_count": 15,
   "metadata": {},
   "outputs": [],
   "source": [
    "#def positions_counts(df):  \n",
    "#    positions = {\n",
    "#    'Forward' : ['CF', 'LF', 'LS', 'LW', 'RF', 'RS', 'RW', 'ST'],\n",
    "#    'Midfield' : ['CAM', 'CDM', 'CM', 'LAM', 'LCM', 'LDM', 'LM', 'RAM', 'RCB', 'RCM', 'RDM', 'RM'],\n",
    "#    'Defense' : ['CB', 'LB', 'LCB', 'LWB', 'RB', 'RCB', 'RWB'],\n",
    "#    'Goalkeeper' : ['GK']}\n",
    "    \n",
    "#    pos_dic = {'Forward':[], 'Midfield':[], 'Defense':[], 'Goalkeeper':[]}\n",
    "#    for i in positions:\n",
    "#        pos_dic[i].append(df.loc[positions[i]].count()['ID'])\n",
    "#    return pos_dic"
   ]
  },
  {
   "cell_type": "code",
   "execution_count": 16,
   "metadata": {},
   "outputs": [],
   "source": [
    "#total_pos = positions_counts(data_pos)\n",
    "#total_pos"
   ]
  },
  {
   "cell_type": "code",
   "execution_count": 17,
   "metadata": {},
   "outputs": [],
   "source": [
    "positions = {\n",
    "    'Forward' : ['CF', 'LF', 'LS', 'LW', 'RF', 'RS', 'RW', 'ST'],\n",
    "    'Midfield' : ['CAM', 'CDM', 'CM', 'LAM', 'LCM', 'LDM', 'LM', 'RAM', 'RCB', 'RCM', 'RDM', 'RM'],\n",
    "    'Defense' : ['CB', 'LB', 'LCB', 'LWB', 'RB', 'RCB', 'RWB'],\n",
    "    'Goalkeeper' : ['GK']}"
   ]
  },
  {
   "cell_type": "code",
   "execution_count": 18,
   "metadata": {},
   "outputs": [],
   "source": [
    "positions_gen = []\n",
    "for e in data['Position']:\n",
    "    if e in positions['Forward']:\n",
    "        positions_gen.append('Forward')\n",
    "    elif e in positions['Midfield']:\n",
    "        positions_gen.append('Midfield')\n",
    "    elif e in positions['Defense']:\n",
    "        positions_gen.append('Defense')\n",
    "    else:\n",
    "        positions_gen.append('Goalkeeper')"
   ]
  },
  {
   "cell_type": "code",
   "execution_count": 19,
   "metadata": {},
   "outputs": [],
   "source": [
    "data['Generic'] = positions_gen"
   ]
  },
  {
   "cell_type": "code",
   "execution_count": 20,
   "metadata": {},
   "outputs": [
    {
     "data": {
      "text/html": [
       "<div>\n",
       "<style scoped>\n",
       "    .dataframe tbody tr th:only-of-type {\n",
       "        vertical-align: middle;\n",
       "    }\n",
       "\n",
       "    .dataframe tbody tr th {\n",
       "        vertical-align: top;\n",
       "    }\n",
       "\n",
       "    .dataframe thead th {\n",
       "        text-align: right;\n",
       "    }\n",
       "</style>\n",
       "<table border=\"1\" class=\"dataframe\">\n",
       "  <thead>\n",
       "    <tr style=\"text-align: right;\">\n",
       "      <th></th>\n",
       "      <th>ID</th>\n",
       "      <th>Name</th>\n",
       "      <th>Position</th>\n",
       "      <th>Age</th>\n",
       "      <th>Height(cm)</th>\n",
       "      <th>Weight(kgs)</th>\n",
       "      <th>Preferred Foot</th>\n",
       "      <th>Weak Foot</th>\n",
       "      <th>Nationality</th>\n",
       "      <th>Continent</th>\n",
       "      <th>...</th>\n",
       "      <th>RCB</th>\n",
       "      <th>RB</th>\n",
       "      <th>date_column</th>\n",
       "      <th>year</th>\n",
       "      <th>month</th>\n",
       "      <th>day</th>\n",
       "      <th>Retirement</th>\n",
       "      <th>Year</th>\n",
       "      <th>Expire</th>\n",
       "      <th>Generic</th>\n",
       "    </tr>\n",
       "  </thead>\n",
       "  <tbody>\n",
       "    <tr>\n",
       "      <th>0</th>\n",
       "      <td>158023</td>\n",
       "      <td>L. Messi</td>\n",
       "      <td>RF</td>\n",
       "      <td>31</td>\n",
       "      <td>173.727522</td>\n",
       "      <td>72.137028</td>\n",
       "      <td>Left</td>\n",
       "      <td>4.0</td>\n",
       "      <td>Argentina</td>\n",
       "      <td>America</td>\n",
       "      <td>...</td>\n",
       "      <td>47</td>\n",
       "      <td>59</td>\n",
       "      <td>2004-07-01</td>\n",
       "      <td>2004</td>\n",
       "      <td>7</td>\n",
       "      <td>1</td>\n",
       "      <td>1</td>\n",
       "      <td>2021</td>\n",
       "      <td>22</td>\n",
       "      <td>Forward</td>\n",
       "    </tr>\n",
       "    <tr>\n",
       "      <th>1</th>\n",
       "      <td>20801</td>\n",
       "      <td>Cristiano Ronaldo</td>\n",
       "      <td>ST</td>\n",
       "      <td>33</td>\n",
       "      <td>188.966778</td>\n",
       "      <td>83.025636</td>\n",
       "      <td>Right</td>\n",
       "      <td>4.0</td>\n",
       "      <td>Portugal</td>\n",
       "      <td>Europe</td>\n",
       "      <td>...</td>\n",
       "      <td>53</td>\n",
       "      <td>61</td>\n",
       "      <td>2018-07-10</td>\n",
       "      <td>2018</td>\n",
       "      <td>7</td>\n",
       "      <td>10</td>\n",
       "      <td>1</td>\n",
       "      <td>2022</td>\n",
       "      <td>21</td>\n",
       "      <td>Forward</td>\n",
       "    </tr>\n",
       "    <tr>\n",
       "      <th>6</th>\n",
       "      <td>177003</td>\n",
       "      <td>L. Modrić</td>\n",
       "      <td>RCM</td>\n",
       "      <td>32</td>\n",
       "      <td>176.775373</td>\n",
       "      <td>66.239032</td>\n",
       "      <td>Right</td>\n",
       "      <td>4.0</td>\n",
       "      <td>Croatia</td>\n",
       "      <td>Europe</td>\n",
       "      <td>...</td>\n",
       "      <td>71</td>\n",
       "      <td>79</td>\n",
       "      <td>2012-08-01</td>\n",
       "      <td>2012</td>\n",
       "      <td>8</td>\n",
       "      <td>1</td>\n",
       "      <td>1</td>\n",
       "      <td>2020</td>\n",
       "      <td>23</td>\n",
       "      <td>Midfield</td>\n",
       "    </tr>\n",
       "    <tr>\n",
       "      <th>7</th>\n",
       "      <td>176580</td>\n",
       "      <td>L. Suárez</td>\n",
       "      <td>RS</td>\n",
       "      <td>31</td>\n",
       "      <td>182.871076</td>\n",
       "      <td>86.201480</td>\n",
       "      <td>Right</td>\n",
       "      <td>4.0</td>\n",
       "      <td>Uruguay</td>\n",
       "      <td>America</td>\n",
       "      <td>...</td>\n",
       "      <td>63</td>\n",
       "      <td>66</td>\n",
       "      <td>2014-07-11</td>\n",
       "      <td>2014</td>\n",
       "      <td>7</td>\n",
       "      <td>11</td>\n",
       "      <td>1</td>\n",
       "      <td>2021</td>\n",
       "      <td>22</td>\n",
       "      <td>Forward</td>\n",
       "    </tr>\n",
       "    <tr>\n",
       "      <th>8</th>\n",
       "      <td>155862</td>\n",
       "      <td>Sergio Ramos</td>\n",
       "      <td>RCB</td>\n",
       "      <td>32</td>\n",
       "      <td>182.871076</td>\n",
       "      <td>82.118252</td>\n",
       "      <td>Right</td>\n",
       "      <td>3.0</td>\n",
       "      <td>Spain</td>\n",
       "      <td>Europe</td>\n",
       "      <td>...</td>\n",
       "      <td>87</td>\n",
       "      <td>84</td>\n",
       "      <td>2005-08-01</td>\n",
       "      <td>2005</td>\n",
       "      <td>8</td>\n",
       "      <td>1</td>\n",
       "      <td>1</td>\n",
       "      <td>2020</td>\n",
       "      <td>23</td>\n",
       "      <td>Midfield</td>\n",
       "    </tr>\n",
       "    <tr>\n",
       "      <th>...</th>\n",
       "      <td>...</td>\n",
       "      <td>...</td>\n",
       "      <td>...</td>\n",
       "      <td>...</td>\n",
       "      <td>...</td>\n",
       "      <td>...</td>\n",
       "      <td>...</td>\n",
       "      <td>...</td>\n",
       "      <td>...</td>\n",
       "      <td>...</td>\n",
       "      <td>...</td>\n",
       "      <td>...</td>\n",
       "      <td>...</td>\n",
       "      <td>...</td>\n",
       "      <td>...</td>\n",
       "      <td>...</td>\n",
       "      <td>...</td>\n",
       "      <td>...</td>\n",
       "      <td>...</td>\n",
       "      <td>...</td>\n",
       "      <td>...</td>\n",
       "    </tr>\n",
       "    <tr>\n",
       "      <th>17857</th>\n",
       "      <td>243161</td>\n",
       "      <td>P. Azizi</td>\n",
       "      <td>CB</td>\n",
       "      <td>30</td>\n",
       "      <td>155.440415</td>\n",
       "      <td>78.035024</td>\n",
       "      <td>Right</td>\n",
       "      <td>3.0</td>\n",
       "      <td>Sweden</td>\n",
       "      <td>Europe</td>\n",
       "      <td>...</td>\n",
       "      <td>50</td>\n",
       "      <td>47</td>\n",
       "      <td>2011-02-18</td>\n",
       "      <td>2011</td>\n",
       "      <td>2</td>\n",
       "      <td>18</td>\n",
       "      <td>1</td>\n",
       "      <td>2019</td>\n",
       "      <td>24</td>\n",
       "      <td>Defense</td>\n",
       "    </tr>\n",
       "    <tr>\n",
       "      <th>17866</th>\n",
       "      <td>232676</td>\n",
       "      <td>N. Hatta</td>\n",
       "      <td>GK</td>\n",
       "      <td>32</td>\n",
       "      <td>185.918927</td>\n",
       "      <td>76.220256</td>\n",
       "      <td>Right</td>\n",
       "      <td>3.0</td>\n",
       "      <td>Japan</td>\n",
       "      <td>Asia</td>\n",
       "      <td>...</td>\n",
       "      <td>50</td>\n",
       "      <td>50</td>\n",
       "      <td>2005-01-01</td>\n",
       "      <td>2005</td>\n",
       "      <td>1</td>\n",
       "      <td>1</td>\n",
       "      <td>1</td>\n",
       "      <td>2021</td>\n",
       "      <td>22</td>\n",
       "      <td>Goalkeeper</td>\n",
       "    </tr>\n",
       "    <tr>\n",
       "      <th>18043</th>\n",
       "      <td>237917</td>\n",
       "      <td>A. Suzuki</td>\n",
       "      <td>GK</td>\n",
       "      <td>31</td>\n",
       "      <td>182.871076</td>\n",
       "      <td>79.849792</td>\n",
       "      <td>Right</td>\n",
       "      <td>2.0</td>\n",
       "      <td>Japan</td>\n",
       "      <td>Asia</td>\n",
       "      <td>...</td>\n",
       "      <td>50</td>\n",
       "      <td>50</td>\n",
       "      <td>2017-01-06</td>\n",
       "      <td>2017</td>\n",
       "      <td>1</td>\n",
       "      <td>6</td>\n",
       "      <td>1</td>\n",
       "      <td>2021</td>\n",
       "      <td>22</td>\n",
       "      <td>Goalkeeper</td>\n",
       "    </tr>\n",
       "    <tr>\n",
       "      <th>18171</th>\n",
       "      <td>237746</td>\n",
       "      <td>Y. Uchimura</td>\n",
       "      <td>CAM</td>\n",
       "      <td>33</td>\n",
       "      <td>179.823225</td>\n",
       "      <td>67.146416</td>\n",
       "      <td>Right</td>\n",
       "      <td>3.0</td>\n",
       "      <td>Japan</td>\n",
       "      <td>Asia</td>\n",
       "      <td>...</td>\n",
       "      <td>43</td>\n",
       "      <td>43</td>\n",
       "      <td>2010-01-01</td>\n",
       "      <td>2010</td>\n",
       "      <td>1</td>\n",
       "      <td>1</td>\n",
       "      <td>1</td>\n",
       "      <td>2021</td>\n",
       "      <td>22</td>\n",
       "      <td>Midfield</td>\n",
       "    </tr>\n",
       "    <tr>\n",
       "      <th>18183</th>\n",
       "      <td>53748</td>\n",
       "      <td>K. Pilkington</td>\n",
       "      <td>GK</td>\n",
       "      <td>44</td>\n",
       "      <td>188.966778</td>\n",
       "      <td>86.201480</td>\n",
       "      <td>Right</td>\n",
       "      <td>2.0</td>\n",
       "      <td>England</td>\n",
       "      <td>Europe</td>\n",
       "      <td>...</td>\n",
       "      <td>50</td>\n",
       "      <td>50</td>\n",
       "      <td>2018-08-17</td>\n",
       "      <td>2018</td>\n",
       "      <td>8</td>\n",
       "      <td>17</td>\n",
       "      <td>1</td>\n",
       "      <td>2023</td>\n",
       "      <td>20</td>\n",
       "      <td>Goalkeeper</td>\n",
       "    </tr>\n",
       "  </tbody>\n",
       "</table>\n",
       "<p>3499 rows × 98 columns</p>\n",
       "</div>"
      ],
      "text/plain": [
       "           ID               Name Position  Age  Height(cm)  Weight(kgs)  \\\n",
       "0      158023           L. Messi       RF   31  173.727522    72.137028   \n",
       "1       20801  Cristiano Ronaldo       ST   33  188.966778    83.025636   \n",
       "6      177003          L. Modrić      RCM   32  176.775373    66.239032   \n",
       "7      176580          L. Suárez       RS   31  182.871076    86.201480   \n",
       "8      155862       Sergio Ramos      RCB   32  182.871076    82.118252   \n",
       "...       ...                ...      ...  ...         ...          ...   \n",
       "17857  243161           P. Azizi       CB   30  155.440415    78.035024   \n",
       "17866  232676           N. Hatta       GK   32  185.918927    76.220256   \n",
       "18043  237917          A. Suzuki       GK   31  182.871076    79.849792   \n",
       "18171  237746        Y. Uchimura      CAM   33  179.823225    67.146416   \n",
       "18183   53748      K. Pilkington       GK   44  188.966778    86.201480   \n",
       "\n",
       "      Preferred Foot  Weak Foot Nationality Continent  ...  RCB  RB  \\\n",
       "0               Left        4.0   Argentina   America  ...   47  59   \n",
       "1              Right        4.0    Portugal    Europe  ...   53  61   \n",
       "6              Right        4.0     Croatia    Europe  ...   71  79   \n",
       "7              Right        4.0     Uruguay   America  ...   63  66   \n",
       "8              Right        3.0       Spain    Europe  ...   87  84   \n",
       "...              ...        ...         ...       ...  ...  ...  ..   \n",
       "17857          Right        3.0      Sweden    Europe  ...   50  47   \n",
       "17866          Right        3.0       Japan      Asia  ...   50  50   \n",
       "18043          Right        2.0       Japan      Asia  ...   50  50   \n",
       "18171          Right        3.0       Japan      Asia  ...   43  43   \n",
       "18183          Right        2.0     England    Europe  ...   50  50   \n",
       "\n",
       "      date_column  year  month  day  Retirement  Year  Expire     Generic  \n",
       "0      2004-07-01  2004      7    1           1  2021      22     Forward  \n",
       "1      2018-07-10  2018      7   10           1  2022      21     Forward  \n",
       "6      2012-08-01  2012      8    1           1  2020      23    Midfield  \n",
       "7      2014-07-11  2014      7   11           1  2021      22     Forward  \n",
       "8      2005-08-01  2005      8    1           1  2020      23    Midfield  \n",
       "...           ...   ...    ...  ...         ...   ...     ...         ...  \n",
       "17857  2011-02-18  2011      2   18           1  2019      24     Defense  \n",
       "17866  2005-01-01  2005      1    1           1  2021      22  Goalkeeper  \n",
       "18043  2017-01-06  2017      1    6           1  2021      22  Goalkeeper  \n",
       "18171  2010-01-01  2010      1    1           1  2021      22    Midfield  \n",
       "18183  2018-08-17  2018      8   17           1  2023      20  Goalkeeper  \n",
       "\n",
       "[3499 rows x 98 columns]"
      ]
     },
     "execution_count": 20,
     "metadata": {},
     "output_type": "execute_result"
    }
   ],
   "source": [
    "test = data[(data['Age']>=30) & (data['Retirement']==1)]\n",
    "test"
   ]
  },
  {
   "cell_type": "code",
   "execution_count": 21,
   "metadata": {},
   "outputs": [
    {
     "data": {
      "application/vnd.plotly.v1+json": {
       "config": {
        "linkText": "Export to plot.ly",
        "plotlyServerURL": "https://plot.ly",
        "showLink": true
       },
       "data": [
        {
         "line": {
          "color": "rgba(255, 153, 51, 1.0)",
          "dash": "solid",
          "shape": "linear",
          "width": 1.3
         },
         "mode": "lines",
         "name": "Forward",
         "text": "",
         "type": "scatter",
         "x": [
          0,
          30,
          31,
          32,
          33,
          34,
          35,
          36,
          37,
          38,
          39,
          40,
          41,
          42,
          44,
          45
         ],
         "y": [
          1,
          0.6981132075471697,
          0.49056603773584906,
          0.3550600343053173,
          0.24185248713550608,
          0.1337907375643225,
          0.07547169811320754,
          0.030874785591766724,
          0.013722126929674094,
          0.005145797598627785,
          0,
          "",
          "",
          "",
          "",
          ""
         ]
        },
        {
         "line": {
          "color": "rgba(55, 128, 191, 1.0)",
          "dash": "solid",
          "shape": "linear",
          "width": 1.3
         },
         "mode": "lines",
         "name": "Midfield",
         "text": "",
         "type": "scatter",
         "x": [
          0,
          30,
          31,
          32,
          33,
          34,
          35,
          36,
          37,
          38,
          39,
          40,
          41,
          42,
          44,
          45
         ],
         "y": [
          1,
          0.7151379567486954,
          0.4988814317673381,
          0.3281133482475764,
          0.21625652498135722,
          0.10514541387024612,
          0.05667412378821776,
          0.03355704697986577,
          0.014168530947054437,
          0.00671140939597316,
          0.001491424310216257,
          0.0007457121551081284,
          0,
          "",
          "",
          ""
         ]
        },
        {
         "line": {
          "color": "rgba(50, 171, 96, 1.0)",
          "dash": "solid",
          "shape": "linear",
          "width": 1.3
         },
         "mode": "lines",
         "name": "Defense",
         "text": "",
         "type": "scatter",
         "x": [
          0,
          30,
          31,
          32,
          33,
          34,
          35,
          36,
          37,
          38,
          39,
          40,
          41,
          42,
          44,
          45
         ],
         "y": [
          1,
          0.7368421052631582,
          0.5292397660818713,
          0.35087719298245623,
          0.22124756335282658,
          0.09941520467836254,
          0.05945419103313841,
          0.02923976608187135,
          0.013645224171539965,
          0.007797270955165694,
          0.004873294346978558,
          0.0009746588693957116,
          0,
          "",
          "",
          ""
         ]
        },
        {
         "line": {
          "color": "rgba(128, 0, 128, 1.0)",
          "dash": "solid",
          "shape": "linear",
          "width": 1.3
         },
         "mode": "lines",
         "name": "Goalkeeper",
         "text": "",
         "type": "scatter",
         "x": [
          0,
          30,
          31,
          32,
          33,
          34,
          35,
          36,
          37,
          38,
          39,
          40,
          41,
          42,
          44,
          45
         ],
         "y": [
          1,
          0.8378870673952645,
          0.6867030965391623,
          0.53551912568306,
          0.4280510018214937,
          0.30601092896174864,
          0.20400728597449905,
          0.13296903460837886,
          0.07832422586520948,
          0.04918032786885247,
          0.027322404371584702,
          0.012750455373406197,
          0.007285974499089256,
          0.0054644808743169425,
          0.0018214936247723135,
          0
         ]
        }
       ],
       "layout": {
        "legend": {
         "bgcolor": "#F5F6F9",
         "font": {
          "color": "#4D5663"
         }
        },
        "paper_bgcolor": "#F5F6F9",
        "plot_bgcolor": "#F5F6F9",
        "template": {
         "data": {
          "scatter": [
           {
            "type": "scatter"
           }
          ]
         }
        },
        "title": {
         "font": {
          "color": "#4D5663"
         },
         "text": "Años de carrera profesional por posición antes del retiro"
        },
        "xaxis": {
         "gridcolor": "#E1E5ED",
         "showgrid": true,
         "tickfont": {
          "color": "#4D5663"
         },
         "title": {
          "font": {
           "color": "#4D5663"
          },
          "text": "Años)"
         },
         "zerolinecolor": "#E1E5ED"
        },
        "yaxis": {
         "gridcolor": "#E1E5ED",
         "showgrid": true,
         "tickfont": {
          "color": "#4D5663"
         },
         "title": {
          "font": {
           "color": "#4D5663"
          },
          "text": "Tasa de retiro"
         },
         "zerolinecolor": "#E1E5ED"
        }
       }
      },
      "text/html": [
       "<div>\n",
       "        \n",
       "        \n",
       "            <div id=\"067312cb-6b02-4a49-b1ee-404f972b907e\" class=\"plotly-graph-div\" style=\"height:525px; width:100%;\"></div>\n",
       "            <script type=\"text/javascript\">\n",
       "                require([\"plotly\"], function(Plotly) {\n",
       "                    window.PLOTLYENV=window.PLOTLYENV || {};\n",
       "                    window.PLOTLYENV.BASE_URL='https://plot.ly';\n",
       "                    \n",
       "                if (document.getElementById(\"067312cb-6b02-4a49-b1ee-404f972b907e\")) {\n",
       "                    Plotly.newPlot(\n",
       "                        '067312cb-6b02-4a49-b1ee-404f972b907e',\n",
       "                        [{\"line\": {\"color\": \"rgba(255, 153, 51, 1.0)\", \"dash\": \"solid\", \"shape\": \"linear\", \"width\": 1.3}, \"mode\": \"lines\", \"name\": \"Forward\", \"text\": \"\", \"type\": \"scatter\", \"x\": [0.0, 30.0, 31.0, 32.0, 33.0, 34.0, 35.0, 36.0, 37.0, 38.0, 39.0, 40.0, 41.0, 42.0, 44.0, 45.0], \"y\": [1.0, 0.6981132075471697, 0.49056603773584906, 0.3550600343053173, 0.24185248713550608, 0.1337907375643225, 0.07547169811320754, 0.030874785591766724, 0.013722126929674094, 0.005145797598627785, 0.0, \"\", \"\", \"\", \"\", \"\"]}, {\"line\": {\"color\": \"rgba(55, 128, 191, 1.0)\", \"dash\": \"solid\", \"shape\": \"linear\", \"width\": 1.3}, \"mode\": \"lines\", \"name\": \"Midfield\", \"text\": \"\", \"type\": \"scatter\", \"x\": [0.0, 30.0, 31.0, 32.0, 33.0, 34.0, 35.0, 36.0, 37.0, 38.0, 39.0, 40.0, 41.0, 42.0, 44.0, 45.0], \"y\": [1.0, 0.7151379567486954, 0.4988814317673381, 0.3281133482475764, 0.21625652498135722, 0.10514541387024612, 0.05667412378821776, 0.03355704697986577, 0.014168530947054437, 0.00671140939597316, 0.001491424310216257, 0.0007457121551081284, 0.0, \"\", \"\", \"\"]}, {\"line\": {\"color\": \"rgba(50, 171, 96, 1.0)\", \"dash\": \"solid\", \"shape\": \"linear\", \"width\": 1.3}, \"mode\": \"lines\", \"name\": \"Defense\", \"text\": \"\", \"type\": \"scatter\", \"x\": [0.0, 30.0, 31.0, 32.0, 33.0, 34.0, 35.0, 36.0, 37.0, 38.0, 39.0, 40.0, 41.0, 42.0, 44.0, 45.0], \"y\": [1.0, 0.7368421052631582, 0.5292397660818713, 0.35087719298245623, 0.22124756335282658, 0.09941520467836254, 0.05945419103313841, 0.02923976608187135, 0.013645224171539965, 0.007797270955165694, 0.004873294346978558, 0.0009746588693957116, 0.0, \"\", \"\", \"\"]}, {\"line\": {\"color\": \"rgba(128, 0, 128, 1.0)\", \"dash\": \"solid\", \"shape\": \"linear\", \"width\": 1.3}, \"mode\": \"lines\", \"name\": \"Goalkeeper\", \"text\": \"\", \"type\": \"scatter\", \"x\": [0.0, 30.0, 31.0, 32.0, 33.0, 34.0, 35.0, 36.0, 37.0, 38.0, 39.0, 40.0, 41.0, 42.0, 44.0, 45.0], \"y\": [1.0, 0.8378870673952645, 0.6867030965391623, 0.53551912568306, 0.4280510018214937, 0.30601092896174864, 0.20400728597449905, 0.13296903460837886, 0.07832422586520948, 0.04918032786885247, 0.027322404371584702, 0.012750455373406197, 0.007285974499089256, 0.0054644808743169425, 0.0018214936247723135, 0.0]}],\n",
       "                        {\"legend\": {\"bgcolor\": \"#F5F6F9\", \"font\": {\"color\": \"#4D5663\"}}, \"paper_bgcolor\": \"#F5F6F9\", \"plot_bgcolor\": \"#F5F6F9\", \"template\": {\"data\": {\"scatter\": [{\"type\": \"scatter\"}]}}, \"title\": {\"font\": {\"color\": \"#4D5663\"}, \"text\": \"A\\u00f1os de carrera profesional por posici\\u00f3n antes del retiro\"}, \"xaxis\": {\"gridcolor\": \"#E1E5ED\", \"showgrid\": true, \"tickfont\": {\"color\": \"#4D5663\"}, \"title\": {\"font\": {\"color\": \"#4D5663\"}, \"text\": \"A\\u00f1os)\"}, \"zerolinecolor\": \"#E1E5ED\"}, \"yaxis\": {\"gridcolor\": \"#E1E5ED\", \"showgrid\": true, \"tickfont\": {\"color\": \"#4D5663\"}, \"title\": {\"font\": {\"color\": \"#4D5663\"}, \"text\": \"Tasa de retiro\"}, \"zerolinecolor\": \"#E1E5ED\"}},\n",
       "                        {\"showLink\": true, \"linkText\": \"Export to plot.ly\", \"plotlyServerURL\": \"https://plot.ly\", \"responsive\": true}\n",
       "                    ).then(function(){\n",
       "                            \n",
       "var gd = document.getElementById('067312cb-6b02-4a49-b1ee-404f972b907e');\n",
       "var x = new MutationObserver(function (mutations, observer) {{\n",
       "        var display = window.getComputedStyle(gd).display;\n",
       "        if (!display || display === 'none') {{\n",
       "            console.log([gd, 'removed!']);\n",
       "            Plotly.purge(gd);\n",
       "            observer.disconnect();\n",
       "        }}\n",
       "}});\n",
       "\n",
       "// Listen for the removal of the full notebook cells\n",
       "var notebookContainer = gd.closest('#notebook-container');\n",
       "if (notebookContainer) {{\n",
       "    x.observe(notebookContainer, {childList: true});\n",
       "}}\n",
       "\n",
       "// Listen for the clearing of the current output cell\n",
       "var outputEl = gd.closest('.output');\n",
       "if (outputEl) {{\n",
       "    x.observe(outputEl, {childList: true});\n",
       "}}\n",
       "\n",
       "                        })\n",
       "                };\n",
       "                });\n",
       "            </script>\n",
       "        </div>"
      ]
     },
     "metadata": {},
     "output_type": "display_data"
    }
   ],
   "source": [
    "rates=survival(test, 'Generic', 'Age', 'Retirement')\n",
    "rates.iplot(kind='line', xTitle='Años)' ,yTitle='Tasa de retiro', title='Años de carrera profesional por posición antes del retiro')"
   ]
  },
  {
   "cell_type": "code",
   "execution_count": 22,
   "metadata": {},
   "outputs": [
    {
     "data": {
      "application/vnd.plotly.v1+json": {
       "config": {
        "linkText": "Export to plot.ly",
        "plotlyServerURL": "https://plot.ly",
        "showLink": true
       },
       "data": [
        {
         "line": {
          "color": "rgba(255, 153, 51, 1.0)",
          "dash": "solid",
          "shape": "linear",
          "width": 1.3
         },
         "mode": "lines",
         "name": "Forward",
         "text": "",
         "type": "scatter",
         "x": [
          0,
          20,
          21,
          22,
          23,
          24,
          25
         ],
         "y": [
          0.9691252144082338,
          0.9313893653516294,
          0.8833619210977706,
          0.6912521440823326,
          0.49056603773584906,
          0.0926243567753002,
          0
         ]
        },
        {
         "line": {
          "color": "rgba(55, 128, 191, 1.0)",
          "dash": "solid",
          "shape": "linear",
          "width": 1.3
         },
         "mode": "lines",
         "name": "Midfield",
         "text": "",
         "type": "scatter",
         "x": [
          0,
          20,
          21,
          22,
          23,
          24,
          25
         ],
         "y": [
          0.989560029828486,
          0.9463087248322148,
          0.9112602535421332,
          0.721849366144668,
          0.4988814317673381,
          0.08128262490678598,
          0
         ]
        },
        {
         "line": {
          "color": "rgba(50, 171, 96, 1.0)",
          "dash": "solid",
          "shape": "linear",
          "width": 1.3
         },
         "mode": "lines",
         "name": "Defense",
         "text": "",
         "type": "scatter",
         "x": [
          0,
          20,
          21,
          22,
          23,
          24,
          25
         ],
         "y": [
          0.980506822612086,
          0.9366471734892788,
          0.8996101364522414,
          0.7348927875243667,
          0.5272904483430797,
          0.08187134502923975,
          0
         ]
        },
        {
         "line": {
          "color": "rgba(128, 0, 128, 1.0)",
          "dash": "solid",
          "shape": "linear",
          "width": 1.3
         },
         "mode": "lines",
         "name": "Goalkeeper",
         "text": "",
         "type": "scatter",
         "x": [
          0,
          20,
          21,
          22,
          23,
          24,
          25
         ],
         "y": [
          0.9836065573770497,
          0.9453551912568305,
          0.9016393442622952,
          0.6994535519125684,
          0.4863387978142078,
          0.08014571948998178,
          0
         ]
        }
       ],
       "layout": {
        "legend": {
         "bgcolor": "#F5F6F9",
         "font": {
          "color": "#4D5663"
         }
        },
        "paper_bgcolor": "#F5F6F9",
        "plot_bgcolor": "#F5F6F9",
        "template": {
         "data": {
          "scatter": [
           {
            "type": "scatter"
           }
          ]
         }
        },
        "title": {
         "font": {
          "color": "#4D5663"
         },
         "text": "Años de carrera profesional por años de contrato y posición"
        },
        "xaxis": {
         "gridcolor": "#E1E5ED",
         "showgrid": true,
         "tickfont": {
          "color": "#4D5663"
         },
         "title": {
          "font": {
           "color": "#4D5663"
          },
          "text": "Años"
         },
         "zerolinecolor": "#E1E5ED"
        },
        "yaxis": {
         "gridcolor": "#E1E5ED",
         "showgrid": true,
         "tickfont": {
          "color": "#4D5663"
         },
         "title": {
          "font": {
           "color": "#4D5663"
          },
          "text": "Tasa de retiro"
         },
         "zerolinecolor": "#E1E5ED"
        }
       }
      },
      "text/html": [
       "<div>\n",
       "        \n",
       "        \n",
       "            <div id=\"f85f07df-415d-4284-9d4f-5cf438bbfef9\" class=\"plotly-graph-div\" style=\"height:525px; width:100%;\"></div>\n",
       "            <script type=\"text/javascript\">\n",
       "                require([\"plotly\"], function(Plotly) {\n",
       "                    window.PLOTLYENV=window.PLOTLYENV || {};\n",
       "                    window.PLOTLYENV.BASE_URL='https://plot.ly';\n",
       "                    \n",
       "                if (document.getElementById(\"f85f07df-415d-4284-9d4f-5cf438bbfef9\")) {\n",
       "                    Plotly.newPlot(\n",
       "                        'f85f07df-415d-4284-9d4f-5cf438bbfef9',\n",
       "                        [{\"line\": {\"color\": \"rgba(255, 153, 51, 1.0)\", \"dash\": \"solid\", \"shape\": \"linear\", \"width\": 1.3}, \"mode\": \"lines\", \"name\": \"Forward\", \"text\": \"\", \"type\": \"scatter\", \"x\": [0.0, 20.0, 21.0, 22.0, 23.0, 24.0, 25.0], \"y\": [0.9691252144082338, 0.9313893653516294, 0.8833619210977706, 0.6912521440823326, 0.49056603773584906, 0.0926243567753002, 0.0]}, {\"line\": {\"color\": \"rgba(55, 128, 191, 1.0)\", \"dash\": \"solid\", \"shape\": \"linear\", \"width\": 1.3}, \"mode\": \"lines\", \"name\": \"Midfield\", \"text\": \"\", \"type\": \"scatter\", \"x\": [0.0, 20.0, 21.0, 22.0, 23.0, 24.0, 25.0], \"y\": [0.989560029828486, 0.9463087248322148, 0.9112602535421332, 0.721849366144668, 0.4988814317673381, 0.08128262490678598, 0.0]}, {\"line\": {\"color\": \"rgba(50, 171, 96, 1.0)\", \"dash\": \"solid\", \"shape\": \"linear\", \"width\": 1.3}, \"mode\": \"lines\", \"name\": \"Defense\", \"text\": \"\", \"type\": \"scatter\", \"x\": [0.0, 20.0, 21.0, 22.0, 23.0, 24.0, 25.0], \"y\": [0.980506822612086, 0.9366471734892788, 0.8996101364522414, 0.7348927875243667, 0.5272904483430797, 0.08187134502923975, 0.0]}, {\"line\": {\"color\": \"rgba(128, 0, 128, 1.0)\", \"dash\": \"solid\", \"shape\": \"linear\", \"width\": 1.3}, \"mode\": \"lines\", \"name\": \"Goalkeeper\", \"text\": \"\", \"type\": \"scatter\", \"x\": [0.0, 20.0, 21.0, 22.0, 23.0, 24.0, 25.0], \"y\": [0.9836065573770497, 0.9453551912568305, 0.9016393442622952, 0.6994535519125684, 0.4863387978142078, 0.08014571948998178, 0.0]}],\n",
       "                        {\"legend\": {\"bgcolor\": \"#F5F6F9\", \"font\": {\"color\": \"#4D5663\"}}, \"paper_bgcolor\": \"#F5F6F9\", \"plot_bgcolor\": \"#F5F6F9\", \"template\": {\"data\": {\"scatter\": [{\"type\": \"scatter\"}]}}, \"title\": {\"font\": {\"color\": \"#4D5663\"}, \"text\": \"A\\u00f1os de carrera profesional por a\\u00f1os de contrato y posici\\u00f3n\"}, \"xaxis\": {\"gridcolor\": \"#E1E5ED\", \"showgrid\": true, \"tickfont\": {\"color\": \"#4D5663\"}, \"title\": {\"font\": {\"color\": \"#4D5663\"}, \"text\": \"A\\u00f1os\"}, \"zerolinecolor\": \"#E1E5ED\"}, \"yaxis\": {\"gridcolor\": \"#E1E5ED\", \"showgrid\": true, \"tickfont\": {\"color\": \"#4D5663\"}, \"title\": {\"font\": {\"color\": \"#4D5663\"}, \"text\": \"Tasa de retiro\"}, \"zerolinecolor\": \"#E1E5ED\"}},\n",
       "                        {\"showLink\": true, \"linkText\": \"Export to plot.ly\", \"plotlyServerURL\": \"https://plot.ly\", \"responsive\": true}\n",
       "                    ).then(function(){\n",
       "                            \n",
       "var gd = document.getElementById('f85f07df-415d-4284-9d4f-5cf438bbfef9');\n",
       "var x = new MutationObserver(function (mutations, observer) {{\n",
       "        var display = window.getComputedStyle(gd).display;\n",
       "        if (!display || display === 'none') {{\n",
       "            console.log([gd, 'removed!']);\n",
       "            Plotly.purge(gd);\n",
       "            observer.disconnect();\n",
       "        }}\n",
       "}});\n",
       "\n",
       "// Listen for the removal of the full notebook cells\n",
       "var notebookContainer = gd.closest('#notebook-container');\n",
       "if (notebookContainer) {{\n",
       "    x.observe(notebookContainer, {childList: true});\n",
       "}}\n",
       "\n",
       "// Listen for the clearing of the current output cell\n",
       "var outputEl = gd.closest('.output');\n",
       "if (outputEl) {{\n",
       "    x.observe(outputEl, {childList: true});\n",
       "}}\n",
       "\n",
       "                        })\n",
       "                };\n",
       "                });\n",
       "            </script>\n",
       "        </div>"
      ]
     },
     "metadata": {},
     "output_type": "display_data"
    }
   ],
   "source": [
    "rates=survival(test, 'Generic', 'Expire', 'Retirement')\n",
    "rates.iplot(kind='line', xTitle='Años', \n",
    "            yTitle='Tasa de retiro', title='Años de carrera profesional por años de contrato y posición')"
   ]
  },
  {
   "cell_type": "code",
   "execution_count": 23,
   "metadata": {},
   "outputs": [
    {
     "data": {
      "application/vnd.plotly.v1+json": {
       "config": {
        "linkText": "Export to plot.ly",
        "plotlyServerURL": "https://plot.ly",
        "showLink": true
       },
       "data": [
        {
         "line": {
          "color": "rgba(255, 153, 51, 1.0)",
          "dash": "solid",
          "shape": "linear",
          "width": 1.3
         },
         "mode": "lines",
         "name": "31",
         "text": "",
         "type": "scatter",
         "x": [
          0,
          20,
          21,
          22,
          23,
          24,
          25
         ],
         "y": [
          0.9816124469589814,
          0.9448373408769442,
          0.9094766619519089,
          0.7553041018387552,
          0.47383309759547354,
          0.06506364922206505,
          0
         ]
        },
        {
         "line": {
          "color": "rgba(55, 128, 191, 1.0)",
          "dash": "solid",
          "shape": "linear",
          "width": 1.3
         },
         "mode": "lines",
         "name": "33",
         "text": "",
         "type": "scatter",
         "x": [
          0,
          20,
          21,
          22,
          23,
          24,
          25
         ],
         "y": [
          0.9754901960784316,
          0.9289215686274511,
          0.8970588235294116,
          0.786764705882353,
          0.5637254901960786,
          0.09558823529411765,
          0
         ]
        },
        {
         "line": {
          "color": "rgba(50, 171, 96, 1.0)",
          "dash": "solid",
          "shape": "linear",
          "width": 1.3
         },
         "mode": "lines",
         "name": "32",
         "text": "",
         "type": "scatter",
         "x": [
          0,
          20,
          21,
          22,
          23,
          24,
          25
         ],
         "y": [
          0.9825783972125435,
          0.9372822299651565,
          0.9216027874564456,
          0.7857142857142856,
          0.5226480836236931,
          0.07317073170731705,
          0
         ]
        },
        {
         "line": {
          "color": "rgba(128, 0, 128, 1.0)",
          "dash": "solid",
          "shape": "linear",
          "width": 1.3
         },
         "mode": "lines",
         "name": "30",
         "text": "",
         "type": "scatter",
         "x": [
          0,
          20,
          21,
          22,
          23,
          24,
          25
         ],
         "y": [
          0.9836423118865872,
          0.9487459105779721,
          0.8876772082878952,
          0.6161395856052349,
          0.39258451472191946,
          0.07633587786259546,
          0
         ]
        },
        {
         "line": {
          "color": "rgba(219, 64, 82, 1.0)",
          "dash": "solid",
          "shape": "linear",
          "width": 1.3
         },
         "mode": "lines",
         "name": "40",
         "text": "",
         "type": "scatter",
         "x": [
          0,
          20,
          21,
          22,
          23,
          24,
          25
         ],
         "y": [
          1,
          0.9230769230769231,
          0.7692307692307694,
          0.6153846153846153,
          "",
          0,
          ""
         ]
        },
        {
         "line": {
          "color": "rgba(0, 128, 128, 1.0)",
          "dash": "solid",
          "shape": "linear",
          "width": 1.3
         },
         "mode": "lines",
         "name": "34",
         "text": "",
         "type": "scatter",
         "x": [
          0,
          20,
          21,
          22,
          23,
          24,
          25
         ],
         "y": [
          0.9900990099009894,
          0.9529702970297029,
          0.9257425742574257,
          0.6237623762376235,
          0.4826732673267325,
          0.07920792079207918,
          0
         ]
        },
        {
         "line": {
          "color": "rgba(255, 255, 51, 1.0)",
          "dash": "solid",
          "shape": "linear",
          "width": 1.3
         },
         "mode": "lines",
         "name": "35",
         "text": "",
         "type": "scatter",
         "x": [
          0,
          20,
          21,
          22,
          23,
          24,
          25
         ],
         "y": [
          0.9744897959183678,
          0.918367346938776,
          0.8826530612244905,
          0.7857142857142864,
          0.6836734693877552,
          0.11734693877551025,
          0
         ]
        },
        {
         "line": {
          "color": "rgba(128, 128, 0, 1.0)",
          "dash": "solid",
          "shape": "linear",
          "width": 1.3
         },
         "mode": "lines",
         "name": "36",
         "text": "",
         "type": "scatter",
         "x": [
          0,
          20,
          21,
          22,
          23,
          24,
          25
         ],
         "y": [
          1,
          0.9448818897637794,
          0.874015748031496,
          0.7952755905511814,
          0.7086614173228347,
          0.15748031496062992,
          0
         ]
        },
        {
         "line": {
          "color": "rgba(251, 128, 114, 1.0)",
          "dash": "solid",
          "shape": "linear",
          "width": 1.3
         },
         "mode": "lines",
         "name": "37",
         "text": "",
         "type": "scatter",
         "x": [
          0,
          20,
          21,
          22,
          23,
          24,
          25
         ],
         "y": [
          0.9756097560975604,
          0.9268292682926826,
          0.9146341463414629,
          0.8780487804878047,
          0.7926829268292679,
          0.13414634146341461,
          0
         ]
        },
        {
         "line": {
          "color": "rgba(128, 177, 211, 1.0)",
          "dash": "solid",
          "shape": "linear",
          "width": 1.3
         },
         "mode": "lines",
         "name": "39",
         "text": "",
         "type": "scatter",
         "x": [
          0,
          20,
          21,
          22,
          23,
          24,
          25
         ],
         "y": [
          1,
          0.9200000000000002,
          0.8400000000000002,
          0.76,
          0.64,
          0,
          ""
         ]
        },
        {
         "line": {
          "color": "rgba(128, 177, 211, 0.8999999999999999)",
          "dash": "solid",
          "shape": "linear",
          "width": 1.3
         },
         "mode": "lines",
         "name": "41",
         "text": "",
         "type": "scatter",
         "x": [
          0,
          20,
          21,
          22,
          23,
          24,
          25
         ],
         "y": [
          0.8,
          "",
          "",
          "",
          "",
          0.2,
          0
         ]
        },
        {
         "line": {
          "color": "rgba(255, 153, 51, 0.8999999999999999)",
          "dash": "solid",
          "shape": "linear",
          "width": 1.3
         },
         "mode": "lines",
         "name": "38",
         "text": "",
         "type": "scatter",
         "x": [
          0,
          20,
          21,
          22,
          23,
          24,
          25
         ],
         "y": [
          0.972972972972973,
          0.9189189189189192,
          0.8648648648648649,
          0.7297297297297298,
          0.6756756756756757,
          0.1891891891891892,
          0
         ]
        },
        {
         "line": {
          "color": "rgba(55, 128, 191, 0.8999999999999999)",
          "dash": "solid",
          "shape": "linear",
          "width": 1.3
         },
         "mode": "lines",
         "name": "45",
         "text": "",
         "type": "scatter",
         "x": [
          0,
          20,
          21,
          22,
          23,
          24,
          25
         ],
         "y": [
          1,
          "",
          "",
          0,
          "",
          "",
          ""
         ]
        },
        {
         "line": {
          "color": "rgba(50, 171, 96, 0.8999999999999999)",
          "dash": "solid",
          "shape": "linear",
          "width": 1.3
         },
         "mode": "lines",
         "name": "42",
         "text": "",
         "type": "scatter",
         "x": [
          0,
          20,
          21,
          22,
          23,
          24,
          25
         ],
         "y": [
          1,
          "",
          "",
          0,
          "",
          "",
          ""
         ]
        },
        {
         "line": {
          "color": "rgba(128, 0, 128, 0.8999999999999999)",
          "dash": "solid",
          "shape": "linear",
          "width": 1.3
         },
         "mode": "lines",
         "name": "44",
         "text": "",
         "type": "scatter",
         "x": [
          0,
          20,
          21,
          22,
          23,
          24,
          25
         ],
         "y": [
          1,
          0.5,
          "",
          "",
          "",
          0,
          ""
         ]
        }
       ],
       "layout": {
        "legend": {
         "bgcolor": "#F5F6F9",
         "font": {
          "color": "#4D5663"
         }
        },
        "paper_bgcolor": "#F5F6F9",
        "plot_bgcolor": "#F5F6F9",
        "template": {
         "data": {
          "scatter": [
           {
            "type": "scatter"
           }
          ]
         }
        },
        "title": {
         "font": {
          "color": "#4D5663"
         },
         "text": "Edad más frecuente para anunciar el retiro profesional"
        },
        "xaxis": {
         "gridcolor": "#E1E5ED",
         "showgrid": true,
         "tickfont": {
          "color": "#4D5663"
         },
         "title": {
          "font": {
           "color": "#4D5663"
          },
          "text": "Cantidad de retiros"
         },
         "zerolinecolor": "#E1E5ED"
        },
        "yaxis": {
         "gridcolor": "#E1E5ED",
         "showgrid": true,
         "tickfont": {
          "color": "#4D5663"
         },
         "title": {
          "font": {
           "color": "#4D5663"
          },
          "text": "Tasa de retiro"
         },
         "zerolinecolor": "#E1E5ED"
        }
       }
      },
      "text/html": [
       "<div>\n",
       "        \n",
       "        \n",
       "            <div id=\"1524bd01-93e1-4692-9c9c-4c626ce1dc40\" class=\"plotly-graph-div\" style=\"height:525px; width:100%;\"></div>\n",
       "            <script type=\"text/javascript\">\n",
       "                require([\"plotly\"], function(Plotly) {\n",
       "                    window.PLOTLYENV=window.PLOTLYENV || {};\n",
       "                    window.PLOTLYENV.BASE_URL='https://plot.ly';\n",
       "                    \n",
       "                if (document.getElementById(\"1524bd01-93e1-4692-9c9c-4c626ce1dc40\")) {\n",
       "                    Plotly.newPlot(\n",
       "                        '1524bd01-93e1-4692-9c9c-4c626ce1dc40',\n",
       "                        [{\"line\": {\"color\": \"rgba(255, 153, 51, 1.0)\", \"dash\": \"solid\", \"shape\": \"linear\", \"width\": 1.3}, \"mode\": \"lines\", \"name\": \"31\", \"text\": \"\", \"type\": \"scatter\", \"x\": [0.0, 20.0, 21.0, 22.0, 23.0, 24.0, 25.0], \"y\": [0.9816124469589814, 0.9448373408769442, 0.9094766619519089, 0.7553041018387552, 0.47383309759547354, 0.06506364922206505, 0.0]}, {\"line\": {\"color\": \"rgba(55, 128, 191, 1.0)\", \"dash\": \"solid\", \"shape\": \"linear\", \"width\": 1.3}, \"mode\": \"lines\", \"name\": \"33\", \"text\": \"\", \"type\": \"scatter\", \"x\": [0.0, 20.0, 21.0, 22.0, 23.0, 24.0, 25.0], \"y\": [0.9754901960784316, 0.9289215686274511, 0.8970588235294116, 0.786764705882353, 0.5637254901960786, 0.09558823529411765, 0.0]}, {\"line\": {\"color\": \"rgba(50, 171, 96, 1.0)\", \"dash\": \"solid\", \"shape\": \"linear\", \"width\": 1.3}, \"mode\": \"lines\", \"name\": \"32\", \"text\": \"\", \"type\": \"scatter\", \"x\": [0.0, 20.0, 21.0, 22.0, 23.0, 24.0, 25.0], \"y\": [0.9825783972125435, 0.9372822299651565, 0.9216027874564456, 0.7857142857142856, 0.5226480836236931, 0.07317073170731705, 0.0]}, {\"line\": {\"color\": \"rgba(128, 0, 128, 1.0)\", \"dash\": \"solid\", \"shape\": \"linear\", \"width\": 1.3}, \"mode\": \"lines\", \"name\": \"30\", \"text\": \"\", \"type\": \"scatter\", \"x\": [0.0, 20.0, 21.0, 22.0, 23.0, 24.0, 25.0], \"y\": [0.9836423118865872, 0.9487459105779721, 0.8876772082878952, 0.6161395856052349, 0.39258451472191946, 0.07633587786259546, 0.0]}, {\"line\": {\"color\": \"rgba(219, 64, 82, 1.0)\", \"dash\": \"solid\", \"shape\": \"linear\", \"width\": 1.3}, \"mode\": \"lines\", \"name\": \"40\", \"text\": \"\", \"type\": \"scatter\", \"x\": [0.0, 20.0, 21.0, 22.0, 23.0, 24.0, 25.0], \"y\": [1.0, 0.9230769230769231, 0.7692307692307694, 0.6153846153846153, \"\", 0.0, \"\"]}, {\"line\": {\"color\": \"rgba(0, 128, 128, 1.0)\", \"dash\": \"solid\", \"shape\": \"linear\", \"width\": 1.3}, \"mode\": \"lines\", \"name\": \"34\", \"text\": \"\", \"type\": \"scatter\", \"x\": [0.0, 20.0, 21.0, 22.0, 23.0, 24.0, 25.0], \"y\": [0.9900990099009894, 0.9529702970297029, 0.9257425742574257, 0.6237623762376235, 0.4826732673267325, 0.07920792079207918, 0.0]}, {\"line\": {\"color\": \"rgba(255, 255, 51, 1.0)\", \"dash\": \"solid\", \"shape\": \"linear\", \"width\": 1.3}, \"mode\": \"lines\", \"name\": \"35\", \"text\": \"\", \"type\": \"scatter\", \"x\": [0.0, 20.0, 21.0, 22.0, 23.0, 24.0, 25.0], \"y\": [0.9744897959183678, 0.918367346938776, 0.8826530612244905, 0.7857142857142864, 0.6836734693877552, 0.11734693877551025, 0.0]}, {\"line\": {\"color\": \"rgba(128, 128, 0, 1.0)\", \"dash\": \"solid\", \"shape\": \"linear\", \"width\": 1.3}, \"mode\": \"lines\", \"name\": \"36\", \"text\": \"\", \"type\": \"scatter\", \"x\": [0.0, 20.0, 21.0, 22.0, 23.0, 24.0, 25.0], \"y\": [1.0, 0.9448818897637794, 0.874015748031496, 0.7952755905511814, 0.7086614173228347, 0.15748031496062992, 0.0]}, {\"line\": {\"color\": \"rgba(251, 128, 114, 1.0)\", \"dash\": \"solid\", \"shape\": \"linear\", \"width\": 1.3}, \"mode\": \"lines\", \"name\": \"37\", \"text\": \"\", \"type\": \"scatter\", \"x\": [0.0, 20.0, 21.0, 22.0, 23.0, 24.0, 25.0], \"y\": [0.9756097560975604, 0.9268292682926826, 0.9146341463414629, 0.8780487804878047, 0.7926829268292679, 0.13414634146341461, 0.0]}, {\"line\": {\"color\": \"rgba(128, 177, 211, 1.0)\", \"dash\": \"solid\", \"shape\": \"linear\", \"width\": 1.3}, \"mode\": \"lines\", \"name\": \"39\", \"text\": \"\", \"type\": \"scatter\", \"x\": [0.0, 20.0, 21.0, 22.0, 23.0, 24.0, 25.0], \"y\": [1.0, 0.9200000000000002, 0.8400000000000002, 0.76, 0.64, 0.0, \"\"]}, {\"line\": {\"color\": \"rgba(128, 177, 211, 0.8999999999999999)\", \"dash\": \"solid\", \"shape\": \"linear\", \"width\": 1.3}, \"mode\": \"lines\", \"name\": \"41\", \"text\": \"\", \"type\": \"scatter\", \"x\": [0.0, 20.0, 21.0, 22.0, 23.0, 24.0, 25.0], \"y\": [0.8, \"\", \"\", \"\", \"\", 0.2, 0.0]}, {\"line\": {\"color\": \"rgba(255, 153, 51, 0.8999999999999999)\", \"dash\": \"solid\", \"shape\": \"linear\", \"width\": 1.3}, \"mode\": \"lines\", \"name\": \"38\", \"text\": \"\", \"type\": \"scatter\", \"x\": [0.0, 20.0, 21.0, 22.0, 23.0, 24.0, 25.0], \"y\": [0.972972972972973, 0.9189189189189192, 0.8648648648648649, 0.7297297297297298, 0.6756756756756757, 0.1891891891891892, 0.0]}, {\"line\": {\"color\": \"rgba(55, 128, 191, 0.8999999999999999)\", \"dash\": \"solid\", \"shape\": \"linear\", \"width\": 1.3}, \"mode\": \"lines\", \"name\": \"45\", \"text\": \"\", \"type\": \"scatter\", \"x\": [0.0, 20.0, 21.0, 22.0, 23.0, 24.0, 25.0], \"y\": [1.0, \"\", \"\", 0.0, \"\", \"\", \"\"]}, {\"line\": {\"color\": \"rgba(50, 171, 96, 0.8999999999999999)\", \"dash\": \"solid\", \"shape\": \"linear\", \"width\": 1.3}, \"mode\": \"lines\", \"name\": \"42\", \"text\": \"\", \"type\": \"scatter\", \"x\": [0.0, 20.0, 21.0, 22.0, 23.0, 24.0, 25.0], \"y\": [1.0, \"\", \"\", 0.0, \"\", \"\", \"\"]}, {\"line\": {\"color\": \"rgba(128, 0, 128, 0.8999999999999999)\", \"dash\": \"solid\", \"shape\": \"linear\", \"width\": 1.3}, \"mode\": \"lines\", \"name\": \"44\", \"text\": \"\", \"type\": \"scatter\", \"x\": [0.0, 20.0, 21.0, 22.0, 23.0, 24.0, 25.0], \"y\": [1.0, 0.5, \"\", \"\", \"\", 0.0, \"\"]}],\n",
       "                        {\"legend\": {\"bgcolor\": \"#F5F6F9\", \"font\": {\"color\": \"#4D5663\"}}, \"paper_bgcolor\": \"#F5F6F9\", \"plot_bgcolor\": \"#F5F6F9\", \"template\": {\"data\": {\"scatter\": [{\"type\": \"scatter\"}]}}, \"title\": {\"font\": {\"color\": \"#4D5663\"}, \"text\": \"Edad m\\u00e1s frecuente para anunciar el retiro profesional\"}, \"xaxis\": {\"gridcolor\": \"#E1E5ED\", \"showgrid\": true, \"tickfont\": {\"color\": \"#4D5663\"}, \"title\": {\"font\": {\"color\": \"#4D5663\"}, \"text\": \"Cantidad de retiros\"}, \"zerolinecolor\": \"#E1E5ED\"}, \"yaxis\": {\"gridcolor\": \"#E1E5ED\", \"showgrid\": true, \"tickfont\": {\"color\": \"#4D5663\"}, \"title\": {\"font\": {\"color\": \"#4D5663\"}, \"text\": \"Tasa de retiro\"}, \"zerolinecolor\": \"#E1E5ED\"}},\n",
       "                        {\"showLink\": true, \"linkText\": \"Export to plot.ly\", \"plotlyServerURL\": \"https://plot.ly\", \"responsive\": true}\n",
       "                    ).then(function(){\n",
       "                            \n",
       "var gd = document.getElementById('1524bd01-93e1-4692-9c9c-4c626ce1dc40');\n",
       "var x = new MutationObserver(function (mutations, observer) {{\n",
       "        var display = window.getComputedStyle(gd).display;\n",
       "        if (!display || display === 'none') {{\n",
       "            console.log([gd, 'removed!']);\n",
       "            Plotly.purge(gd);\n",
       "            observer.disconnect();\n",
       "        }}\n",
       "}});\n",
       "\n",
       "// Listen for the removal of the full notebook cells\n",
       "var notebookContainer = gd.closest('#notebook-container');\n",
       "if (notebookContainer) {{\n",
       "    x.observe(notebookContainer, {childList: true});\n",
       "}}\n",
       "\n",
       "// Listen for the clearing of the current output cell\n",
       "var outputEl = gd.closest('.output');\n",
       "if (outputEl) {{\n",
       "    x.observe(outputEl, {childList: true});\n",
       "}}\n",
       "\n",
       "                        })\n",
       "                };\n",
       "                });\n",
       "            </script>\n",
       "        </div>"
      ]
     },
     "metadata": {},
     "output_type": "display_data"
    }
   ],
   "source": [
    "rates=survival(test, 'Age', 'Expire', 'Retirement')\n",
    "rates.iplot(kind='line', xTitle='Cantidad de retiros', \n",
    "            yTitle='Tasa de retiro', title='Edad más frecuente para anunciar el retiro profesional')"
   ]
  },
  {
   "cell_type": "code",
   "execution_count": 24,
   "metadata": {},
   "outputs": [
    {
     "data": {
      "application/vnd.plotly.v1+json": {
       "config": {
        "linkText": "Export to plot.ly",
        "plotlyServerURL": "https://plot.ly",
        "showLink": true
       },
       "data": [
        {
         "line": {
          "color": "rgba(255, 153, 51, 1.0)",
          "dash": "solid",
          "shape": "linear",
          "width": 1.3
         },
         "mode": "lines",
         "name": "Argentina",
         "text": "",
         "type": "scatter",
         "x": [
          0,
          20,
          21,
          22,
          23,
          24,
          25
         ],
         "y": [
          1,
          0.8949416342412451,
          0.8443579766536964,
          0.7276264591439688,
          0.5214007782101164,
          0.10894941634241241,
          0
         ]
        },
        {
         "line": {
          "color": "rgba(55, 128, 191, 1.0)",
          "dash": "solid",
          "shape": "linear",
          "width": 1.3
         },
         "mode": "lines",
         "name": "Portugal",
         "text": "",
         "type": "scatter",
         "x": [
          0,
          20,
          21,
          22,
          23,
          24,
          25
         ],
         "y": [
          0.9861111111111112,
          0.9722222222222225,
          0.9305555555555552,
          0.8194444444444446,
          0.4583333333333333,
          0.013888888888888888,
          0
         ]
        },
        {
         "line": {
          "color": "rgba(50, 171, 96, 1.0)",
          "dash": "solid",
          "shape": "linear",
          "width": 1.3
         },
         "mode": "lines",
         "name": "Croatia",
         "text": "",
         "type": "scatter",
         "x": [
          0,
          20,
          21,
          22,
          23,
          24,
          25
         ],
         "y": [
          1,
          "",
          0.9473684210526316,
          0.7894736842105264,
          0.4210526315789474,
          0.10526315789473688,
          0
         ]
        },
        {
         "line": {
          "color": "rgba(128, 0, 128, 1.0)",
          "dash": "solid",
          "shape": "linear",
          "width": 1.3
         },
         "mode": "lines",
         "name": "Uruguay",
         "text": "",
         "type": "scatter",
         "x": [
          0,
          20,
          21,
          22,
          23,
          24,
          25
         ],
         "y": [
          0.9736842105263158,
          0.868421052631579,
          0.8421052631578948,
          0.7105263157894738,
          0.5526315789473685,
          0.15789473684210528,
          0
         ]
        },
        {
         "line": {
          "color": "rgba(219, 64, 82, 1.0)",
          "dash": "solid",
          "shape": "linear",
          "width": 1.3
         },
         "mode": "lines",
         "name": "Spain",
         "text": "",
         "type": "scatter",
         "x": [
          0,
          20,
          21,
          22,
          23,
          24,
          25
         ],
         "y": [
          1,
          0.9866071428571428,
          0.9687500000000004,
          0.8437500000000004,
          0.5580357142857146,
          0.017857142857142867,
          0
         ]
        },
        {
         "line": {
          "color": "rgba(0, 128, 128, 1.0)",
          "dash": "solid",
          "shape": "linear",
          "width": 1.3
         },
         "mode": "lines",
         "name": "Germany",
         "text": "",
         "type": "scatter",
         "x": [
          0,
          20,
          21,
          22,
          23,
          24,
          25
         ],
         "y": [
          1,
          "",
          0.9806451612903225,
          0.8580645161290321,
          0.6258064516129032,
          0.012903225806451613,
          0
         ]
        },
        {
         "line": {
          "color": "rgba(255, 255, 51, 1.0)",
          "dash": "solid",
          "shape": "linear",
          "width": 1.3
         },
         "mode": "lines",
         "name": "Italy",
         "text": "",
         "type": "scatter",
         "x": [
          0,
          20,
          21,
          22,
          23,
          24,
          25
         ],
         "y": [
          1,
          0.9653179190751445,
          0.9075144508670514,
          0.757225433526011,
          0.5260115606936413,
          0,
          ""
         ]
        },
        {
         "line": {
          "color": "rgba(128, 128, 0, 1.0)",
          "dash": "solid",
          "shape": "linear",
          "width": 1.3
         },
         "mode": "lines",
         "name": "Brazil",
         "text": "",
         "type": "scatter",
         "x": [
          0,
          20,
          21,
          22,
          23,
          24,
          25
         ],
         "y": [
          1,
          "",
          0.9713375796178348,
          0.2993630573248408,
          0.2038216560509554,
          0.03821656050955415,
          0
         ]
        },
        {
         "line": {
          "color": "rgba(251, 128, 114, 1.0)",
          "dash": "solid",
          "shape": "linear",
          "width": 1.3
         },
         "mode": "lines",
         "name": "France",
         "text": "",
         "type": "scatter",
         "x": [
          0,
          20,
          21,
          22,
          23,
          24,
          25
         ],
         "y": [
          1,
          0.9937888198757759,
          0.9689440993788819,
          0.8074534161490681,
          0.5465838509316772,
          0.031055900621118012,
          0
         ]
        },
        {
         "line": {
          "color": "rgba(128, 177, 211, 1.0)",
          "dash": "solid",
          "shape": "linear",
          "width": 1.3
         },
         "mode": "lines",
         "name": "Slovenia",
         "text": "",
         "type": "scatter",
         "x": [
          0,
          20,
          21,
          22,
          23,
          24,
          25
         ],
         "y": [
          0.9090909090909092,
          0.8181818181818182,
          "",
          0.3636363636363636,
          0.18181818181818182,
          0,
          ""
         ]
        },
        {
         "line": {
          "color": "rgba(128, 177, 211, 0.935483870967742)",
          "dash": "solid",
          "shape": "linear",
          "width": 1.3
         },
         "mode": "lines",
         "name": "Costa Rica",
         "text": "",
         "type": "scatter",
         "x": [
          0,
          20,
          21,
          22,
          23,
          24,
          25
         ],
         "y": [
          1,
          0.8571428571428572,
          "",
          0.7142857142857143,
          0.42857142857142866,
          0.2857142857142857,
          0
         ]
        },
        {
         "line": {
          "color": "rgba(255, 153, 51, 0.935483870967742)",
          "dash": "solid",
          "shape": "linear",
          "width": 1.3
         },
         "mode": "lines",
         "name": "Belgium",
         "text": "",
         "type": "scatter",
         "x": [
          0,
          20,
          21,
          22,
          23,
          24,
          25
         ],
         "y": [
          0.9772727272727274,
          "",
          0.9318181818181821,
          0.8181818181818182,
          0.40909090909090906,
          0.04545454545454546,
          0
         ]
        },
        {
         "line": {
          "color": "rgba(55, 128, 191, 0.935483870967742)",
          "dash": "solid",
          "shape": "linear",
          "width": 1.3
         },
         "mode": "lines",
         "name": "Slovakia",
         "text": "",
         "type": "scatter",
         "x": [
          0,
          20,
          21,
          22,
          23,
          24,
          25
         ],
         "y": [
          1,
          "",
          "",
          0.9333333333333331,
          0.7333333333333334,
          0.06666666666666667,
          0
         ]
        },
        {
         "line": {
          "color": "rgba(50, 171, 96, 0.935483870967742)",
          "dash": "solid",
          "shape": "linear",
          "width": 1.3
         },
         "mode": "lines",
         "name": "Morocco",
         "text": "",
         "type": "scatter",
         "x": [
          0,
          20,
          21,
          22,
          23,
          24,
          25
         ],
         "y": [
          1,
          "",
          "",
          0.8749999999999999,
          0.4375,
          0.0625,
          0
         ]
        },
        {
         "line": {
          "color": "rgba(128, 0, 128, 0.935483870967742)",
          "dash": "solid",
          "shape": "linear",
          "width": 1.3
         },
         "mode": "lines",
         "name": "Chile",
         "text": "",
         "type": "scatter",
         "x": [
          0,
          20,
          21,
          22,
          23,
          24,
          25
         ],
         "y": [
          1,
          0.8690476190476191,
          0.8452380952380955,
          0.7976190476190476,
          0.7142857142857143,
          0.4761904761904763,
          0
         ]
        },
        {
         "line": {
          "color": "rgba(219, 64, 82, 0.935483870967742)",
          "dash": "solid",
          "shape": "linear",
          "width": 1.3
         },
         "mode": "lines",
         "name": "Bosnia Herzegovina",
         "text": "",
         "type": "scatter",
         "x": [
          0,
          20,
          21,
          22,
          23,
          24,
          25
         ],
         "y": [
          1,
          "",
          0.9333333333333331,
          0.8666666666666667,
          0.5333333333333332,
          0.06666666666666667,
          0
         ]
        },
        {
         "line": {
          "color": "rgba(0, 128, 128, 0.935483870967742)",
          "dash": "solid",
          "shape": "linear",
          "width": 1.3
         },
         "mode": "lines",
         "name": "Sweden",
         "text": "",
         "type": "scatter",
         "x": [
          0,
          20,
          21,
          22,
          23,
          24,
          25
         ],
         "y": [
          0.9855072463768115,
          "",
          0.9420289855072458,
          0.8550724637681159,
          0.6376811594202896,
          0.3333333333333332,
          0
         ]
        },
        {
         "line": {
          "color": "rgba(255, 255, 51, 0.935483870967742)",
          "dash": "solid",
          "shape": "linear",
          "width": 1.3
         },
         "mode": "lines",
         "name": "Colombia",
         "text": "",
         "type": "scatter",
         "x": [
          0,
          20,
          21,
          22,
          23,
          24,
          25
         ],
         "y": [
          1,
          0.6846846846846848,
          0.5585585585585587,
          0.4144144144144145,
          0.3603603603603604,
          0.12612612612612614,
          0
         ]
        },
        {
         "line": {
          "color": "rgba(128, 128, 0, 0.935483870967742)",
          "dash": "solid",
          "shape": "linear",
          "width": 1.3
         },
         "mode": "lines",
         "name": "Greece",
         "text": "",
         "type": "scatter",
         "x": [
          0,
          20,
          21,
          22,
          23,
          24,
          25
         ],
         "y": [
          1,
          "",
          "",
          0.6875000000000001,
          0.49999999999999994,
          0,
          ""
         ]
        },
        {
         "line": {
          "color": "rgba(251, 128, 114, 0.935483870967742)",
          "dash": "solid",
          "shape": "linear",
          "width": 1.3
         },
         "mode": "lines",
         "name": "Denmark",
         "text": "",
         "type": "scatter",
         "x": [
          0,
          20,
          21,
          22,
          23,
          24,
          25
         ],
         "y": [
          0.9787234042553193,
          0.9361702127659575,
          0.9148936170212767,
          0.8723404255319152,
          0.5744680851063831,
          0.10638297872340428,
          0
         ]
        },
        {
         "line": {
          "color": "rgba(251, 128, 114, 0.8709677419354838)",
          "dash": "solid",
          "shape": "linear",
          "width": 1.3
         },
         "mode": "lines",
         "name": "Netherlands",
         "text": "",
         "type": "scatter",
         "x": [
          0,
          20,
          21,
          22,
          23,
          24,
          25
         ],
         "y": [
          1,
          "",
          0.9411764705882355,
          0.8823529411764706,
          0.607843137254902,
          0.03921568627450981,
          0
         ]
        },
        {
         "line": {
          "color": "rgba(128, 177, 211, 0.8709677419354838)",
          "dash": "solid",
          "shape": "linear",
          "width": 1.3
         },
         "mode": "lines",
         "name": "Poland",
         "text": "",
         "type": "scatter",
         "x": [
          0,
          20,
          21,
          22,
          23,
          24,
          25
         ],
         "y": [
          0.9850746268656716,
          "",
          "",
          0.8955223880597015,
          0.611940298507463,
          0.014925373134328363,
          0
         ]
        },
        {
         "line": {
          "color": "rgba(255, 153, 51, 0.8709677419354838)",
          "dash": "solid",
          "shape": "linear",
          "width": 1.3
         },
         "mode": "lines",
         "name": "Norway",
         "text": "",
         "type": "scatter",
         "x": [
          0,
          20,
          21,
          22,
          23,
          24,
          25
         ],
         "y": [
          1,
          "",
          "",
          0.9545454545454548,
          0.7272727272727274,
          0.27272727272727276,
          0
         ]
        },
        {
         "line": {
          "color": "rgba(55, 128, 191, 0.8709677419354838)",
          "dash": "solid",
          "shape": "linear",
          "width": 1.3
         },
         "mode": "lines",
         "name": "England",
         "text": "",
         "type": "scatter",
         "x": [
          0,
          20,
          21,
          22,
          23,
          24,
          25
         ],
         "y": [
          0.9961977186311782,
          0.9733840304182506,
          0.9581749049429656,
          0.9163498098859312,
          0.6311787072243348,
          0.01140684410646388,
          0
         ]
        },
        {
         "line": {
          "color": "rgba(50, 171, 96, 0.8709677419354838)",
          "dash": "solid",
          "shape": "linear",
          "width": 1.3
         },
         "mode": "lines",
         "name": "Ukraine",
         "text": "",
         "type": "scatter",
         "x": [
          0,
          20,
          21,
          22,
          23,
          24,
          25
         ],
         "y": [
          1,
          0.9090909090909092,
          "",
          0.7272727272727271,
          0.3636363636363636,
          0,
          ""
         ]
        },
        {
         "line": {
          "color": "rgba(128, 0, 128, 0.8709677419354838)",
          "dash": "solid",
          "shape": "linear",
          "width": 1.3
         },
         "mode": "lines",
         "name": "Serbia",
         "text": "",
         "type": "scatter",
         "x": [
          0,
          20,
          21,
          22,
          23,
          24,
          25
         ],
         "y": [
          1,
          0.8636363636363633,
          "",
          0.7727272727272726,
          0.45454545454545453,
          0,
          ""
         ]
        },
        {
         "line": {
          "color": "rgba(219, 64, 82, 0.8709677419354838)",
          "dash": "solid",
          "shape": "linear",
          "width": 1.3
         },
         "mode": "lines",
         "name": "Mexico",
         "text": "",
         "type": "scatter",
         "x": [
          0,
          20,
          21,
          22,
          23,
          24,
          25
         ],
         "y": [
          1,
          0.9137931034482762,
          0.8793103448275864,
          0.6379310344827587,
          0.517241379310345,
          0.17241379310344834,
          0
         ]
        },
        {
         "line": {
          "color": "rgba(0, 128, 128, 0.8709677419354838)",
          "dash": "solid",
          "shape": "linear",
          "width": 1.3
         },
         "mode": "lines",
         "name": "Czech Republic",
         "text": "",
         "type": "scatter",
         "x": [
          0,
          20,
          21,
          22,
          23,
          24,
          25
         ],
         "y": [
          1,
          "",
          0.9130434782608696,
          0.7826086956521738,
          0.5652173913043478,
          0,
          ""
         ]
        },
        {
         "line": {
          "color": "rgba(255, 255, 51, 0.8709677419354838)",
          "dash": "solid",
          "shape": "linear",
          "width": 1.3
         },
         "mode": "lines",
         "name": "Ghana",
         "text": "",
         "type": "scatter",
         "x": [
          0,
          20,
          21,
          22,
          23,
          24,
          25
         ],
         "y": [
          1,
          "",
          "",
          0.7272727272727271,
          0.3636363636363636,
          0.0909090909090909,
          0
         ]
        },
        {
         "line": {
          "color": "rgba(128, 128, 0, 0.8709677419354838)",
          "dash": "solid",
          "shape": "linear",
          "width": 1.3
         },
         "mode": "lines",
         "name": "Ecuador",
         "text": "",
         "type": "scatter",
         "x": [
          0,
          20,
          21,
          22,
          23,
          24,
          25
         ],
         "y": [
          0.7142857142857143,
          "",
          0.5714285714285714,
          0.42857142857142866,
          "",
          0.14285714285714288,
          0
         ]
        },
        {
         "line": {
          "color": "rgba(128, 128, 0, 0.8064516129032258)",
          "dash": "solid",
          "shape": "linear",
          "width": 1.3
         },
         "mode": "lines",
         "name": "Japan",
         "text": "",
         "type": "scatter",
         "x": [
          0,
          20,
          21,
          22,
          23,
          24,
          25
         ],
         "y": [
          1,
          0.9112903225806452,
          0.8225806451612898,
          0.1935483870967742,
          0.1612903225806451,
          0.09677419354838708,
          0
         ]
        },
        {
         "line": {
          "color": "rgba(251, 128, 114, 0.8064516129032258)",
          "dash": "solid",
          "shape": "linear",
          "width": 1.3
         },
         "mode": "lines",
         "name": "Israel",
         "text": "",
         "type": "scatter",
         "x": [
          0,
          20,
          21,
          22,
          23,
          24,
          25
         ],
         "y": [
          1,
          "",
          "",
          "",
          0.6000000000000001,
          0,
          ""
         ]
        },
        {
         "line": {
          "color": "rgba(128, 177, 211, 0.8064516129032258)",
          "dash": "solid",
          "shape": "linear",
          "width": 1.3
         },
         "mode": "lines",
         "name": "Romania",
         "text": "",
         "type": "scatter",
         "x": [
          0,
          20,
          21,
          22,
          23,
          24,
          25
         ],
         "y": [
          0.6999999999999998,
          "",
          "",
          0.49999999999999983,
          0.3999999999999999,
          0,
          ""
         ]
        },
        {
         "line": {
          "color": "rgba(255, 153, 51, 0.8064516129032258)",
          "dash": "solid",
          "shape": "linear",
          "width": 1.3
         },
         "mode": "lines",
         "name": "Russia",
         "text": "",
         "type": "scatter",
         "x": [
          0,
          20,
          21,
          22,
          23,
          24,
          25
         ],
         "y": [
          0.8666666666666667,
          "",
          0.8,
          "",
          0.5333333333333332,
          0,
          ""
         ]
        },
        {
         "line": {
          "color": "rgba(55, 128, 191, 0.8064516129032258)",
          "dash": "solid",
          "shape": "linear",
          "width": 1.3
         },
         "mode": "lines",
         "name": "Switzerland",
         "text": "",
         "type": "scatter",
         "x": [
          0,
          20,
          21,
          22,
          23,
          24,
          25
         ],
         "y": [
          1,
          "",
          0.9756097560975607,
          0.8780487804878047,
          0.6585365853658536,
          0.024390243902439022,
          0
         ]
        },
        {
         "line": {
          "color": "rgba(50, 171, 96, 0.8064516129032258)",
          "dash": "solid",
          "shape": "linear",
          "width": 1.3
         },
         "mode": "lines",
         "name": "Guinea",
         "text": "",
         "type": "scatter",
         "x": [
          0,
          20,
          21,
          22,
          23,
          24,
          25
         ],
         "y": [
          1,
          "",
          "",
          0.6000000000000001,
          0.2,
          0,
          ""
         ]
        },
        {
         "line": {
          "color": "rgba(128, 0, 128, 0.8064516129032258)",
          "dash": "solid",
          "shape": "linear",
          "width": 1.3
         },
         "mode": "lines",
         "name": "Ivory Coast",
         "text": "",
         "type": "scatter",
         "x": [
          0,
          20,
          21,
          22,
          23,
          24,
          25
         ],
         "y": [
          0.8333333333333335,
          "",
          0.7777777777777778,
          0.5555555555555558,
          0.2777777777777778,
          0.055555555555555566,
          0
         ]
        },
        {
         "line": {
          "color": "rgba(219, 64, 82, 0.8064516129032258)",
          "dash": "solid",
          "shape": "linear",
          "width": 1.3
         },
         "mode": "lines",
         "name": "Peru",
         "text": "",
         "type": "scatter",
         "x": [
          0,
          20,
          21,
          22,
          23,
          24,
          25
         ],
         "y": [
          0.6666666666666666,
          "",
          "",
          "",
          0.3333333333333333,
          0,
          ""
         ]
        },
        {
         "line": {
          "color": "rgba(0, 128, 128, 0.8064516129032258)",
          "dash": "solid",
          "shape": "linear",
          "width": 1.3
         },
         "mode": "lines",
         "name": "Turkey",
         "text": "",
         "type": "scatter",
         "x": [
          0,
          20,
          21,
          22,
          23,
          24,
          25
         ],
         "y": [
          1,
          "",
          "",
          0.9285714285714284,
          0.5535714285714284,
          0,
          ""
         ]
        },
        {
         "line": {
          "color": "rgba(255, 255, 51, 0.8064516129032258)",
          "dash": "solid",
          "shape": "linear",
          "width": 1.3
         },
         "mode": "lines",
         "name": "Togo",
         "text": "",
         "type": "scatter",
         "x": [
          0,
          20,
          21,
          22,
          23,
          24,
          25
         ],
         "y": [
          1,
          "",
          "",
          "",
          0,
          "",
          ""
         ]
        },
        {
         "line": {
          "color": "rgba(255, 255, 51, 0.7419354838709677)",
          "dash": "solid",
          "shape": "linear",
          "width": 1.3
         },
         "mode": "lines",
         "name": "Austria",
         "text": "",
         "type": "scatter",
         "x": [
          0,
          20,
          21,
          22,
          23,
          24,
          25
         ],
         "y": [
          1,
          0.9761904761904763,
          0.9523809523809522,
          0.7619047619047619,
          0.6666666666666665,
          0,
          ""
         ]
        },
        {
         "line": {
          "color": "rgba(128, 128, 0, 0.7419354838709677)",
          "dash": "solid",
          "shape": "linear",
          "width": 1.3
         },
         "mode": "lines",
         "name": "Finland",
         "text": "",
         "type": "scatter",
         "x": [
          0,
          20,
          21,
          22,
          23,
          24,
          25
         ],
         "y": [
          1,
          0.9285714285714287,
          "",
          0.8571428571428573,
          0.785714285714286,
          0.21428571428571436,
          0
         ]
        },
        {
         "line": {
          "color": "rgba(251, 128, 114, 0.7419354838709677)",
          "dash": "solid",
          "shape": "linear",
          "width": 1.3
         },
         "mode": "lines",
         "name": "United States",
         "text": "",
         "type": "scatter",
         "x": [
          0,
          20,
          21,
          22,
          23,
          24,
          25
         ],
         "y": [
          1,
          0.948275862068966,
          0.8965517241379314,
          0.6896551724137933,
          0.5862068965517244,
          0.3620689655172415,
          0
         ]
        },
        {
         "line": {
          "color": "rgba(128, 177, 211, 0.7419354838709677)",
          "dash": "solid",
          "shape": "linear",
          "width": 1.3
         },
         "mode": "lines",
         "name": "Senegal",
         "text": "",
         "type": "scatter",
         "x": [
          0,
          20,
          21,
          22,
          23,
          24,
          25
         ],
         "y": [
          1,
          "",
          "",
          0.8947368421052634,
          0.6315789473684212,
          0.05263157894736843,
          0
         ]
        },
        {
         "line": {
          "color": "rgba(255, 153, 51, 0.7419354838709677)",
          "dash": "solid",
          "shape": "linear",
          "width": 1.3
         },
         "mode": "lines",
         "name": "Estonia",
         "text": "",
         "type": "scatter",
         "x": [
          0,
          20,
          21,
          22,
          23,
          24,
          25
         ],
         "y": [
          1,
          "",
          "",
          "",
          0.5,
          "",
          0
         ]
        },
        {
         "line": {
          "color": "rgba(55, 128, 191, 0.7419354838709677)",
          "dash": "solid",
          "shape": "linear",
          "width": 1.3
         },
         "mode": "lines",
         "name": "Venezuela",
         "text": "",
         "type": "scatter",
         "x": [
          0,
          20,
          21,
          22,
          23,
          24,
          25
         ],
         "y": [
          0.9,
          0.7999999999999997,
          "",
          0.6999999999999998,
          0.49999999999999983,
          0.09999999999999998,
          0
         ]
        },
        {
         "line": {
          "color": "rgba(50, 171, 96, 0.7419354838709677)",
          "dash": "solid",
          "shape": "linear",
          "width": 1.3
         },
         "mode": "lines",
         "name": "Scotland",
         "text": "",
         "type": "scatter",
         "x": [
          0,
          20,
          21,
          22,
          23,
          24,
          25
         ],
         "y": [
          0.9687500000000004,
          0.9531250000000004,
          0.9218750000000006,
          0.8750000000000007,
          0.5781250000000001,
          0.015625000000000007,
          0
         ]
        },
        {
         "line": {
          "color": "rgba(128, 0, 128, 0.7419354838709677)",
          "dash": "solid",
          "shape": "linear",
          "width": 1.3
         },
         "mode": "lines",
         "name": "Paraguay",
         "text": "",
         "type": "scatter",
         "x": [
          0,
          20,
          21,
          22,
          23,
          24,
          25
         ],
         "y": [
          0.6000000000000001,
          "",
          "",
          0.39999999999999997,
          0.35000000000000003,
          0.09999999999999998,
          0
         ]
        },
        {
         "line": {
          "color": "rgba(219, 64, 82, 0.7419354838709677)",
          "dash": "solid",
          "shape": "linear",
          "width": 1.3
         },
         "mode": "lines",
         "name": "Bulgaria",
         "text": "",
         "type": "scatter",
         "x": [
          0,
          20,
          21,
          22,
          23,
          24,
          25
         ],
         "y": [
          0.3333333333333333,
          "",
          "",
          "",
          "",
          0,
          ""
         ]
        },
        {
         "line": {
          "color": "rgba(0, 128, 128, 0.7419354838709677)",
          "dash": "solid",
          "shape": "linear",
          "width": 1.3
         },
         "mode": "lines",
         "name": "South Africa",
         "text": "",
         "type": "scatter",
         "x": [
          0,
          20,
          21,
          22,
          23,
          24,
          25
         ],
         "y": [
          0.8666666666666667,
          "",
          "",
          0.8,
          0.5333333333333332,
          0.2,
          0
         ]
        },
        {
         "line": {
          "color": "rgba(0, 128, 128, 0.6774193548387097)",
          "dash": "solid",
          "shape": "linear",
          "width": 1.3
         },
         "mode": "lines",
         "name": "Madagascar",
         "text": "",
         "type": "scatter",
         "x": [
          0,
          20,
          21,
          22,
          23,
          24,
          25
         ],
         "y": [
          1,
          "",
          "",
          0.7500000000000001,
          0.5,
          0,
          ""
         ]
        },
        {
         "line": {
          "color": "rgba(255, 255, 51, 0.6774193548387097)",
          "dash": "solid",
          "shape": "linear",
          "width": 1.3
         },
         "mode": "lines",
         "name": "Hungary",
         "text": "",
         "type": "scatter",
         "x": [
          0,
          20,
          21,
          22,
          23,
          24,
          25
         ],
         "y": [
          0.5000000000000001,
          "",
          "",
          "",
          "",
          0,
          ""
         ]
        },
        {
         "line": {
          "color": "rgba(128, 128, 0, 0.6774193548387097)",
          "dash": "solid",
          "shape": "linear",
          "width": 1.3
         },
         "mode": "lines",
         "name": "Algeria",
         "text": "",
         "type": "scatter",
         "x": [
          0,
          20,
          21,
          22,
          23,
          24,
          25
         ],
         "y": [
          1,
          "",
          "",
          0.6666666666666669,
          0.39999999999999997,
          0,
          ""
         ]
        },
        {
         "line": {
          "color": "rgba(251, 128, 114, 0.6774193548387097)",
          "dash": "solid",
          "shape": "linear",
          "width": 1.3
         },
         "mode": "lines",
         "name": "Cape Verde",
         "text": "",
         "type": "scatter",
         "x": [
          0,
          20,
          21,
          22,
          23,
          24,
          25
         ],
         "y": [
          1,
          "",
          "",
          "",
          0.2,
          0,
          ""
         ]
        },
        {
         "line": {
          "color": "rgba(128, 177, 211, 0.6774193548387097)",
          "dash": "solid",
          "shape": "linear",
          "width": 1.3
         },
         "mode": "lines",
         "name": "Burkina Faso",
         "text": "",
         "type": "scatter",
         "x": [
          0,
          20,
          21,
          22,
          23,
          24,
          25
         ],
         "y": [
          1,
          "",
          "",
          "",
          0.3333333333333333,
          0,
          ""
         ]
        },
        {
         "line": {
          "color": "rgba(255, 153, 51, 0.6774193548387097)",
          "dash": "solid",
          "shape": "linear",
          "width": 1.3
         },
         "mode": "lines",
         "name": "DR Congo",
         "text": "",
         "type": "scatter",
         "x": [
          0,
          20,
          21,
          22,
          23,
          24,
          25
         ],
         "y": [
          1,
          "",
          "",
          "",
          0.5555555555555554,
          0.11111111111111109,
          0
         ]
        },
        {
         "line": {
          "color": "rgba(55, 128, 191, 0.6774193548387097)",
          "dash": "solid",
          "shape": "linear",
          "width": 1.3
         },
         "mode": "lines",
         "name": "Cuba",
         "text": "",
         "type": "scatter",
         "x": [
          0,
          20,
          21,
          22,
          23,
          24,
          25
         ],
         "y": [
          1,
          "",
          "",
          "",
          "",
          "",
          0
         ]
        },
        {
         "line": {
          "color": "rgba(50, 171, 96, 0.6774193548387097)",
          "dash": "solid",
          "shape": "linear",
          "width": 1.3
         },
         "mode": "lines",
         "name": "Nigeria",
         "text": "",
         "type": "scatter",
         "x": [
          0,
          20,
          21,
          22,
          23,
          24,
          25
         ],
         "y": [
          1,
          "",
          "",
          "",
          0.8,
          0.2,
          0
         ]
        },
        {
         "line": {
          "color": "rgba(128, 0, 128, 0.6774193548387097)",
          "dash": "solid",
          "shape": "linear",
          "width": 1.3
         },
         "mode": "lines",
         "name": "FYR Macedonia",
         "text": "",
         "type": "scatter",
         "x": [
          0,
          20,
          21,
          22,
          23,
          24,
          25
         ],
         "y": [
          1,
          "",
          "",
          0.6666666666666666,
          0.3333333333333333,
          0,
          ""
         ]
        },
        {
         "line": {
          "color": "rgba(219, 64, 82, 0.6774193548387097)",
          "dash": "solid",
          "shape": "linear",
          "width": 1.3
         },
         "mode": "lines",
         "name": "Cameroon",
         "text": "",
         "type": "scatter",
         "x": [
          0,
          20,
          21,
          22,
          23,
          24,
          25
         ],
         "y": [
          1,
          "",
          "",
          "",
          0.785714285714286,
          0,
          ""
         ]
        },
        {
         "line": {
          "color": "rgba(219, 64, 82, 0.6129032258064515)",
          "dash": "solid",
          "shape": "linear",
          "width": 1.3
         },
         "mode": "lines",
         "name": "Uzbekistan",
         "text": "",
         "type": "scatter",
         "x": [
          0,
          20,
          21,
          22,
          23,
          24,
          25
         ],
         "y": [
          1,
          "",
          "",
          "",
          "",
          0,
          ""
         ]
        },
        {
         "line": {
          "color": "rgba(0, 128, 128, 0.6129032258064515)",
          "dash": "solid",
          "shape": "linear",
          "width": 1.3
         },
         "mode": "lines",
         "name": "Wales",
         "text": "",
         "type": "scatter",
         "x": [
          0,
          20,
          21,
          22,
          23,
          24,
          25
         ],
         "y": [
          1,
          0.9523809523809522,
          "",
          0.9047619047619045,
          0.6666666666666665,
          0,
          ""
         ]
        },
        {
         "line": {
          "color": "rgba(255, 255, 51, 0.6129032258064515)",
          "dash": "solid",
          "shape": "linear",
          "width": 1.3
         },
         "mode": "lines",
         "name": "Australia",
         "text": "",
         "type": "scatter",
         "x": [
          0,
          20,
          21,
          22,
          23,
          24,
          25
         ],
         "y": [
          1,
          "",
          0.9696969696969697,
          0.8787878787878789,
          0.5757575757575757,
          0,
          ""
         ]
        },
        {
         "line": {
          "color": "rgba(128, 128, 0, 0.6129032258064515)",
          "dash": "solid",
          "shape": "linear",
          "width": 1.3
         },
         "mode": "lines",
         "name": "Georgia",
         "text": "",
         "type": "scatter",
         "x": [
          0,
          20,
          21,
          22,
          23,
          24,
          25
         ],
         "y": [
          1,
          "",
          "",
          0.5,
          "",
          0,
          ""
         ]
        },
        {
         "line": {
          "color": "rgba(251, 128, 114, 0.6129032258064515)",
          "dash": "solid",
          "shape": "linear",
          "width": 1.3
         },
         "mode": "lines",
         "name": "Jamaica",
         "text": "",
         "type": "scatter",
         "x": [
          0,
          20,
          21,
          22,
          23,
          24,
          25
         ],
         "y": [
          1,
          "",
          "",
          0.9166666666666667,
          0.7500000000000001,
          0,
          ""
         ]
        },
        {
         "line": {
          "color": "rgba(128, 177, 211, 0.6129032258064515)",
          "dash": "solid",
          "shape": "linear",
          "width": 1.3
         },
         "mode": "lines",
         "name": "Republic of Ireland",
         "text": "",
         "type": "scatter",
         "x": [
          0,
          20,
          21,
          22,
          23,
          24,
          25
         ],
         "y": [
          1,
          0.9861111111111112,
          "",
          0.9583333333333336,
          0.7638888888888891,
          0.23611111111111113,
          0
         ]
        },
        {
         "line": {
          "color": "rgba(255, 153, 51, 0.6129032258064515)",
          "dash": "solid",
          "shape": "linear",
          "width": 1.3
         },
         "mode": "lines",
         "name": "Zimbabwe",
         "text": "",
         "type": "scatter",
         "x": [
          0,
          20,
          21,
          22,
          23,
          24,
          25
         ],
         "y": [
          1,
          "",
          "",
          "",
          0.5,
          0.25,
          0
         ]
        },
        {
         "line": {
          "color": "rgba(55, 128, 191, 0.6129032258064515)",
          "dash": "solid",
          "shape": "linear",
          "width": 1.3
         },
         "mode": "lines",
         "name": "Moldova",
         "text": "",
         "type": "scatter",
         "x": [
          0,
          20,
          21,
          22,
          23,
          24,
          25
         ],
         "y": [
          1,
          "",
          "",
          "",
          0,
          "",
          ""
         ]
        },
        {
         "line": {
          "color": "rgba(50, 171, 96, 0.6129032258064515)",
          "dash": "solid",
          "shape": "linear",
          "width": 1.3
         },
         "mode": "lines",
         "name": "Mozambique",
         "text": "",
         "type": "scatter",
         "x": [
          0,
          20,
          21,
          22,
          23,
          24,
          25
         ],
         "y": [
          1,
          "",
          "",
          "",
          0,
          "",
          ""
         ]
        },
        {
         "line": {
          "color": "rgba(128, 0, 128, 0.6129032258064515)",
          "dash": "solid",
          "shape": "linear",
          "width": 1.3
         },
         "mode": "lines",
         "name": "Sierra Leone",
         "text": "",
         "type": "scatter",
         "x": [
          0,
          20,
          21,
          22,
          23,
          24,
          25
         ],
         "y": [
          1,
          0.5,
          "",
          "",
          "",
          0,
          ""
         ]
        },
        {
         "line": {
          "color": "rgba(128, 0, 128, 0.5483870967741935)",
          "dash": "solid",
          "shape": "linear",
          "width": 1.3
         },
         "mode": "lines",
         "name": "Benin",
         "text": "",
         "type": "scatter",
         "x": [
          0,
          20,
          21,
          22,
          23,
          24,
          25
         ],
         "y": [
          1,
          "",
          "",
          "",
          0.5,
          0,
          ""
         ]
        },
        {
         "line": {
          "color": "rgba(219, 64, 82, 0.5483870967741935)",
          "dash": "solid",
          "shape": "linear",
          "width": 1.3
         },
         "mode": "lines",
         "name": "Northern Ireland",
         "text": "",
         "type": "scatter",
         "x": [
          0,
          20,
          21,
          22,
          23,
          24,
          25
         ],
         "y": [
          1,
          "",
          "",
          0.9375000000000001,
          0.6875000000000001,
          0.0625,
          0
         ]
        },
        {
         "line": {
          "color": "rgba(0, 128, 128, 0.5483870967741935)",
          "dash": "solid",
          "shape": "linear",
          "width": 1.3
         },
         "mode": "lines",
         "name": "Syria",
         "text": "",
         "type": "scatter",
         "x": [
          0,
          20,
          21,
          22,
          23,
          24,
          25
         ],
         "y": [
          1,
          "",
          "",
          "",
          "",
          0,
          ""
         ]
        },
        {
         "line": {
          "color": "rgba(255, 255, 51, 0.5483870967741935)",
          "dash": "solid",
          "shape": "linear",
          "width": 1.3
         },
         "mode": "lines",
         "name": "Tunisia",
         "text": "",
         "type": "scatter",
         "x": [
          0,
          20,
          21,
          22,
          23,
          24,
          25
         ],
         "y": [
          1,
          "",
          "",
          0.8750000000000001,
          0.7500000000000001,
          0,
          ""
         ]
        },
        {
         "line": {
          "color": "rgba(128, 128, 0, 0.5483870967741935)",
          "dash": "solid",
          "shape": "linear",
          "width": 1.3
         },
         "mode": "lines",
         "name": "Bolivia",
         "text": "",
         "type": "scatter",
         "x": [
          0,
          20,
          21,
          22,
          23,
          24,
          25
         ],
         "y": [
          0.16666666666666669,
          "",
          0,
          "",
          "",
          "",
          ""
         ]
        },
        {
         "line": {
          "color": "rgba(251, 128, 114, 0.5483870967741935)",
          "dash": "solid",
          "shape": "linear",
          "width": 1.3
         },
         "mode": "lines",
         "name": "Canada",
         "text": "",
         "type": "scatter",
         "x": [
          0,
          20,
          21,
          22,
          23,
          24,
          25
         ],
         "y": [
          0.9090909090909092,
          0.8181818181818182,
          "",
          "",
          0.6363636363636362,
          0.0909090909090909,
          0
         ]
        },
        {
         "line": {
          "color": "rgba(128, 177, 211, 0.5483870967741935)",
          "dash": "solid",
          "shape": "linear",
          "width": 1.3
         },
         "mode": "lines",
         "name": "Saudi Arabia",
         "text": "",
         "type": "scatter",
         "x": [
          0,
          20,
          21,
          22,
          23,
          24,
          25
         ],
         "y": [
          1,
          "",
          0.8809523809523808,
          0.8095238095238095,
          0.5714285714285714,
          0,
          ""
         ]
        },
        {
         "line": {
          "color": "rgba(255, 153, 51, 0.5483870967741935)",
          "dash": "solid",
          "shape": "linear",
          "width": 1.3
         },
         "mode": "lines",
         "name": "Iceland",
         "text": "",
         "type": "scatter",
         "x": [
          0,
          20,
          21,
          22,
          23,
          24,
          25
         ],
         "y": [
          0.49999999999999983,
          "",
          "",
          "",
          0.19999999999999998,
          0,
          ""
         ]
        },
        {
         "line": {
          "color": "rgba(55, 128, 191, 0.5483870967741935)",
          "dash": "solid",
          "shape": "linear",
          "width": 1.3
         },
         "mode": "lines",
         "name": "Korea Republic",
         "text": "",
         "type": "scatter",
         "x": [
          0,
          20,
          21,
          22,
          23,
          24,
          25
         ],
         "y": [
          1,
          0.8607594936708863,
          0.5822784810126582,
          0.20253164556962022,
          0.16455696202531644,
          0.11392405063291142,
          0
         ]
        },
        {
         "line": {
          "color": "rgba(50, 171, 96, 0.5483870967741935)",
          "dash": "solid",
          "shape": "linear",
          "width": 1.3
         },
         "mode": "lines",
         "name": "Haiti",
         "text": "",
         "type": "scatter",
         "x": [
          0,
          20,
          21,
          22,
          23,
          24,
          25
         ],
         "y": [
          1,
          "",
          "",
          "",
          "",
          0,
          ""
         ]
        },
        {
         "line": {
          "color": "rgba(50, 171, 96, 0.48387096774193555)",
          "dash": "solid",
          "shape": "linear",
          "width": 1.3
         },
         "mode": "lines",
         "name": "Angola",
         "text": "",
         "type": "scatter",
         "x": [
          0,
          20,
          21,
          22,
          23,
          24,
          25
         ],
         "y": [
          1,
          "",
          "",
          "",
          0.6666666666666666,
          0,
          ""
         ]
        },
        {
         "line": {
          "color": "rgba(128, 0, 128, 0.48387096774193555)",
          "dash": "solid",
          "shape": "linear",
          "width": 1.3
         },
         "mode": "lines",
         "name": "China PR",
         "text": "",
         "type": "scatter",
         "x": [
          0,
          20,
          21,
          22,
          23,
          24,
          25
         ],
         "y": [
          1,
          0.9883720930232565,
          0.9767441860465118,
          0.8372093023255818,
          0.5813953488372094,
          0.25581395348837227,
          0
         ]
        },
        {
         "line": {
          "color": "rgba(219, 64, 82, 0.48387096774193555)",
          "dash": "solid",
          "shape": "linear",
          "width": 1.3
         },
         "mode": "lines",
         "name": "Egypt",
         "text": "",
         "type": "scatter",
         "x": [
          0,
          20,
          21,
          22,
          23,
          24,
          25
         ],
         "y": [
          0.5714285714285714,
          "",
          "",
          "",
          0.14285714285714288,
          0,
          ""
         ]
        },
        {
         "line": {
          "color": "rgba(0, 128, 128, 0.48387096774193555)",
          "dash": "solid",
          "shape": "linear",
          "width": 1.3
         },
         "mode": "lines",
         "name": "Honduras",
         "text": "",
         "type": "scatter",
         "x": [
          0,
          20,
          21,
          22,
          23,
          24,
          25
         ],
         "y": [
          1,
          0.8,
          "",
          "",
          0.6000000000000001,
          0.2,
          0
         ]
        },
        {
         "line": {
          "color": "rgba(255, 255, 51, 0.48387096774193555)",
          "dash": "solid",
          "shape": "linear",
          "width": 1.3
         },
         "mode": "lines",
         "name": "Congo",
         "text": "",
         "type": "scatter",
         "x": [
          0,
          20,
          21,
          22,
          23,
          24,
          25
         ],
         "y": [
          1,
          "",
          "",
          "",
          "",
          0,
          ""
         ]
        },
        {
         "line": {
          "color": "rgba(128, 128, 0, 0.48387096774193555)",
          "dash": "solid",
          "shape": "linear",
          "width": 1.3
         },
         "mode": "lines",
         "name": "São Tomé & Príncipe",
         "text": "",
         "type": "scatter",
         "x": [
          0,
          20,
          21,
          22,
          23,
          24,
          25
         ],
         "y": [
          1,
          "",
          0,
          "",
          "",
          "",
          ""
         ]
        },
        {
         "line": {
          "color": "rgba(251, 128, 114, 0.48387096774193555)",
          "dash": "solid",
          "shape": "linear",
          "width": 1.3
         },
         "mode": "lines",
         "name": "Eritrea",
         "text": "",
         "type": "scatter",
         "x": [
          0,
          20,
          21,
          22,
          23,
          24,
          25
         ],
         "y": [
          1,
          "",
          "",
          "",
          "",
          0,
          ""
         ]
        },
        {
         "line": {
          "color": "rgba(128, 177, 211, 0.48387096774193555)",
          "dash": "solid",
          "shape": "linear",
          "width": 1.3
         },
         "mode": "lines",
         "name": "Oman",
         "text": "",
         "type": "scatter",
         "x": [
          0,
          20,
          21,
          22,
          23,
          24,
          25
         ],
         "y": [
          1,
          "",
          "",
          "",
          0,
          "",
          ""
         ]
        },
        {
         "line": {
          "color": "rgba(255, 153, 51, 0.48387096774193555)",
          "dash": "solid",
          "shape": "linear",
          "width": 1.3
         },
         "mode": "lines",
         "name": "Albania",
         "text": "",
         "type": "scatter",
         "x": [
          0,
          20,
          21,
          22,
          23,
          24,
          25
         ],
         "y": [
          1,
          "",
          "",
          0.6666666666666666,
          "",
          0.3333333333333333,
          0
         ]
        },
        {
         "line": {
          "color": "rgba(55, 128, 191, 0.48387096774193555)",
          "dash": "solid",
          "shape": "linear",
          "width": 1.3
         },
         "mode": "lines",
         "name": "Fiji",
         "text": "",
         "type": "scatter",
         "x": [
          0,
          20,
          21,
          22,
          23,
          24,
          25
         ],
         "y": [
          1,
          "",
          "",
          "",
          "",
          0,
          ""
         ]
        },
        {
         "line": {
          "color": "rgba(55, 128, 191, 0.41935483870967755)",
          "dash": "solid",
          "shape": "linear",
          "width": 1.3
         },
         "mode": "lines",
         "name": "New Caledonia",
         "text": "",
         "type": "scatter",
         "x": [
          0,
          20,
          21,
          22,
          23,
          24,
          25
         ],
         "y": [
          1,
          "",
          "",
          "",
          0,
          "",
          ""
         ]
        },
        {
         "line": {
          "color": "rgba(50, 171, 96, 0.41935483870967755)",
          "dash": "solid",
          "shape": "linear",
          "width": 1.3
         },
         "mode": "lines",
         "name": "Korea DPR",
         "text": "",
         "type": "scatter",
         "x": [
          0,
          20,
          21,
          22,
          23,
          24,
          25
         ],
         "y": [
          1,
          "",
          "",
          0,
          "",
          "",
          ""
         ]
        },
        {
         "line": {
          "color": "rgba(128, 0, 128, 0.41935483870967755)",
          "dash": "solid",
          "shape": "linear",
          "width": 1.3
         },
         "mode": "lines",
         "name": "Mali",
         "text": "",
         "type": "scatter",
         "x": [
          0,
          20,
          21,
          22,
          23,
          24,
          25
         ],
         "y": [
          1,
          "",
          "",
          0.7500000000000001,
          "",
          0,
          ""
         ]
        },
        {
         "line": {
          "color": "rgba(219, 64, 82, 0.41935483870967755)",
          "dash": "solid",
          "shape": "linear",
          "width": 1.3
         },
         "mode": "lines",
         "name": "Panama",
         "text": "",
         "type": "scatter",
         "x": [
          0,
          20,
          21,
          22,
          23,
          24,
          25
         ],
         "y": [
          1,
          "",
          0.6666666666666666,
          "",
          "",
          0,
          ""
         ]
        },
        {
         "line": {
          "color": "rgba(0, 128, 128, 0.41935483870967755)",
          "dash": "solid",
          "shape": "linear",
          "width": 1.3
         },
         "mode": "lines",
         "name": "Latvia",
         "text": "",
         "type": "scatter",
         "x": [
          0,
          20,
          21,
          22,
          23,
          24,
          25
         ],
         "y": [
          1,
          "",
          "",
          "",
          0.5,
          0,
          ""
         ]
        },
        {
         "line": {
          "color": "rgba(255, 255, 51, 0.41935483870967755)",
          "dash": "solid",
          "shape": "linear",
          "width": 1.3
         },
         "mode": "lines",
         "name": "Kosovo",
         "text": "",
         "type": "scatter",
         "x": [
          0,
          20,
          21,
          22,
          23,
          24,
          25
         ],
         "y": [
          1,
          "",
          0.5,
          "",
          "",
          "",
          0
         ]
        },
        {
         "line": {
          "color": "rgba(128, 128, 0, 0.41935483870967755)",
          "dash": "solid",
          "shape": "linear",
          "width": 1.3
         },
         "mode": "lines",
         "name": "Uganda",
         "text": "",
         "type": "scatter",
         "x": [
          0,
          20,
          21,
          22,
          23,
          24,
          25
         ],
         "y": [
          1,
          "",
          "",
          "",
          "",
          "",
          0
         ]
        },
        {
         "line": {
          "color": "rgba(251, 128, 114, 0.41935483870967755)",
          "dash": "solid",
          "shape": "linear",
          "width": 1.3
         },
         "mode": "lines",
         "name": "Montenegro",
         "text": "",
         "type": "scatter",
         "x": [
          0,
          20,
          21,
          22,
          23,
          24,
          25
         ],
         "y": [
          1,
          "",
          "",
          0.6666666666666666,
          0.3333333333333333,
          0,
          ""
         ]
        },
        {
         "line": {
          "color": "rgba(128, 177, 211, 0.41935483870967755)",
          "dash": "solid",
          "shape": "linear",
          "width": 1.3
         },
         "mode": "lines",
         "name": "Belarus",
         "text": "",
         "type": "scatter",
         "x": [
          0,
          20,
          21,
          22,
          23,
          24,
          25
         ],
         "y": [
          1,
          "",
          "",
          "",
          0,
          "",
          ""
         ]
        },
        {
         "line": {
          "color": "rgba(255, 153, 51, 0.41935483870967755)",
          "dash": "solid",
          "shape": "linear",
          "width": 1.3
         },
         "mode": "lines",
         "name": "Kuwait",
         "text": "",
         "type": "scatter",
         "x": [
          0,
          20,
          21,
          22,
          23,
          24,
          25
         ],
         "y": [
          1,
          0,
          "",
          "",
          "",
          "",
          ""
         ]
        },
        {
         "line": {
          "color": "rgba(255, 153, 51, 0.3548387096774193)",
          "dash": "solid",
          "shape": "linear",
          "width": 1.3
         },
         "mode": "lines",
         "name": "Armenia",
         "text": "",
         "type": "scatter",
         "x": [
          0,
          20,
          21,
          22,
          23,
          24,
          25
         ],
         "y": [
          1,
          0.6666666666666666,
          "",
          "",
          0.3333333333333333,
          0,
          ""
         ]
        },
        {
         "line": {
          "color": "rgba(55, 128, 191, 0.3548387096774193)",
          "dash": "solid",
          "shape": "linear",
          "width": 1.3
         },
         "mode": "lines",
         "name": "Iran",
         "text": "",
         "type": "scatter",
         "x": [
          0,
          20,
          21,
          22,
          23,
          24,
          25
         ],
         "y": [
          1,
          "",
          "",
          "",
          0.7500000000000001,
          0,
          ""
         ]
        },
        {
         "line": {
          "color": "rgba(50, 171, 96, 0.3548387096774193)",
          "dash": "solid",
          "shape": "linear",
          "width": 1.3
         },
         "mode": "lines",
         "name": "Thailand",
         "text": "",
         "type": "scatter",
         "x": [
          0,
          20,
          21,
          22,
          23,
          24,
          25
         ],
         "y": [
          1,
          "",
          "",
          "",
          "",
          "",
          0
         ]
        },
        {
         "line": {
          "color": "rgba(128, 0, 128, 0.3548387096774193)",
          "dash": "solid",
          "shape": "linear",
          "width": 1.3
         },
         "mode": "lines",
         "name": "Guatemala",
         "text": "",
         "type": "scatter",
         "x": [
          0,
          20,
          21,
          22,
          23,
          24,
          25
         ],
         "y": [
          1,
          0,
          "",
          "",
          "",
          "",
          ""
         ]
        },
        {
         "line": {
          "color": "rgba(219, 64, 82, 0.3548387096774193)",
          "dash": "solid",
          "shape": "linear",
          "width": 1.3
         },
         "mode": "lines",
         "name": "New Zealand",
         "text": "",
         "type": "scatter",
         "x": [
          0,
          20,
          21,
          22,
          23,
          24,
          25
         ],
         "y": [
          0.8,
          "",
          "",
          "",
          0.4,
          0,
          ""
         ]
        },
        {
         "line": {
          "color": "rgba(0, 128, 128, 0.3548387096774193)",
          "dash": "solid",
          "shape": "linear",
          "width": 1.3
         },
         "mode": "lines",
         "name": "Equatorial Guinea",
         "text": "",
         "type": "scatter",
         "x": [
          0,
          20,
          21,
          22,
          23,
          24,
          25
         ],
         "y": [
          1,
          "",
          "",
          "",
          "",
          "",
          0
         ]
        },
        {
         "line": {
          "color": "rgba(255, 255, 51, 0.3548387096774193)",
          "dash": "solid",
          "shape": "linear",
          "width": 1.3
         },
         "mode": "lines",
         "name": "Cyprus",
         "text": "",
         "type": "scatter",
         "x": [
          0,
          20,
          21,
          22,
          23,
          24,
          25
         ],
         "y": [
          1,
          "",
          "",
          0,
          "",
          "",
          ""
         ]
        },
        {
         "line": {
          "color": "rgba(128, 128, 0, 0.3548387096774193)",
          "dash": "solid",
          "shape": "linear",
          "width": 1.3
         },
         "mode": "lines",
         "name": "Guam",
         "text": "",
         "type": "scatter",
         "x": [
          0,
          20,
          21,
          22,
          23,
          24,
          25
         ],
         "y": [
          1,
          "",
          "",
          0,
          "",
          "",
          ""
         ]
        },
        {
         "line": {
          "color": "rgba(251, 128, 114, 0.3548387096774193)",
          "dash": "solid",
          "shape": "linear",
          "width": 1.3
         },
         "mode": "lines",
         "name": "India",
         "text": "",
         "type": "scatter",
         "x": [
          0,
          20,
          21,
          22,
          23,
          24,
          25
         ],
         "y": [
          0,
          "",
          "",
          "",
          "",
          "",
          ""
         ]
        },
        {
         "line": {
          "color": "rgba(128, 177, 211, 0.3548387096774193)",
          "dash": "solid",
          "shape": "linear",
          "width": 1.3
         },
         "mode": "lines",
         "name": "Palestine",
         "text": "",
         "type": "scatter",
         "x": [
          0,
          20,
          21,
          22,
          23,
          24,
          25
         ],
         "y": [
          1,
          "",
          "",
          "",
          "",
          0,
          ""
         ]
        },
        {
         "line": {
          "color": "rgba(128, 177, 211, 0.2903225806451613)",
          "dash": "solid",
          "shape": "linear",
          "width": 1.3
         },
         "mode": "lines",
         "name": "Gabon",
         "text": "",
         "type": "scatter",
         "x": [
          0,
          20,
          21,
          22,
          23,
          24,
          25
         ],
         "y": [
          1,
          0,
          "",
          "",
          "",
          "",
          ""
         ]
        },
        {
         "line": {
          "color": "rgba(255, 153, 51, 0.2903225806451613)",
          "dash": "solid",
          "shape": "linear",
          "width": 1.3
         },
         "mode": "lines",
         "name": "El Salvador",
         "text": "",
         "type": "scatter",
         "x": [
          0,
          20,
          21,
          22,
          23,
          24,
          25
         ],
         "y": [
          1,
          "",
          "",
          "",
          "",
          "",
          0
         ]
        },
        {
         "line": {
          "color": "rgba(55, 128, 191, 0.2903225806451613)",
          "dash": "solid",
          "shape": "linear",
          "width": 1.3
         },
         "mode": "lines",
         "name": "Kenya",
         "text": "",
         "type": "scatter",
         "x": [
          0,
          20,
          21,
          22,
          23,
          24,
          25
         ],
         "y": [
          1,
          "",
          0,
          "",
          "",
          "",
          ""
         ]
        },
        {
         "line": {
          "color": "rgba(50, 171, 96, 0.2903225806451613)",
          "dash": "solid",
          "shape": "linear",
          "width": 1.3
         },
         "mode": "lines",
         "name": "Gambia",
         "text": "",
         "type": "scatter",
         "x": [
          0,
          20,
          21,
          22,
          23,
          24,
          25
         ],
         "y": [
          1,
          "",
          "",
          "",
          "",
          "",
          0
         ]
        },
        {
         "line": {
          "color": "rgba(128, 0, 128, 0.2903225806451613)",
          "dash": "solid",
          "shape": "linear",
          "width": 1.3
         },
         "mode": "lines",
         "name": "Ethiopia",
         "text": "",
         "type": "scatter",
         "x": [
          0,
          20,
          21,
          22,
          23,
          24,
          25
         ],
         "y": [
          1,
          "",
          "",
          "",
          "",
          0,
          ""
         ]
        },
        {
         "line": {
          "color": "rgba(219, 64, 82, 0.2903225806451613)",
          "dash": "solid",
          "shape": "linear",
          "width": 1.3
         },
         "mode": "lines",
         "name": "Lithuania",
         "text": "",
         "type": "scatter",
         "x": [
          0,
          20,
          21,
          22,
          23,
          24,
          25
         ],
         "y": [
          1,
          "",
          "",
          "",
          0,
          "",
          ""
         ]
        },
        {
         "line": {
          "color": "rgba(0, 128, 128, 0.2903225806451613)",
          "dash": "solid",
          "shape": "linear",
          "width": 1.3
         },
         "mode": "lines",
         "name": "Barbados",
         "text": "",
         "type": "scatter",
         "x": [
          0,
          20,
          21,
          22,
          23,
          24,
          25
         ],
         "y": [
          1,
          "",
          "",
          "",
          "",
          0,
          ""
         ]
        },
        {
         "line": {
          "color": "rgba(255, 255, 51, 0.2903225806451613)",
          "dash": "solid",
          "shape": "linear",
          "width": 1.3
         },
         "mode": "lines",
         "name": "Puerto Rico",
         "text": "",
         "type": "scatter",
         "x": [
          0,
          20,
          21,
          22,
          23,
          24,
          25
         ],
         "y": [
          1,
          "",
          "",
          "",
          "",
          "",
          0
         ]
        },
        {
         "line": {
          "color": "rgba(128, 128, 0, 0.2903225806451613)",
          "dash": "solid",
          "shape": "linear",
          "width": 1.3
         },
         "mode": "lines",
         "name": "Guyana",
         "text": "",
         "type": "scatter",
         "x": [
          0,
          20,
          21,
          22,
          23,
          24,
          25
         ],
         "y": [
          1,
          "",
          "",
          "",
          "",
          0,
          ""
         ]
        },
        {
         "line": {
          "color": "rgba(251, 128, 114, 0.2903225806451613)",
          "dash": "solid",
          "shape": "linear",
          "width": 1.3
         },
         "mode": "lines",
         "name": "Hong Kong",
         "text": "",
         "type": "scatter",
         "x": [
          0,
          20,
          21,
          22,
          23,
          24,
          25
         ],
         "y": [
          1,
          "",
          "",
          "",
          "",
          "",
          0
         ]
        },
        {
         "line": {
          "color": "rgba(251, 128, 114, 0.2258064516129033)",
          "dash": "solid",
          "shape": "linear",
          "width": 1.3
         },
         "mode": "lines",
         "name": "Azerbaijan",
         "text": "",
         "type": "scatter",
         "x": [
          0,
          20,
          21,
          22,
          23,
          24,
          25
         ],
         "y": [
          1,
          "",
          "",
          "",
          "",
          0,
          ""
         ]
        },
        {
         "line": {
          "color": "rgba(128, 177, 211, 0.2258064516129033)",
          "dash": "solid",
          "shape": "linear",
          "width": 1.3
         },
         "mode": "lines",
         "name": "Sudan",
         "text": "",
         "type": "scatter",
         "x": [
          0,
          20,
          21,
          22,
          23,
          24,
          25
         ],
         "y": [
          1,
          "",
          "",
          "",
          "",
          0,
          ""
         ]
        },
        {
         "line": {
          "color": "rgba(255, 153, 51, 0.2258064516129033)",
          "dash": "solid",
          "shape": "linear",
          "width": 1.3
         },
         "mode": "lines",
         "name": "Comoros",
         "text": "",
         "type": "scatter",
         "x": [
          0,
          20,
          21,
          22,
          23,
          24,
          25
         ],
         "y": [
          1,
          "",
          "",
          "",
          0,
          "",
          ""
         ]
        },
        {
         "line": {
          "color": "rgba(55, 128, 191, 0.2258064516129033)",
          "dash": "solid",
          "shape": "linear",
          "width": 1.3
         },
         "mode": "lines",
         "name": "Trinidad & Tobago",
         "text": "",
         "type": "scatter",
         "x": [
          0,
          20,
          21,
          22,
          23,
          24,
          25
         ],
         "y": [
          1,
          "",
          "",
          "",
          "",
          0,
          ""
         ]
        }
       ],
       "layout": {
        "legend": {
         "bgcolor": "#F5F6F9",
         "font": {
          "color": "#4D5663"
         }
        },
        "paper_bgcolor": "#F5F6F9",
        "plot_bgcolor": "#F5F6F9",
        "template": {
         "data": {
          "scatter": [
           {
            "type": "scatter"
           }
          ]
         }
        },
        "title": {
         "font": {
          "color": "#4D5663"
         },
         "text": "Retiros profesionales por nacionalidad"
        },
        "xaxis": {
         "gridcolor": "#E1E5ED",
         "showgrid": true,
         "tickfont": {
          "color": "#4D5663"
         },
         "title": {
          "font": {
           "color": "#4D5663"
          },
          "text": "Cantidad de retiros"
         },
         "zerolinecolor": "#E1E5ED"
        },
        "yaxis": {
         "gridcolor": "#E1E5ED",
         "showgrid": true,
         "tickfont": {
          "color": "#4D5663"
         },
         "title": {
          "font": {
           "color": "#4D5663"
          },
          "text": "Tasa de retiro"
         },
         "zerolinecolor": "#E1E5ED"
        }
       }
      },
      "text/html": [
       "<div>\n",
       "        \n",
       "        \n",
       "            <div id=\"28363f95-9363-4dc2-bd96-7f5e6e1184f3\" class=\"plotly-graph-div\" style=\"height:525px; width:100%;\"></div>\n",
       "            <script type=\"text/javascript\">\n",
       "                require([\"plotly\"], function(Plotly) {\n",
       "                    window.PLOTLYENV=window.PLOTLYENV || {};\n",
       "                    window.PLOTLYENV.BASE_URL='https://plot.ly';\n",
       "                    \n",
       "                if (document.getElementById(\"28363f95-9363-4dc2-bd96-7f5e6e1184f3\")) {\n",
       "                    Plotly.newPlot(\n",
       "                        '28363f95-9363-4dc2-bd96-7f5e6e1184f3',\n",
       "                        [{\"line\": {\"color\": \"rgba(255, 153, 51, 1.0)\", \"dash\": \"solid\", \"shape\": \"linear\", \"width\": 1.3}, \"mode\": \"lines\", \"name\": \"Argentina\", \"text\": \"\", \"type\": \"scatter\", \"x\": [0.0, 20.0, 21.0, 22.0, 23.0, 24.0, 25.0], \"y\": [1.0, 0.8949416342412451, 0.8443579766536964, 0.7276264591439688, 0.5214007782101164, 0.10894941634241241, 0.0]}, {\"line\": {\"color\": \"rgba(55, 128, 191, 1.0)\", \"dash\": \"solid\", \"shape\": \"linear\", \"width\": 1.3}, \"mode\": \"lines\", \"name\": \"Portugal\", \"text\": \"\", \"type\": \"scatter\", \"x\": [0.0, 20.0, 21.0, 22.0, 23.0, 24.0, 25.0], \"y\": [0.9861111111111112, 0.9722222222222225, 0.9305555555555552, 0.8194444444444446, 0.4583333333333333, 0.013888888888888888, 0.0]}, {\"line\": {\"color\": \"rgba(50, 171, 96, 1.0)\", \"dash\": \"solid\", \"shape\": \"linear\", \"width\": 1.3}, \"mode\": \"lines\", \"name\": \"Croatia\", \"text\": \"\", \"type\": \"scatter\", \"x\": [0.0, 20.0, 21.0, 22.0, 23.0, 24.0, 25.0], \"y\": [1.0, \"\", 0.9473684210526316, 0.7894736842105264, 0.4210526315789474, 0.10526315789473688, 0.0]}, {\"line\": {\"color\": \"rgba(128, 0, 128, 1.0)\", \"dash\": \"solid\", \"shape\": \"linear\", \"width\": 1.3}, \"mode\": \"lines\", \"name\": \"Uruguay\", \"text\": \"\", \"type\": \"scatter\", \"x\": [0.0, 20.0, 21.0, 22.0, 23.0, 24.0, 25.0], \"y\": [0.9736842105263158, 0.868421052631579, 0.8421052631578948, 0.7105263157894738, 0.5526315789473685, 0.15789473684210528, 0.0]}, {\"line\": {\"color\": \"rgba(219, 64, 82, 1.0)\", \"dash\": \"solid\", \"shape\": \"linear\", \"width\": 1.3}, \"mode\": \"lines\", \"name\": \"Spain\", \"text\": \"\", \"type\": \"scatter\", \"x\": [0.0, 20.0, 21.0, 22.0, 23.0, 24.0, 25.0], \"y\": [1.0, 0.9866071428571428, 0.9687500000000004, 0.8437500000000004, 0.5580357142857146, 0.017857142857142867, 0.0]}, {\"line\": {\"color\": \"rgba(0, 128, 128, 1.0)\", \"dash\": \"solid\", \"shape\": \"linear\", \"width\": 1.3}, \"mode\": \"lines\", \"name\": \"Germany\", \"text\": \"\", \"type\": \"scatter\", \"x\": [0.0, 20.0, 21.0, 22.0, 23.0, 24.0, 25.0], \"y\": [1.0, \"\", 0.9806451612903225, 0.8580645161290321, 0.6258064516129032, 0.012903225806451613, 0.0]}, {\"line\": {\"color\": \"rgba(255, 255, 51, 1.0)\", \"dash\": \"solid\", \"shape\": \"linear\", \"width\": 1.3}, \"mode\": \"lines\", \"name\": \"Italy\", \"text\": \"\", \"type\": \"scatter\", \"x\": [0.0, 20.0, 21.0, 22.0, 23.0, 24.0, 25.0], \"y\": [1.0, 0.9653179190751445, 0.9075144508670514, 0.757225433526011, 0.5260115606936413, 0.0, \"\"]}, {\"line\": {\"color\": \"rgba(128, 128, 0, 1.0)\", \"dash\": \"solid\", \"shape\": \"linear\", \"width\": 1.3}, \"mode\": \"lines\", \"name\": \"Brazil\", \"text\": \"\", \"type\": \"scatter\", \"x\": [0.0, 20.0, 21.0, 22.0, 23.0, 24.0, 25.0], \"y\": [1.0, \"\", 0.9713375796178348, 0.2993630573248408, 0.2038216560509554, 0.03821656050955415, 0.0]}, {\"line\": {\"color\": \"rgba(251, 128, 114, 1.0)\", \"dash\": \"solid\", \"shape\": \"linear\", \"width\": 1.3}, \"mode\": \"lines\", \"name\": \"France\", \"text\": \"\", \"type\": \"scatter\", \"x\": [0.0, 20.0, 21.0, 22.0, 23.0, 24.0, 25.0], \"y\": [1.0, 0.9937888198757759, 0.9689440993788819, 0.8074534161490681, 0.5465838509316772, 0.031055900621118012, 0.0]}, {\"line\": {\"color\": \"rgba(128, 177, 211, 1.0)\", \"dash\": \"solid\", \"shape\": \"linear\", \"width\": 1.3}, \"mode\": \"lines\", \"name\": \"Slovenia\", \"text\": \"\", \"type\": \"scatter\", \"x\": [0.0, 20.0, 21.0, 22.0, 23.0, 24.0, 25.0], \"y\": [0.9090909090909092, 0.8181818181818182, \"\", 0.3636363636363636, 0.18181818181818182, 0.0, \"\"]}, {\"line\": {\"color\": \"rgba(128, 177, 211, 0.935483870967742)\", \"dash\": \"solid\", \"shape\": \"linear\", \"width\": 1.3}, \"mode\": \"lines\", \"name\": \"Costa Rica\", \"text\": \"\", \"type\": \"scatter\", \"x\": [0.0, 20.0, 21.0, 22.0, 23.0, 24.0, 25.0], \"y\": [1.0, 0.8571428571428572, \"\", 0.7142857142857143, 0.42857142857142866, 0.2857142857142857, 0.0]}, {\"line\": {\"color\": \"rgba(255, 153, 51, 0.935483870967742)\", \"dash\": \"solid\", \"shape\": \"linear\", \"width\": 1.3}, \"mode\": \"lines\", \"name\": \"Belgium\", \"text\": \"\", \"type\": \"scatter\", \"x\": [0.0, 20.0, 21.0, 22.0, 23.0, 24.0, 25.0], \"y\": [0.9772727272727274, \"\", 0.9318181818181821, 0.8181818181818182, 0.40909090909090906, 0.04545454545454546, 0.0]}, {\"line\": {\"color\": \"rgba(55, 128, 191, 0.935483870967742)\", \"dash\": \"solid\", \"shape\": \"linear\", \"width\": 1.3}, \"mode\": \"lines\", \"name\": \"Slovakia\", \"text\": \"\", \"type\": \"scatter\", \"x\": [0.0, 20.0, 21.0, 22.0, 23.0, 24.0, 25.0], \"y\": [1.0, \"\", \"\", 0.9333333333333331, 0.7333333333333334, 0.06666666666666667, 0.0]}, {\"line\": {\"color\": \"rgba(50, 171, 96, 0.935483870967742)\", \"dash\": \"solid\", \"shape\": \"linear\", \"width\": 1.3}, \"mode\": \"lines\", \"name\": \"Morocco\", \"text\": \"\", \"type\": \"scatter\", \"x\": [0.0, 20.0, 21.0, 22.0, 23.0, 24.0, 25.0], \"y\": [1.0, \"\", \"\", 0.8749999999999999, 0.4375, 0.0625, 0.0]}, {\"line\": {\"color\": \"rgba(128, 0, 128, 0.935483870967742)\", \"dash\": \"solid\", \"shape\": \"linear\", \"width\": 1.3}, \"mode\": \"lines\", \"name\": \"Chile\", \"text\": \"\", \"type\": \"scatter\", \"x\": [0.0, 20.0, 21.0, 22.0, 23.0, 24.0, 25.0], \"y\": [1.0, 0.8690476190476191, 0.8452380952380955, 0.7976190476190476, 0.7142857142857143, 0.4761904761904763, 0.0]}, {\"line\": {\"color\": \"rgba(219, 64, 82, 0.935483870967742)\", \"dash\": \"solid\", \"shape\": \"linear\", \"width\": 1.3}, \"mode\": \"lines\", \"name\": \"Bosnia Herzegovina\", \"text\": \"\", \"type\": \"scatter\", \"x\": [0.0, 20.0, 21.0, 22.0, 23.0, 24.0, 25.0], \"y\": [1.0, \"\", 0.9333333333333331, 0.8666666666666667, 0.5333333333333332, 0.06666666666666667, 0.0]}, {\"line\": {\"color\": \"rgba(0, 128, 128, 0.935483870967742)\", \"dash\": \"solid\", \"shape\": \"linear\", \"width\": 1.3}, \"mode\": \"lines\", \"name\": \"Sweden\", \"text\": \"\", \"type\": \"scatter\", \"x\": [0.0, 20.0, 21.0, 22.0, 23.0, 24.0, 25.0], \"y\": [0.9855072463768115, \"\", 0.9420289855072458, 0.8550724637681159, 0.6376811594202896, 0.3333333333333332, 0.0]}, {\"line\": {\"color\": \"rgba(255, 255, 51, 0.935483870967742)\", \"dash\": \"solid\", \"shape\": \"linear\", \"width\": 1.3}, \"mode\": \"lines\", \"name\": \"Colombia\", \"text\": \"\", \"type\": \"scatter\", \"x\": [0.0, 20.0, 21.0, 22.0, 23.0, 24.0, 25.0], \"y\": [1.0, 0.6846846846846848, 0.5585585585585587, 0.4144144144144145, 0.3603603603603604, 0.12612612612612614, 0.0]}, {\"line\": {\"color\": \"rgba(128, 128, 0, 0.935483870967742)\", \"dash\": \"solid\", \"shape\": \"linear\", \"width\": 1.3}, \"mode\": \"lines\", \"name\": \"Greece\", \"text\": \"\", \"type\": \"scatter\", \"x\": [0.0, 20.0, 21.0, 22.0, 23.0, 24.0, 25.0], \"y\": [1.0, \"\", \"\", 0.6875000000000001, 0.49999999999999994, 0.0, \"\"]}, {\"line\": {\"color\": \"rgba(251, 128, 114, 0.935483870967742)\", \"dash\": \"solid\", \"shape\": \"linear\", \"width\": 1.3}, \"mode\": \"lines\", \"name\": \"Denmark\", \"text\": \"\", \"type\": \"scatter\", \"x\": [0.0, 20.0, 21.0, 22.0, 23.0, 24.0, 25.0], \"y\": [0.9787234042553193, 0.9361702127659575, 0.9148936170212767, 0.8723404255319152, 0.5744680851063831, 0.10638297872340428, 0.0]}, {\"line\": {\"color\": \"rgba(251, 128, 114, 0.8709677419354838)\", \"dash\": \"solid\", \"shape\": \"linear\", \"width\": 1.3}, \"mode\": \"lines\", \"name\": \"Netherlands\", \"text\": \"\", \"type\": \"scatter\", \"x\": [0.0, 20.0, 21.0, 22.0, 23.0, 24.0, 25.0], \"y\": [1.0, \"\", 0.9411764705882355, 0.8823529411764706, 0.607843137254902, 0.03921568627450981, 0.0]}, {\"line\": {\"color\": \"rgba(128, 177, 211, 0.8709677419354838)\", \"dash\": \"solid\", \"shape\": \"linear\", \"width\": 1.3}, \"mode\": \"lines\", \"name\": \"Poland\", \"text\": \"\", \"type\": \"scatter\", \"x\": [0.0, 20.0, 21.0, 22.0, 23.0, 24.0, 25.0], \"y\": [0.9850746268656716, \"\", \"\", 0.8955223880597015, 0.611940298507463, 0.014925373134328363, 0.0]}, {\"line\": {\"color\": \"rgba(255, 153, 51, 0.8709677419354838)\", \"dash\": \"solid\", \"shape\": \"linear\", \"width\": 1.3}, \"mode\": \"lines\", \"name\": \"Norway\", \"text\": \"\", \"type\": \"scatter\", \"x\": [0.0, 20.0, 21.0, 22.0, 23.0, 24.0, 25.0], \"y\": [1.0, \"\", \"\", 0.9545454545454548, 0.7272727272727274, 0.27272727272727276, 0.0]}, {\"line\": {\"color\": \"rgba(55, 128, 191, 0.8709677419354838)\", \"dash\": \"solid\", \"shape\": \"linear\", \"width\": 1.3}, \"mode\": \"lines\", \"name\": \"England\", \"text\": \"\", \"type\": \"scatter\", \"x\": [0.0, 20.0, 21.0, 22.0, 23.0, 24.0, 25.0], \"y\": [0.9961977186311782, 0.9733840304182506, 0.9581749049429656, 0.9163498098859312, 0.6311787072243348, 0.01140684410646388, 0.0]}, {\"line\": {\"color\": \"rgba(50, 171, 96, 0.8709677419354838)\", \"dash\": \"solid\", \"shape\": \"linear\", \"width\": 1.3}, \"mode\": \"lines\", \"name\": \"Ukraine\", \"text\": \"\", \"type\": \"scatter\", \"x\": [0.0, 20.0, 21.0, 22.0, 23.0, 24.0, 25.0], \"y\": [1.0, 0.9090909090909092, \"\", 0.7272727272727271, 0.3636363636363636, 0.0, \"\"]}, {\"line\": {\"color\": \"rgba(128, 0, 128, 0.8709677419354838)\", \"dash\": \"solid\", \"shape\": \"linear\", \"width\": 1.3}, \"mode\": \"lines\", \"name\": \"Serbia\", \"text\": \"\", \"type\": \"scatter\", \"x\": [0.0, 20.0, 21.0, 22.0, 23.0, 24.0, 25.0], \"y\": [1.0, 0.8636363636363633, \"\", 0.7727272727272726, 0.45454545454545453, 0.0, \"\"]}, {\"line\": {\"color\": \"rgba(219, 64, 82, 0.8709677419354838)\", \"dash\": \"solid\", \"shape\": \"linear\", \"width\": 1.3}, \"mode\": \"lines\", \"name\": \"Mexico\", \"text\": \"\", \"type\": \"scatter\", \"x\": [0.0, 20.0, 21.0, 22.0, 23.0, 24.0, 25.0], \"y\": [1.0, 0.9137931034482762, 0.8793103448275864, 0.6379310344827587, 0.517241379310345, 0.17241379310344834, 0.0]}, {\"line\": {\"color\": \"rgba(0, 128, 128, 0.8709677419354838)\", \"dash\": \"solid\", \"shape\": \"linear\", \"width\": 1.3}, \"mode\": \"lines\", \"name\": \"Czech Republic\", \"text\": \"\", \"type\": \"scatter\", \"x\": [0.0, 20.0, 21.0, 22.0, 23.0, 24.0, 25.0], \"y\": [1.0, \"\", 0.9130434782608696, 0.7826086956521738, 0.5652173913043478, 0.0, \"\"]}, {\"line\": {\"color\": \"rgba(255, 255, 51, 0.8709677419354838)\", \"dash\": \"solid\", \"shape\": \"linear\", \"width\": 1.3}, \"mode\": \"lines\", \"name\": \"Ghana\", \"text\": \"\", \"type\": \"scatter\", \"x\": [0.0, 20.0, 21.0, 22.0, 23.0, 24.0, 25.0], \"y\": [1.0, \"\", \"\", 0.7272727272727271, 0.3636363636363636, 0.0909090909090909, 0.0]}, {\"line\": {\"color\": \"rgba(128, 128, 0, 0.8709677419354838)\", \"dash\": \"solid\", \"shape\": \"linear\", \"width\": 1.3}, \"mode\": \"lines\", \"name\": \"Ecuador\", \"text\": \"\", \"type\": \"scatter\", \"x\": [0.0, 20.0, 21.0, 22.0, 23.0, 24.0, 25.0], \"y\": [0.7142857142857143, \"\", 0.5714285714285714, 0.42857142857142866, \"\", 0.14285714285714288, 0.0]}, {\"line\": {\"color\": \"rgba(128, 128, 0, 0.8064516129032258)\", \"dash\": \"solid\", \"shape\": \"linear\", \"width\": 1.3}, \"mode\": \"lines\", \"name\": \"Japan\", \"text\": \"\", \"type\": \"scatter\", \"x\": [0.0, 20.0, 21.0, 22.0, 23.0, 24.0, 25.0], \"y\": [1.0, 0.9112903225806452, 0.8225806451612898, 0.1935483870967742, 0.1612903225806451, 0.09677419354838708, 0.0]}, {\"line\": {\"color\": \"rgba(251, 128, 114, 0.8064516129032258)\", \"dash\": \"solid\", \"shape\": \"linear\", \"width\": 1.3}, \"mode\": \"lines\", \"name\": \"Israel\", \"text\": \"\", \"type\": \"scatter\", \"x\": [0.0, 20.0, 21.0, 22.0, 23.0, 24.0, 25.0], \"y\": [1.0, \"\", \"\", \"\", 0.6000000000000001, 0.0, \"\"]}, {\"line\": {\"color\": \"rgba(128, 177, 211, 0.8064516129032258)\", \"dash\": \"solid\", \"shape\": \"linear\", \"width\": 1.3}, \"mode\": \"lines\", \"name\": \"Romania\", \"text\": \"\", \"type\": \"scatter\", \"x\": [0.0, 20.0, 21.0, 22.0, 23.0, 24.0, 25.0], \"y\": [0.6999999999999998, \"\", \"\", 0.49999999999999983, 0.3999999999999999, 0.0, \"\"]}, {\"line\": {\"color\": \"rgba(255, 153, 51, 0.8064516129032258)\", \"dash\": \"solid\", \"shape\": \"linear\", \"width\": 1.3}, \"mode\": \"lines\", \"name\": \"Russia\", \"text\": \"\", \"type\": \"scatter\", \"x\": [0.0, 20.0, 21.0, 22.0, 23.0, 24.0, 25.0], \"y\": [0.8666666666666667, \"\", 0.8, \"\", 0.5333333333333332, 0.0, \"\"]}, {\"line\": {\"color\": \"rgba(55, 128, 191, 0.8064516129032258)\", \"dash\": \"solid\", \"shape\": \"linear\", \"width\": 1.3}, \"mode\": \"lines\", \"name\": \"Switzerland\", \"text\": \"\", \"type\": \"scatter\", \"x\": [0.0, 20.0, 21.0, 22.0, 23.0, 24.0, 25.0], \"y\": [1.0, \"\", 0.9756097560975607, 0.8780487804878047, 0.6585365853658536, 0.024390243902439022, 0.0]}, {\"line\": {\"color\": \"rgba(50, 171, 96, 0.8064516129032258)\", \"dash\": \"solid\", \"shape\": \"linear\", \"width\": 1.3}, \"mode\": \"lines\", \"name\": \"Guinea\", \"text\": \"\", \"type\": \"scatter\", \"x\": [0.0, 20.0, 21.0, 22.0, 23.0, 24.0, 25.0], \"y\": [1.0, \"\", \"\", 0.6000000000000001, 0.2, 0.0, \"\"]}, {\"line\": {\"color\": \"rgba(128, 0, 128, 0.8064516129032258)\", \"dash\": \"solid\", \"shape\": \"linear\", \"width\": 1.3}, \"mode\": \"lines\", \"name\": \"Ivory Coast\", \"text\": \"\", \"type\": \"scatter\", \"x\": [0.0, 20.0, 21.0, 22.0, 23.0, 24.0, 25.0], \"y\": [0.8333333333333335, \"\", 0.7777777777777778, 0.5555555555555558, 0.2777777777777778, 0.055555555555555566, 0.0]}, {\"line\": {\"color\": \"rgba(219, 64, 82, 0.8064516129032258)\", \"dash\": \"solid\", \"shape\": \"linear\", \"width\": 1.3}, \"mode\": \"lines\", \"name\": \"Peru\", \"text\": \"\", \"type\": \"scatter\", \"x\": [0.0, 20.0, 21.0, 22.0, 23.0, 24.0, 25.0], \"y\": [0.6666666666666666, \"\", \"\", \"\", 0.3333333333333333, 0.0, \"\"]}, {\"line\": {\"color\": \"rgba(0, 128, 128, 0.8064516129032258)\", \"dash\": \"solid\", \"shape\": \"linear\", \"width\": 1.3}, \"mode\": \"lines\", \"name\": \"Turkey\", \"text\": \"\", \"type\": \"scatter\", \"x\": [0.0, 20.0, 21.0, 22.0, 23.0, 24.0, 25.0], \"y\": [1.0, \"\", \"\", 0.9285714285714284, 0.5535714285714284, 0.0, \"\"]}, {\"line\": {\"color\": \"rgba(255, 255, 51, 0.8064516129032258)\", \"dash\": \"solid\", \"shape\": \"linear\", \"width\": 1.3}, \"mode\": \"lines\", \"name\": \"Togo\", \"text\": \"\", \"type\": \"scatter\", \"x\": [0.0, 20.0, 21.0, 22.0, 23.0, 24.0, 25.0], \"y\": [1.0, \"\", \"\", \"\", 0.0, \"\", \"\"]}, {\"line\": {\"color\": \"rgba(255, 255, 51, 0.7419354838709677)\", \"dash\": \"solid\", \"shape\": \"linear\", \"width\": 1.3}, \"mode\": \"lines\", \"name\": \"Austria\", \"text\": \"\", \"type\": \"scatter\", \"x\": [0.0, 20.0, 21.0, 22.0, 23.0, 24.0, 25.0], \"y\": [1.0, 0.9761904761904763, 0.9523809523809522, 0.7619047619047619, 0.6666666666666665, 0.0, \"\"]}, {\"line\": {\"color\": \"rgba(128, 128, 0, 0.7419354838709677)\", \"dash\": \"solid\", \"shape\": \"linear\", \"width\": 1.3}, \"mode\": \"lines\", \"name\": \"Finland\", \"text\": \"\", \"type\": \"scatter\", \"x\": [0.0, 20.0, 21.0, 22.0, 23.0, 24.0, 25.0], \"y\": [1.0, 0.9285714285714287, \"\", 0.8571428571428573, 0.785714285714286, 0.21428571428571436, 0.0]}, {\"line\": {\"color\": \"rgba(251, 128, 114, 0.7419354838709677)\", \"dash\": \"solid\", \"shape\": \"linear\", \"width\": 1.3}, \"mode\": \"lines\", \"name\": \"United States\", \"text\": \"\", \"type\": \"scatter\", \"x\": [0.0, 20.0, 21.0, 22.0, 23.0, 24.0, 25.0], \"y\": [1.0, 0.948275862068966, 0.8965517241379314, 0.6896551724137933, 0.5862068965517244, 0.3620689655172415, 0.0]}, {\"line\": {\"color\": \"rgba(128, 177, 211, 0.7419354838709677)\", \"dash\": \"solid\", \"shape\": \"linear\", \"width\": 1.3}, \"mode\": \"lines\", \"name\": \"Senegal\", \"text\": \"\", \"type\": \"scatter\", \"x\": [0.0, 20.0, 21.0, 22.0, 23.0, 24.0, 25.0], \"y\": [1.0, \"\", \"\", 0.8947368421052634, 0.6315789473684212, 0.05263157894736843, 0.0]}, {\"line\": {\"color\": \"rgba(255, 153, 51, 0.7419354838709677)\", \"dash\": \"solid\", \"shape\": \"linear\", \"width\": 1.3}, \"mode\": \"lines\", \"name\": \"Estonia\", \"text\": \"\", \"type\": \"scatter\", \"x\": [0.0, 20.0, 21.0, 22.0, 23.0, 24.0, 25.0], \"y\": [1.0, \"\", \"\", \"\", 0.5, \"\", 0.0]}, {\"line\": {\"color\": \"rgba(55, 128, 191, 0.7419354838709677)\", \"dash\": \"solid\", \"shape\": \"linear\", \"width\": 1.3}, \"mode\": \"lines\", \"name\": \"Venezuela\", \"text\": \"\", \"type\": \"scatter\", \"x\": [0.0, 20.0, 21.0, 22.0, 23.0, 24.0, 25.0], \"y\": [0.9, 0.7999999999999997, \"\", 0.6999999999999998, 0.49999999999999983, 0.09999999999999998, 0.0]}, {\"line\": {\"color\": \"rgba(50, 171, 96, 0.7419354838709677)\", \"dash\": \"solid\", \"shape\": \"linear\", \"width\": 1.3}, \"mode\": \"lines\", \"name\": \"Scotland\", \"text\": \"\", \"type\": \"scatter\", \"x\": [0.0, 20.0, 21.0, 22.0, 23.0, 24.0, 25.0], \"y\": [0.9687500000000004, 0.9531250000000004, 0.9218750000000006, 0.8750000000000007, 0.5781250000000001, 0.015625000000000007, 0.0]}, {\"line\": {\"color\": \"rgba(128, 0, 128, 0.7419354838709677)\", \"dash\": \"solid\", \"shape\": \"linear\", \"width\": 1.3}, \"mode\": \"lines\", \"name\": \"Paraguay\", \"text\": \"\", \"type\": \"scatter\", \"x\": [0.0, 20.0, 21.0, 22.0, 23.0, 24.0, 25.0], \"y\": [0.6000000000000001, \"\", \"\", 0.39999999999999997, 0.35000000000000003, 0.09999999999999998, 0.0]}, {\"line\": {\"color\": \"rgba(219, 64, 82, 0.7419354838709677)\", \"dash\": \"solid\", \"shape\": \"linear\", \"width\": 1.3}, \"mode\": \"lines\", \"name\": \"Bulgaria\", \"text\": \"\", \"type\": \"scatter\", \"x\": [0.0, 20.0, 21.0, 22.0, 23.0, 24.0, 25.0], \"y\": [0.3333333333333333, \"\", \"\", \"\", \"\", 0.0, \"\"]}, {\"line\": {\"color\": \"rgba(0, 128, 128, 0.7419354838709677)\", \"dash\": \"solid\", \"shape\": \"linear\", \"width\": 1.3}, \"mode\": \"lines\", \"name\": \"South Africa\", \"text\": \"\", \"type\": \"scatter\", \"x\": [0.0, 20.0, 21.0, 22.0, 23.0, 24.0, 25.0], \"y\": [0.8666666666666667, \"\", \"\", 0.8, 0.5333333333333332, 0.2, 0.0]}, {\"line\": {\"color\": \"rgba(0, 128, 128, 0.6774193548387097)\", \"dash\": \"solid\", \"shape\": \"linear\", \"width\": 1.3}, \"mode\": \"lines\", \"name\": \"Madagascar\", \"text\": \"\", \"type\": \"scatter\", \"x\": [0.0, 20.0, 21.0, 22.0, 23.0, 24.0, 25.0], \"y\": [1.0, \"\", \"\", 0.7500000000000001, 0.5, 0.0, \"\"]}, {\"line\": {\"color\": \"rgba(255, 255, 51, 0.6774193548387097)\", \"dash\": \"solid\", \"shape\": \"linear\", \"width\": 1.3}, \"mode\": \"lines\", \"name\": \"Hungary\", \"text\": \"\", \"type\": \"scatter\", \"x\": [0.0, 20.0, 21.0, 22.0, 23.0, 24.0, 25.0], \"y\": [0.5000000000000001, \"\", \"\", \"\", \"\", 0.0, \"\"]}, {\"line\": {\"color\": \"rgba(128, 128, 0, 0.6774193548387097)\", \"dash\": \"solid\", \"shape\": \"linear\", \"width\": 1.3}, \"mode\": \"lines\", \"name\": \"Algeria\", \"text\": \"\", \"type\": \"scatter\", \"x\": [0.0, 20.0, 21.0, 22.0, 23.0, 24.0, 25.0], \"y\": [1.0, \"\", \"\", 0.6666666666666669, 0.39999999999999997, 0.0, \"\"]}, {\"line\": {\"color\": \"rgba(251, 128, 114, 0.6774193548387097)\", \"dash\": \"solid\", \"shape\": \"linear\", \"width\": 1.3}, \"mode\": \"lines\", \"name\": \"Cape Verde\", \"text\": \"\", \"type\": \"scatter\", \"x\": [0.0, 20.0, 21.0, 22.0, 23.0, 24.0, 25.0], \"y\": [1.0, \"\", \"\", \"\", 0.2, 0.0, \"\"]}, {\"line\": {\"color\": \"rgba(128, 177, 211, 0.6774193548387097)\", \"dash\": \"solid\", \"shape\": \"linear\", \"width\": 1.3}, \"mode\": \"lines\", \"name\": \"Burkina Faso\", \"text\": \"\", \"type\": \"scatter\", \"x\": [0.0, 20.0, 21.0, 22.0, 23.0, 24.0, 25.0], \"y\": [1.0, \"\", \"\", \"\", 0.3333333333333333, 0.0, \"\"]}, {\"line\": {\"color\": \"rgba(255, 153, 51, 0.6774193548387097)\", \"dash\": \"solid\", \"shape\": \"linear\", \"width\": 1.3}, \"mode\": \"lines\", \"name\": \"DR Congo\", \"text\": \"\", \"type\": \"scatter\", \"x\": [0.0, 20.0, 21.0, 22.0, 23.0, 24.0, 25.0], \"y\": [1.0, \"\", \"\", \"\", 0.5555555555555554, 0.11111111111111109, 0.0]}, {\"line\": {\"color\": \"rgba(55, 128, 191, 0.6774193548387097)\", \"dash\": \"solid\", \"shape\": \"linear\", \"width\": 1.3}, \"mode\": \"lines\", \"name\": \"Cuba\", \"text\": \"\", \"type\": \"scatter\", \"x\": [0.0, 20.0, 21.0, 22.0, 23.0, 24.0, 25.0], \"y\": [1.0, \"\", \"\", \"\", \"\", \"\", 0.0]}, {\"line\": {\"color\": \"rgba(50, 171, 96, 0.6774193548387097)\", \"dash\": \"solid\", \"shape\": \"linear\", \"width\": 1.3}, \"mode\": \"lines\", \"name\": \"Nigeria\", \"text\": \"\", \"type\": \"scatter\", \"x\": [0.0, 20.0, 21.0, 22.0, 23.0, 24.0, 25.0], \"y\": [1.0, \"\", \"\", \"\", 0.8, 0.2, 0.0]}, {\"line\": {\"color\": \"rgba(128, 0, 128, 0.6774193548387097)\", \"dash\": \"solid\", \"shape\": \"linear\", \"width\": 1.3}, \"mode\": \"lines\", \"name\": \"FYR Macedonia\", \"text\": \"\", \"type\": \"scatter\", \"x\": [0.0, 20.0, 21.0, 22.0, 23.0, 24.0, 25.0], \"y\": [1.0, \"\", \"\", 0.6666666666666666, 0.3333333333333333, 0.0, \"\"]}, {\"line\": {\"color\": \"rgba(219, 64, 82, 0.6774193548387097)\", \"dash\": \"solid\", \"shape\": \"linear\", \"width\": 1.3}, \"mode\": \"lines\", \"name\": \"Cameroon\", \"text\": \"\", \"type\": \"scatter\", \"x\": [0.0, 20.0, 21.0, 22.0, 23.0, 24.0, 25.0], \"y\": [1.0, \"\", \"\", \"\", 0.785714285714286, 0.0, \"\"]}, {\"line\": {\"color\": \"rgba(219, 64, 82, 0.6129032258064515)\", \"dash\": \"solid\", \"shape\": \"linear\", \"width\": 1.3}, \"mode\": \"lines\", \"name\": \"Uzbekistan\", \"text\": \"\", \"type\": \"scatter\", \"x\": [0.0, 20.0, 21.0, 22.0, 23.0, 24.0, 25.0], \"y\": [1.0, \"\", \"\", \"\", \"\", 0.0, \"\"]}, {\"line\": {\"color\": \"rgba(0, 128, 128, 0.6129032258064515)\", \"dash\": \"solid\", \"shape\": \"linear\", \"width\": 1.3}, \"mode\": \"lines\", \"name\": \"Wales\", \"text\": \"\", \"type\": \"scatter\", \"x\": [0.0, 20.0, 21.0, 22.0, 23.0, 24.0, 25.0], \"y\": [1.0, 0.9523809523809522, \"\", 0.9047619047619045, 0.6666666666666665, 0.0, \"\"]}, {\"line\": {\"color\": \"rgba(255, 255, 51, 0.6129032258064515)\", \"dash\": \"solid\", \"shape\": \"linear\", \"width\": 1.3}, \"mode\": \"lines\", \"name\": \"Australia\", \"text\": \"\", \"type\": \"scatter\", \"x\": [0.0, 20.0, 21.0, 22.0, 23.0, 24.0, 25.0], \"y\": [1.0, \"\", 0.9696969696969697, 0.8787878787878789, 0.5757575757575757, 0.0, \"\"]}, {\"line\": {\"color\": \"rgba(128, 128, 0, 0.6129032258064515)\", \"dash\": \"solid\", \"shape\": \"linear\", \"width\": 1.3}, \"mode\": \"lines\", \"name\": \"Georgia\", \"text\": \"\", \"type\": \"scatter\", \"x\": [0.0, 20.0, 21.0, 22.0, 23.0, 24.0, 25.0], \"y\": [1.0, \"\", \"\", 0.5, \"\", 0.0, \"\"]}, {\"line\": {\"color\": \"rgba(251, 128, 114, 0.6129032258064515)\", \"dash\": \"solid\", \"shape\": \"linear\", \"width\": 1.3}, \"mode\": \"lines\", \"name\": \"Jamaica\", \"text\": \"\", \"type\": \"scatter\", \"x\": [0.0, 20.0, 21.0, 22.0, 23.0, 24.0, 25.0], \"y\": [1.0, \"\", \"\", 0.9166666666666667, 0.7500000000000001, 0.0, \"\"]}, {\"line\": {\"color\": \"rgba(128, 177, 211, 0.6129032258064515)\", \"dash\": \"solid\", \"shape\": \"linear\", \"width\": 1.3}, \"mode\": \"lines\", \"name\": \"Republic of Ireland\", \"text\": \"\", \"type\": \"scatter\", \"x\": [0.0, 20.0, 21.0, 22.0, 23.0, 24.0, 25.0], \"y\": [1.0, 0.9861111111111112, \"\", 0.9583333333333336, 0.7638888888888891, 0.23611111111111113, 0.0]}, {\"line\": {\"color\": \"rgba(255, 153, 51, 0.6129032258064515)\", \"dash\": \"solid\", \"shape\": \"linear\", \"width\": 1.3}, \"mode\": \"lines\", \"name\": \"Zimbabwe\", \"text\": \"\", \"type\": \"scatter\", \"x\": [0.0, 20.0, 21.0, 22.0, 23.0, 24.0, 25.0], \"y\": [1.0, \"\", \"\", \"\", 0.5, 0.25, 0.0]}, {\"line\": {\"color\": \"rgba(55, 128, 191, 0.6129032258064515)\", \"dash\": \"solid\", \"shape\": \"linear\", \"width\": 1.3}, \"mode\": \"lines\", \"name\": \"Moldova\", \"text\": \"\", \"type\": \"scatter\", \"x\": [0.0, 20.0, 21.0, 22.0, 23.0, 24.0, 25.0], \"y\": [1.0, \"\", \"\", \"\", 0.0, \"\", \"\"]}, {\"line\": {\"color\": \"rgba(50, 171, 96, 0.6129032258064515)\", \"dash\": \"solid\", \"shape\": \"linear\", \"width\": 1.3}, \"mode\": \"lines\", \"name\": \"Mozambique\", \"text\": \"\", \"type\": \"scatter\", \"x\": [0.0, 20.0, 21.0, 22.0, 23.0, 24.0, 25.0], \"y\": [1.0, \"\", \"\", \"\", 0.0, \"\", \"\"]}, {\"line\": {\"color\": \"rgba(128, 0, 128, 0.6129032258064515)\", \"dash\": \"solid\", \"shape\": \"linear\", \"width\": 1.3}, \"mode\": \"lines\", \"name\": \"Sierra Leone\", \"text\": \"\", \"type\": \"scatter\", \"x\": [0.0, 20.0, 21.0, 22.0, 23.0, 24.0, 25.0], \"y\": [1.0, 0.5, \"\", \"\", \"\", 0.0, \"\"]}, {\"line\": {\"color\": \"rgba(128, 0, 128, 0.5483870967741935)\", \"dash\": \"solid\", \"shape\": \"linear\", \"width\": 1.3}, \"mode\": \"lines\", \"name\": \"Benin\", \"text\": \"\", \"type\": \"scatter\", \"x\": [0.0, 20.0, 21.0, 22.0, 23.0, 24.0, 25.0], \"y\": [1.0, \"\", \"\", \"\", 0.5, 0.0, \"\"]}, {\"line\": {\"color\": \"rgba(219, 64, 82, 0.5483870967741935)\", \"dash\": \"solid\", \"shape\": \"linear\", \"width\": 1.3}, \"mode\": \"lines\", \"name\": \"Northern Ireland\", \"text\": \"\", \"type\": \"scatter\", \"x\": [0.0, 20.0, 21.0, 22.0, 23.0, 24.0, 25.0], \"y\": [1.0, \"\", \"\", 0.9375000000000001, 0.6875000000000001, 0.0625, 0.0]}, {\"line\": {\"color\": \"rgba(0, 128, 128, 0.5483870967741935)\", \"dash\": \"solid\", \"shape\": \"linear\", \"width\": 1.3}, \"mode\": \"lines\", \"name\": \"Syria\", \"text\": \"\", \"type\": \"scatter\", \"x\": [0.0, 20.0, 21.0, 22.0, 23.0, 24.0, 25.0], \"y\": [1.0, \"\", \"\", \"\", \"\", 0.0, \"\"]}, {\"line\": {\"color\": \"rgba(255, 255, 51, 0.5483870967741935)\", \"dash\": \"solid\", \"shape\": \"linear\", \"width\": 1.3}, \"mode\": \"lines\", \"name\": \"Tunisia\", \"text\": \"\", \"type\": \"scatter\", \"x\": [0.0, 20.0, 21.0, 22.0, 23.0, 24.0, 25.0], \"y\": [1.0, \"\", \"\", 0.8750000000000001, 0.7500000000000001, 0.0, \"\"]}, {\"line\": {\"color\": \"rgba(128, 128, 0, 0.5483870967741935)\", \"dash\": \"solid\", \"shape\": \"linear\", \"width\": 1.3}, \"mode\": \"lines\", \"name\": \"Bolivia\", \"text\": \"\", \"type\": \"scatter\", \"x\": [0.0, 20.0, 21.0, 22.0, 23.0, 24.0, 25.0], \"y\": [0.16666666666666669, \"\", 0.0, \"\", \"\", \"\", \"\"]}, {\"line\": {\"color\": \"rgba(251, 128, 114, 0.5483870967741935)\", \"dash\": \"solid\", \"shape\": \"linear\", \"width\": 1.3}, \"mode\": \"lines\", \"name\": \"Canada\", \"text\": \"\", \"type\": \"scatter\", \"x\": [0.0, 20.0, 21.0, 22.0, 23.0, 24.0, 25.0], \"y\": [0.9090909090909092, 0.8181818181818182, \"\", \"\", 0.6363636363636362, 0.0909090909090909, 0.0]}, {\"line\": {\"color\": \"rgba(128, 177, 211, 0.5483870967741935)\", \"dash\": \"solid\", \"shape\": \"linear\", \"width\": 1.3}, \"mode\": \"lines\", \"name\": \"Saudi Arabia\", \"text\": \"\", \"type\": \"scatter\", \"x\": [0.0, 20.0, 21.0, 22.0, 23.0, 24.0, 25.0], \"y\": [1.0, \"\", 0.8809523809523808, 0.8095238095238095, 0.5714285714285714, 0.0, \"\"]}, {\"line\": {\"color\": \"rgba(255, 153, 51, 0.5483870967741935)\", \"dash\": \"solid\", \"shape\": \"linear\", \"width\": 1.3}, \"mode\": \"lines\", \"name\": \"Iceland\", \"text\": \"\", \"type\": \"scatter\", \"x\": [0.0, 20.0, 21.0, 22.0, 23.0, 24.0, 25.0], \"y\": [0.49999999999999983, \"\", \"\", \"\", 0.19999999999999998, 0.0, \"\"]}, {\"line\": {\"color\": \"rgba(55, 128, 191, 0.5483870967741935)\", \"dash\": \"solid\", \"shape\": \"linear\", \"width\": 1.3}, \"mode\": \"lines\", \"name\": \"Korea Republic\", \"text\": \"\", \"type\": \"scatter\", \"x\": [0.0, 20.0, 21.0, 22.0, 23.0, 24.0, 25.0], \"y\": [1.0, 0.8607594936708863, 0.5822784810126582, 0.20253164556962022, 0.16455696202531644, 0.11392405063291142, 0.0]}, {\"line\": {\"color\": \"rgba(50, 171, 96, 0.5483870967741935)\", \"dash\": \"solid\", \"shape\": \"linear\", \"width\": 1.3}, \"mode\": \"lines\", \"name\": \"Haiti\", \"text\": \"\", \"type\": \"scatter\", \"x\": [0.0, 20.0, 21.0, 22.0, 23.0, 24.0, 25.0], \"y\": [1.0, \"\", \"\", \"\", \"\", 0.0, \"\"]}, {\"line\": {\"color\": \"rgba(50, 171, 96, 0.48387096774193555)\", \"dash\": \"solid\", \"shape\": \"linear\", \"width\": 1.3}, \"mode\": \"lines\", \"name\": \"Angola\", \"text\": \"\", \"type\": \"scatter\", \"x\": [0.0, 20.0, 21.0, 22.0, 23.0, 24.0, 25.0], \"y\": [1.0, \"\", \"\", \"\", 0.6666666666666666, 0.0, \"\"]}, {\"line\": {\"color\": \"rgba(128, 0, 128, 0.48387096774193555)\", \"dash\": \"solid\", \"shape\": \"linear\", \"width\": 1.3}, \"mode\": \"lines\", \"name\": \"China PR\", \"text\": \"\", \"type\": \"scatter\", \"x\": [0.0, 20.0, 21.0, 22.0, 23.0, 24.0, 25.0], \"y\": [1.0, 0.9883720930232565, 0.9767441860465118, 0.8372093023255818, 0.5813953488372094, 0.25581395348837227, 0.0]}, {\"line\": {\"color\": \"rgba(219, 64, 82, 0.48387096774193555)\", \"dash\": \"solid\", \"shape\": \"linear\", \"width\": 1.3}, \"mode\": \"lines\", \"name\": \"Egypt\", \"text\": \"\", \"type\": \"scatter\", \"x\": [0.0, 20.0, 21.0, 22.0, 23.0, 24.0, 25.0], \"y\": [0.5714285714285714, \"\", \"\", \"\", 0.14285714285714288, 0.0, \"\"]}, {\"line\": {\"color\": \"rgba(0, 128, 128, 0.48387096774193555)\", \"dash\": \"solid\", \"shape\": \"linear\", \"width\": 1.3}, \"mode\": \"lines\", \"name\": \"Honduras\", \"text\": \"\", \"type\": \"scatter\", \"x\": [0.0, 20.0, 21.0, 22.0, 23.0, 24.0, 25.0], \"y\": [1.0, 0.8, \"\", \"\", 0.6000000000000001, 0.2, 0.0]}, {\"line\": {\"color\": \"rgba(255, 255, 51, 0.48387096774193555)\", \"dash\": \"solid\", \"shape\": \"linear\", \"width\": 1.3}, \"mode\": \"lines\", \"name\": \"Congo\", \"text\": \"\", \"type\": \"scatter\", \"x\": [0.0, 20.0, 21.0, 22.0, 23.0, 24.0, 25.0], \"y\": [1.0, \"\", \"\", \"\", \"\", 0.0, \"\"]}, {\"line\": {\"color\": \"rgba(128, 128, 0, 0.48387096774193555)\", \"dash\": \"solid\", \"shape\": \"linear\", \"width\": 1.3}, \"mode\": \"lines\", \"name\": \"S\\u00e3o Tom\\u00e9 & Pr\\u00edncipe\", \"text\": \"\", \"type\": \"scatter\", \"x\": [0.0, 20.0, 21.0, 22.0, 23.0, 24.0, 25.0], \"y\": [1.0, \"\", 0.0, \"\", \"\", \"\", \"\"]}, {\"line\": {\"color\": \"rgba(251, 128, 114, 0.48387096774193555)\", \"dash\": \"solid\", \"shape\": \"linear\", \"width\": 1.3}, \"mode\": \"lines\", \"name\": \"Eritrea\", \"text\": \"\", \"type\": \"scatter\", \"x\": [0.0, 20.0, 21.0, 22.0, 23.0, 24.0, 25.0], \"y\": [1.0, \"\", \"\", \"\", \"\", 0.0, \"\"]}, {\"line\": {\"color\": \"rgba(128, 177, 211, 0.48387096774193555)\", \"dash\": \"solid\", \"shape\": \"linear\", \"width\": 1.3}, \"mode\": \"lines\", \"name\": \"Oman\", \"text\": \"\", \"type\": \"scatter\", \"x\": [0.0, 20.0, 21.0, 22.0, 23.0, 24.0, 25.0], \"y\": [1.0, \"\", \"\", \"\", 0.0, \"\", \"\"]}, {\"line\": {\"color\": \"rgba(255, 153, 51, 0.48387096774193555)\", \"dash\": \"solid\", \"shape\": \"linear\", \"width\": 1.3}, \"mode\": \"lines\", \"name\": \"Albania\", \"text\": \"\", \"type\": \"scatter\", \"x\": [0.0, 20.0, 21.0, 22.0, 23.0, 24.0, 25.0], \"y\": [1.0, \"\", \"\", 0.6666666666666666, \"\", 0.3333333333333333, 0.0]}, {\"line\": {\"color\": \"rgba(55, 128, 191, 0.48387096774193555)\", \"dash\": \"solid\", \"shape\": \"linear\", \"width\": 1.3}, \"mode\": \"lines\", \"name\": \"Fiji\", \"text\": \"\", \"type\": \"scatter\", \"x\": [0.0, 20.0, 21.0, 22.0, 23.0, 24.0, 25.0], \"y\": [1.0, \"\", \"\", \"\", \"\", 0.0, \"\"]}, {\"line\": {\"color\": \"rgba(55, 128, 191, 0.41935483870967755)\", \"dash\": \"solid\", \"shape\": \"linear\", \"width\": 1.3}, \"mode\": \"lines\", \"name\": \"New Caledonia\", \"text\": \"\", \"type\": \"scatter\", \"x\": [0.0, 20.0, 21.0, 22.0, 23.0, 24.0, 25.0], \"y\": [1.0, \"\", \"\", \"\", 0.0, \"\", \"\"]}, {\"line\": {\"color\": \"rgba(50, 171, 96, 0.41935483870967755)\", \"dash\": \"solid\", \"shape\": \"linear\", \"width\": 1.3}, \"mode\": \"lines\", \"name\": \"Korea DPR\", \"text\": \"\", \"type\": \"scatter\", \"x\": [0.0, 20.0, 21.0, 22.0, 23.0, 24.0, 25.0], \"y\": [1.0, \"\", \"\", 0.0, \"\", \"\", \"\"]}, {\"line\": {\"color\": \"rgba(128, 0, 128, 0.41935483870967755)\", \"dash\": \"solid\", \"shape\": \"linear\", \"width\": 1.3}, \"mode\": \"lines\", \"name\": \"Mali\", \"text\": \"\", \"type\": \"scatter\", \"x\": [0.0, 20.0, 21.0, 22.0, 23.0, 24.0, 25.0], \"y\": [1.0, \"\", \"\", 0.7500000000000001, \"\", 0.0, \"\"]}, {\"line\": {\"color\": \"rgba(219, 64, 82, 0.41935483870967755)\", \"dash\": \"solid\", \"shape\": \"linear\", \"width\": 1.3}, \"mode\": \"lines\", \"name\": \"Panama\", \"text\": \"\", \"type\": \"scatter\", \"x\": [0.0, 20.0, 21.0, 22.0, 23.0, 24.0, 25.0], \"y\": [1.0, \"\", 0.6666666666666666, \"\", \"\", 0.0, \"\"]}, {\"line\": {\"color\": \"rgba(0, 128, 128, 0.41935483870967755)\", \"dash\": \"solid\", \"shape\": \"linear\", \"width\": 1.3}, \"mode\": \"lines\", \"name\": \"Latvia\", \"text\": \"\", \"type\": \"scatter\", \"x\": [0.0, 20.0, 21.0, 22.0, 23.0, 24.0, 25.0], \"y\": [1.0, \"\", \"\", \"\", 0.5, 0.0, \"\"]}, {\"line\": {\"color\": \"rgba(255, 255, 51, 0.41935483870967755)\", \"dash\": \"solid\", \"shape\": \"linear\", \"width\": 1.3}, \"mode\": \"lines\", \"name\": \"Kosovo\", \"text\": \"\", \"type\": \"scatter\", \"x\": [0.0, 20.0, 21.0, 22.0, 23.0, 24.0, 25.0], \"y\": [1.0, \"\", 0.5, \"\", \"\", \"\", 0.0]}, {\"line\": {\"color\": \"rgba(128, 128, 0, 0.41935483870967755)\", \"dash\": \"solid\", \"shape\": \"linear\", \"width\": 1.3}, \"mode\": \"lines\", \"name\": \"Uganda\", \"text\": \"\", \"type\": \"scatter\", \"x\": [0.0, 20.0, 21.0, 22.0, 23.0, 24.0, 25.0], \"y\": [1.0, \"\", \"\", \"\", \"\", \"\", 0.0]}, {\"line\": {\"color\": \"rgba(251, 128, 114, 0.41935483870967755)\", \"dash\": \"solid\", \"shape\": \"linear\", \"width\": 1.3}, \"mode\": \"lines\", \"name\": \"Montenegro\", \"text\": \"\", \"type\": \"scatter\", \"x\": [0.0, 20.0, 21.0, 22.0, 23.0, 24.0, 25.0], \"y\": [1.0, \"\", \"\", 0.6666666666666666, 0.3333333333333333, 0.0, \"\"]}, {\"line\": {\"color\": \"rgba(128, 177, 211, 0.41935483870967755)\", \"dash\": \"solid\", \"shape\": \"linear\", \"width\": 1.3}, \"mode\": \"lines\", \"name\": \"Belarus\", \"text\": \"\", \"type\": \"scatter\", \"x\": [0.0, 20.0, 21.0, 22.0, 23.0, 24.0, 25.0], \"y\": [1.0, \"\", \"\", \"\", 0.0, \"\", \"\"]}, {\"line\": {\"color\": \"rgba(255, 153, 51, 0.41935483870967755)\", \"dash\": \"solid\", \"shape\": \"linear\", \"width\": 1.3}, \"mode\": \"lines\", \"name\": \"Kuwait\", \"text\": \"\", \"type\": \"scatter\", \"x\": [0.0, 20.0, 21.0, 22.0, 23.0, 24.0, 25.0], \"y\": [1.0, 0.0, \"\", \"\", \"\", \"\", \"\"]}, {\"line\": {\"color\": \"rgba(255, 153, 51, 0.3548387096774193)\", \"dash\": \"solid\", \"shape\": \"linear\", \"width\": 1.3}, \"mode\": \"lines\", \"name\": \"Armenia\", \"text\": \"\", \"type\": \"scatter\", \"x\": [0.0, 20.0, 21.0, 22.0, 23.0, 24.0, 25.0], \"y\": [1.0, 0.6666666666666666, \"\", \"\", 0.3333333333333333, 0.0, \"\"]}, {\"line\": {\"color\": \"rgba(55, 128, 191, 0.3548387096774193)\", \"dash\": \"solid\", \"shape\": \"linear\", \"width\": 1.3}, \"mode\": \"lines\", \"name\": \"Iran\", \"text\": \"\", \"type\": \"scatter\", \"x\": [0.0, 20.0, 21.0, 22.0, 23.0, 24.0, 25.0], \"y\": [1.0, \"\", \"\", \"\", 0.7500000000000001, 0.0, \"\"]}, {\"line\": {\"color\": \"rgba(50, 171, 96, 0.3548387096774193)\", \"dash\": \"solid\", \"shape\": \"linear\", \"width\": 1.3}, \"mode\": \"lines\", \"name\": \"Thailand\", \"text\": \"\", \"type\": \"scatter\", \"x\": [0.0, 20.0, 21.0, 22.0, 23.0, 24.0, 25.0], \"y\": [1.0, \"\", \"\", \"\", \"\", \"\", 0.0]}, {\"line\": {\"color\": \"rgba(128, 0, 128, 0.3548387096774193)\", \"dash\": \"solid\", \"shape\": \"linear\", \"width\": 1.3}, \"mode\": \"lines\", \"name\": \"Guatemala\", \"text\": \"\", \"type\": \"scatter\", \"x\": [0.0, 20.0, 21.0, 22.0, 23.0, 24.0, 25.0], \"y\": [1.0, 0.0, \"\", \"\", \"\", \"\", \"\"]}, {\"line\": {\"color\": \"rgba(219, 64, 82, 0.3548387096774193)\", \"dash\": \"solid\", \"shape\": \"linear\", \"width\": 1.3}, \"mode\": \"lines\", \"name\": \"New Zealand\", \"text\": \"\", \"type\": \"scatter\", \"x\": [0.0, 20.0, 21.0, 22.0, 23.0, 24.0, 25.0], \"y\": [0.8, \"\", \"\", \"\", 0.4, 0.0, \"\"]}, {\"line\": {\"color\": \"rgba(0, 128, 128, 0.3548387096774193)\", \"dash\": \"solid\", \"shape\": \"linear\", \"width\": 1.3}, \"mode\": \"lines\", \"name\": \"Equatorial Guinea\", \"text\": \"\", \"type\": \"scatter\", \"x\": [0.0, 20.0, 21.0, 22.0, 23.0, 24.0, 25.0], \"y\": [1.0, \"\", \"\", \"\", \"\", \"\", 0.0]}, {\"line\": {\"color\": \"rgba(255, 255, 51, 0.3548387096774193)\", \"dash\": \"solid\", \"shape\": \"linear\", \"width\": 1.3}, \"mode\": \"lines\", \"name\": \"Cyprus\", \"text\": \"\", \"type\": \"scatter\", \"x\": [0.0, 20.0, 21.0, 22.0, 23.0, 24.0, 25.0], \"y\": [1.0, \"\", \"\", 0.0, \"\", \"\", \"\"]}, {\"line\": {\"color\": \"rgba(128, 128, 0, 0.3548387096774193)\", \"dash\": \"solid\", \"shape\": \"linear\", \"width\": 1.3}, \"mode\": \"lines\", \"name\": \"Guam\", \"text\": \"\", \"type\": \"scatter\", \"x\": [0.0, 20.0, 21.0, 22.0, 23.0, 24.0, 25.0], \"y\": [1.0, \"\", \"\", 0.0, \"\", \"\", \"\"]}, {\"line\": {\"color\": \"rgba(251, 128, 114, 0.3548387096774193)\", \"dash\": \"solid\", \"shape\": \"linear\", \"width\": 1.3}, \"mode\": \"lines\", \"name\": \"India\", \"text\": \"\", \"type\": \"scatter\", \"x\": [0.0, 20.0, 21.0, 22.0, 23.0, 24.0, 25.0], \"y\": [0.0, \"\", \"\", \"\", \"\", \"\", \"\"]}, {\"line\": {\"color\": \"rgba(128, 177, 211, 0.3548387096774193)\", \"dash\": \"solid\", \"shape\": \"linear\", \"width\": 1.3}, \"mode\": \"lines\", \"name\": \"Palestine\", \"text\": \"\", \"type\": \"scatter\", \"x\": [0.0, 20.0, 21.0, 22.0, 23.0, 24.0, 25.0], \"y\": [1.0, \"\", \"\", \"\", \"\", 0.0, \"\"]}, {\"line\": {\"color\": \"rgba(128, 177, 211, 0.2903225806451613)\", \"dash\": \"solid\", \"shape\": \"linear\", \"width\": 1.3}, \"mode\": \"lines\", \"name\": \"Gabon\", \"text\": \"\", \"type\": \"scatter\", \"x\": [0.0, 20.0, 21.0, 22.0, 23.0, 24.0, 25.0], \"y\": [1.0, 0.0, \"\", \"\", \"\", \"\", \"\"]}, {\"line\": {\"color\": \"rgba(255, 153, 51, 0.2903225806451613)\", \"dash\": \"solid\", \"shape\": \"linear\", \"width\": 1.3}, \"mode\": \"lines\", \"name\": \"El Salvador\", \"text\": \"\", \"type\": \"scatter\", \"x\": [0.0, 20.0, 21.0, 22.0, 23.0, 24.0, 25.0], \"y\": [1.0, \"\", \"\", \"\", \"\", \"\", 0.0]}, {\"line\": {\"color\": \"rgba(55, 128, 191, 0.2903225806451613)\", \"dash\": \"solid\", \"shape\": \"linear\", \"width\": 1.3}, \"mode\": \"lines\", \"name\": \"Kenya\", \"text\": \"\", \"type\": \"scatter\", \"x\": [0.0, 20.0, 21.0, 22.0, 23.0, 24.0, 25.0], \"y\": [1.0, \"\", 0.0, \"\", \"\", \"\", \"\"]}, {\"line\": {\"color\": \"rgba(50, 171, 96, 0.2903225806451613)\", \"dash\": \"solid\", \"shape\": \"linear\", \"width\": 1.3}, \"mode\": \"lines\", \"name\": \"Gambia\", \"text\": \"\", \"type\": \"scatter\", \"x\": [0.0, 20.0, 21.0, 22.0, 23.0, 24.0, 25.0], \"y\": [1.0, \"\", \"\", \"\", \"\", \"\", 0.0]}, {\"line\": {\"color\": \"rgba(128, 0, 128, 0.2903225806451613)\", \"dash\": \"solid\", \"shape\": \"linear\", \"width\": 1.3}, \"mode\": \"lines\", \"name\": \"Ethiopia\", \"text\": \"\", \"type\": \"scatter\", \"x\": [0.0, 20.0, 21.0, 22.0, 23.0, 24.0, 25.0], \"y\": [1.0, \"\", \"\", \"\", \"\", 0.0, \"\"]}, {\"line\": {\"color\": \"rgba(219, 64, 82, 0.2903225806451613)\", \"dash\": \"solid\", \"shape\": \"linear\", \"width\": 1.3}, \"mode\": \"lines\", \"name\": \"Lithuania\", \"text\": \"\", \"type\": \"scatter\", \"x\": [0.0, 20.0, 21.0, 22.0, 23.0, 24.0, 25.0], \"y\": [1.0, \"\", \"\", \"\", 0.0, \"\", \"\"]}, {\"line\": {\"color\": \"rgba(0, 128, 128, 0.2903225806451613)\", \"dash\": \"solid\", \"shape\": \"linear\", \"width\": 1.3}, \"mode\": \"lines\", \"name\": \"Barbados\", \"text\": \"\", \"type\": \"scatter\", \"x\": [0.0, 20.0, 21.0, 22.0, 23.0, 24.0, 25.0], \"y\": [1.0, \"\", \"\", \"\", \"\", 0.0, \"\"]}, {\"line\": {\"color\": \"rgba(255, 255, 51, 0.2903225806451613)\", \"dash\": \"solid\", \"shape\": \"linear\", \"width\": 1.3}, \"mode\": \"lines\", \"name\": \"Puerto Rico\", \"text\": \"\", \"type\": \"scatter\", \"x\": [0.0, 20.0, 21.0, 22.0, 23.0, 24.0, 25.0], \"y\": [1.0, \"\", \"\", \"\", \"\", \"\", 0.0]}, {\"line\": {\"color\": \"rgba(128, 128, 0, 0.2903225806451613)\", \"dash\": \"solid\", \"shape\": \"linear\", \"width\": 1.3}, \"mode\": \"lines\", \"name\": \"Guyana\", \"text\": \"\", \"type\": \"scatter\", \"x\": [0.0, 20.0, 21.0, 22.0, 23.0, 24.0, 25.0], \"y\": [1.0, \"\", \"\", \"\", \"\", 0.0, \"\"]}, {\"line\": {\"color\": \"rgba(251, 128, 114, 0.2903225806451613)\", \"dash\": \"solid\", \"shape\": \"linear\", \"width\": 1.3}, \"mode\": \"lines\", \"name\": \"Hong Kong\", \"text\": \"\", \"type\": \"scatter\", \"x\": [0.0, 20.0, 21.0, 22.0, 23.0, 24.0, 25.0], \"y\": [1.0, \"\", \"\", \"\", \"\", \"\", 0.0]}, {\"line\": {\"color\": \"rgba(251, 128, 114, 0.2258064516129033)\", \"dash\": \"solid\", \"shape\": \"linear\", \"width\": 1.3}, \"mode\": \"lines\", \"name\": \"Azerbaijan\", \"text\": \"\", \"type\": \"scatter\", \"x\": [0.0, 20.0, 21.0, 22.0, 23.0, 24.0, 25.0], \"y\": [1.0, \"\", \"\", \"\", \"\", 0.0, \"\"]}, {\"line\": {\"color\": \"rgba(128, 177, 211, 0.2258064516129033)\", \"dash\": \"solid\", \"shape\": \"linear\", \"width\": 1.3}, \"mode\": \"lines\", \"name\": \"Sudan\", \"text\": \"\", \"type\": \"scatter\", \"x\": [0.0, 20.0, 21.0, 22.0, 23.0, 24.0, 25.0], \"y\": [1.0, \"\", \"\", \"\", \"\", 0.0, \"\"]}, {\"line\": {\"color\": \"rgba(255, 153, 51, 0.2258064516129033)\", \"dash\": \"solid\", \"shape\": \"linear\", \"width\": 1.3}, \"mode\": \"lines\", \"name\": \"Comoros\", \"text\": \"\", \"type\": \"scatter\", \"x\": [0.0, 20.0, 21.0, 22.0, 23.0, 24.0, 25.0], \"y\": [1.0, \"\", \"\", \"\", 0.0, \"\", \"\"]}, {\"line\": {\"color\": \"rgba(55, 128, 191, 0.2258064516129033)\", \"dash\": \"solid\", \"shape\": \"linear\", \"width\": 1.3}, \"mode\": \"lines\", \"name\": \"Trinidad & Tobago\", \"text\": \"\", \"type\": \"scatter\", \"x\": [0.0, 20.0, 21.0, 22.0, 23.0, 24.0, 25.0], \"y\": [1.0, \"\", \"\", \"\", \"\", 0.0, \"\"]}],\n",
       "                        {\"legend\": {\"bgcolor\": \"#F5F6F9\", \"font\": {\"color\": \"#4D5663\"}}, \"paper_bgcolor\": \"#F5F6F9\", \"plot_bgcolor\": \"#F5F6F9\", \"template\": {\"data\": {\"scatter\": [{\"type\": \"scatter\"}]}}, \"title\": {\"font\": {\"color\": \"#4D5663\"}, \"text\": \"Retiros profesionales por nacionalidad\"}, \"xaxis\": {\"gridcolor\": \"#E1E5ED\", \"showgrid\": true, \"tickfont\": {\"color\": \"#4D5663\"}, \"title\": {\"font\": {\"color\": \"#4D5663\"}, \"text\": \"Cantidad de retiros\"}, \"zerolinecolor\": \"#E1E5ED\"}, \"yaxis\": {\"gridcolor\": \"#E1E5ED\", \"showgrid\": true, \"tickfont\": {\"color\": \"#4D5663\"}, \"title\": {\"font\": {\"color\": \"#4D5663\"}, \"text\": \"Tasa de retiro\"}, \"zerolinecolor\": \"#E1E5ED\"}},\n",
       "                        {\"showLink\": true, \"linkText\": \"Export to plot.ly\", \"plotlyServerURL\": \"https://plot.ly\", \"responsive\": true}\n",
       "                    ).then(function(){\n",
       "                            \n",
       "var gd = document.getElementById('28363f95-9363-4dc2-bd96-7f5e6e1184f3');\n",
       "var x = new MutationObserver(function (mutations, observer) {{\n",
       "        var display = window.getComputedStyle(gd).display;\n",
       "        if (!display || display === 'none') {{\n",
       "            console.log([gd, 'removed!']);\n",
       "            Plotly.purge(gd);\n",
       "            observer.disconnect();\n",
       "        }}\n",
       "}});\n",
       "\n",
       "// Listen for the removal of the full notebook cells\n",
       "var notebookContainer = gd.closest('#notebook-container');\n",
       "if (notebookContainer) {{\n",
       "    x.observe(notebookContainer, {childList: true});\n",
       "}}\n",
       "\n",
       "// Listen for the clearing of the current output cell\n",
       "var outputEl = gd.closest('.output');\n",
       "if (outputEl) {{\n",
       "    x.observe(outputEl, {childList: true});\n",
       "}}\n",
       "\n",
       "                        })\n",
       "                };\n",
       "                });\n",
       "            </script>\n",
       "        </div>"
      ]
     },
     "metadata": {},
     "output_type": "display_data"
    }
   ],
   "source": [
    "rates=survival(test, 'Nationality', 'Expire', 'Retirement')\n",
    "rates.iplot(kind='line', xTitle='Cantidad de retiros', \n",
    "            yTitle='Tasa de retiro', title='Retiros profesionales por nacionalidad')"
   ]
  },
  {
   "cell_type": "code",
   "execution_count": 25,
   "metadata": {},
   "outputs": [
    {
     "data": {
      "application/vnd.plotly.v1+json": {
       "config": {
        "linkText": "Export to plot.ly",
        "plotlyServerURL": "https://plot.ly",
        "showLink": true
       },
       "data": [
        {
         "line": {
          "color": "rgba(255, 153, 51, 1.0)",
          "dash": "solid",
          "shape": "linear",
          "width": 1.3
         },
         "mode": "lines",
         "name": "America",
         "text": "",
         "type": "scatter",
         "x": [
          0,
          20,
          21,
          22,
          23,
          24,
          25
         ],
         "y": [
          0.9812623274161731,
          0.8925049309664687,
          0.8451676528599603,
          0.54930966469428,
          0.42504930966469395,
          0.1400394477317554,
          0
         ]
        },
        {
         "line": {
          "color": "rgba(55, 128, 191, 1.0)",
          "dash": "solid",
          "shape": "linear",
          "width": 1.3
         },
         "mode": "lines",
         "name": "Europe",
         "text": "",
         "type": "scatter",
         "x": [
          0,
          20,
          21,
          22,
          23,
          24,
          25
         ],
         "y": [
          0.985823336968375,
          0.9694656488549621,
          0.9443838604143949,
          0.8402399127589966,
          0.579607415485278,
          0.049618320610687015,
          0
         ]
        },
        {
         "line": {
          "color": "rgba(50, 171, 96, 1.0)",
          "dash": "solid",
          "shape": "linear",
          "width": 1.3
         },
         "mode": "lines",
         "name": "Africa",
         "text": "",
         "type": "scatter",
         "x": [
          0,
          20,
          21,
          22,
          23,
          24,
          25
         ],
         "y": [
          0.9567567567567569,
          0.9459459459459467,
          0.9351351351351358,
          0.8162162162162165,
          0.4864864864864867,
          0.0702702702702703,
          0
         ]
        },
        {
         "line": {
          "color": "rgba(128, 0, 128, 1.0)",
          "dash": "solid",
          "shape": "linear",
          "width": 1.3
         },
         "mode": "lines",
         "name": "Asia",
         "text": "",
         "type": "scatter",
         "x": [
          0,
          20,
          21,
          22,
          23,
          24,
          25
         ],
         "y": [
          0.9835294117647055,
          0.9270588235294115,
          0.8329411764705877,
          0.5294117647058821,
          0.3694117647058821,
          0.10588235294117641,
          0
         ]
        },
        {
         "line": {
          "color": "rgba(219, 64, 82, 1.0)",
          "dash": "solid",
          "shape": "linear",
          "width": 1.3
         },
         "mode": "lines",
         "name": "Oceania",
         "text": "",
         "type": "scatter",
         "x": [
          0,
          20,
          21,
          22,
          23,
          24,
          25
         ],
         "y": [
          0.9756097560975607,
          "",
          0.9512195121951217,
          0.8536585365853656,
          0.5365853658536586,
          0,
          ""
         ]
        }
       ],
       "layout": {
        "legend": {
         "bgcolor": "#F5F6F9",
         "font": {
          "color": "#4D5663"
         }
        },
        "paper_bgcolor": "#F5F6F9",
        "plot_bgcolor": "#F5F6F9",
        "template": {
         "data": {
          "scatter": [
           {
            "type": "scatter"
           }
          ]
         }
        },
        "title": {
         "font": {
          "color": "#4D5663"
         },
         "text": "Años de carrera profesional por continente"
        },
        "xaxis": {
         "gridcolor": "#E1E5ED",
         "showgrid": true,
         "tickfont": {
          "color": "#4D5663"
         },
         "title": {
          "font": {
           "color": "#4D5663"
          },
          "text": "Cantidad de retiros"
         },
         "zerolinecolor": "#E1E5ED"
        },
        "yaxis": {
         "gridcolor": "#E1E5ED",
         "showgrid": true,
         "tickfont": {
          "color": "#4D5663"
         },
         "title": {
          "font": {
           "color": "#4D5663"
          },
          "text": "Tasa de retiro"
         },
         "zerolinecolor": "#E1E5ED"
        }
       }
      },
      "text/html": [
       "<div>\n",
       "        \n",
       "        \n",
       "            <div id=\"39c5436a-9f55-47fe-9300-071f81f21a44\" class=\"plotly-graph-div\" style=\"height:525px; width:100%;\"></div>\n",
       "            <script type=\"text/javascript\">\n",
       "                require([\"plotly\"], function(Plotly) {\n",
       "                    window.PLOTLYENV=window.PLOTLYENV || {};\n",
       "                    window.PLOTLYENV.BASE_URL='https://plot.ly';\n",
       "                    \n",
       "                if (document.getElementById(\"39c5436a-9f55-47fe-9300-071f81f21a44\")) {\n",
       "                    Plotly.newPlot(\n",
       "                        '39c5436a-9f55-47fe-9300-071f81f21a44',\n",
       "                        [{\"line\": {\"color\": \"rgba(255, 153, 51, 1.0)\", \"dash\": \"solid\", \"shape\": \"linear\", \"width\": 1.3}, \"mode\": \"lines\", \"name\": \"America\", \"text\": \"\", \"type\": \"scatter\", \"x\": [0.0, 20.0, 21.0, 22.0, 23.0, 24.0, 25.0], \"y\": [0.9812623274161731, 0.8925049309664687, 0.8451676528599603, 0.54930966469428, 0.42504930966469395, 0.1400394477317554, 0.0]}, {\"line\": {\"color\": \"rgba(55, 128, 191, 1.0)\", \"dash\": \"solid\", \"shape\": \"linear\", \"width\": 1.3}, \"mode\": \"lines\", \"name\": \"Europe\", \"text\": \"\", \"type\": \"scatter\", \"x\": [0.0, 20.0, 21.0, 22.0, 23.0, 24.0, 25.0], \"y\": [0.985823336968375, 0.9694656488549621, 0.9443838604143949, 0.8402399127589966, 0.579607415485278, 0.049618320610687015, 0.0]}, {\"line\": {\"color\": \"rgba(50, 171, 96, 1.0)\", \"dash\": \"solid\", \"shape\": \"linear\", \"width\": 1.3}, \"mode\": \"lines\", \"name\": \"Africa\", \"text\": \"\", \"type\": \"scatter\", \"x\": [0.0, 20.0, 21.0, 22.0, 23.0, 24.0, 25.0], \"y\": [0.9567567567567569, 0.9459459459459467, 0.9351351351351358, 0.8162162162162165, 0.4864864864864867, 0.0702702702702703, 0.0]}, {\"line\": {\"color\": \"rgba(128, 0, 128, 1.0)\", \"dash\": \"solid\", \"shape\": \"linear\", \"width\": 1.3}, \"mode\": \"lines\", \"name\": \"Asia\", \"text\": \"\", \"type\": \"scatter\", \"x\": [0.0, 20.0, 21.0, 22.0, 23.0, 24.0, 25.0], \"y\": [0.9835294117647055, 0.9270588235294115, 0.8329411764705877, 0.5294117647058821, 0.3694117647058821, 0.10588235294117641, 0.0]}, {\"line\": {\"color\": \"rgba(219, 64, 82, 1.0)\", \"dash\": \"solid\", \"shape\": \"linear\", \"width\": 1.3}, \"mode\": \"lines\", \"name\": \"Oceania\", \"text\": \"\", \"type\": \"scatter\", \"x\": [0.0, 20.0, 21.0, 22.0, 23.0, 24.0, 25.0], \"y\": [0.9756097560975607, \"\", 0.9512195121951217, 0.8536585365853656, 0.5365853658536586, 0.0, \"\"]}],\n",
       "                        {\"legend\": {\"bgcolor\": \"#F5F6F9\", \"font\": {\"color\": \"#4D5663\"}}, \"paper_bgcolor\": \"#F5F6F9\", \"plot_bgcolor\": \"#F5F6F9\", \"template\": {\"data\": {\"scatter\": [{\"type\": \"scatter\"}]}}, \"title\": {\"font\": {\"color\": \"#4D5663\"}, \"text\": \"A\\u00f1os de carrera profesional por continente\"}, \"xaxis\": {\"gridcolor\": \"#E1E5ED\", \"showgrid\": true, \"tickfont\": {\"color\": \"#4D5663\"}, \"title\": {\"font\": {\"color\": \"#4D5663\"}, \"text\": \"Cantidad de retiros\"}, \"zerolinecolor\": \"#E1E5ED\"}, \"yaxis\": {\"gridcolor\": \"#E1E5ED\", \"showgrid\": true, \"tickfont\": {\"color\": \"#4D5663\"}, \"title\": {\"font\": {\"color\": \"#4D5663\"}, \"text\": \"Tasa de retiro\"}, \"zerolinecolor\": \"#E1E5ED\"}},\n",
       "                        {\"showLink\": true, \"linkText\": \"Export to plot.ly\", \"plotlyServerURL\": \"https://plot.ly\", \"responsive\": true}\n",
       "                    ).then(function(){\n",
       "                            \n",
       "var gd = document.getElementById('39c5436a-9f55-47fe-9300-071f81f21a44');\n",
       "var x = new MutationObserver(function (mutations, observer) {{\n",
       "        var display = window.getComputedStyle(gd).display;\n",
       "        if (!display || display === 'none') {{\n",
       "            console.log([gd, 'removed!']);\n",
       "            Plotly.purge(gd);\n",
       "            observer.disconnect();\n",
       "        }}\n",
       "}});\n",
       "\n",
       "// Listen for the removal of the full notebook cells\n",
       "var notebookContainer = gd.closest('#notebook-container');\n",
       "if (notebookContainer) {{\n",
       "    x.observe(notebookContainer, {childList: true});\n",
       "}}\n",
       "\n",
       "// Listen for the clearing of the current output cell\n",
       "var outputEl = gd.closest('.output');\n",
       "if (outputEl) {{\n",
       "    x.observe(outputEl, {childList: true});\n",
       "}}\n",
       "\n",
       "                        })\n",
       "                };\n",
       "                });\n",
       "            </script>\n",
       "        </div>"
      ]
     },
     "metadata": {},
     "output_type": "display_data"
    }
   ],
   "source": [
    "rates=survival(test, 'Continent', 'Expire', 'Retirement')\n",
    "rates.iplot(kind='line', xTitle='Cantidad de retiros', \n",
    "            yTitle='Tasa de retiro', title='Años de carrera profesional por continente')"
   ]
  },
  {
   "cell_type": "code",
   "execution_count": 26,
   "metadata": {},
   "outputs": [
    {
     "data": {
      "application/vnd.plotly.v1+json": {
       "config": {
        "linkText": "Export to plot.ly",
        "plotlyServerURL": "https://plot.ly",
        "showLink": true
       },
       "data": [
        {
         "line": {
          "color": "rgba(255, 153, 51, 1.0)",
          "dash": "solid",
          "shape": "linear",
          "width": 1.3
         },
         "mode": "lines",
         "name": "Left",
         "text": "",
         "type": "scatter",
         "x": [
          0,
          30,
          31,
          32,
          33,
          34,
          35,
          36,
          37,
          38,
          39,
          40,
          41,
          42,
          44,
          45
         ],
         "y": [
          1,
          0.7042801556420234,
          0.5045395590142672,
          0.34630350194552545,
          0.2438391699092089,
          0.12062256809338529,
          0.06874189364461741,
          0.03761348897535669,
          0.015564202334630363,
          0.010376134889753573,
          0.0038910505836575898,
          0.0012970168612191962,
          0,
          "",
          "",
          ""
         ]
        },
        {
         "line": {
          "color": "rgba(55, 128, 191, 1.0)",
          "dash": "solid",
          "shape": "linear",
          "width": 1.3
         },
         "mode": "lines",
         "name": "Right",
         "text": "",
         "type": "scatter",
         "x": [
          0,
          30,
          31,
          32,
          33,
          34,
          35,
          36,
          37,
          38,
          39,
          40,
          41,
          42,
          44,
          45
         ],
         "y": [
          1,
          0.7474340175953073,
          0.5447214076246333,
          0.379032258064516,
          0.25843108504398826,
          0.1451612903225806,
          0.08797653958944276,
          0.0502199413489736,
          0.026392961876832835,
          0.01429618768328445,
          0.006964809384164218,
          0.002932551319648091,
          0.0014662756598240452,
          0.001099706744868034,
          0.00036656891495601124,
          0
         ]
        }
       ],
       "layout": {
        "legend": {
         "bgcolor": "#F5F6F9",
         "font": {
          "color": "#4D5663"
         }
        },
        "paper_bgcolor": "#F5F6F9",
        "plot_bgcolor": "#F5F6F9",
        "template": {
         "data": {
          "scatter": [
           {
            "type": "scatter"
           }
          ]
         }
        },
        "title": {
         "font": {
          "color": "#4D5663"
         },
         "text": "Años de carrera profesional según lateralidad dominante"
        },
        "xaxis": {
         "gridcolor": "#E1E5ED",
         "showgrid": true,
         "tickfont": {
          "color": "#4D5663"
         },
         "title": {
          "font": {
           "color": "#4D5663"
          },
          "text": "Años"
         },
         "zerolinecolor": "#E1E5ED"
        },
        "yaxis": {
         "gridcolor": "#E1E5ED",
         "showgrid": true,
         "tickfont": {
          "color": "#4D5663"
         },
         "title": {
          "font": {
           "color": "#4D5663"
          },
          "text": "Tasa de retiro"
         },
         "zerolinecolor": "#E1E5ED"
        }
       }
      },
      "text/html": [
       "<div>\n",
       "        \n",
       "        \n",
       "            <div id=\"d464600c-9856-4f51-b65b-fe466bedff53\" class=\"plotly-graph-div\" style=\"height:525px; width:100%;\"></div>\n",
       "            <script type=\"text/javascript\">\n",
       "                require([\"plotly\"], function(Plotly) {\n",
       "                    window.PLOTLYENV=window.PLOTLYENV || {};\n",
       "                    window.PLOTLYENV.BASE_URL='https://plot.ly';\n",
       "                    \n",
       "                if (document.getElementById(\"d464600c-9856-4f51-b65b-fe466bedff53\")) {\n",
       "                    Plotly.newPlot(\n",
       "                        'd464600c-9856-4f51-b65b-fe466bedff53',\n",
       "                        [{\"line\": {\"color\": \"rgba(255, 153, 51, 1.0)\", \"dash\": \"solid\", \"shape\": \"linear\", \"width\": 1.3}, \"mode\": \"lines\", \"name\": \"Left\", \"text\": \"\", \"type\": \"scatter\", \"x\": [0.0, 30.0, 31.0, 32.0, 33.0, 34.0, 35.0, 36.0, 37.0, 38.0, 39.0, 40.0, 41.0, 42.0, 44.0, 45.0], \"y\": [1.0, 0.7042801556420234, 0.5045395590142672, 0.34630350194552545, 0.2438391699092089, 0.12062256809338529, 0.06874189364461741, 0.03761348897535669, 0.015564202334630363, 0.010376134889753573, 0.0038910505836575898, 0.0012970168612191962, 0.0, \"\", \"\", \"\"]}, {\"line\": {\"color\": \"rgba(55, 128, 191, 1.0)\", \"dash\": \"solid\", \"shape\": \"linear\", \"width\": 1.3}, \"mode\": \"lines\", \"name\": \"Right\", \"text\": \"\", \"type\": \"scatter\", \"x\": [0.0, 30.0, 31.0, 32.0, 33.0, 34.0, 35.0, 36.0, 37.0, 38.0, 39.0, 40.0, 41.0, 42.0, 44.0, 45.0], \"y\": [1.0, 0.7474340175953073, 0.5447214076246333, 0.379032258064516, 0.25843108504398826, 0.1451612903225806, 0.08797653958944276, 0.0502199413489736, 0.026392961876832835, 0.01429618768328445, 0.006964809384164218, 0.002932551319648091, 0.0014662756598240452, 0.001099706744868034, 0.00036656891495601124, 0.0]}],\n",
       "                        {\"legend\": {\"bgcolor\": \"#F5F6F9\", \"font\": {\"color\": \"#4D5663\"}}, \"paper_bgcolor\": \"#F5F6F9\", \"plot_bgcolor\": \"#F5F6F9\", \"template\": {\"data\": {\"scatter\": [{\"type\": \"scatter\"}]}}, \"title\": {\"font\": {\"color\": \"#4D5663\"}, \"text\": \"A\\u00f1os de carrera profesional seg\\u00fan lateralidad dominante\"}, \"xaxis\": {\"gridcolor\": \"#E1E5ED\", \"showgrid\": true, \"tickfont\": {\"color\": \"#4D5663\"}, \"title\": {\"font\": {\"color\": \"#4D5663\"}, \"text\": \"A\\u00f1os\"}, \"zerolinecolor\": \"#E1E5ED\"}, \"yaxis\": {\"gridcolor\": \"#E1E5ED\", \"showgrid\": true, \"tickfont\": {\"color\": \"#4D5663\"}, \"title\": {\"font\": {\"color\": \"#4D5663\"}, \"text\": \"Tasa de retiro\"}, \"zerolinecolor\": \"#E1E5ED\"}},\n",
       "                        {\"showLink\": true, \"linkText\": \"Export to plot.ly\", \"plotlyServerURL\": \"https://plot.ly\", \"responsive\": true}\n",
       "                    ).then(function(){\n",
       "                            \n",
       "var gd = document.getElementById('d464600c-9856-4f51-b65b-fe466bedff53');\n",
       "var x = new MutationObserver(function (mutations, observer) {{\n",
       "        var display = window.getComputedStyle(gd).display;\n",
       "        if (!display || display === 'none') {{\n",
       "            console.log([gd, 'removed!']);\n",
       "            Plotly.purge(gd);\n",
       "            observer.disconnect();\n",
       "        }}\n",
       "}});\n",
       "\n",
       "// Listen for the removal of the full notebook cells\n",
       "var notebookContainer = gd.closest('#notebook-container');\n",
       "if (notebookContainer) {{\n",
       "    x.observe(notebookContainer, {childList: true});\n",
       "}}\n",
       "\n",
       "// Listen for the clearing of the current output cell\n",
       "var outputEl = gd.closest('.output');\n",
       "if (outputEl) {{\n",
       "    x.observe(outputEl, {childList: true});\n",
       "}}\n",
       "\n",
       "                        })\n",
       "                };\n",
       "                });\n",
       "            </script>\n",
       "        </div>"
      ]
     },
     "metadata": {},
     "output_type": "display_data"
    }
   ],
   "source": [
    "rates=survival(test, 'Preferred Foot', 'Age', 'Retirement')\n",
    "rates.iplot(kind='line', xTitle='Años', \n",
    "            yTitle='Tasa de retiro', title='Años de carrera profesional según lateralidad dominante')"
   ]
  },
  {
   "cell_type": "code",
   "execution_count": 27,
   "metadata": {},
   "outputs": [
    {
     "data": {
      "application/vnd.plotly.v1+json": {
       "config": {
        "linkText": "Export to plot.ly",
        "plotlyServerURL": "https://plot.ly",
        "showLink": true
       },
       "data": [
        {
         "line": {
          "color": "rgba(255, 153, 51, 1.0)",
          "dash": "solid",
          "shape": "linear",
          "width": 1.3
         },
         "mode": "lines",
         "name": "173.7275220969217",
         "text": "",
         "type": "scatter",
         "x": [
          0,
          30,
          31,
          32,
          33,
          34,
          35,
          36,
          37,
          38,
          39,
          40,
          41,
          42,
          44,
          45
         ],
         "y": [
          1,
          0.7086092715231785,
          0.5231788079470199,
          0.41059602649006627,
          0.25165562913907286,
          0.13907284768211922,
          0.07284768211920531,
          0.04635761589403974,
          0.01986754966887418,
          0.006622516556291391,
          0,
          "",
          "",
          "",
          "",
          ""
         ]
        },
        {
         "line": {
          "color": "rgba(55, 128, 191, 1.0)",
          "dash": "solid",
          "shape": "linear",
          "width": 1.3
         },
         "mode": "lines",
         "name": "188.96677842121304",
         "text": "",
         "type": "scatter",
         "x": [
          0,
          30,
          31,
          32,
          33,
          34,
          35,
          36,
          37,
          38,
          39,
          40,
          41,
          42,
          44,
          45
         ],
         "y": [
          1,
          0.7720430107526883,
          0.5784946236559142,
          0.4129032258064518,
          0.29677419354838735,
          0.1827956989247313,
          0.1182795698924732,
          0.062365591397849494,
          0.032258064516129045,
          0.012903225806451613,
          0.008602150537634407,
          0.0043010752688172026,
          "",
          0.0021505376344086013,
          0,
          ""
         ]
        },
        {
         "line": {
          "color": "rgba(50, 171, 96, 1.0)",
          "dash": "solid",
          "shape": "linear",
          "width": 1.3
         },
         "mode": "lines",
         "name": "176.77537336177994",
         "text": "",
         "type": "scatter",
         "x": [
          0,
          30,
          31,
          32,
          33,
          34,
          35,
          36,
          37,
          38,
          39,
          40,
          41,
          42,
          44,
          45
         ],
         "y": [
          1,
          0.7317073170731704,
          0.5487804878048779,
          0.4085365853658534,
          0.2926829268292683,
          0.1463414634146341,
          0.0792682926829268,
          0.03658536585365852,
          0.030487804878048773,
          0.018292682926829267,
          0.01219512195121951,
          "",
          0.006097560975609754,
          "",
          "",
          0
         ]
        },
        {
         "line": {
          "color": "rgba(128, 0, 128, 1.0)",
          "dash": "solid",
          "shape": "linear",
          "width": 1.3
         },
         "mode": "lines",
         "name": "182.8710758914965",
         "text": "",
         "type": "scatter",
         "x": [
          0,
          30,
          31,
          32,
          33,
          34,
          35,
          36,
          37,
          38,
          39,
          40,
          41,
          42,
          44,
          45
         ],
         "y": [
          1,
          0.7478849407783413,
          0.539763113367174,
          0.38578680203045684,
          0.26057529610829105,
          0.1336717428087986,
          0.0761421319796954,
          0.04060913705583755,
          0.018612521150592212,
          0.01353637901861252,
          0.005076142131979696,
          0.0016920473773265647,
          0,
          "",
          "",
          ""
         ]
        },
        {
         "line": {
          "color": "rgba(219, 64, 82, 1.0)",
          "dash": "solid",
          "shape": "linear",
          "width": 1.3
         },
         "mode": "lines",
         "name": "185.91892715635475",
         "text": "",
         "type": "scatter",
         "x": [
          0,
          30,
          31,
          32,
          33,
          34,
          35,
          36,
          37,
          38,
          39,
          40,
          41,
          42,
          44,
          45
         ],
         "y": [
          1,
          0.7619047619047625,
          0.5658263305322132,
          0.3837535014005604,
          0.2801120448179274,
          0.14005602240896362,
          0.08683473389355746,
          0.058823529411764726,
          0.03361344537815127,
          0.019607843137254912,
          0.011204481792717092,
          0,
          "",
          "",
          "",
          ""
         ]
        },
        {
         "line": {
          "color": "rgba(0, 128, 128, 1.0)",
          "dash": "solid",
          "shape": "linear",
          "width": 1.3
         },
         "mode": "lines",
         "name": "195.06248095092965",
         "text": "",
         "type": "scatter",
         "x": [
          0,
          30,
          31,
          32,
          33,
          34,
          35,
          36,
          37,
          38,
          39,
          40,
          41,
          42,
          44,
          45
         ],
         "y": [
          1,
          0.6931818181818186,
          0.5113636363636366,
          0.36363636363636365,
          0.25568181818181823,
          0.14204545454545459,
          0.07954545454545456,
          0.05113636363636367,
          0.03977272727272729,
          0.022727272727272742,
          0.017045454545454558,
          0.005681818181818185,
          "",
          "",
          0,
          ""
         ]
        },
        {
         "line": {
          "color": "rgba(255, 255, 51, 1.0)",
          "dash": "solid",
          "shape": "linear",
          "width": 1.3
         },
         "mode": "lines",
         "name": "179.82322462663825",
         "text": "",
         "type": "scatter",
         "x": [
          0,
          30,
          31,
          32,
          33,
          34,
          35,
          36,
          37,
          38,
          39,
          40,
          41,
          42,
          44,
          45
         ],
         "y": [
          1,
          0.7368421052631582,
          0.5429362880886427,
          0.34903047091412753,
          0.24653739612188372,
          0.1246537396121884,
          0.07202216066481998,
          0.049861495844875356,
          0.016620498614958446,
          0.011080332409972296,
          0,
          "",
          "",
          "",
          "",
          ""
         ]
        },
        {
         "line": {
          "color": "rgba(128, 128, 0, 1.0)",
          "dash": "solid",
          "shape": "linear",
          "width": 1.3
         },
         "mode": "lines",
         "name": "192.0146296860713",
         "text": "",
         "type": "scatter",
         "x": [
          0,
          30,
          31,
          32,
          33,
          34,
          35,
          36,
          37,
          38,
          39,
          40,
          41,
          42,
          44,
          45
         ],
         "y": [
          1,
          0.7611940298507461,
          0.5522388059701492,
          0.36318407960199,
          0.21393034825870647,
          0.1492537313432836,
          0.09950248756218905,
          0.05472636815920399,
          0.02487562189054727,
          0.014925373134328363,
          0,
          "",
          "",
          "",
          "",
          ""
         ]
        },
        {
         "line": {
          "color": "rgba(251, 128, 114, 1.0)",
          "dash": "solid",
          "shape": "linear",
          "width": 1.3
         },
         "mode": "lines",
         "name": "155.440414507772",
         "text": "",
         "type": "scatter",
         "x": [
          0,
          30,
          31,
          32,
          33,
          34,
          35,
          36,
          37,
          38,
          39,
          40,
          41,
          42,
          44,
          45
         ],
         "y": [
          1,
          0.701492537313433,
          0.4712153518123667,
          0.3134328358208955,
          0.21108742004264394,
          0.09808102345415781,
          0.05970149253731344,
          0.03411513859275054,
          0.019189765458422183,
          0.012793176972281457,
          0.008528784648187637,
          0.004264392324093817,
          0,
          "",
          "",
          ""
         ]
        },
        {
         "line": {
          "color": "rgba(128, 177, 211, 1.0)",
          "dash": "solid",
          "shape": "linear",
          "width": 1.3
         },
         "mode": "lines",
         "name": "155.74519963425786",
         "text": "",
         "type": "scatter",
         "x": [
          0,
          30,
          31,
          32,
          33,
          34,
          35,
          36,
          37,
          38,
          39,
          40,
          41,
          42,
          44,
          45
         ],
         "y": [
          1,
          0.7326732673267322,
          0.537128712871287,
          0.36633663366336605,
          0.24752475247524752,
          0.14356435643564347,
          0.08663366336633659,
          0.05198019801980196,
          0.022277227722772273,
          0.0099009900990099,
          0.004950495049504949,
          0.0024752475247524744,
          0,
          "",
          "",
          ""
         ]
        },
        {
         "line": {
          "color": "rgba(128, 177, 211, 0.8999999999999999)",
          "dash": "solid",
          "shape": "linear",
          "width": 1.3
         },
         "mode": "lines",
         "name": "201.15818348064613",
         "text": "",
         "type": "scatter",
         "x": [
          0,
          30,
          31,
          32,
          33,
          34,
          35,
          36,
          37,
          38,
          39,
          40,
          41,
          42,
          44,
          45
         ],
         "y": [
          1,
          0.7058823529411764,
          0.5294117647058824,
          0.17647058823529413,
          "",
          "",
          0,
          "",
          "",
          "",
          "",
          "",
          "",
          "",
          "",
          ""
         ]
        },
        {
         "line": {
          "color": "rgba(255, 153, 51, 0.8999999999999999)",
          "dash": "solid",
          "shape": "linear",
          "width": 1.3
         },
         "mode": "lines",
         "name": "198.11033221578788",
         "text": "",
         "type": "scatter",
         "x": [
          0,
          30,
          31,
          32,
          33,
          34,
          35,
          36,
          37,
          38,
          39,
          40,
          41,
          42,
          44,
          45
         ],
         "y": [
          1,
          0.816326530612245,
          0.5306122448979593,
          0.40816326530612246,
          0.3061224489795919,
          0.24489795918367352,
          0.14285714285714288,
          0.020408163265306124,
          "",
          "",
          0,
          "",
          "",
          "",
          "",
          ""
         ]
        },
        {
         "line": {
          "color": "rgba(55, 128, 191, 0.8999999999999999)",
          "dash": "solid",
          "shape": "linear",
          "width": 1.3
         },
         "mode": "lines",
         "name": "167.63181956720513",
         "text": "",
         "type": "scatter",
         "x": [
          0,
          30,
          31,
          32,
          33,
          34,
          35,
          36,
          37,
          38,
          39,
          40,
          41,
          42,
          44,
          45
         ],
         "y": [
          1,
          0.7619047619047619,
          0.5238095238095238,
          0.3333333333333333,
          0.23809523809523808,
          0.09523809523809525,
          0.047619047619047616,
          0,
          "",
          "",
          "",
          "",
          "",
          "",
          "",
          ""
         ]
        },
        {
         "line": {
          "color": "rgba(50, 171, 96, 0.8999999999999999)",
          "dash": "solid",
          "shape": "linear",
          "width": 1.3
         },
         "mode": "lines",
         "name": "164.58396830234688",
         "text": "",
         "type": "scatter",
         "x": [
          0,
          30,
          31,
          32,
          33,
          34,
          35,
          36,
          37,
          38,
          39,
          40,
          41,
          42,
          44,
          45
         ],
         "y": [
          1,
          0.8,
          0.6000000000000001,
          0.4,
          0.2,
          "",
          "",
          "",
          0,
          "",
          "",
          "",
          "",
          "",
          "",
          ""
         ]
        },
        {
         "line": {
          "color": "rgba(128, 0, 128, 0.8999999999999999)",
          "dash": "solid",
          "shape": "linear",
          "width": 1.3
         },
         "mode": "lines",
         "name": "170.67967083206338",
         "text": "",
         "type": "scatter",
         "x": [
          0,
          30,
          31,
          32,
          33,
          34,
          35,
          36,
          37,
          38,
          39,
          40,
          41,
          42,
          44,
          45
         ],
         "y": [
          1,
          0.6500000000000001,
          0.4833333333333335,
          0.3833333333333334,
          0.21666666666666673,
          0.11666666666666671,
          0.08333333333333337,
          0.01666666666666667,
          "",
          0,
          "",
          "",
          "",
          "",
          "",
          ""
         ]
        },
        {
         "line": {
          "color": "rgba(219, 64, 82, 0.8999999999999999)",
          "dash": "solid",
          "shape": "linear",
          "width": 1.3
         },
         "mode": "lines",
         "name": "161.53611703748857",
         "text": "",
         "type": "scatter",
         "x": [
          0,
          30,
          31,
          32,
          33,
          34,
          35,
          36,
          37,
          38,
          39,
          40,
          41,
          42,
          44,
          45
         ],
         "y": [
          1,
          0.3333333333333333,
          "",
          "",
          "",
          0,
          "",
          "",
          "",
          "",
          "",
          "",
          "",
          "",
          "",
          ""
         ]
        },
        {
         "line": {
          "color": "rgba(0, 128, 128, 0.8999999999999999)",
          "dash": "solid",
          "shape": "linear",
          "width": 1.3
         },
         "mode": "lines",
         "name": "158.4882657726303",
         "text": "",
         "type": "scatter",
         "x": [
          0,
          30,
          31,
          32,
          33,
          34,
          35,
          36,
          37,
          38,
          39,
          40,
          41,
          42,
          44,
          45
         ],
         "y": [
          1,
          "",
          0.5,
          0,
          "",
          "",
          "",
          "",
          "",
          "",
          "",
          "",
          "",
          "",
          "",
          ""
         ]
        },
        {
         "line": {
          "color": "rgba(255, 255, 51, 0.8999999999999999)",
          "dash": "solid",
          "shape": "linear",
          "width": 1.3
         },
         "mode": "lines",
         "name": "204.20603474550447",
         "text": "",
         "type": "scatter",
         "x": [
          0,
          30,
          31,
          32,
          33,
          34,
          35,
          36,
          37,
          38,
          39,
          40,
          41,
          42,
          44,
          45
         ],
         "y": [
          1,
          0.5,
          "",
          "",
          "",
          "",
          "",
          "",
          0,
          "",
          "",
          "",
          "",
          "",
          "",
          ""
         ]
        },
        {
         "line": {
          "color": "rgba(128, 128, 0, 0.8999999999999999)",
          "dash": "solid",
          "shape": "linear",
          "width": 1.3
         },
         "mode": "lines",
         "name": "207.2538860103627",
         "text": "",
         "type": "scatter",
         "x": [
          0,
          30,
          31,
          32,
          33,
          34,
          35,
          36,
          37,
          38,
          39,
          40,
          41,
          42,
          44,
          45
         ],
         "y": [
          1,
          "",
          0,
          "",
          "",
          "",
          "",
          "",
          "",
          "",
          "",
          "",
          "",
          "",
          "",
          ""
         ]
        }
       ],
       "layout": {
        "legend": {
         "bgcolor": "#F5F6F9",
         "font": {
          "color": "#4D5663"
         }
        },
        "paper_bgcolor": "#F5F6F9",
        "plot_bgcolor": "#F5F6F9",
        "template": {
         "data": {
          "scatter": [
           {
            "type": "scatter"
           }
          ]
         }
        },
        "title": {
         "font": {
          "color": "#4D5663"
         },
         "text": "Años de carrera profesional según la estatura"
        },
        "xaxis": {
         "gridcolor": "#E1E5ED",
         "showgrid": true,
         "tickfont": {
          "color": "#4D5663"
         },
         "title": {
          "font": {
           "color": "#4D5663"
          },
          "text": "Años"
         },
         "zerolinecolor": "#E1E5ED"
        },
        "yaxis": {
         "gridcolor": "#E1E5ED",
         "showgrid": true,
         "tickfont": {
          "color": "#4D5663"
         },
         "title": {
          "font": {
           "color": "#4D5663"
          },
          "text": "Tasa de retiro"
         },
         "zerolinecolor": "#E1E5ED"
        }
       }
      },
      "text/html": [
       "<div>\n",
       "        \n",
       "        \n",
       "            <div id=\"e94dae64-8f0e-4c55-9b61-e81b07846bb9\" class=\"plotly-graph-div\" style=\"height:525px; width:100%;\"></div>\n",
       "            <script type=\"text/javascript\">\n",
       "                require([\"plotly\"], function(Plotly) {\n",
       "                    window.PLOTLYENV=window.PLOTLYENV || {};\n",
       "                    window.PLOTLYENV.BASE_URL='https://plot.ly';\n",
       "                    \n",
       "                if (document.getElementById(\"e94dae64-8f0e-4c55-9b61-e81b07846bb9\")) {\n",
       "                    Plotly.newPlot(\n",
       "                        'e94dae64-8f0e-4c55-9b61-e81b07846bb9',\n",
       "                        [{\"line\": {\"color\": \"rgba(255, 153, 51, 1.0)\", \"dash\": \"solid\", \"shape\": \"linear\", \"width\": 1.3}, \"mode\": \"lines\", \"name\": \"173.7275220969217\", \"text\": \"\", \"type\": \"scatter\", \"x\": [0.0, 30.0, 31.0, 32.0, 33.0, 34.0, 35.0, 36.0, 37.0, 38.0, 39.0, 40.0, 41.0, 42.0, 44.0, 45.0], \"y\": [1.0, 0.7086092715231785, 0.5231788079470199, 0.41059602649006627, 0.25165562913907286, 0.13907284768211922, 0.07284768211920531, 0.04635761589403974, 0.01986754966887418, 0.006622516556291391, 0.0, \"\", \"\", \"\", \"\", \"\"]}, {\"line\": {\"color\": \"rgba(55, 128, 191, 1.0)\", \"dash\": \"solid\", \"shape\": \"linear\", \"width\": 1.3}, \"mode\": \"lines\", \"name\": \"188.96677842121304\", \"text\": \"\", \"type\": \"scatter\", \"x\": [0.0, 30.0, 31.0, 32.0, 33.0, 34.0, 35.0, 36.0, 37.0, 38.0, 39.0, 40.0, 41.0, 42.0, 44.0, 45.0], \"y\": [1.0, 0.7720430107526883, 0.5784946236559142, 0.4129032258064518, 0.29677419354838735, 0.1827956989247313, 0.1182795698924732, 0.062365591397849494, 0.032258064516129045, 0.012903225806451613, 0.008602150537634407, 0.0043010752688172026, \"\", 0.0021505376344086013, 0.0, \"\"]}, {\"line\": {\"color\": \"rgba(50, 171, 96, 1.0)\", \"dash\": \"solid\", \"shape\": \"linear\", \"width\": 1.3}, \"mode\": \"lines\", \"name\": \"176.77537336177994\", \"text\": \"\", \"type\": \"scatter\", \"x\": [0.0, 30.0, 31.0, 32.0, 33.0, 34.0, 35.0, 36.0, 37.0, 38.0, 39.0, 40.0, 41.0, 42.0, 44.0, 45.0], \"y\": [1.0, 0.7317073170731704, 0.5487804878048779, 0.4085365853658534, 0.2926829268292683, 0.1463414634146341, 0.0792682926829268, 0.03658536585365852, 0.030487804878048773, 0.018292682926829267, 0.01219512195121951, \"\", 0.006097560975609754, \"\", \"\", 0.0]}, {\"line\": {\"color\": \"rgba(128, 0, 128, 1.0)\", \"dash\": \"solid\", \"shape\": \"linear\", \"width\": 1.3}, \"mode\": \"lines\", \"name\": \"182.8710758914965\", \"text\": \"\", \"type\": \"scatter\", \"x\": [0.0, 30.0, 31.0, 32.0, 33.0, 34.0, 35.0, 36.0, 37.0, 38.0, 39.0, 40.0, 41.0, 42.0, 44.0, 45.0], \"y\": [1.0, 0.7478849407783413, 0.539763113367174, 0.38578680203045684, 0.26057529610829105, 0.1336717428087986, 0.0761421319796954, 0.04060913705583755, 0.018612521150592212, 0.01353637901861252, 0.005076142131979696, 0.0016920473773265647, 0.0, \"\", \"\", \"\"]}, {\"line\": {\"color\": \"rgba(219, 64, 82, 1.0)\", \"dash\": \"solid\", \"shape\": \"linear\", \"width\": 1.3}, \"mode\": \"lines\", \"name\": \"185.91892715635475\", \"text\": \"\", \"type\": \"scatter\", \"x\": [0.0, 30.0, 31.0, 32.0, 33.0, 34.0, 35.0, 36.0, 37.0, 38.0, 39.0, 40.0, 41.0, 42.0, 44.0, 45.0], \"y\": [1.0, 0.7619047619047625, 0.5658263305322132, 0.3837535014005604, 0.2801120448179274, 0.14005602240896362, 0.08683473389355746, 0.058823529411764726, 0.03361344537815127, 0.019607843137254912, 0.011204481792717092, 0.0, \"\", \"\", \"\", \"\"]}, {\"line\": {\"color\": \"rgba(0, 128, 128, 1.0)\", \"dash\": \"solid\", \"shape\": \"linear\", \"width\": 1.3}, \"mode\": \"lines\", \"name\": \"195.06248095092965\", \"text\": \"\", \"type\": \"scatter\", \"x\": [0.0, 30.0, 31.0, 32.0, 33.0, 34.0, 35.0, 36.0, 37.0, 38.0, 39.0, 40.0, 41.0, 42.0, 44.0, 45.0], \"y\": [1.0, 0.6931818181818186, 0.5113636363636366, 0.36363636363636365, 0.25568181818181823, 0.14204545454545459, 0.07954545454545456, 0.05113636363636367, 0.03977272727272729, 0.022727272727272742, 0.017045454545454558, 0.005681818181818185, \"\", \"\", 0.0, \"\"]}, {\"line\": {\"color\": \"rgba(255, 255, 51, 1.0)\", \"dash\": \"solid\", \"shape\": \"linear\", \"width\": 1.3}, \"mode\": \"lines\", \"name\": \"179.82322462663825\", \"text\": \"\", \"type\": \"scatter\", \"x\": [0.0, 30.0, 31.0, 32.0, 33.0, 34.0, 35.0, 36.0, 37.0, 38.0, 39.0, 40.0, 41.0, 42.0, 44.0, 45.0], \"y\": [1.0, 0.7368421052631582, 0.5429362880886427, 0.34903047091412753, 0.24653739612188372, 0.1246537396121884, 0.07202216066481998, 0.049861495844875356, 0.016620498614958446, 0.011080332409972296, 0.0, \"\", \"\", \"\", \"\", \"\"]}, {\"line\": {\"color\": \"rgba(128, 128, 0, 1.0)\", \"dash\": \"solid\", \"shape\": \"linear\", \"width\": 1.3}, \"mode\": \"lines\", \"name\": \"192.0146296860713\", \"text\": \"\", \"type\": \"scatter\", \"x\": [0.0, 30.0, 31.0, 32.0, 33.0, 34.0, 35.0, 36.0, 37.0, 38.0, 39.0, 40.0, 41.0, 42.0, 44.0, 45.0], \"y\": [1.0, 0.7611940298507461, 0.5522388059701492, 0.36318407960199, 0.21393034825870647, 0.1492537313432836, 0.09950248756218905, 0.05472636815920399, 0.02487562189054727, 0.014925373134328363, 0.0, \"\", \"\", \"\", \"\", \"\"]}, {\"line\": {\"color\": \"rgba(251, 128, 114, 1.0)\", \"dash\": \"solid\", \"shape\": \"linear\", \"width\": 1.3}, \"mode\": \"lines\", \"name\": \"155.440414507772\", \"text\": \"\", \"type\": \"scatter\", \"x\": [0.0, 30.0, 31.0, 32.0, 33.0, 34.0, 35.0, 36.0, 37.0, 38.0, 39.0, 40.0, 41.0, 42.0, 44.0, 45.0], \"y\": [1.0, 0.701492537313433, 0.4712153518123667, 0.3134328358208955, 0.21108742004264394, 0.09808102345415781, 0.05970149253731344, 0.03411513859275054, 0.019189765458422183, 0.012793176972281457, 0.008528784648187637, 0.004264392324093817, 0.0, \"\", \"\", \"\"]}, {\"line\": {\"color\": \"rgba(128, 177, 211, 1.0)\", \"dash\": \"solid\", \"shape\": \"linear\", \"width\": 1.3}, \"mode\": \"lines\", \"name\": \"155.74519963425786\", \"text\": \"\", \"type\": \"scatter\", \"x\": [0.0, 30.0, 31.0, 32.0, 33.0, 34.0, 35.0, 36.0, 37.0, 38.0, 39.0, 40.0, 41.0, 42.0, 44.0, 45.0], \"y\": [1.0, 0.7326732673267322, 0.537128712871287, 0.36633663366336605, 0.24752475247524752, 0.14356435643564347, 0.08663366336633659, 0.05198019801980196, 0.022277227722772273, 0.0099009900990099, 0.004950495049504949, 0.0024752475247524744, 0.0, \"\", \"\", \"\"]}, {\"line\": {\"color\": \"rgba(128, 177, 211, 0.8999999999999999)\", \"dash\": \"solid\", \"shape\": \"linear\", \"width\": 1.3}, \"mode\": \"lines\", \"name\": \"201.15818348064613\", \"text\": \"\", \"type\": \"scatter\", \"x\": [0.0, 30.0, 31.0, 32.0, 33.0, 34.0, 35.0, 36.0, 37.0, 38.0, 39.0, 40.0, 41.0, 42.0, 44.0, 45.0], \"y\": [1.0, 0.7058823529411764, 0.5294117647058824, 0.17647058823529413, \"\", \"\", 0.0, \"\", \"\", \"\", \"\", \"\", \"\", \"\", \"\", \"\"]}, {\"line\": {\"color\": \"rgba(255, 153, 51, 0.8999999999999999)\", \"dash\": \"solid\", \"shape\": \"linear\", \"width\": 1.3}, \"mode\": \"lines\", \"name\": \"198.11033221578788\", \"text\": \"\", \"type\": \"scatter\", \"x\": [0.0, 30.0, 31.0, 32.0, 33.0, 34.0, 35.0, 36.0, 37.0, 38.0, 39.0, 40.0, 41.0, 42.0, 44.0, 45.0], \"y\": [1.0, 0.816326530612245, 0.5306122448979593, 0.40816326530612246, 0.3061224489795919, 0.24489795918367352, 0.14285714285714288, 0.020408163265306124, \"\", \"\", 0.0, \"\", \"\", \"\", \"\", \"\"]}, {\"line\": {\"color\": \"rgba(55, 128, 191, 0.8999999999999999)\", \"dash\": \"solid\", \"shape\": \"linear\", \"width\": 1.3}, \"mode\": \"lines\", \"name\": \"167.63181956720513\", \"text\": \"\", \"type\": \"scatter\", \"x\": [0.0, 30.0, 31.0, 32.0, 33.0, 34.0, 35.0, 36.0, 37.0, 38.0, 39.0, 40.0, 41.0, 42.0, 44.0, 45.0], \"y\": [1.0, 0.7619047619047619, 0.5238095238095238, 0.3333333333333333, 0.23809523809523808, 0.09523809523809525, 0.047619047619047616, 0.0, \"\", \"\", \"\", \"\", \"\", \"\", \"\", \"\"]}, {\"line\": {\"color\": \"rgba(50, 171, 96, 0.8999999999999999)\", \"dash\": \"solid\", \"shape\": \"linear\", \"width\": 1.3}, \"mode\": \"lines\", \"name\": \"164.58396830234688\", \"text\": \"\", \"type\": \"scatter\", \"x\": [0.0, 30.0, 31.0, 32.0, 33.0, 34.0, 35.0, 36.0, 37.0, 38.0, 39.0, 40.0, 41.0, 42.0, 44.0, 45.0], \"y\": [1.0, 0.8, 0.6000000000000001, 0.4, 0.2, \"\", \"\", \"\", 0.0, \"\", \"\", \"\", \"\", \"\", \"\", \"\"]}, {\"line\": {\"color\": \"rgba(128, 0, 128, 0.8999999999999999)\", \"dash\": \"solid\", \"shape\": \"linear\", \"width\": 1.3}, \"mode\": \"lines\", \"name\": \"170.67967083206338\", \"text\": \"\", \"type\": \"scatter\", \"x\": [0.0, 30.0, 31.0, 32.0, 33.0, 34.0, 35.0, 36.0, 37.0, 38.0, 39.0, 40.0, 41.0, 42.0, 44.0, 45.0], \"y\": [1.0, 0.6500000000000001, 0.4833333333333335, 0.3833333333333334, 0.21666666666666673, 0.11666666666666671, 0.08333333333333337, 0.01666666666666667, \"\", 0.0, \"\", \"\", \"\", \"\", \"\", \"\"]}, {\"line\": {\"color\": \"rgba(219, 64, 82, 0.8999999999999999)\", \"dash\": \"solid\", \"shape\": \"linear\", \"width\": 1.3}, \"mode\": \"lines\", \"name\": \"161.53611703748857\", \"text\": \"\", \"type\": \"scatter\", \"x\": [0.0, 30.0, 31.0, 32.0, 33.0, 34.0, 35.0, 36.0, 37.0, 38.0, 39.0, 40.0, 41.0, 42.0, 44.0, 45.0], \"y\": [1.0, 0.3333333333333333, \"\", \"\", \"\", 0.0, \"\", \"\", \"\", \"\", \"\", \"\", \"\", \"\", \"\", \"\"]}, {\"line\": {\"color\": \"rgba(0, 128, 128, 0.8999999999999999)\", \"dash\": \"solid\", \"shape\": \"linear\", \"width\": 1.3}, \"mode\": \"lines\", \"name\": \"158.4882657726303\", \"text\": \"\", \"type\": \"scatter\", \"x\": [0.0, 30.0, 31.0, 32.0, 33.0, 34.0, 35.0, 36.0, 37.0, 38.0, 39.0, 40.0, 41.0, 42.0, 44.0, 45.0], \"y\": [1.0, \"\", 0.5, 0.0, \"\", \"\", \"\", \"\", \"\", \"\", \"\", \"\", \"\", \"\", \"\", \"\"]}, {\"line\": {\"color\": \"rgba(255, 255, 51, 0.8999999999999999)\", \"dash\": \"solid\", \"shape\": \"linear\", \"width\": 1.3}, \"mode\": \"lines\", \"name\": \"204.20603474550447\", \"text\": \"\", \"type\": \"scatter\", \"x\": [0.0, 30.0, 31.0, 32.0, 33.0, 34.0, 35.0, 36.0, 37.0, 38.0, 39.0, 40.0, 41.0, 42.0, 44.0, 45.0], \"y\": [1.0, 0.5, \"\", \"\", \"\", \"\", \"\", \"\", 0.0, \"\", \"\", \"\", \"\", \"\", \"\", \"\"]}, {\"line\": {\"color\": \"rgba(128, 128, 0, 0.8999999999999999)\", \"dash\": \"solid\", \"shape\": \"linear\", \"width\": 1.3}, \"mode\": \"lines\", \"name\": \"207.2538860103627\", \"text\": \"\", \"type\": \"scatter\", \"x\": [0.0, 30.0, 31.0, 32.0, 33.0, 34.0, 35.0, 36.0, 37.0, 38.0, 39.0, 40.0, 41.0, 42.0, 44.0, 45.0], \"y\": [1.0, \"\", 0.0, \"\", \"\", \"\", \"\", \"\", \"\", \"\", \"\", \"\", \"\", \"\", \"\", \"\"]}],\n",
       "                        {\"legend\": {\"bgcolor\": \"#F5F6F9\", \"font\": {\"color\": \"#4D5663\"}}, \"paper_bgcolor\": \"#F5F6F9\", \"plot_bgcolor\": \"#F5F6F9\", \"template\": {\"data\": {\"scatter\": [{\"type\": \"scatter\"}]}}, \"title\": {\"font\": {\"color\": \"#4D5663\"}, \"text\": \"A\\u00f1os de carrera profesional seg\\u00fan la estatura\"}, \"xaxis\": {\"gridcolor\": \"#E1E5ED\", \"showgrid\": true, \"tickfont\": {\"color\": \"#4D5663\"}, \"title\": {\"font\": {\"color\": \"#4D5663\"}, \"text\": \"A\\u00f1os\"}, \"zerolinecolor\": \"#E1E5ED\"}, \"yaxis\": {\"gridcolor\": \"#E1E5ED\", \"showgrid\": true, \"tickfont\": {\"color\": \"#4D5663\"}, \"title\": {\"font\": {\"color\": \"#4D5663\"}, \"text\": \"Tasa de retiro\"}, \"zerolinecolor\": \"#E1E5ED\"}},\n",
       "                        {\"showLink\": true, \"linkText\": \"Export to plot.ly\", \"plotlyServerURL\": \"https://plot.ly\", \"responsive\": true}\n",
       "                    ).then(function(){\n",
       "                            \n",
       "var gd = document.getElementById('e94dae64-8f0e-4c55-9b61-e81b07846bb9');\n",
       "var x = new MutationObserver(function (mutations, observer) {{\n",
       "        var display = window.getComputedStyle(gd).display;\n",
       "        if (!display || display === 'none') {{\n",
       "            console.log([gd, 'removed!']);\n",
       "            Plotly.purge(gd);\n",
       "            observer.disconnect();\n",
       "        }}\n",
       "}});\n",
       "\n",
       "// Listen for the removal of the full notebook cells\n",
       "var notebookContainer = gd.closest('#notebook-container');\n",
       "if (notebookContainer) {{\n",
       "    x.observe(notebookContainer, {childList: true});\n",
       "}}\n",
       "\n",
       "// Listen for the clearing of the current output cell\n",
       "var outputEl = gd.closest('.output');\n",
       "if (outputEl) {{\n",
       "    x.observe(outputEl, {childList: true});\n",
       "}}\n",
       "\n",
       "                        })\n",
       "                };\n",
       "                });\n",
       "            </script>\n",
       "        </div>"
      ]
     },
     "metadata": {},
     "output_type": "display_data"
    }
   ],
   "source": [
    "rates=survival(test, 'Height(cm)', 'Age', 'Retirement')\n",
    "rates.iplot(kind='line', xTitle='Años', \n",
    "            yTitle='Tasa de retiro', title='Años de carrera profesional según la estatura')"
   ]
  },
  {
   "cell_type": "code",
   "execution_count": 28,
   "metadata": {},
   "outputs": [
    {
     "data": {
      "application/vnd.plotly.v1+json": {
       "config": {
        "linkText": "Export to plot.ly",
        "plotlyServerURL": "https://plot.ly",
        "showLink": true
       },
       "data": [
        {
         "line": {
          "color": "rgba(255, 153, 51, 1.0)",
          "dash": "solid",
          "shape": "linear",
          "width": 1.3
         },
         "mode": "lines",
         "name": "72.137028",
         "text": "",
         "type": "scatter",
         "x": [
          0,
          30,
          31,
          32,
          33,
          34,
          35,
          36,
          37,
          38,
          39,
          40,
          41,
          42,
          44,
          45
         ],
         "y": [
          1,
          0.7687499999999999,
          0.5437500000000002,
          0.36250000000000004,
          0.2875000000000001,
          0.16875000000000007,
          0.09375000000000003,
          0.04375000000000002,
          0.031250000000000014,
          0.012500000000000006,
          0,
          "",
          "",
          "",
          "",
          ""
         ]
        },
        {
         "line": {
          "color": "rgba(55, 128, 191, 1.0)",
          "dash": "solid",
          "shape": "linear",
          "width": 1.3
         },
         "mode": "lines",
         "name": "83.02563599999998",
         "text": "",
         "type": "scatter",
         "x": [
          0,
          30,
          31,
          32,
          33,
          34,
          35,
          36,
          37,
          38,
          39,
          40,
          41,
          42,
          44,
          45
         ],
         "y": [
          1,
          0.7966101694915251,
          0.6186440677966099,
          0.4661016949152542,
          0.3389830508474575,
          0.16101694915254228,
          0.0847457627118644,
          0.033898305084745756,
          "",
          0.02542372881355932,
          0.008474576271186437,
          "",
          0,
          "",
          "",
          ""
         ]
        },
        {
         "line": {
          "color": "rgba(50, 171, 96, 1.0)",
          "dash": "solid",
          "shape": "linear",
          "width": 1.3
         },
         "mode": "lines",
         "name": "66.239032",
         "text": "",
         "type": "scatter",
         "x": [
          0,
          30,
          31,
          32,
          33,
          34,
          35,
          36,
          37,
          38,
          39,
          40,
          41,
          42,
          44,
          45
         ],
         "y": [
          1,
          0.6590909090909093,
          0.43181818181818177,
          0.3181818181818182,
          0.22727272727272735,
          0.13636363636363638,
          0.0909090909090909,
          0.06818181818181818,
          0,
          "",
          "",
          "",
          "",
          "",
          "",
          ""
         ]
        },
        {
         "line": {
          "color": "rgba(128, 0, 128, 1.0)",
          "dash": "solid",
          "shape": "linear",
          "width": 1.3
         },
         "mode": "lines",
         "name": "86.20148",
         "text": "",
         "type": "scatter",
         "x": [
          0,
          30,
          31,
          32,
          33,
          34,
          35,
          36,
          37,
          38,
          39,
          40,
          41,
          42,
          44,
          45
         ],
         "y": [
          1,
          0.764044943820225,
          0.5280898876404495,
          0.35955056179775285,
          0.24719101123595516,
          0.17977528089887643,
          0.1123595505617978,
          0.10112359550561802,
          0.06741573033707866,
          0.04494382022471912,
          0.033707865168539346,
          0.011235955056179777,
          "",
          "",
          0,
          ""
         ]
        },
        {
         "line": {
          "color": "rgba(219, 64, 82, 1.0)",
          "dash": "solid",
          "shape": "linear",
          "width": 1.3
         },
         "mode": "lines",
         "name": "82.118252",
         "text": "",
         "type": "scatter",
         "x": [
          0,
          30,
          31,
          32,
          33,
          34,
          35,
          36,
          37,
          38,
          39,
          40,
          41,
          42,
          44,
          45
         ],
         "y": [
          1,
          0.7913669064748207,
          0.5971223021582738,
          0.4028776978417269,
          0.2446043165467627,
          0.12230215827338134,
          0.07913669064748205,
          0.05035971223021585,
          0.007194244604316549,
          "",
          0,
          "",
          "",
          "",
          "",
          ""
         ]
        },
        {
         "line": {
          "color": "rgba(0, 128, 128, 1.0)",
          "dash": "solid",
          "shape": "linear",
          "width": 1.3
         },
         "mode": "lines",
         "name": "78.03502399999998",
         "text": "",
         "type": "scatter",
         "x": [
          0,
          30,
          31,
          32,
          33,
          34,
          35,
          36,
          37,
          38,
          39,
          40,
          41,
          42,
          44,
          45
         ],
         "y": [
          1,
          0.693693693693694,
          0.5045045045045043,
          0.3558558558558559,
          0.27477477477477485,
          0.13063063063063066,
          0.09009009009009009,
          0.058558558558558564,
          0.02252252252252253,
          0.018018018018018025,
          0.00900900900900901,
          0,
          "",
          "",
          "",
          ""
         ]
        },
        {
         "line": {
          "color": "rgba(255, 255, 51, 1.0)",
          "dash": "solid",
          "shape": "linear",
          "width": 1.3
         },
         "mode": "lines",
         "name": "67.146416",
         "text": "",
         "type": "scatter",
         "x": [
          0,
          30,
          31,
          32,
          33,
          34,
          35,
          36,
          37,
          38,
          39,
          40,
          41,
          42,
          44,
          45
         ],
         "y": [
          1,
          0.7031250000000001,
          0.48437500000000017,
          0.29687500000000006,
          0.15625000000000008,
          0.06250000000000003,
          "",
          0.015625000000000007,
          "",
          0,
          "",
          "",
          "",
          "",
          "",
          ""
         ]
        },
        {
         "line": {
          "color": "rgba(128, 128, 0, 1.0)",
          "dash": "solid",
          "shape": "linear",
          "width": 1.3
         },
         "mode": "lines",
         "name": "77.12764",
         "text": "",
         "type": "scatter",
         "x": [
          0,
          30,
          31,
          32,
          33,
          34,
          35,
          36,
          37,
          38,
          39,
          40,
          41,
          42,
          44,
          45
         ],
         "y": [
          1,
          0.7441860465116279,
          0.5348837209302328,
          0.3488372093023256,
          0.22093023255813957,
          0.1046511627906977,
          0.06395348837209305,
          0.034883720930232565,
          0.011627906976744191,
          0.005813953488372095,
          0,
          "",
          "",
          "",
          "",
          ""
         ]
        },
        {
         "line": {
          "color": "rgba(251, 128, 114, 1.0)",
          "dash": "solid",
          "shape": "linear",
          "width": 1.3
         },
         "mode": "lines",
         "name": "92.099476",
         "text": "",
         "type": "scatter",
         "x": [
          0,
          30,
          31,
          32,
          33,
          34,
          35,
          36,
          37,
          38,
          39,
          40,
          41,
          42,
          44,
          45
         ],
         "y": [
          1,
          0.7941176470588235,
          0.6176470588235293,
          0.4117647058823528,
          0.29411764705882354,
          "",
          0.14705882352941171,
          0.0588235294117647,
          "",
          0.02941176470588235,
          "",
          0,
          "",
          "",
          "",
          ""
         ]
        },
        {
         "line": {
          "color": "rgba(128, 177, 211, 1.0)",
          "dash": "solid",
          "shape": "linear",
          "width": 1.3
         },
         "mode": "lines",
         "name": "69.86856800000001",
         "text": "",
         "type": "scatter",
         "x": [
          0,
          30,
          31,
          32,
          33,
          34,
          35,
          36,
          37,
          38,
          39,
          40,
          41,
          42,
          44,
          45
         ],
         "y": [
          1,
          0.7311827956989246,
          0.5053763440860213,
          0.3548387096774191,
          0.22580645161290316,
          0.1397849462365591,
          0.06451612903225803,
          0.04301075268817202,
          0.016129032258064516,
          0.010752688172043006,
          0.005376344086021503,
          "",
          0,
          "",
          "",
          ""
         ]
        },
        {
         "line": {
          "color": "rgba(128, 177, 211, 0.8999999999999999)",
          "dash": "solid",
          "shape": "linear",
          "width": 1.3
         },
         "mode": "lines",
         "name": "84.84040399999998",
         "text": "",
         "type": "scatter",
         "x": [
          0,
          30,
          31,
          32,
          33,
          34,
          35,
          36,
          37,
          38,
          39,
          40,
          41,
          42,
          44,
          45
         ],
         "y": [
          1,
          0.7479674796747972,
          0.5284552845528456,
          0.38211382113821146,
          0.23577235772357735,
          0.1463414634146342,
          0.11382113821138214,
          0.07317073170731712,
          0.05691056910569109,
          0.03252032520325205,
          0.008130081300813012,
          "",
          0,
          "",
          "",
          ""
         ]
        },
        {
         "line": {
          "color": "rgba(255, 153, 51, 0.8999999999999999)",
          "dash": "solid",
          "shape": "linear",
          "width": 1.3
         },
         "mode": "lines",
         "name": "79.84979200000001",
         "text": "",
         "type": "scatter",
         "x": [
          0,
          30,
          31,
          32,
          33,
          34,
          35,
          36,
          37,
          38,
          39,
          40,
          41,
          42,
          44,
          45
         ],
         "y": [
          1,
          0.7524271844660194,
          0.5631067961165047,
          0.3398058252427185,
          0.24757281553398053,
          0.1262135922330097,
          0.06796116504854366,
          0.043689320388349516,
          0.029126213592233004,
          0.009708737864077669,
          0.004854368932038834,
          "",
          "",
          0,
          "",
          ""
         ]
        },
        {
         "line": {
          "color": "rgba(55, 128, 191, 0.8999999999999999)",
          "dash": "solid",
          "shape": "linear",
          "width": 1.3
         },
         "mode": "lines",
         "name": "88.923632",
         "text": "",
         "type": "scatter",
         "x": [
          0,
          30,
          31,
          32,
          33,
          34,
          35,
          36,
          37,
          38,
          39,
          40,
          41,
          42,
          44,
          45
         ],
         "y": [
          1,
          0.7916666666666664,
          0.6458333333333333,
          0.5208333333333331,
          0.4166666666666665,
          0.24999999999999994,
          0.1666666666666666,
          0.12499999999999997,
          0.06249999999999998,
          0.041666666666666644,
          0.02083333333333332,
          0,
          "",
          "",
          "",
          ""
         ]
        },
        {
         "line": {
          "color": "rgba(50, 171, 96, 0.8999999999999999)",
          "dash": "solid",
          "shape": "linear",
          "width": 1.3
         },
         "mode": "lines",
         "name": "60.794728000000006",
         "text": "",
         "type": "scatter",
         "x": [
          0,
          30,
          31,
          32,
          33,
          34,
          35,
          36,
          37,
          38,
          39,
          40,
          41,
          42,
          44,
          45
         ],
         "y": [
          1,
          0.7999999999999997,
          0.3999999999999999,
          0.09999999999999998,
          "",
          "",
          0,
          "",
          "",
          "",
          "",
          "",
          "",
          "",
          "",
          ""
         ]
        },
        {
         "line": {
          "color": "rgba(128, 0, 128, 0.8999999999999999)",
          "dash": "solid",
          "shape": "linear",
          "width": 1.3
         },
         "mode": "lines",
         "name": "78.942408",
         "text": "",
         "type": "scatter",
         "x": [
          0,
          30,
          31,
          32,
          33,
          34,
          35,
          36,
          37,
          38,
          39,
          40,
          41,
          42,
          44,
          45
         ],
         "y": [
          1,
          0.7621951219512195,
          0.5914634146341462,
          0.426829268292683,
          0.2560975609756097,
          0.14024390243902435,
          0.0792682926829268,
          0.024390243902439022,
          0.006097560975609754,
          0,
          "",
          "",
          "",
          "",
          "",
          ""
         ]
        },
        {
         "line": {
          "color": "rgba(219, 64, 82, 0.8999999999999999)",
          "dash": "solid",
          "shape": "linear",
          "width": 1.3
         },
         "mode": "lines",
         "name": "93.914244",
         "text": "",
         "type": "scatter",
         "x": [
          0,
          30,
          31,
          32,
          33,
          34,
          35,
          36,
          37,
          38,
          39,
          40,
          41,
          42,
          44,
          45
         ],
         "y": [
          1,
          0.8461538461538463,
          0.6923076923076924,
          0.3846153846153846,
          0.30769230769230765,
          "",
          0.15384615384615385,
          0,
          "",
          "",
          "",
          "",
          "",
          "",
          "",
          ""
         ]
        },
        {
         "line": {
          "color": "rgba(0, 128, 128, 0.8999999999999999)",
          "dash": "solid",
          "shape": "linear",
          "width": 1.3
         },
         "mode": "lines",
         "name": "68.0538",
         "text": "",
         "type": "scatter",
         "x": [
          0,
          30,
          31,
          32,
          33,
          34,
          35,
          36,
          37,
          38,
          39,
          40,
          41,
          42,
          44,
          45
         ],
         "y": [
          1,
          0.7373737373737373,
          0.45454545454545453,
          0.34343434343434354,
          0.23232323232323235,
          0.13131313131313133,
          0.05050505050505052,
          0.040404040404040414,
          0.030303030303030318,
          0.010101010101010102,
          0,
          "",
          "",
          "",
          "",
          ""
         ]
        },
        {
         "line": {
          "color": "rgba(255, 255, 51, 0.8999999999999999)",
          "dash": "solid",
          "shape": "linear",
          "width": 1.3
         },
         "mode": "lines",
         "name": "81.21086799999998",
         "text": "",
         "type": "scatter",
         "x": [
          0,
          30,
          31,
          32,
          33,
          34,
          35,
          36,
          37,
          38,
          39,
          40,
          41,
          42,
          44,
          45
         ],
         "y": [
          1,
          0.7407407407407409,
          0.5555555555555552,
          0.40740740740740744,
          0.3185185185185184,
          0.19259259259259257,
          0.1407407407407407,
          0.05185185185185185,
          0.014814814814814814,
          0.007407407407407406,
          "",
          0,
          "",
          "",
          "",
          ""
         ]
        },
        {
         "line": {
          "color": "rgba(128, 128, 0, 0.8999999999999999)",
          "dash": "solid",
          "shape": "linear",
          "width": 1.3
         },
         "mode": "lines",
         "name": "74.85918000000001",
         "text": "",
         "type": "scatter",
         "x": [
          0,
          30,
          31,
          32,
          33,
          34,
          35,
          36,
          37,
          38,
          39,
          40,
          41,
          42,
          44,
          45
         ],
         "y": [
          1,
          0.7462121212121213,
          0.5416666666666666,
          0.3977272727272727,
          0.2651515151515153,
          0.12121212121212123,
          0.05681818181818183,
          0.049242424242424254,
          0.026515151515151523,
          0.018939393939393947,
          0.01136363636363637,
          0.007575757575757578,
          0.0037878787878787884,
          "",
          "",
          0
         ]
        },
        {
         "line": {
          "color": "rgba(251, 128, 114, 0.8999999999999999)",
          "dash": "solid",
          "shape": "linear",
          "width": 1.3
         },
         "mode": "lines",
         "name": "83.93302",
         "text": "",
         "type": "scatter",
         "x": [
          0,
          30,
          31,
          32,
          33,
          34,
          35,
          36,
          37,
          38,
          39,
          40,
          41,
          42,
          44,
          45
         ],
         "y": [
          1,
          0.69,
          0.5499999999999999,
          0.3799999999999998,
          0.24999999999999983,
          0.16999999999999993,
          0.11999999999999995,
          0.07999999999999995,
          0.03999999999999999,
          0.019999999999999993,
          0.009999999999999995,
          "",
          "",
          "",
          0,
          ""
         ]
        },
        {
         "line": {
          "color": "rgba(251, 128, 114, 0.7999999999999998)",
          "dash": "solid",
          "shape": "linear",
          "width": 1.3
         },
         "mode": "lines",
         "name": "89.83101599999998",
         "text": "",
         "type": "scatter",
         "x": [
          0,
          30,
          31,
          32,
          33,
          34,
          35,
          36,
          37,
          38,
          39,
          40,
          41,
          42,
          44,
          45
         ],
         "y": [
          1,
          0.9038461538461535,
          0.6346153846153845,
          0.5192307692307692,
          0.4038461538461538,
          0.28846153846153844,
          0.1538461538461538,
          0.057692307692307675,
          "",
          0.019230769230769218,
          0,
          "",
          "",
          "",
          "",
          ""
         ]
        },
        {
         "line": {
          "color": "rgba(128, 177, 211, 0.7999999999999998)",
          "dash": "solid",
          "shape": "linear",
          "width": 1.3
         },
         "mode": "lines",
         "name": "91.192092",
         "text": "",
         "type": "scatter",
         "x": [
          0,
          30,
          31,
          32,
          33,
          34,
          35,
          36,
          37,
          38,
          39,
          40,
          41,
          42,
          44,
          45
         ],
         "y": [
          1,
          0.6666666666666665,
          0.49999999999999994,
          0.4166666666666667,
          0.3333333333333332,
          0.12499999999999997,
          0.08333333333333329,
          "",
          0,
          "",
          "",
          "",
          "",
          "",
          "",
          ""
         ]
        },
        {
         "line": {
          "color": "rgba(255, 153, 51, 0.7999999999999998)",
          "dash": "solid",
          "shape": "linear",
          "width": 1.3
         },
         "mode": "lines",
         "name": "73.951796",
         "text": "",
         "type": "scatter",
         "x": [
          0,
          30,
          31,
          32,
          33,
          34,
          35,
          36,
          37,
          38,
          39,
          40,
          41,
          42,
          44,
          45
         ],
         "y": [
          1,
          0.7380952380952384,
          0.5416666666666666,
          0.3928571428571428,
          0.27976190476190477,
          0.11904761904761905,
          0.047619047619047616,
          0.02976190476190477,
          0.017857142857142867,
          0.011904761904761908,
          0,
          "",
          "",
          "",
          "",
          ""
         ]
        },
        {
         "line": {
          "color": "rgba(55, 128, 191, 0.7999999999999998)",
          "dash": "solid",
          "shape": "linear",
          "width": 1.3
         },
         "mode": "lines",
         "name": "94.821628",
         "text": "",
         "type": "scatter",
         "x": [
          0,
          30,
          31,
          32,
          33,
          34,
          35,
          36,
          37,
          38,
          39,
          40,
          41,
          42,
          44,
          45
         ],
         "y": [
          1,
          0.7777777777777776,
          0.6666666666666665,
          0.3333333333333333,
          0.2222222222222222,
          "",
          "",
          0.11111111111111109,
          0,
          "",
          "",
          "",
          "",
          "",
          "",
          ""
         ]
        },
        {
         "line": {
          "color": "rgba(50, 171, 96, 0.7999999999999998)",
          "dash": "solid",
          "shape": "linear",
          "width": 1.3
         },
         "mode": "lines",
         "name": "73.044412",
         "text": "",
         "type": "scatter",
         "x": [
          0,
          30,
          31,
          32,
          33,
          34,
          35,
          36,
          37,
          38,
          39,
          40,
          41,
          42,
          44,
          45
         ],
         "y": [
          1,
          0.7257142857142853,
          0.47428571428571425,
          0.30285714285714277,
          0.15999999999999992,
          0.07428571428571426,
          0.03999999999999999,
          0.01714285714285714,
          0.011428571428571425,
          0.005714285714285712,
          "",
          "",
          0,
          "",
          "",
          ""
         ]
        },
        {
         "line": {
          "color": "rgba(128, 0, 128, 0.7999999999999998)",
          "dash": "solid",
          "shape": "linear",
          "width": 1.3
         },
         "mode": "lines",
         "name": "68.961184",
         "text": "",
         "type": "scatter",
         "x": [
          0,
          30,
          31,
          32,
          33,
          34,
          35,
          36,
          37,
          38,
          39,
          40,
          41,
          42,
          44,
          45
         ],
         "y": [
          1,
          0.7469879518072288,
          0.5662650602409636,
          0.3493975903614457,
          0.253012048192771,
          0.072289156626506,
          "",
          0.012048192771084333,
          "",
          "",
          "",
          0,
          "",
          "",
          "",
          ""
         ]
        },
        {
         "line": {
          "color": "rgba(219, 64, 82, 0.7999999999999998)",
          "dash": "solid",
          "shape": "linear",
          "width": 1.3
         },
         "mode": "lines",
         "name": "71.229644",
         "text": "",
         "type": "scatter",
         "x": [
          0,
          30,
          31,
          32,
          33,
          34,
          35,
          36,
          37,
          38,
          39,
          40,
          41,
          42,
          44,
          45
         ],
         "y": [
          1,
          0.630630630630631,
          0.47747747747747765,
          0.3153153153153153,
          0.18918918918918923,
          0.09909909909909913,
          0.09009009009009013,
          0.045045045045045064,
          0.018018018018018025,
          0.00900900900900901,
          "",
          0,
          "",
          "",
          "",
          ""
         ]
        },
        {
         "line": {
          "color": "rgba(0, 128, 128, 0.7999999999999998)",
          "dash": "solid",
          "shape": "linear",
          "width": 1.3
         },
         "mode": "lines",
         "name": "93.00686",
         "text": "",
         "type": "scatter",
         "x": [
          0,
          30,
          31,
          32,
          33,
          34,
          35,
          36,
          37,
          38,
          39,
          40,
          41,
          42,
          44,
          45
         ],
         "y": [
          1,
          0.7,
          0.5000000000000002,
          0.39999999999999997,
          0.25,
          0.15000000000000002,
          0.05000000000000001,
          0,
          "",
          "",
          "",
          "",
          "",
          "",
          "",
          ""
         ]
        },
        {
         "line": {
          "color": "rgba(255, 255, 51, 0.7999999999999998)",
          "dash": "solid",
          "shape": "linear",
          "width": 1.3
         },
         "mode": "lines",
         "name": "87.108864",
         "text": "",
         "type": "scatter",
         "x": [
          0,
          30,
          31,
          32,
          33,
          34,
          35,
          36,
          37,
          38,
          39,
          40,
          41,
          42,
          44,
          45
         ],
         "y": [
          1,
          0.7812500000000002,
          0.5937500000000001,
          0.37500000000000017,
          0.2656250000000001,
          0.17187500000000008,
          0.09375000000000003,
          0.046875000000000035,
          0.015625000000000007,
          0,
          "",
          "",
          "",
          "",
          "",
          ""
         ]
        },
        {
         "line": {
          "color": "rgba(128, 128, 0, 0.7999999999999998)",
          "dash": "solid",
          "shape": "linear",
          "width": 1.3
         },
         "mode": "lines",
         "name": "88.01624799999998",
         "text": "",
         "type": "scatter",
         "x": [
          0,
          30,
          31,
          32,
          33,
          34,
          35,
          36,
          37,
          38,
          39,
          40,
          41,
          42,
          44,
          45
         ],
         "y": [
          1,
          0.7638888888888891,
          0.5694444444444445,
          0.4166666666666667,
          0.34722222222222215,
          0.24999999999999994,
          0.13888888888888892,
          0.055555555555555566,
          0.02777777777777778,
          0.013888888888888888,
          0,
          "",
          "",
          "",
          "",
          ""
         ]
        },
        {
         "line": {
          "color": "rgba(128, 128, 0, 0.7)",
          "dash": "solid",
          "shape": "linear",
          "width": 1.3
         },
         "mode": "lines",
         "name": "63.063188000000004",
         "text": "",
         "type": "scatter",
         "x": [
          0,
          30,
          31,
          32,
          33,
          34,
          35,
          36,
          37,
          38,
          39,
          40,
          41,
          42,
          44,
          45
         ],
         "y": [
          1,
          0.5599999999999999,
          0.4000000000000002,
          0.28,
          0.16000000000000003,
          0.08000000000000002,
          0,
          "",
          "",
          "",
          "",
          "",
          "",
          "",
          "",
          ""
         ]
        },
        {
         "line": {
          "color": "rgba(251, 128, 114, 0.7)",
          "dash": "solid",
          "shape": "linear",
          "width": 1.3
         },
         "mode": "lines",
         "name": "64.87795600000001",
         "text": "",
         "type": "scatter",
         "x": [
          0,
          30,
          31,
          32,
          33,
          34,
          35,
          36,
          37,
          38,
          39,
          40,
          41,
          42,
          44,
          45
         ],
         "y": [
          1,
          0.596153846153846,
          0.4038461538461538,
          0.3076923076923076,
          0.19230769230769232,
          0.17307692307692307,
          0.0961538461538461,
          0.057692307692307675,
          0.019230769230769218,
          0,
          "",
          "",
          "",
          "",
          "",
          ""
         ]
        },
        {
         "line": {
          "color": "rgba(128, 177, 211, 0.7)",
          "dash": "solid",
          "shape": "linear",
          "width": 1.3
         },
         "mode": "lines",
         "name": "63.970572",
         "text": "",
         "type": "scatter",
         "x": [
          0,
          30,
          31,
          32,
          33,
          34,
          35,
          36,
          37,
          38,
          39,
          40,
          41,
          42,
          44,
          45
         ],
         "y": [
          1,
          0.6363636363636364,
          0.5454545454545454,
          0.3030303030303031,
          0.2121212121212121,
          0.06060606060606059,
          "",
          0,
          "",
          "",
          "",
          "",
          "",
          "",
          "",
          ""
         ]
        },
        {
         "line": {
          "color": "rgba(255, 153, 51, 0.7)",
          "dash": "solid",
          "shape": "linear",
          "width": 1.3
         },
         "mode": "lines",
         "name": "76.22025599999998",
         "text": "",
         "type": "scatter",
         "x": [
          0,
          30,
          31,
          32,
          33,
          34,
          35,
          36,
          37,
          38,
          39,
          40,
          41,
          42,
          44,
          45
         ],
         "y": [
          1,
          0.7261146496815291,
          0.496815286624204,
          0.36305732484076453,
          0.2675159235668791,
          0.15923566878980894,
          0.11464968152866244,
          0.08280254777070066,
          0.03821656050955415,
          0.025477707006369442,
          0.01273885350318472,
          0,
          "",
          "",
          "",
          ""
         ]
        },
        {
         "line": {
          "color": "rgba(55, 128, 191, 0.7)",
          "dash": "solid",
          "shape": "linear",
          "width": 1.3
         },
         "mode": "lines",
         "name": "59.88734399999999",
         "text": "",
         "type": "scatter",
         "x": [
          0,
          30,
          31,
          32,
          33,
          34,
          35,
          36,
          37,
          38,
          39,
          40,
          41,
          42,
          44,
          45
         ],
         "y": [
          1,
          0.7333333333333334,
          0.6666666666666669,
          0.2,
          0.06666666666666667,
          0,
          "",
          "",
          "",
          "",
          "",
          "",
          "",
          "",
          "",
          ""
         ]
        },
        {
         "line": {
          "color": "rgba(50, 171, 96, 0.7)",
          "dash": "solid",
          "shape": "linear",
          "width": 1.3
         },
         "mode": "lines",
         "name": "62.155804",
         "text": "",
         "type": "scatter",
         "x": [
          0,
          30,
          31,
          32,
          33,
          34,
          35,
          36,
          37,
          38,
          39,
          40,
          41,
          42,
          44,
          45
         ],
         "y": [
          1,
          0.5625000000000001,
          0.49999999999999994,
          0.375,
          0.18750000000000003,
          0,
          "",
          "",
          "",
          "",
          "",
          "",
          "",
          "",
          "",
          ""
         ]
        },
        {
         "line": {
          "color": "rgba(128, 0, 128, 0.7)",
          "dash": "solid",
          "shape": "linear",
          "width": 1.3
         },
         "mode": "lines",
         "name": "57.165192000000005",
         "text": "",
         "type": "scatter",
         "x": [
          0,
          30,
          31,
          32,
          33,
          34,
          35,
          36,
          37,
          38,
          39,
          40,
          41,
          42,
          44,
          45
         ],
         "y": [
          1,
          0,
          "",
          "",
          "",
          "",
          "",
          "",
          "",
          "",
          "",
          "",
          "",
          "",
          "",
          ""
         ]
        },
        {
         "line": {
          "color": "rgba(219, 64, 82, 0.7)",
          "dash": "solid",
          "shape": "linear",
          "width": 1.3
         },
         "mode": "lines",
         "name": "97.090088",
         "text": "",
         "type": "scatter",
         "x": [
          0,
          30,
          31,
          32,
          33,
          34,
          35,
          36,
          37,
          38,
          39,
          40,
          41,
          42,
          44,
          45
         ],
         "y": [
          1,
          0.7500000000000001,
          0.25,
          "",
          "",
          "",
          "",
          "",
          "",
          "",
          "",
          0,
          "",
          "",
          "",
          ""
         ]
        },
        {
         "line": {
          "color": "rgba(0, 128, 128, 0.7)",
          "dash": "solid",
          "shape": "linear",
          "width": 1.3
         },
         "mode": "lines",
         "name": "55.804116",
         "text": "",
         "type": "scatter",
         "x": [
          0,
          30,
          31,
          32,
          33,
          34,
          35,
          36,
          37,
          38,
          39,
          40,
          41,
          42,
          44,
          45
         ],
         "y": [
          1,
          "",
          0,
          "",
          "",
          "",
          "",
          "",
          "",
          "",
          "",
          "",
          "",
          "",
          "",
          ""
         ]
        },
        {
         "line": {
          "color": "rgba(255, 255, 51, 0.7)",
          "dash": "solid",
          "shape": "linear",
          "width": 1.3
         },
         "mode": "lines",
         "name": "101.173316",
         "text": "",
         "type": "scatter",
         "x": [
          0,
          30,
          31,
          32,
          33,
          34,
          35,
          36,
          37,
          38,
          39,
          40,
          41,
          42,
          44,
          45
         ],
         "y": [
          1,
          "",
          0.5,
          "",
          "",
          0,
          "",
          "",
          "",
          "",
          "",
          "",
          "",
          "",
          "",
          ""
         ]
        },
        {
         "line": {
          "color": "rgba(255, 255, 51, 0.5999999999999999)",
          "dash": "solid",
          "shape": "linear",
          "width": 1.3
         },
         "mode": "lines",
         "name": "98.90485600000001",
         "text": "",
         "type": "scatter",
         "x": [
          0,
          30,
          31,
          32,
          33,
          34,
          35,
          36,
          37,
          38,
          39,
          40,
          41,
          42,
          44,
          45
         ],
         "y": [
          1,
          "",
          "",
          0.5,
          0,
          "",
          "",
          "",
          "",
          "",
          "",
          "",
          "",
          "",
          "",
          ""
         ]
        },
        {
         "line": {
          "color": "rgba(128, 128, 0, 0.5999999999999999)",
          "dash": "solid",
          "shape": "linear",
          "width": 1.3
         },
         "mode": "lines",
         "name": "96.182704",
         "text": "",
         "type": "scatter",
         "x": [
          0,
          30,
          31,
          32,
          33,
          34,
          35,
          36,
          37,
          38,
          39,
          40,
          41,
          42,
          44,
          45
         ],
         "y": [
          1,
          0.8571428571428572,
          0.5714285714285714,
          0.42857142857142866,
          0.2857142857142857,
          0.14285714285714285,
          "",
          "",
          0,
          "",
          "",
          "",
          "",
          "",
          "",
          ""
         ]
        },
        {
         "line": {
          "color": "rgba(251, 128, 114, 0.5999999999999999)",
          "dash": "solid",
          "shape": "linear",
          "width": 1.3
         },
         "mode": "lines",
         "name": "58.97996",
         "text": "",
         "type": "scatter",
         "x": [
          0,
          30,
          31,
          32,
          33,
          34,
          35,
          36,
          37,
          38,
          39,
          40,
          41,
          42,
          44,
          45
         ],
         "y": [
          1,
          "",
          0.6666666666666666,
          0.3333333333333333,
          "",
          0,
          "",
          "",
          "",
          "",
          "",
          "",
          "",
          "",
          "",
          ""
         ]
        },
        {
         "line": {
          "color": "rgba(128, 177, 211, 0.5999999999999999)",
          "dash": "solid",
          "shape": "linear",
          "width": 1.3
         },
         "mode": "lines",
         "name": "107.071312",
         "text": "",
         "type": "scatter",
         "x": [
          0,
          30,
          31,
          32,
          33,
          34,
          35,
          36,
          37,
          38,
          39,
          40,
          41,
          42,
          44,
          45
         ],
         "y": [
          1,
          "",
          0,
          "",
          "",
          "",
          "",
          "",
          "",
          "",
          "",
          "",
          "",
          "",
          "",
          ""
         ]
        },
        {
         "line": {
          "color": "rgba(255, 153, 51, 0.5999999999999999)",
          "dash": "solid",
          "shape": "linear",
          "width": 1.3
         },
         "mode": "lines",
         "name": "103.89546800000001",
         "text": "",
         "type": "scatter",
         "x": [
          0,
          30,
          31,
          32,
          33,
          34,
          35,
          36,
          37,
          38,
          39,
          40,
          41,
          42,
          44,
          45
         ],
         "y": [
          1,
          "",
          "",
          "",
          0,
          "",
          "",
          "",
          "",
          "",
          "",
          "",
          "",
          "",
          "",
          ""
         ]
        },
        {
         "line": {
          "color": "rgba(55, 128, 191, 0.5999999999999999)",
          "dash": "solid",
          "shape": "linear",
          "width": 1.3
         },
         "mode": "lines",
         "name": "110.247156",
         "text": "",
         "type": "scatter",
         "x": [
          0,
          30,
          31,
          32,
          33,
          34,
          35,
          36,
          37,
          38,
          39,
          40,
          41,
          42,
          44,
          45
         ],
         "y": [
          1,
          "",
          "",
          "",
          "",
          "",
          "",
          0,
          "",
          "",
          "",
          "",
          "",
          "",
          "",
          ""
         ]
        },
        {
         "line": {
          "color": "rgba(50, 171, 96, 0.5999999999999999)",
          "dash": "solid",
          "shape": "linear",
          "width": 1.3
         },
         "mode": "lines",
         "name": "58.072576",
         "text": "",
         "type": "scatter",
         "x": [
          0,
          30,
          31,
          32,
          33,
          34,
          35,
          36,
          37,
          38,
          39,
          40,
          41,
          42,
          44,
          45
         ],
         "y": [
          1,
          "",
          0,
          "",
          "",
          "",
          "",
          "",
          "",
          "",
          "",
          "",
          "",
          "",
          "",
          ""
         ]
        },
        {
         "line": {
          "color": "rgba(128, 0, 128, 0.5999999999999999)",
          "dash": "solid",
          "shape": "linear",
          "width": 1.3
         },
         "mode": "lines",
         "name": "102.988084",
         "text": "",
         "type": "scatter",
         "x": [
          0,
          30,
          31,
          32,
          33,
          34,
          35,
          36,
          37,
          38,
          39,
          40,
          41,
          42,
          44,
          45
         ],
         "y": [
          1,
          "",
          0,
          "",
          "",
          "",
          "",
          "",
          "",
          "",
          "",
          "",
          "",
          "",
          "",
          ""
         ]
        },
        {
         "line": {
          "color": "rgba(219, 64, 82, 0.5999999999999999)",
          "dash": "solid",
          "shape": "linear",
          "width": 1.3
         },
         "mode": "lines",
         "name": "76.673948",
         "text": "",
         "type": "scatter",
         "x": [
          0,
          30,
          31,
          32,
          33,
          34,
          35,
          36,
          37,
          38,
          39,
          40,
          41,
          42,
          44,
          45
         ],
         "y": [
          1,
          0.8333333333333333,
          0.6666666666666666,
          "",
          0.5000000000000001,
          0.33333333333333337,
          0.16666666666666669,
          "",
          0,
          "",
          "",
          "",
          "",
          "",
          "",
          ""
         ]
        },
        {
         "line": {
          "color": "rgba(0, 128, 128, 0.5999999999999999)",
          "dash": "solid",
          "shape": "linear",
          "width": 1.3
         },
         "mode": "lines",
         "name": "106.163928",
         "text": "",
         "type": "scatter",
         "x": [
          0,
          30,
          31,
          32,
          33,
          34,
          35,
          36,
          37,
          38,
          39,
          40,
          41,
          42,
          44,
          45
         ],
         "y": [
          1,
          "",
          "",
          "",
          "",
          0,
          "",
          "",
          "",
          "",
          "",
          "",
          "",
          "",
          "",
          ""
         ]
        }
       ],
       "layout": {
        "legend": {
         "bgcolor": "#F5F6F9",
         "font": {
          "color": "#4D5663"
         }
        },
        "paper_bgcolor": "#F5F6F9",
        "plot_bgcolor": "#F5F6F9",
        "template": {
         "data": {
          "scatter": [
           {
            "type": "scatter"
           }
          ]
         }
        },
        "title": {
         "font": {
          "color": "#4D5663"
         },
         "text": "Años de carrera profesional según el peso"
        },
        "xaxis": {
         "gridcolor": "#E1E5ED",
         "showgrid": true,
         "tickfont": {
          "color": "#4D5663"
         },
         "title": {
          "font": {
           "color": "#4D5663"
          },
          "text": "Años"
         },
         "zerolinecolor": "#E1E5ED"
        },
        "yaxis": {
         "gridcolor": "#E1E5ED",
         "showgrid": true,
         "tickfont": {
          "color": "#4D5663"
         },
         "title": {
          "font": {
           "color": "#4D5663"
          },
          "text": "Tasa de retiro"
         },
         "zerolinecolor": "#E1E5ED"
        }
       }
      },
      "text/html": [
       "<div>\n",
       "        \n",
       "        \n",
       "            <div id=\"07700ebf-bf14-4dab-b667-fcd32e424be4\" class=\"plotly-graph-div\" style=\"height:525px; width:100%;\"></div>\n",
       "            <script type=\"text/javascript\">\n",
       "                require([\"plotly\"], function(Plotly) {\n",
       "                    window.PLOTLYENV=window.PLOTLYENV || {};\n",
       "                    window.PLOTLYENV.BASE_URL='https://plot.ly';\n",
       "                    \n",
       "                if (document.getElementById(\"07700ebf-bf14-4dab-b667-fcd32e424be4\")) {\n",
       "                    Plotly.newPlot(\n",
       "                        '07700ebf-bf14-4dab-b667-fcd32e424be4',\n",
       "                        [{\"line\": {\"color\": \"rgba(255, 153, 51, 1.0)\", \"dash\": \"solid\", \"shape\": \"linear\", \"width\": 1.3}, \"mode\": \"lines\", \"name\": \"72.137028\", \"text\": \"\", \"type\": \"scatter\", \"x\": [0.0, 30.0, 31.0, 32.0, 33.0, 34.0, 35.0, 36.0, 37.0, 38.0, 39.0, 40.0, 41.0, 42.0, 44.0, 45.0], \"y\": [1.0, 0.7687499999999999, 0.5437500000000002, 0.36250000000000004, 0.2875000000000001, 0.16875000000000007, 0.09375000000000003, 0.04375000000000002, 0.031250000000000014, 0.012500000000000006, 0.0, \"\", \"\", \"\", \"\", \"\"]}, {\"line\": {\"color\": \"rgba(55, 128, 191, 1.0)\", \"dash\": \"solid\", \"shape\": \"linear\", \"width\": 1.3}, \"mode\": \"lines\", \"name\": \"83.02563599999998\", \"text\": \"\", \"type\": \"scatter\", \"x\": [0.0, 30.0, 31.0, 32.0, 33.0, 34.0, 35.0, 36.0, 37.0, 38.0, 39.0, 40.0, 41.0, 42.0, 44.0, 45.0], \"y\": [1.0, 0.7966101694915251, 0.6186440677966099, 0.4661016949152542, 0.3389830508474575, 0.16101694915254228, 0.0847457627118644, 0.033898305084745756, \"\", 0.02542372881355932, 0.008474576271186437, \"\", 0.0, \"\", \"\", \"\"]}, {\"line\": {\"color\": \"rgba(50, 171, 96, 1.0)\", \"dash\": \"solid\", \"shape\": \"linear\", \"width\": 1.3}, \"mode\": \"lines\", \"name\": \"66.239032\", \"text\": \"\", \"type\": \"scatter\", \"x\": [0.0, 30.0, 31.0, 32.0, 33.0, 34.0, 35.0, 36.0, 37.0, 38.0, 39.0, 40.0, 41.0, 42.0, 44.0, 45.0], \"y\": [1.0, 0.6590909090909093, 0.43181818181818177, 0.3181818181818182, 0.22727272727272735, 0.13636363636363638, 0.0909090909090909, 0.06818181818181818, 0.0, \"\", \"\", \"\", \"\", \"\", \"\", \"\"]}, {\"line\": {\"color\": \"rgba(128, 0, 128, 1.0)\", \"dash\": \"solid\", \"shape\": \"linear\", \"width\": 1.3}, \"mode\": \"lines\", \"name\": \"86.20148\", \"text\": \"\", \"type\": \"scatter\", \"x\": [0.0, 30.0, 31.0, 32.0, 33.0, 34.0, 35.0, 36.0, 37.0, 38.0, 39.0, 40.0, 41.0, 42.0, 44.0, 45.0], \"y\": [1.0, 0.764044943820225, 0.5280898876404495, 0.35955056179775285, 0.24719101123595516, 0.17977528089887643, 0.1123595505617978, 0.10112359550561802, 0.06741573033707866, 0.04494382022471912, 0.033707865168539346, 0.011235955056179777, \"\", \"\", 0.0, \"\"]}, {\"line\": {\"color\": \"rgba(219, 64, 82, 1.0)\", \"dash\": \"solid\", \"shape\": \"linear\", \"width\": 1.3}, \"mode\": \"lines\", \"name\": \"82.118252\", \"text\": \"\", \"type\": \"scatter\", \"x\": [0.0, 30.0, 31.0, 32.0, 33.0, 34.0, 35.0, 36.0, 37.0, 38.0, 39.0, 40.0, 41.0, 42.0, 44.0, 45.0], \"y\": [1.0, 0.7913669064748207, 0.5971223021582738, 0.4028776978417269, 0.2446043165467627, 0.12230215827338134, 0.07913669064748205, 0.05035971223021585, 0.007194244604316549, \"\", 0.0, \"\", \"\", \"\", \"\", \"\"]}, {\"line\": {\"color\": \"rgba(0, 128, 128, 1.0)\", \"dash\": \"solid\", \"shape\": \"linear\", \"width\": 1.3}, \"mode\": \"lines\", \"name\": \"78.03502399999998\", \"text\": \"\", \"type\": \"scatter\", \"x\": [0.0, 30.0, 31.0, 32.0, 33.0, 34.0, 35.0, 36.0, 37.0, 38.0, 39.0, 40.0, 41.0, 42.0, 44.0, 45.0], \"y\": [1.0, 0.693693693693694, 0.5045045045045043, 0.3558558558558559, 0.27477477477477485, 0.13063063063063066, 0.09009009009009009, 0.058558558558558564, 0.02252252252252253, 0.018018018018018025, 0.00900900900900901, 0.0, \"\", \"\", \"\", \"\"]}, {\"line\": {\"color\": \"rgba(255, 255, 51, 1.0)\", \"dash\": \"solid\", \"shape\": \"linear\", \"width\": 1.3}, \"mode\": \"lines\", \"name\": \"67.146416\", \"text\": \"\", \"type\": \"scatter\", \"x\": [0.0, 30.0, 31.0, 32.0, 33.0, 34.0, 35.0, 36.0, 37.0, 38.0, 39.0, 40.0, 41.0, 42.0, 44.0, 45.0], \"y\": [1.0, 0.7031250000000001, 0.48437500000000017, 0.29687500000000006, 0.15625000000000008, 0.06250000000000003, \"\", 0.015625000000000007, \"\", 0.0, \"\", \"\", \"\", \"\", \"\", \"\"]}, {\"line\": {\"color\": \"rgba(128, 128, 0, 1.0)\", \"dash\": \"solid\", \"shape\": \"linear\", \"width\": 1.3}, \"mode\": \"lines\", \"name\": \"77.12764\", \"text\": \"\", \"type\": \"scatter\", \"x\": [0.0, 30.0, 31.0, 32.0, 33.0, 34.0, 35.0, 36.0, 37.0, 38.0, 39.0, 40.0, 41.0, 42.0, 44.0, 45.0], \"y\": [1.0, 0.7441860465116279, 0.5348837209302328, 0.3488372093023256, 0.22093023255813957, 0.1046511627906977, 0.06395348837209305, 0.034883720930232565, 0.011627906976744191, 0.005813953488372095, 0.0, \"\", \"\", \"\", \"\", \"\"]}, {\"line\": {\"color\": \"rgba(251, 128, 114, 1.0)\", \"dash\": \"solid\", \"shape\": \"linear\", \"width\": 1.3}, \"mode\": \"lines\", \"name\": \"92.099476\", \"text\": \"\", \"type\": \"scatter\", \"x\": [0.0, 30.0, 31.0, 32.0, 33.0, 34.0, 35.0, 36.0, 37.0, 38.0, 39.0, 40.0, 41.0, 42.0, 44.0, 45.0], \"y\": [1.0, 0.7941176470588235, 0.6176470588235293, 0.4117647058823528, 0.29411764705882354, \"\", 0.14705882352941171, 0.0588235294117647, \"\", 0.02941176470588235, \"\", 0.0, \"\", \"\", \"\", \"\"]}, {\"line\": {\"color\": \"rgba(128, 177, 211, 1.0)\", \"dash\": \"solid\", \"shape\": \"linear\", \"width\": 1.3}, \"mode\": \"lines\", \"name\": \"69.86856800000001\", \"text\": \"\", \"type\": \"scatter\", \"x\": [0.0, 30.0, 31.0, 32.0, 33.0, 34.0, 35.0, 36.0, 37.0, 38.0, 39.0, 40.0, 41.0, 42.0, 44.0, 45.0], \"y\": [1.0, 0.7311827956989246, 0.5053763440860213, 0.3548387096774191, 0.22580645161290316, 0.1397849462365591, 0.06451612903225803, 0.04301075268817202, 0.016129032258064516, 0.010752688172043006, 0.005376344086021503, \"\", 0.0, \"\", \"\", \"\"]}, {\"line\": {\"color\": \"rgba(128, 177, 211, 0.8999999999999999)\", \"dash\": \"solid\", \"shape\": \"linear\", \"width\": 1.3}, \"mode\": \"lines\", \"name\": \"84.84040399999998\", \"text\": \"\", \"type\": \"scatter\", \"x\": [0.0, 30.0, 31.0, 32.0, 33.0, 34.0, 35.0, 36.0, 37.0, 38.0, 39.0, 40.0, 41.0, 42.0, 44.0, 45.0], \"y\": [1.0, 0.7479674796747972, 0.5284552845528456, 0.38211382113821146, 0.23577235772357735, 0.1463414634146342, 0.11382113821138214, 0.07317073170731712, 0.05691056910569109, 0.03252032520325205, 0.008130081300813012, \"\", 0.0, \"\", \"\", \"\"]}, {\"line\": {\"color\": \"rgba(255, 153, 51, 0.8999999999999999)\", \"dash\": \"solid\", \"shape\": \"linear\", \"width\": 1.3}, \"mode\": \"lines\", \"name\": \"79.84979200000001\", \"text\": \"\", \"type\": \"scatter\", \"x\": [0.0, 30.0, 31.0, 32.0, 33.0, 34.0, 35.0, 36.0, 37.0, 38.0, 39.0, 40.0, 41.0, 42.0, 44.0, 45.0], \"y\": [1.0, 0.7524271844660194, 0.5631067961165047, 0.3398058252427185, 0.24757281553398053, 0.1262135922330097, 0.06796116504854366, 0.043689320388349516, 0.029126213592233004, 0.009708737864077669, 0.004854368932038834, \"\", \"\", 0.0, \"\", \"\"]}, {\"line\": {\"color\": \"rgba(55, 128, 191, 0.8999999999999999)\", \"dash\": \"solid\", \"shape\": \"linear\", \"width\": 1.3}, \"mode\": \"lines\", \"name\": \"88.923632\", \"text\": \"\", \"type\": \"scatter\", \"x\": [0.0, 30.0, 31.0, 32.0, 33.0, 34.0, 35.0, 36.0, 37.0, 38.0, 39.0, 40.0, 41.0, 42.0, 44.0, 45.0], \"y\": [1.0, 0.7916666666666664, 0.6458333333333333, 0.5208333333333331, 0.4166666666666665, 0.24999999999999994, 0.1666666666666666, 0.12499999999999997, 0.06249999999999998, 0.041666666666666644, 0.02083333333333332, 0.0, \"\", \"\", \"\", \"\"]}, {\"line\": {\"color\": \"rgba(50, 171, 96, 0.8999999999999999)\", \"dash\": \"solid\", \"shape\": \"linear\", \"width\": 1.3}, \"mode\": \"lines\", \"name\": \"60.794728000000006\", \"text\": \"\", \"type\": \"scatter\", \"x\": [0.0, 30.0, 31.0, 32.0, 33.0, 34.0, 35.0, 36.0, 37.0, 38.0, 39.0, 40.0, 41.0, 42.0, 44.0, 45.0], \"y\": [1.0, 0.7999999999999997, 0.3999999999999999, 0.09999999999999998, \"\", \"\", 0.0, \"\", \"\", \"\", \"\", \"\", \"\", \"\", \"\", \"\"]}, {\"line\": {\"color\": \"rgba(128, 0, 128, 0.8999999999999999)\", \"dash\": \"solid\", \"shape\": \"linear\", \"width\": 1.3}, \"mode\": \"lines\", \"name\": \"78.942408\", \"text\": \"\", \"type\": \"scatter\", \"x\": [0.0, 30.0, 31.0, 32.0, 33.0, 34.0, 35.0, 36.0, 37.0, 38.0, 39.0, 40.0, 41.0, 42.0, 44.0, 45.0], \"y\": [1.0, 0.7621951219512195, 0.5914634146341462, 0.426829268292683, 0.2560975609756097, 0.14024390243902435, 0.0792682926829268, 0.024390243902439022, 0.006097560975609754, 0.0, \"\", \"\", \"\", \"\", \"\", \"\"]}, {\"line\": {\"color\": \"rgba(219, 64, 82, 0.8999999999999999)\", \"dash\": \"solid\", \"shape\": \"linear\", \"width\": 1.3}, \"mode\": \"lines\", \"name\": \"93.914244\", \"text\": \"\", \"type\": \"scatter\", \"x\": [0.0, 30.0, 31.0, 32.0, 33.0, 34.0, 35.0, 36.0, 37.0, 38.0, 39.0, 40.0, 41.0, 42.0, 44.0, 45.0], \"y\": [1.0, 0.8461538461538463, 0.6923076923076924, 0.3846153846153846, 0.30769230769230765, \"\", 0.15384615384615385, 0.0, \"\", \"\", \"\", \"\", \"\", \"\", \"\", \"\"]}, {\"line\": {\"color\": \"rgba(0, 128, 128, 0.8999999999999999)\", \"dash\": \"solid\", \"shape\": \"linear\", \"width\": 1.3}, \"mode\": \"lines\", \"name\": \"68.0538\", \"text\": \"\", \"type\": \"scatter\", \"x\": [0.0, 30.0, 31.0, 32.0, 33.0, 34.0, 35.0, 36.0, 37.0, 38.0, 39.0, 40.0, 41.0, 42.0, 44.0, 45.0], \"y\": [1.0, 0.7373737373737373, 0.45454545454545453, 0.34343434343434354, 0.23232323232323235, 0.13131313131313133, 0.05050505050505052, 0.040404040404040414, 0.030303030303030318, 0.010101010101010102, 0.0, \"\", \"\", \"\", \"\", \"\"]}, {\"line\": {\"color\": \"rgba(255, 255, 51, 0.8999999999999999)\", \"dash\": \"solid\", \"shape\": \"linear\", \"width\": 1.3}, \"mode\": \"lines\", \"name\": \"81.21086799999998\", \"text\": \"\", \"type\": \"scatter\", \"x\": [0.0, 30.0, 31.0, 32.0, 33.0, 34.0, 35.0, 36.0, 37.0, 38.0, 39.0, 40.0, 41.0, 42.0, 44.0, 45.0], \"y\": [1.0, 0.7407407407407409, 0.5555555555555552, 0.40740740740740744, 0.3185185185185184, 0.19259259259259257, 0.1407407407407407, 0.05185185185185185, 0.014814814814814814, 0.007407407407407406, \"\", 0.0, \"\", \"\", \"\", \"\"]}, {\"line\": {\"color\": \"rgba(128, 128, 0, 0.8999999999999999)\", \"dash\": \"solid\", \"shape\": \"linear\", \"width\": 1.3}, \"mode\": \"lines\", \"name\": \"74.85918000000001\", \"text\": \"\", \"type\": \"scatter\", \"x\": [0.0, 30.0, 31.0, 32.0, 33.0, 34.0, 35.0, 36.0, 37.0, 38.0, 39.0, 40.0, 41.0, 42.0, 44.0, 45.0], \"y\": [1.0, 0.7462121212121213, 0.5416666666666666, 0.3977272727272727, 0.2651515151515153, 0.12121212121212123, 0.05681818181818183, 0.049242424242424254, 0.026515151515151523, 0.018939393939393947, 0.01136363636363637, 0.007575757575757578, 0.0037878787878787884, \"\", \"\", 0.0]}, {\"line\": {\"color\": \"rgba(251, 128, 114, 0.8999999999999999)\", \"dash\": \"solid\", \"shape\": \"linear\", \"width\": 1.3}, \"mode\": \"lines\", \"name\": \"83.93302\", \"text\": \"\", \"type\": \"scatter\", \"x\": [0.0, 30.0, 31.0, 32.0, 33.0, 34.0, 35.0, 36.0, 37.0, 38.0, 39.0, 40.0, 41.0, 42.0, 44.0, 45.0], \"y\": [1.0, 0.69, 0.5499999999999999, 0.3799999999999998, 0.24999999999999983, 0.16999999999999993, 0.11999999999999995, 0.07999999999999995, 0.03999999999999999, 0.019999999999999993, 0.009999999999999995, \"\", \"\", \"\", 0.0, \"\"]}, {\"line\": {\"color\": \"rgba(251, 128, 114, 0.7999999999999998)\", \"dash\": \"solid\", \"shape\": \"linear\", \"width\": 1.3}, \"mode\": \"lines\", \"name\": \"89.83101599999998\", \"text\": \"\", \"type\": \"scatter\", \"x\": [0.0, 30.0, 31.0, 32.0, 33.0, 34.0, 35.0, 36.0, 37.0, 38.0, 39.0, 40.0, 41.0, 42.0, 44.0, 45.0], \"y\": [1.0, 0.9038461538461535, 0.6346153846153845, 0.5192307692307692, 0.4038461538461538, 0.28846153846153844, 0.1538461538461538, 0.057692307692307675, \"\", 0.019230769230769218, 0.0, \"\", \"\", \"\", \"\", \"\"]}, {\"line\": {\"color\": \"rgba(128, 177, 211, 0.7999999999999998)\", \"dash\": \"solid\", \"shape\": \"linear\", \"width\": 1.3}, \"mode\": \"lines\", \"name\": \"91.192092\", \"text\": \"\", \"type\": \"scatter\", \"x\": [0.0, 30.0, 31.0, 32.0, 33.0, 34.0, 35.0, 36.0, 37.0, 38.0, 39.0, 40.0, 41.0, 42.0, 44.0, 45.0], \"y\": [1.0, 0.6666666666666665, 0.49999999999999994, 0.4166666666666667, 0.3333333333333332, 0.12499999999999997, 0.08333333333333329, \"\", 0.0, \"\", \"\", \"\", \"\", \"\", \"\", \"\"]}, {\"line\": {\"color\": \"rgba(255, 153, 51, 0.7999999999999998)\", \"dash\": \"solid\", \"shape\": \"linear\", \"width\": 1.3}, \"mode\": \"lines\", \"name\": \"73.951796\", \"text\": \"\", \"type\": \"scatter\", \"x\": [0.0, 30.0, 31.0, 32.0, 33.0, 34.0, 35.0, 36.0, 37.0, 38.0, 39.0, 40.0, 41.0, 42.0, 44.0, 45.0], \"y\": [1.0, 0.7380952380952384, 0.5416666666666666, 0.3928571428571428, 0.27976190476190477, 0.11904761904761905, 0.047619047619047616, 0.02976190476190477, 0.017857142857142867, 0.011904761904761908, 0.0, \"\", \"\", \"\", \"\", \"\"]}, {\"line\": {\"color\": \"rgba(55, 128, 191, 0.7999999999999998)\", \"dash\": \"solid\", \"shape\": \"linear\", \"width\": 1.3}, \"mode\": \"lines\", \"name\": \"94.821628\", \"text\": \"\", \"type\": \"scatter\", \"x\": [0.0, 30.0, 31.0, 32.0, 33.0, 34.0, 35.0, 36.0, 37.0, 38.0, 39.0, 40.0, 41.0, 42.0, 44.0, 45.0], \"y\": [1.0, 0.7777777777777776, 0.6666666666666665, 0.3333333333333333, 0.2222222222222222, \"\", \"\", 0.11111111111111109, 0.0, \"\", \"\", \"\", \"\", \"\", \"\", \"\"]}, {\"line\": {\"color\": \"rgba(50, 171, 96, 0.7999999999999998)\", \"dash\": \"solid\", \"shape\": \"linear\", \"width\": 1.3}, \"mode\": \"lines\", \"name\": \"73.044412\", \"text\": \"\", \"type\": \"scatter\", \"x\": [0.0, 30.0, 31.0, 32.0, 33.0, 34.0, 35.0, 36.0, 37.0, 38.0, 39.0, 40.0, 41.0, 42.0, 44.0, 45.0], \"y\": [1.0, 0.7257142857142853, 0.47428571428571425, 0.30285714285714277, 0.15999999999999992, 0.07428571428571426, 0.03999999999999999, 0.01714285714285714, 0.011428571428571425, 0.005714285714285712, \"\", \"\", 0.0, \"\", \"\", \"\"]}, {\"line\": {\"color\": \"rgba(128, 0, 128, 0.7999999999999998)\", \"dash\": \"solid\", \"shape\": \"linear\", \"width\": 1.3}, \"mode\": \"lines\", \"name\": \"68.961184\", \"text\": \"\", \"type\": \"scatter\", \"x\": [0.0, 30.0, 31.0, 32.0, 33.0, 34.0, 35.0, 36.0, 37.0, 38.0, 39.0, 40.0, 41.0, 42.0, 44.0, 45.0], \"y\": [1.0, 0.7469879518072288, 0.5662650602409636, 0.3493975903614457, 0.253012048192771, 0.072289156626506, \"\", 0.012048192771084333, \"\", \"\", \"\", 0.0, \"\", \"\", \"\", \"\"]}, {\"line\": {\"color\": \"rgba(219, 64, 82, 0.7999999999999998)\", \"dash\": \"solid\", \"shape\": \"linear\", \"width\": 1.3}, \"mode\": \"lines\", \"name\": \"71.229644\", \"text\": \"\", \"type\": \"scatter\", \"x\": [0.0, 30.0, 31.0, 32.0, 33.0, 34.0, 35.0, 36.0, 37.0, 38.0, 39.0, 40.0, 41.0, 42.0, 44.0, 45.0], \"y\": [1.0, 0.630630630630631, 0.47747747747747765, 0.3153153153153153, 0.18918918918918923, 0.09909909909909913, 0.09009009009009013, 0.045045045045045064, 0.018018018018018025, 0.00900900900900901, \"\", 0.0, \"\", \"\", \"\", \"\"]}, {\"line\": {\"color\": \"rgba(0, 128, 128, 0.7999999999999998)\", \"dash\": \"solid\", \"shape\": \"linear\", \"width\": 1.3}, \"mode\": \"lines\", \"name\": \"93.00686\", \"text\": \"\", \"type\": \"scatter\", \"x\": [0.0, 30.0, 31.0, 32.0, 33.0, 34.0, 35.0, 36.0, 37.0, 38.0, 39.0, 40.0, 41.0, 42.0, 44.0, 45.0], \"y\": [1.0, 0.7, 0.5000000000000002, 0.39999999999999997, 0.25, 0.15000000000000002, 0.05000000000000001, 0.0, \"\", \"\", \"\", \"\", \"\", \"\", \"\", \"\"]}, {\"line\": {\"color\": \"rgba(255, 255, 51, 0.7999999999999998)\", \"dash\": \"solid\", \"shape\": \"linear\", \"width\": 1.3}, \"mode\": \"lines\", \"name\": \"87.108864\", \"text\": \"\", \"type\": \"scatter\", \"x\": [0.0, 30.0, 31.0, 32.0, 33.0, 34.0, 35.0, 36.0, 37.0, 38.0, 39.0, 40.0, 41.0, 42.0, 44.0, 45.0], \"y\": [1.0, 0.7812500000000002, 0.5937500000000001, 0.37500000000000017, 0.2656250000000001, 0.17187500000000008, 0.09375000000000003, 0.046875000000000035, 0.015625000000000007, 0.0, \"\", \"\", \"\", \"\", \"\", \"\"]}, {\"line\": {\"color\": \"rgba(128, 128, 0, 0.7999999999999998)\", \"dash\": \"solid\", \"shape\": \"linear\", \"width\": 1.3}, \"mode\": \"lines\", \"name\": \"88.01624799999998\", \"text\": \"\", \"type\": \"scatter\", \"x\": [0.0, 30.0, 31.0, 32.0, 33.0, 34.0, 35.0, 36.0, 37.0, 38.0, 39.0, 40.0, 41.0, 42.0, 44.0, 45.0], \"y\": [1.0, 0.7638888888888891, 0.5694444444444445, 0.4166666666666667, 0.34722222222222215, 0.24999999999999994, 0.13888888888888892, 0.055555555555555566, 0.02777777777777778, 0.013888888888888888, 0.0, \"\", \"\", \"\", \"\", \"\"]}, {\"line\": {\"color\": \"rgba(128, 128, 0, 0.7)\", \"dash\": \"solid\", \"shape\": \"linear\", \"width\": 1.3}, \"mode\": \"lines\", \"name\": \"63.063188000000004\", \"text\": \"\", \"type\": \"scatter\", \"x\": [0.0, 30.0, 31.0, 32.0, 33.0, 34.0, 35.0, 36.0, 37.0, 38.0, 39.0, 40.0, 41.0, 42.0, 44.0, 45.0], \"y\": [1.0, 0.5599999999999999, 0.4000000000000002, 0.28, 0.16000000000000003, 0.08000000000000002, 0.0, \"\", \"\", \"\", \"\", \"\", \"\", \"\", \"\", \"\"]}, {\"line\": {\"color\": \"rgba(251, 128, 114, 0.7)\", \"dash\": \"solid\", \"shape\": \"linear\", \"width\": 1.3}, \"mode\": \"lines\", \"name\": \"64.87795600000001\", \"text\": \"\", \"type\": \"scatter\", \"x\": [0.0, 30.0, 31.0, 32.0, 33.0, 34.0, 35.0, 36.0, 37.0, 38.0, 39.0, 40.0, 41.0, 42.0, 44.0, 45.0], \"y\": [1.0, 0.596153846153846, 0.4038461538461538, 0.3076923076923076, 0.19230769230769232, 0.17307692307692307, 0.0961538461538461, 0.057692307692307675, 0.019230769230769218, 0.0, \"\", \"\", \"\", \"\", \"\", \"\"]}, {\"line\": {\"color\": \"rgba(128, 177, 211, 0.7)\", \"dash\": \"solid\", \"shape\": \"linear\", \"width\": 1.3}, \"mode\": \"lines\", \"name\": \"63.970572\", \"text\": \"\", \"type\": \"scatter\", \"x\": [0.0, 30.0, 31.0, 32.0, 33.0, 34.0, 35.0, 36.0, 37.0, 38.0, 39.0, 40.0, 41.0, 42.0, 44.0, 45.0], \"y\": [1.0, 0.6363636363636364, 0.5454545454545454, 0.3030303030303031, 0.2121212121212121, 0.06060606060606059, \"\", 0.0, \"\", \"\", \"\", \"\", \"\", \"\", \"\", \"\"]}, {\"line\": {\"color\": \"rgba(255, 153, 51, 0.7)\", \"dash\": \"solid\", \"shape\": \"linear\", \"width\": 1.3}, \"mode\": \"lines\", \"name\": \"76.22025599999998\", \"text\": \"\", \"type\": \"scatter\", \"x\": [0.0, 30.0, 31.0, 32.0, 33.0, 34.0, 35.0, 36.0, 37.0, 38.0, 39.0, 40.0, 41.0, 42.0, 44.0, 45.0], \"y\": [1.0, 0.7261146496815291, 0.496815286624204, 0.36305732484076453, 0.2675159235668791, 0.15923566878980894, 0.11464968152866244, 0.08280254777070066, 0.03821656050955415, 0.025477707006369442, 0.01273885350318472, 0.0, \"\", \"\", \"\", \"\"]}, {\"line\": {\"color\": \"rgba(55, 128, 191, 0.7)\", \"dash\": \"solid\", \"shape\": \"linear\", \"width\": 1.3}, \"mode\": \"lines\", \"name\": \"59.88734399999999\", \"text\": \"\", \"type\": \"scatter\", \"x\": [0.0, 30.0, 31.0, 32.0, 33.0, 34.0, 35.0, 36.0, 37.0, 38.0, 39.0, 40.0, 41.0, 42.0, 44.0, 45.0], \"y\": [1.0, 0.7333333333333334, 0.6666666666666669, 0.2, 0.06666666666666667, 0.0, \"\", \"\", \"\", \"\", \"\", \"\", \"\", \"\", \"\", \"\"]}, {\"line\": {\"color\": \"rgba(50, 171, 96, 0.7)\", \"dash\": \"solid\", \"shape\": \"linear\", \"width\": 1.3}, \"mode\": \"lines\", \"name\": \"62.155804\", \"text\": \"\", \"type\": \"scatter\", \"x\": [0.0, 30.0, 31.0, 32.0, 33.0, 34.0, 35.0, 36.0, 37.0, 38.0, 39.0, 40.0, 41.0, 42.0, 44.0, 45.0], \"y\": [1.0, 0.5625000000000001, 0.49999999999999994, 0.375, 0.18750000000000003, 0.0, \"\", \"\", \"\", \"\", \"\", \"\", \"\", \"\", \"\", \"\"]}, {\"line\": {\"color\": \"rgba(128, 0, 128, 0.7)\", \"dash\": \"solid\", \"shape\": \"linear\", \"width\": 1.3}, \"mode\": \"lines\", \"name\": \"57.165192000000005\", \"text\": \"\", \"type\": \"scatter\", \"x\": [0.0, 30.0, 31.0, 32.0, 33.0, 34.0, 35.0, 36.0, 37.0, 38.0, 39.0, 40.0, 41.0, 42.0, 44.0, 45.0], \"y\": [1.0, 0.0, \"\", \"\", \"\", \"\", \"\", \"\", \"\", \"\", \"\", \"\", \"\", \"\", \"\", \"\"]}, {\"line\": {\"color\": \"rgba(219, 64, 82, 0.7)\", \"dash\": \"solid\", \"shape\": \"linear\", \"width\": 1.3}, \"mode\": \"lines\", \"name\": \"97.090088\", \"text\": \"\", \"type\": \"scatter\", \"x\": [0.0, 30.0, 31.0, 32.0, 33.0, 34.0, 35.0, 36.0, 37.0, 38.0, 39.0, 40.0, 41.0, 42.0, 44.0, 45.0], \"y\": [1.0, 0.7500000000000001, 0.25, \"\", \"\", \"\", \"\", \"\", \"\", \"\", \"\", 0.0, \"\", \"\", \"\", \"\"]}, {\"line\": {\"color\": \"rgba(0, 128, 128, 0.7)\", \"dash\": \"solid\", \"shape\": \"linear\", \"width\": 1.3}, \"mode\": \"lines\", \"name\": \"55.804116\", \"text\": \"\", \"type\": \"scatter\", \"x\": [0.0, 30.0, 31.0, 32.0, 33.0, 34.0, 35.0, 36.0, 37.0, 38.0, 39.0, 40.0, 41.0, 42.0, 44.0, 45.0], \"y\": [1.0, \"\", 0.0, \"\", \"\", \"\", \"\", \"\", \"\", \"\", \"\", \"\", \"\", \"\", \"\", \"\"]}, {\"line\": {\"color\": \"rgba(255, 255, 51, 0.7)\", \"dash\": \"solid\", \"shape\": \"linear\", \"width\": 1.3}, \"mode\": \"lines\", \"name\": \"101.173316\", \"text\": \"\", \"type\": \"scatter\", \"x\": [0.0, 30.0, 31.0, 32.0, 33.0, 34.0, 35.0, 36.0, 37.0, 38.0, 39.0, 40.0, 41.0, 42.0, 44.0, 45.0], \"y\": [1.0, \"\", 0.5, \"\", \"\", 0.0, \"\", \"\", \"\", \"\", \"\", \"\", \"\", \"\", \"\", \"\"]}, {\"line\": {\"color\": \"rgba(255, 255, 51, 0.5999999999999999)\", \"dash\": \"solid\", \"shape\": \"linear\", \"width\": 1.3}, \"mode\": \"lines\", \"name\": \"98.90485600000001\", \"text\": \"\", \"type\": \"scatter\", \"x\": [0.0, 30.0, 31.0, 32.0, 33.0, 34.0, 35.0, 36.0, 37.0, 38.0, 39.0, 40.0, 41.0, 42.0, 44.0, 45.0], \"y\": [1.0, \"\", \"\", 0.5, 0.0, \"\", \"\", \"\", \"\", \"\", \"\", \"\", \"\", \"\", \"\", \"\"]}, {\"line\": {\"color\": \"rgba(128, 128, 0, 0.5999999999999999)\", \"dash\": \"solid\", \"shape\": \"linear\", \"width\": 1.3}, \"mode\": \"lines\", \"name\": \"96.182704\", \"text\": \"\", \"type\": \"scatter\", \"x\": [0.0, 30.0, 31.0, 32.0, 33.0, 34.0, 35.0, 36.0, 37.0, 38.0, 39.0, 40.0, 41.0, 42.0, 44.0, 45.0], \"y\": [1.0, 0.8571428571428572, 0.5714285714285714, 0.42857142857142866, 0.2857142857142857, 0.14285714285714285, \"\", \"\", 0.0, \"\", \"\", \"\", \"\", \"\", \"\", \"\"]}, {\"line\": {\"color\": \"rgba(251, 128, 114, 0.5999999999999999)\", \"dash\": \"solid\", \"shape\": \"linear\", \"width\": 1.3}, \"mode\": \"lines\", \"name\": \"58.97996\", \"text\": \"\", \"type\": \"scatter\", \"x\": [0.0, 30.0, 31.0, 32.0, 33.0, 34.0, 35.0, 36.0, 37.0, 38.0, 39.0, 40.0, 41.0, 42.0, 44.0, 45.0], \"y\": [1.0, \"\", 0.6666666666666666, 0.3333333333333333, \"\", 0.0, \"\", \"\", \"\", \"\", \"\", \"\", \"\", \"\", \"\", \"\"]}, {\"line\": {\"color\": \"rgba(128, 177, 211, 0.5999999999999999)\", \"dash\": \"solid\", \"shape\": \"linear\", \"width\": 1.3}, \"mode\": \"lines\", \"name\": \"107.071312\", \"text\": \"\", \"type\": \"scatter\", \"x\": [0.0, 30.0, 31.0, 32.0, 33.0, 34.0, 35.0, 36.0, 37.0, 38.0, 39.0, 40.0, 41.0, 42.0, 44.0, 45.0], \"y\": [1.0, \"\", 0.0, \"\", \"\", \"\", \"\", \"\", \"\", \"\", \"\", \"\", \"\", \"\", \"\", \"\"]}, {\"line\": {\"color\": \"rgba(255, 153, 51, 0.5999999999999999)\", \"dash\": \"solid\", \"shape\": \"linear\", \"width\": 1.3}, \"mode\": \"lines\", \"name\": \"103.89546800000001\", \"text\": \"\", \"type\": \"scatter\", \"x\": [0.0, 30.0, 31.0, 32.0, 33.0, 34.0, 35.0, 36.0, 37.0, 38.0, 39.0, 40.0, 41.0, 42.0, 44.0, 45.0], \"y\": [1.0, \"\", \"\", \"\", 0.0, \"\", \"\", \"\", \"\", \"\", \"\", \"\", \"\", \"\", \"\", \"\"]}, {\"line\": {\"color\": \"rgba(55, 128, 191, 0.5999999999999999)\", \"dash\": \"solid\", \"shape\": \"linear\", \"width\": 1.3}, \"mode\": \"lines\", \"name\": \"110.247156\", \"text\": \"\", \"type\": \"scatter\", \"x\": [0.0, 30.0, 31.0, 32.0, 33.0, 34.0, 35.0, 36.0, 37.0, 38.0, 39.0, 40.0, 41.0, 42.0, 44.0, 45.0], \"y\": [1.0, \"\", \"\", \"\", \"\", \"\", \"\", 0.0, \"\", \"\", \"\", \"\", \"\", \"\", \"\", \"\"]}, {\"line\": {\"color\": \"rgba(50, 171, 96, 0.5999999999999999)\", \"dash\": \"solid\", \"shape\": \"linear\", \"width\": 1.3}, \"mode\": \"lines\", \"name\": \"58.072576\", \"text\": \"\", \"type\": \"scatter\", \"x\": [0.0, 30.0, 31.0, 32.0, 33.0, 34.0, 35.0, 36.0, 37.0, 38.0, 39.0, 40.0, 41.0, 42.0, 44.0, 45.0], \"y\": [1.0, \"\", 0.0, \"\", \"\", \"\", \"\", \"\", \"\", \"\", \"\", \"\", \"\", \"\", \"\", \"\"]}, {\"line\": {\"color\": \"rgba(128, 0, 128, 0.5999999999999999)\", \"dash\": \"solid\", \"shape\": \"linear\", \"width\": 1.3}, \"mode\": \"lines\", \"name\": \"102.988084\", \"text\": \"\", \"type\": \"scatter\", \"x\": [0.0, 30.0, 31.0, 32.0, 33.0, 34.0, 35.0, 36.0, 37.0, 38.0, 39.0, 40.0, 41.0, 42.0, 44.0, 45.0], \"y\": [1.0, \"\", 0.0, \"\", \"\", \"\", \"\", \"\", \"\", \"\", \"\", \"\", \"\", \"\", \"\", \"\"]}, {\"line\": {\"color\": \"rgba(219, 64, 82, 0.5999999999999999)\", \"dash\": \"solid\", \"shape\": \"linear\", \"width\": 1.3}, \"mode\": \"lines\", \"name\": \"76.673948\", \"text\": \"\", \"type\": \"scatter\", \"x\": [0.0, 30.0, 31.0, 32.0, 33.0, 34.0, 35.0, 36.0, 37.0, 38.0, 39.0, 40.0, 41.0, 42.0, 44.0, 45.0], \"y\": [1.0, 0.8333333333333333, 0.6666666666666666, \"\", 0.5000000000000001, 0.33333333333333337, 0.16666666666666669, \"\", 0.0, \"\", \"\", \"\", \"\", \"\", \"\", \"\"]}, {\"line\": {\"color\": \"rgba(0, 128, 128, 0.5999999999999999)\", \"dash\": \"solid\", \"shape\": \"linear\", \"width\": 1.3}, \"mode\": \"lines\", \"name\": \"106.163928\", \"text\": \"\", \"type\": \"scatter\", \"x\": [0.0, 30.0, 31.0, 32.0, 33.0, 34.0, 35.0, 36.0, 37.0, 38.0, 39.0, 40.0, 41.0, 42.0, 44.0, 45.0], \"y\": [1.0, \"\", \"\", \"\", \"\", 0.0, \"\", \"\", \"\", \"\", \"\", \"\", \"\", \"\", \"\", \"\"]}],\n",
       "                        {\"legend\": {\"bgcolor\": \"#F5F6F9\", \"font\": {\"color\": \"#4D5663\"}}, \"paper_bgcolor\": \"#F5F6F9\", \"plot_bgcolor\": \"#F5F6F9\", \"template\": {\"data\": {\"scatter\": [{\"type\": \"scatter\"}]}}, \"title\": {\"font\": {\"color\": \"#4D5663\"}, \"text\": \"A\\u00f1os de carrera profesional seg\\u00fan el peso\"}, \"xaxis\": {\"gridcolor\": \"#E1E5ED\", \"showgrid\": true, \"tickfont\": {\"color\": \"#4D5663\"}, \"title\": {\"font\": {\"color\": \"#4D5663\"}, \"text\": \"A\\u00f1os\"}, \"zerolinecolor\": \"#E1E5ED\"}, \"yaxis\": {\"gridcolor\": \"#E1E5ED\", \"showgrid\": true, \"tickfont\": {\"color\": \"#4D5663\"}, \"title\": {\"font\": {\"color\": \"#4D5663\"}, \"text\": \"Tasa de retiro\"}, \"zerolinecolor\": \"#E1E5ED\"}},\n",
       "                        {\"showLink\": true, \"linkText\": \"Export to plot.ly\", \"plotlyServerURL\": \"https://plot.ly\", \"responsive\": true}\n",
       "                    ).then(function(){\n",
       "                            \n",
       "var gd = document.getElementById('07700ebf-bf14-4dab-b667-fcd32e424be4');\n",
       "var x = new MutationObserver(function (mutations, observer) {{\n",
       "        var display = window.getComputedStyle(gd).display;\n",
       "        if (!display || display === 'none') {{\n",
       "            console.log([gd, 'removed!']);\n",
       "            Plotly.purge(gd);\n",
       "            observer.disconnect();\n",
       "        }}\n",
       "}});\n",
       "\n",
       "// Listen for the removal of the full notebook cells\n",
       "var notebookContainer = gd.closest('#notebook-container');\n",
       "if (notebookContainer) {{\n",
       "    x.observe(notebookContainer, {childList: true});\n",
       "}}\n",
       "\n",
       "// Listen for the clearing of the current output cell\n",
       "var outputEl = gd.closest('.output');\n",
       "if (outputEl) {{\n",
       "    x.observe(outputEl, {childList: true});\n",
       "}}\n",
       "\n",
       "                        })\n",
       "                };\n",
       "                });\n",
       "            </script>\n",
       "        </div>"
      ]
     },
     "metadata": {},
     "output_type": "display_data"
    }
   ],
   "source": [
    "rates=survival(test, 'Weight(kgs)', 'Age', 'Retirement')\n",
    "rates.iplot(kind='line', xTitle='Años', \n",
    "            yTitle='Tasa de retiro', title='Años de carrera profesional según el peso')"
   ]
  }
 ],
 "metadata": {
  "kernelspec": {
   "display_name": "Python 3",
   "language": "python",
   "name": "python3"
  },
  "language_info": {
   "codemirror_mode": {
    "name": "ipython",
    "version": 3
   },
   "file_extension": ".py",
   "mimetype": "text/x-python",
   "name": "python",
   "nbconvert_exporter": "python",
   "pygments_lexer": "ipython3",
   "version": "3.7.5"
  }
 },
 "nbformat": 4,
 "nbformat_minor": 2
}
