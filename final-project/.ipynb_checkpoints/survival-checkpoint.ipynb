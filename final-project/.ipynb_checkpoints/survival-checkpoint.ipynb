{
 "cells": [
  {
   "cell_type": "code",
   "execution_count": 1,
   "metadata": {},
   "outputs": [
    {
     "ename": "ImportError",
     "evalue": "\nThe plotly.plotly module is deprecated,\nplease install the chart-studio package and use the\nchart_studio.plotly module instead. \n",
     "output_type": "error",
     "traceback": [
      "\u001b[0;31m---------------------------------------------------------------------------\u001b[0m",
      "\u001b[0;31mImportError\u001b[0m                               Traceback (most recent call last)",
      "\u001b[0;32m<ipython-input-1-3eebf73bea9c>\u001b[0m in \u001b[0;36m<module>\u001b[0;34m\u001b[0m\n\u001b[1;32m      1\u001b[0m \u001b[0;32mimport\u001b[0m \u001b[0mpandas\u001b[0m \u001b[0;32mas\u001b[0m \u001b[0mpd\u001b[0m\u001b[0;34m\u001b[0m\u001b[0;34m\u001b[0m\u001b[0m\n\u001b[0;32m----> 2\u001b[0;31m \u001b[0;32mimport\u001b[0m \u001b[0mplotly\u001b[0m\u001b[0;34m.\u001b[0m\u001b[0mplotly\u001b[0m \u001b[0;32mas\u001b[0m \u001b[0mpy\u001b[0m\u001b[0;34m\u001b[0m\u001b[0;34m\u001b[0m\u001b[0m\n\u001b[0m\u001b[1;32m      3\u001b[0m \u001b[0;32mimport\u001b[0m \u001b[0mcufflinks\u001b[0m \u001b[0;32mas\u001b[0m \u001b[0mcf\u001b[0m\u001b[0;34m\u001b[0m\u001b[0;34m\u001b[0m\u001b[0m\n\u001b[1;32m      4\u001b[0m \u001b[0;32mfrom\u001b[0m \u001b[0mlifelines\u001b[0m \u001b[0;32mimport\u001b[0m \u001b[0mKaplanMeierFitter\u001b[0m\u001b[0;34m\u001b[0m\u001b[0;34m\u001b[0m\u001b[0m\n\u001b[1;32m      5\u001b[0m \u001b[0mcf\u001b[0m\u001b[0;34m.\u001b[0m\u001b[0mgo_offline\u001b[0m\u001b[0;34m(\u001b[0m\u001b[0;34m)\u001b[0m\u001b[0;34m\u001b[0m\u001b[0;34m\u001b[0m\u001b[0m\n",
      "\u001b[0;32m/usr/local/lib/python3.7/site-packages/plotly/plotly/__init__.py\u001b[0m in \u001b[0;36m<module>\u001b[0;34m\u001b[0m\n\u001b[1;32m      2\u001b[0m \u001b[0;32mfrom\u001b[0m \u001b[0m_plotly_future_\u001b[0m \u001b[0;32mimport\u001b[0m \u001b[0m_chart_studio_error\u001b[0m\u001b[0;34m\u001b[0m\u001b[0;34m\u001b[0m\u001b[0m\n\u001b[1;32m      3\u001b[0m \u001b[0;34m\u001b[0m\u001b[0m\n\u001b[0;32m----> 4\u001b[0;31m \u001b[0m_chart_studio_error\u001b[0m\u001b[0;34m(\u001b[0m\u001b[0;34m\"plotly\"\u001b[0m\u001b[0;34m)\u001b[0m\u001b[0;34m\u001b[0m\u001b[0;34m\u001b[0m\u001b[0m\n\u001b[0m",
      "\u001b[0;32m/usr/local/lib/python3.7/site-packages/_plotly_future_/__init__.py\u001b[0m in \u001b[0;36m_chart_studio_error\u001b[0;34m(submodule)\u001b[0m\n\u001b[1;32m     47\u001b[0m \u001b[0mchart_studio\u001b[0m\u001b[0;34m.\u001b[0m\u001b[0;34m{\u001b[0m\u001b[0msubmodule\u001b[0m\u001b[0;34m}\u001b[0m \u001b[0mmodule\u001b[0m \u001b[0minstead\u001b[0m\u001b[0;34m.\u001b[0m\u001b[0;34m\u001b[0m\u001b[0;34m\u001b[0m\u001b[0m\n\u001b[1;32m     48\u001b[0m \"\"\".format(\n\u001b[0;32m---> 49\u001b[0;31m             \u001b[0msubmodule\u001b[0m\u001b[0;34m=\u001b[0m\u001b[0msubmodule\u001b[0m\u001b[0;34m\u001b[0m\u001b[0;34m\u001b[0m\u001b[0m\n\u001b[0m\u001b[1;32m     50\u001b[0m         )\n\u001b[1;32m     51\u001b[0m     )\n",
      "\u001b[0;31mImportError\u001b[0m: \nThe plotly.plotly module is deprecated,\nplease install the chart-studio package and use the\nchart_studio.plotly module instead. \n"
     ]
    }
   ],
   "source": [
    "import pandas as pd\n",
    "import plotly.plotly as py\n",
    "import cufflinks as cf\n",
    "from lifelines import KaplanMeierFitter\n",
    "cf.go_offline()"
   ]
  },
  {
   "cell_type": "code",
   "execution_count": null,
   "metadata": {},
   "outputs": [],
   "source": [
    "data=pd.read_csv('survival.csv')\n",
    "data=data.dropna()\n",
    "data.head()"
   ]
  },
  {
   "cell_type": "code",
   "execution_count": null,
   "metadata": {},
   "outputs": [],
   "source": [
    "data['date_column'] = pd.to_datetime(data['Joined'])"
   ]
  },
  {
   "cell_type": "code",
   "execution_count": null,
   "metadata": {},
   "outputs": [],
   "source": [
    "data['year'] = pd.DatetimeIndex(data['Joined']).year\n",
    "data['month'] = pd.DatetimeIndex(data['Joined']).month\n",
    "data['day'] = pd.DatetimeIndex(data['Joined']).day"
   ]
  },
  {
   "cell_type": "code",
   "execution_count": null,
   "metadata": {},
   "outputs": [],
   "source": [
    "data.head()"
   ]
  },
  {
   "cell_type": "code",
   "execution_count": null,
   "metadata": {},
   "outputs": [],
   "source": [
    "retirement = []\n",
    "\n",
    "for i in data['Age']:\n",
    "    if i > 29:\n",
    "        retirement.append(1)\n",
    "    else:\n",
    "        retirement.append(0)\n",
    "        \n",
    "\n",
    "data['Retirement'] = retirement"
   ]
  },
  {
   "cell_type": "code",
   "execution_count": null,
   "metadata": {},
   "outputs": [],
   "source": [
    "data['Year'] = pd.DatetimeIndex(data['Contract_Expiry']).year"
   ]
  },
  {
   "cell_type": "code",
   "execution_count": null,
   "metadata": {},
   "outputs": [],
   "source": [
    "finish = []\n",
    "\n",
    "for i in data['Year']:\n",
    "        if i > 2022:\n",
    "            finish.append(2043 - i)\n",
    "        else:\n",
    "            finish.append(2043 - i)\n",
    "        \n",
    "\n",
    "data['Expire'] = finish"
   ]
  },
  {
   "cell_type": "code",
   "execution_count": null,
   "metadata": {},
   "outputs": [],
   "source": [
    "data.head()"
   ]
  },
  {
   "cell_type": "code",
   "execution_count": null,
   "metadata": {},
   "outputs": [],
   "source": [
    "null_cols=data.isnull().sum()\n",
    "null_cols[null_cols>0]"
   ]
  },
  {
   "cell_type": "code",
   "execution_count": null,
   "metadata": {},
   "outputs": [],
   "source": [
    "def survival(data, group_field, time_field, event_field):\n",
    "    model = KaplanMeierFitter()\n",
    "    results = []\n",
    "    \n",
    "    for i in data[group_field].unique():\n",
    "        group = data[data[group_field]==i]\n",
    "        T = group[time_field]\n",
    "        E = group[event_field]\n",
    "        model.fit(T, E, label=str(i))\n",
    "        results.append(model.survival_function_)\n",
    "    \n",
    "    survival = pd.concat(results, axis=1)\n",
    "    return survival"
   ]
  },
  {
   "cell_type": "code",
   "execution_count": null,
   "metadata": {},
   "outputs": [],
   "source": [
    "rates=survival(data, 'Position', 'Age', 'Retirement')\n",
    "rates.iplot(kind='line', xTitle='Retiro (años)', \n",
    "            yTitle='Tasa de retiro', title='Tiempo de carrera por posición')"
   ]
  },
  {
   "cell_type": "code",
   "execution_count": null,
   "metadata": {},
   "outputs": [],
   "source": [
    "rates=survival(data, 'Position', 'Expire', 'Retirement')\n",
    "rates.iplot(kind='line', xTitle='Retiro (años)', \n",
    "            yTitle='Tasa de retiro', title='Tiempo de carrera por posición')"
   ]
  },
  {
   "cell_type": "code",
   "execution_count": null,
   "metadata": {},
   "outputs": [],
   "source": [
    "rates=survival(data, 'Age', 'Expire', 'Retirement')\n",
    "rates.iplot(kind='line', xTitle='Retiro (años)', \n",
    "            yTitle='Tasa de retiro', title='Tiempo de carrera por posición')"
   ]
  },
  {
   "cell_type": "code",
   "execution_count": null,
   "metadata": {},
   "outputs": [],
   "source": [
    "rates=survival(data, 'Nationality', 'Expire', 'Retirement')\n",
    "rates.iplot(kind='line', xTitle='Retiro (años)', \n",
    "            yTitle='Tasa de retiro', title='Tiempo de carrera por posición')"
   ]
  },
  {
   "cell_type": "code",
   "execution_count": null,
   "metadata": {},
   "outputs": [],
   "source": [
    "rates=survival(data, 'Preferred Foot', 'Age', 'Retirement')\n",
    "rates.iplot(kind='line', xTitle='Retiro (años)', \n",
    "            yTitle='Tasa de retiro', title='Tiempo de carrera por posición')"
   ]
  },
  {
   "cell_type": "code",
   "execution_count": null,
   "metadata": {},
   "outputs": [],
   "source": [
    "rates=survival(data, 'Vision', 'Age', 'Retirement')\n",
    "rates.iplot(kind='line', xTitle='Retiro (años)', \n",
    "            yTitle='Tasa de retiro', title='Tiempo de carrera por posición')"
   ]
  },
  {
   "cell_type": "code",
   "execution_count": null,
   "metadata": {},
   "outputs": [],
   "source": [
    "rates=survival(data, 'Inter_Rep', 'Year', 'Retirement')\n",
    "rates.iplot(kind='line', xTitle='Retiro (años)', \n",
    "            yTitle='Tasa de retiro', title='Tiempo de carrera por posición')"
   ]
  },
  {
   "cell_type": "code",
   "execution_count": null,
   "metadata": {},
   "outputs": [],
   "source": [
    "datac = pd.read_csv('churn.csv')\n",
    "datac.head()"
   ]
  },
  {
   "cell_type": "code",
   "execution_count": null,
   "metadata": {},
   "outputs": [],
   "source": [
    "datac.info()"
   ]
  },
  {
   "cell_type": "code",
   "execution_count": null,
   "metadata": {},
   "outputs": [],
   "source": [
    "rates = survival(datac, 'gender', 'tenure', 'ChurnBinary')\n",
    "\n",
    "rates.iplot(kind='line', xTitle='Tenure (Months)', yTitle='Retention Rate',\n",
    "            title='Retention Rates by Tenure and Gender')"
   ]
  },
  {
   "cell_type": "code",
   "execution_count": null,
   "metadata": {},
   "outputs": [],
   "source": []
  }
 ],
 "metadata": {
  "kernelspec": {
   "display_name": "Python 3",
   "language": "python",
   "name": "python3"
  },
  "language_info": {
   "codemirror_mode": {
    "name": "ipython",
    "version": 3
   },
   "file_extension": ".py",
   "mimetype": "text/x-python",
   "name": "python",
   "nbconvert_exporter": "python",
   "pygments_lexer": "ipython3",
   "version": "3.7.4"
  }
 },
 "nbformat": 4,
 "nbformat_minor": 2
}
